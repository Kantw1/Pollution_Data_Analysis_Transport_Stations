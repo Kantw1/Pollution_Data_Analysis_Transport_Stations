{
 "cells": [
  {
   "cell_type": "code",
   "execution_count": 198,
   "id": "e7d19fe3-2f19-400c-ab9c-2892d883e852",
   "metadata": {},
   "outputs": [
    {
     "name": "stdout",
     "output_type": "stream",
     "text": [
      "Fichier exporté avec MST par ligne vers : c:\\projets\\Pollution_Data_Analysis_Transport_Stations\\Data\\processed\\trajets_stations_pollution.csv\n"
     ]
    }
   ],
   "source": [
    "import pandas as pd\n",
    "import numpy as np\n",
    "from geopy.distance import geodesic\n",
    "import os\n",
    "import networkx as nx\n",
    "\n",
    "def construire_connexions_geo_MST_par_ligne():\n",
    "    \"\"\"\n",
    "    Construit les connexions entre stations de chaque ligne :\n",
    "    - Utilise la distance géographique réelle (geodesic)\n",
    "    - Construit un graphe par ligne\n",
    "    - Applique un arbre couvrant minimal (MST) pour connecter les stations les plus proches\n",
    "    Produit un CSV enrichi avec temps estimé, pollution moyenne, coordonnées, et ligne.\n",
    "    \"\"\"\n",
    "    base_dir = os.path.dirname(os.getcwd())\n",
    "    path_stations = os.path.join(base_dir, \"Data\", \"processed\", \"stations_qgis.csv\")\n",
    "    df = pd.read_csv(path_stations)\n",
    "\n",
    "    # Nettoyage\n",
    "    df.columns = df.columns.str.strip()\n",
    "    df['Nom de la Station'] = df['Nom de la Station'].str.strip()\n",
    "    df['Nom de la ligne'] = df['Nom de la ligne'].str.strip()\n",
    "    df['Niveau de pollution'] = df['Niveau de pollution'].str.lower()\n",
    "    df = df.drop_duplicates(subset=['Nom de la Station', 'Nom de la ligne'])\n",
    "\n",
    "    pollution_map = {'faible': 1, 'moyenne': 2, 'élevée': 3, 'eleve': 3}\n",
    "    connexions = []\n",
    "\n",
    "    for ligne, group in df.groupby(\"Nom de la ligne\"):\n",
    "        stations = group.reset_index(drop=True)\n",
    "        G = nx.Graph()\n",
    "\n",
    "        # Ajouter tous les sommets\n",
    "        for _, row in stations.iterrows():\n",
    "            G.add_node(row['Nom de la Station'], **row.to_dict())\n",
    "\n",
    "        # Ajouter toutes les arêtes possibles avec la distance\n",
    "        for i in range(len(stations)):\n",
    "            for j in range(i + 1, len(stations)):\n",
    "                s1 = stations.iloc[i]\n",
    "                s2 = stations.iloc[j]\n",
    "                coord1 = (s1['stop_lat'], s1['stop_lon'])\n",
    "                coord2 = (s2['stop_lat'], s2['stop_lon'])\n",
    "                distance_km = geodesic(coord1, coord2).km\n",
    "                G.add_edge(s1['Nom de la Station'], s2['Nom de la Station'], weight=distance_km)\n",
    "\n",
    "        # Calcul du MST (arbre couvrant minimal)\n",
    "        mst = nx.minimum_spanning_tree(G, weight='weight')\n",
    "\n",
    "        for u, v, d in mst.edges(data=True):\n",
    "            s1, s2 = u, v\n",
    "            n1, n2 = G.nodes[s1], G.nodes[s2]\n",
    "\n",
    "            distance_km = d['weight']\n",
    "            temps = round((distance_km / 65) * 60, 2)\n",
    "\n",
    "            p1 = pollution_map.get(n1['Niveau de pollution'], np.nan)\n",
    "            p2 = pollution_map.get(n2['Niveau de pollution'], np.nan)\n",
    "            pollution_moyenne = round((p1 + p2) / 2, 2) if not np.isnan(p1) and not np.isnan(p2) else np.nan\n",
    "\n",
    "            connexions.append({\n",
    "                'station1': s1,\n",
    "                'station2': s2,\n",
    "                'connected': True,\n",
    "                'temps_trajet_min': temps,\n",
    "                'pollution_moyenne': pollution_moyenne,\n",
    "                'lat_station1': n1['stop_lat'],\n",
    "                'lon_station1': n1['stop_lon'],\n",
    "                'lat_station2': n2['stop_lat'],\n",
    "                'lon_station2': n2['stop_lon'],\n",
    "                'ligne_metro': ligne\n",
    "            })\n",
    "\n",
    "    # Export CSV\n",
    "    df_connexions = pd.DataFrame(connexions)\n",
    "    output_path = os.path.join(base_dir, \"Data\", \"processed\", \"trajets_stations_pollution.csv\")\n",
    "    df_connexions.to_csv(output_path, index=False)\n",
    "    print(f\"Fichier exporté avec MST par ligne vers : {output_path}\")\n",
    "    return df_connexions\n",
    "\n",
    "# Exécution\n",
    "if __name__ == \"__main__\":\n",
    "    construire_connexions_geo_MST_par_ligne()\n"
   ]
  },
  {
   "cell_type": "markdown",
   "id": "b026749e",
   "metadata": {},
   "source": [
    "En suivant les lignes de métros et en calculant la distance avec les stations, nous avons pu établir les connections des stations. Cepdendant il reste quelques erreurs que nous devont régler manuellement"
   ]
  },
  {
   "cell_type": "code",
   "execution_count": null,
   "id": "f53efcaa",
   "metadata": {},
   "outputs": [
    {
     "ename": "IndexError",
     "evalue": "single positional indexer is out-of-bounds",
     "output_type": "error",
     "traceback": [
      "\u001b[1;31m---------------------------------------------------------------------------\u001b[0m",
      "\u001b[1;31mIndexError\u001b[0m                                Traceback (most recent call last)",
      "Cell \u001b[1;32mIn[202], line 158\u001b[0m\n\u001b[0;32m    144\u001b[0m nouvelle_connexion_m10a \u001b[38;5;241m=\u001b[39m pd\u001b[38;5;241m.\u001b[39mDataFrame([{\n\u001b[0;32m    145\u001b[0m     \u001b[38;5;124m'\u001b[39m\u001b[38;5;124mstation1\u001b[39m\u001b[38;5;124m'\u001b[39m: \u001b[38;5;124m'\u001b[39m\u001b[38;5;124mBoulogne Jean Jaurès\u001b[39m\u001b[38;5;124m'\u001b[39m,\n\u001b[0;32m    146\u001b[0m     \u001b[38;5;124m'\u001b[39m\u001b[38;5;124mstation2\u001b[39m\u001b[38;5;124m'\u001b[39m: \u001b[38;5;124m'\u001b[39m\u001b[38;5;124mMichel-Ange - Molitor\u001b[39m\u001b[38;5;124m'\u001b[39m,\n\u001b[1;32m   (...)\u001b[0m\n\u001b[0;32m    154\u001b[0m     \u001b[38;5;124m'\u001b[39m\u001b[38;5;124mligne_metro\u001b[39m\u001b[38;5;124m'\u001b[39m: ligne\n\u001b[0;32m    155\u001b[0m }])\n\u001b[0;32m    157\u001b[0m \u001b[38;5;66;03m# Ajout : Porte d’Auteuil ↔ Michel-Ange - Auteuil\u001b[39;00m\n\u001b[1;32m--> 158\u001b[0m lat1, lon1 \u001b[38;5;241m=\u001b[39m \u001b[43mget_coords_m10\u001b[49m\u001b[43m(\u001b[49m\u001b[38;5;124;43m'\u001b[39;49m\u001b[38;5;124;43mPorte d Auteuil\u001b[39;49m\u001b[38;5;124;43m'\u001b[39;49m\u001b[43m)\u001b[49m\n\u001b[0;32m    159\u001b[0m lat2, lon2 \u001b[38;5;241m=\u001b[39m get_coords_m10(\u001b[38;5;124m'\u001b[39m\u001b[38;5;124mMichel-Ange - Auteuil\u001b[39m\u001b[38;5;124m'\u001b[39m)\n\u001b[0;32m    160\u001b[0m distance_km \u001b[38;5;241m=\u001b[39m geodesic((lat1, lon1), (lat2, lon2))\u001b[38;5;241m.\u001b[39mkm\n",
      "Cell \u001b[1;32mIn[202], line 130\u001b[0m, in \u001b[0;36mget_coords_m10\u001b[1;34m(station_name)\u001b[0m\n\u001b[0;32m    129\u001b[0m \u001b[38;5;28;01mdef\u001b[39;00m \u001b[38;5;21mget_coords_m10\u001b[39m(station_name):\n\u001b[1;32m--> 130\u001b[0m     row \u001b[38;5;241m=\u001b[39m \u001b[43mstations_m10\u001b[49m\u001b[43m[\u001b[49m\u001b[43m(\u001b[49m\u001b[43mstations_m10\u001b[49m\u001b[43m[\u001b[49m\u001b[38;5;124;43m'\u001b[39;49m\u001b[38;5;124;43mstation1\u001b[39;49m\u001b[38;5;124;43m'\u001b[39;49m\u001b[43m]\u001b[49m\u001b[43m \u001b[49m\u001b[38;5;241;43m==\u001b[39;49m\u001b[43m \u001b[49m\u001b[43mstation_name\u001b[49m\u001b[43m)\u001b[49m\u001b[43m \u001b[49m\u001b[38;5;241;43m|\u001b[39;49m\u001b[43m \u001b[49m\u001b[43m(\u001b[49m\u001b[43mstations_m10\u001b[49m\u001b[43m[\u001b[49m\u001b[38;5;124;43m'\u001b[39;49m\u001b[38;5;124;43mstation2\u001b[39;49m\u001b[38;5;124;43m'\u001b[39;49m\u001b[43m]\u001b[49m\u001b[43m \u001b[49m\u001b[38;5;241;43m==\u001b[39;49m\u001b[43m \u001b[49m\u001b[43mstation_name\u001b[49m\u001b[43m)\u001b[49m\u001b[43m]\u001b[49m\u001b[38;5;241;43m.\u001b[39;49m\u001b[43miloc\u001b[49m\u001b[43m[\u001b[49m\u001b[38;5;241;43m0\u001b[39;49m\u001b[43m]\u001b[49m\n\u001b[0;32m    131\u001b[0m     lat \u001b[38;5;241m=\u001b[39m row[\u001b[38;5;124m'\u001b[39m\u001b[38;5;124mlat_station1\u001b[39m\u001b[38;5;124m'\u001b[39m] \u001b[38;5;28;01mif\u001b[39;00m row[\u001b[38;5;124m'\u001b[39m\u001b[38;5;124mstation1\u001b[39m\u001b[38;5;124m'\u001b[39m] \u001b[38;5;241m==\u001b[39m station_name \u001b[38;5;28;01melse\u001b[39;00m row[\u001b[38;5;124m'\u001b[39m\u001b[38;5;124mlat_station2\u001b[39m\u001b[38;5;124m'\u001b[39m]\n\u001b[0;32m    132\u001b[0m     lon \u001b[38;5;241m=\u001b[39m row[\u001b[38;5;124m'\u001b[39m\u001b[38;5;124mlon_station1\u001b[39m\u001b[38;5;124m'\u001b[39m] \u001b[38;5;28;01mif\u001b[39;00m row[\u001b[38;5;124m'\u001b[39m\u001b[38;5;124mstation1\u001b[39m\u001b[38;5;124m'\u001b[39m] \u001b[38;5;241m==\u001b[39m station_name \u001b[38;5;28;01melse\u001b[39;00m row[\u001b[38;5;124m'\u001b[39m\u001b[38;5;124mlon_station2\u001b[39m\u001b[38;5;124m'\u001b[39m]\n",
      "File \u001b[1;32mc:\\Program Files\\Python312\\Lib\\site-packages\\pandas\\core\\indexing.py:1191\u001b[0m, in \u001b[0;36m_LocationIndexer.__getitem__\u001b[1;34m(self, key)\u001b[0m\n\u001b[0;32m   1189\u001b[0m maybe_callable \u001b[38;5;241m=\u001b[39m com\u001b[38;5;241m.\u001b[39mapply_if_callable(key, \u001b[38;5;28mself\u001b[39m\u001b[38;5;241m.\u001b[39mobj)\n\u001b[0;32m   1190\u001b[0m maybe_callable \u001b[38;5;241m=\u001b[39m \u001b[38;5;28mself\u001b[39m\u001b[38;5;241m.\u001b[39m_check_deprecated_callable_usage(key, maybe_callable)\n\u001b[1;32m-> 1191\u001b[0m \u001b[38;5;28;01mreturn\u001b[39;00m \u001b[38;5;28;43mself\u001b[39;49m\u001b[38;5;241;43m.\u001b[39;49m\u001b[43m_getitem_axis\u001b[49m\u001b[43m(\u001b[49m\u001b[43mmaybe_callable\u001b[49m\u001b[43m,\u001b[49m\u001b[43m \u001b[49m\u001b[43maxis\u001b[49m\u001b[38;5;241;43m=\u001b[39;49m\u001b[43maxis\u001b[49m\u001b[43m)\u001b[49m\n",
      "File \u001b[1;32mc:\\Program Files\\Python312\\Lib\\site-packages\\pandas\\core\\indexing.py:1752\u001b[0m, in \u001b[0;36m_iLocIndexer._getitem_axis\u001b[1;34m(self, key, axis)\u001b[0m\n\u001b[0;32m   1749\u001b[0m     \u001b[38;5;28;01mraise\u001b[39;00m \u001b[38;5;167;01mTypeError\u001b[39;00m(\u001b[38;5;124m\"\u001b[39m\u001b[38;5;124mCannot index by location index with a non-integer key\u001b[39m\u001b[38;5;124m\"\u001b[39m)\n\u001b[0;32m   1751\u001b[0m \u001b[38;5;66;03m# validate the location\u001b[39;00m\n\u001b[1;32m-> 1752\u001b[0m \u001b[38;5;28;43mself\u001b[39;49m\u001b[38;5;241;43m.\u001b[39;49m\u001b[43m_validate_integer\u001b[49m\u001b[43m(\u001b[49m\u001b[43mkey\u001b[49m\u001b[43m,\u001b[49m\u001b[43m \u001b[49m\u001b[43maxis\u001b[49m\u001b[43m)\u001b[49m\n\u001b[0;32m   1754\u001b[0m \u001b[38;5;28;01mreturn\u001b[39;00m \u001b[38;5;28mself\u001b[39m\u001b[38;5;241m.\u001b[39mobj\u001b[38;5;241m.\u001b[39m_ixs(key, axis\u001b[38;5;241m=\u001b[39maxis)\n",
      "File \u001b[1;32mc:\\Program Files\\Python312\\Lib\\site-packages\\pandas\\core\\indexing.py:1685\u001b[0m, in \u001b[0;36m_iLocIndexer._validate_integer\u001b[1;34m(self, key, axis)\u001b[0m\n\u001b[0;32m   1683\u001b[0m len_axis \u001b[38;5;241m=\u001b[39m \u001b[38;5;28mlen\u001b[39m(\u001b[38;5;28mself\u001b[39m\u001b[38;5;241m.\u001b[39mobj\u001b[38;5;241m.\u001b[39m_get_axis(axis))\n\u001b[0;32m   1684\u001b[0m \u001b[38;5;28;01mif\u001b[39;00m key \u001b[38;5;241m>\u001b[39m\u001b[38;5;241m=\u001b[39m len_axis \u001b[38;5;129;01mor\u001b[39;00m key \u001b[38;5;241m<\u001b[39m \u001b[38;5;241m-\u001b[39mlen_axis:\n\u001b[1;32m-> 1685\u001b[0m     \u001b[38;5;28;01mraise\u001b[39;00m \u001b[38;5;167;01mIndexError\u001b[39;00m(\u001b[38;5;124m\"\u001b[39m\u001b[38;5;124msingle positional indexer is out-of-bounds\u001b[39m\u001b[38;5;124m\"\u001b[39m)\n",
      "\u001b[1;31mIndexError\u001b[0m: single positional indexer is out-of-bounds"
     ]
    }
   ],
   "source": [
    "import pandas as pd\n",
    "import numpy as np\n",
    "from geopy.distance import geodesic\n",
    "import os\n",
    "\n",
    "# Charger le CSV existant\n",
    "base_dir = os.path.dirname(os.getcwd())\n",
    "csv_path = os.path.join(base_dir, \"Data\", \"processed\", \"trajets_stations_pollution.csv\")\n",
    "df = pd.read_csv(csv_path)\n",
    "\n",
    "# Nettoyer les colonnes\n",
    "df['station1'] = df['station1'].str.strip()\n",
    "df['station2'] = df['station2'].str.strip()\n",
    "\n",
    "# Supprimer le lien Guy Môquet ↔ Brochant (dans les deux sens)\n",
    "df = df[~(\n",
    "    ((df['station1'] == 'Guy Môquet') & (df['station2'] == 'Brochant')) |\n",
    "    ((df['station1'] == 'Brochant') & (df['station2'] == 'Guy Môquet'))\n",
    ")]\n",
    "\n",
    "# Créer une nouvelle ligne pour La Fourche ↔ Guy Môquet\n",
    "# → Tu peux récupérer les coordonnées depuis df directement :\n",
    "stations = pd.concat([\n",
    "    df[df['station1'] == 'La Fourche'],\n",
    "    df[df['station2'] == 'La Fourche'],\n",
    "    df[df['station1'] == 'Guy Môquet'],\n",
    "    df[df['station2'] == 'Guy Môquet']\n",
    "])\n",
    "\n",
    "def get_coords(station_name):\n",
    "    row = stations[(stations['station1'] == station_name) | (stations['station2'] == station_name)].iloc[0]\n",
    "    lat = row['lat_station1'] if row['station1'] == station_name else row['lat_station2']\n",
    "    lon = row['lon_station1'] if row['station1'] == station_name else row['lon_station2']\n",
    "    return lat, lon\n",
    "\n",
    "lat1, lon1 = get_coords('La Fourche')\n",
    "lat2, lon2 = get_coords('Guy Môquet')\n",
    "\n",
    "# Calculer distance et pollution\n",
    "distance_km = geodesic((lat1, lon1), (lat2, lon2)).km\n",
    "temps = round((distance_km / 65) * 60, 2)\n",
    "pollution_moyenne = 2.0  # valeur par défaut ou à affiner si besoin\n",
    "\n",
    "# Ajouter la nouvelle ligne\n",
    "nouvelle_connexion = pd.DataFrame([{\n",
    "    'station1': 'La Fourche',\n",
    "    'station2': 'Guy Môquet',\n",
    "    'connected': True,\n",
    "    'temps_trajet_min': temps,\n",
    "    'pollution_moyenne': pollution_moyenne,\n",
    "    'lat_station1': lat1,\n",
    "    'lon_station1': lon1,\n",
    "    'lat_station2': lat2,\n",
    "    'lon_station2': lon2,\n",
    "    'ligne_metro': 'Métro 13'\n",
    "}])\n",
    "\n",
    "df = pd.concat([df, nouvelle_connexion], ignore_index=True)\n",
    "\n",
    "# Nettoyage noms\n",
    "df['station1'] = df['station1'].str.strip()\n",
    "df['station2'] = df['station2'].str.strip()\n",
    "\n",
    "# Supprimer le lien Kremlin-Bicêtre ↔ Porte d'Italie\n",
    "df = df[~(\n",
    "    ((df['station1'] == 'Le Kremlin-Bicêtre') & (df['station2'] == \"Porte d'Italie\")) |\n",
    "    ((df['station2'] == 'Le Kremlin-Bicêtre') & (df['station1'] == \"Porte d'Italie\"))\n",
    ")]\n",
    "\n",
    "# Chercher les coordonnées existantes\n",
    "stations_kb_mb = pd.concat([\n",
    "    df[df['station1'].isin(['Le Kremlin-Bicêtre', 'Maison Blanche'])],\n",
    "    df[df['station2'].isin(['Le Kremlin-Bicêtre', 'Maison Blanche'])]\n",
    "])\n",
    "\n",
    "def get_coords(station_name):\n",
    "    row = stations_kb_mb[(stations_kb_mb['station1'] == station_name) | (stations_kb_mb['station2'] == station_name)].iloc[0]\n",
    "    lat = row['lat_station1'] if row['station1'] == station_name else row['lat_station2']\n",
    "    lon = row['lon_station1'] if row['station1'] == station_name else row['lon_station2']\n",
    "    return lat, lon\n",
    "\n",
    "lat1, lon1 = get_coords('Le Kremlin-Bicêtre')\n",
    "lat2, lon2 = get_coords('Maison Blanche')\n",
    "\n",
    "# Calcul distance et temps\n",
    "distance_km = geodesic((lat1, lon1), (lat2, lon2)).km\n",
    "temps = round((distance_km / 65) * 60, 2)\n",
    "pollution_moyenne = 2.0  # valeur par défaut si pas de donnée fine\n",
    "\n",
    "# Ajouter la nouvelle ligne\n",
    "nouvelle_connexion_kb_mb = pd.DataFrame([{\n",
    "    'station1': 'Le Kremlin-Bicêtre',\n",
    "    'station2': 'Maison Blanche',\n",
    "    'connected': True,\n",
    "    'temps_trajet_min': temps,\n",
    "    'pollution_moyenne': pollution_moyenne,\n",
    "    'lat_station1': lat1,\n",
    "    'lon_station1': lon1,\n",
    "    'lat_station2': lat2,\n",
    "    'lon_station2': lon2,\n",
    "    'ligne_metro': 'Métro 7'\n",
    "}])\n",
    "\n",
    "df = pd.concat([df, nouvelle_connexion_kb_mb], ignore_index=True)\n",
    "\n",
    "# Suppression d’un lien existant\n",
    "df = df[~(\n",
    "    ((df['station1'] == 'Porte d’Auteuil') & (df['station2'] == 'Michel-Ange - Molitor')) |\n",
    "    ((df['station2'] == 'Porte d’Auteuil') & (df['station1'] == 'Michel-Ange - Molitor'))\n",
    ")]\n",
    "\n",
    "# Recherche des coordonnées pour 2 stations à connecter\n",
    "stations_m10 = pd.concat([\n",
    "    df[df['station1'].isin([\n",
    "        'Boulogne Jean Jaurès', 'Michel-Ange - Molitor',\n",
    "        'Porte d’Auteuil', 'Michel-Ange - Auteuil'\n",
    "    ])],\n",
    "    df[df['station2'].isin([\n",
    "        'Boulogne Jean Jaurès', 'Michel-Ange - Molitor',\n",
    "        'Porte d’Auteuil', 'Michel-Ange - Auteuil'\n",
    "    ])]\n",
    "])\n",
    "\n",
    "def get_coords_m10(station_name):\n",
    "    row = stations_m10[(stations_m10['station1'] == station_name) | (stations_m10['station2'] == station_name)].iloc[0]\n",
    "    lat = row['lat_station1'] if row['station1'] == station_name else row['lat_station2']\n",
    "    lon = row['lon_station1'] if row['station1'] == station_name else row['lon_station2']\n",
    "    return lat, lon\n",
    "\n",
    "# Ajout : Boulogne Jean Jaurès ↔ Michel-Ange - Molitor\n",
    "lat1, lon1 = get_coords_m10('Boulogne Jean Jaurès')\n",
    "lat2, lon2 = get_coords_m10('Michel-Ange - Molitor')\n",
    "distance_km = geodesic((lat1, lon1), (lat2, lon2)).km\n",
    "temps = round((distance_km / 65) * 60, 2)\n",
    "\n",
    "ligne = 'Métro 10'\n",
    "pollution_moyenne = 2.0\n",
    "\n",
    "nouvelle_connexion_m10a = pd.DataFrame([{\n",
    "    'station1': 'Boulogne Jean Jaurès',\n",
    "    'station2': 'Michel-Ange - Molitor',\n",
    "    'connected': True,\n",
    "    'temps_trajet_min': temps,\n",
    "    'pollution_moyenne': pollution_moyenne,\n",
    "    'lat_station1': lat1,\n",
    "    'lon_station1': lon1,\n",
    "    'lat_station2': lat2,\n",
    "    'lon_station2': lon2,\n",
    "    'ligne_metro': ligne\n",
    "}])\n",
    "\n",
    "# Ajout : Porte d’Auteuil ↔ Michel-Ange - Auteuil\n",
    "lat1, lon1 = get_coords_m10('Porte d’Auteuil')\n",
    "lat2, lon2 = get_coords_m10('Michel-Ange - Auteuil')\n",
    "distance_km = geodesic((lat1, lon1), (lat2, lon2)).km\n",
    "temps = round((distance_km / 65) * 60, 2)\n",
    "\n",
    "nouvelle_connexion_m10b = pd.DataFrame([{\n",
    "    'station1': 'Porte d’Auteuil',\n",
    "    'station2': 'Michel-Ange - Auteuil',\n",
    "    'connected': True,\n",
    "    'temps_trajet_min': temps,\n",
    "    'pollution_moyenne': pollution_moyenne,\n",
    "    'lat_station1': lat1,\n",
    "    'lon_station1': lon1,\n",
    "    'lat_station2': lat2,\n",
    "    'lon_station2': lon2,\n",
    "    'ligne_metro': ligne\n",
    "}])\n",
    "\n",
    "# Ajout dans df\n",
    "df = pd.concat([df, nouvelle_connexion_m10a, nouvelle_connexion_m10b], ignore_index=True)\n"
   ]
  },
  {
   "cell_type": "code",
   "execution_count": 181,
   "id": "9d6a762b",
   "metadata": {},
   "outputs": [
    {
     "name": "stdout",
     "output_type": "stream",
     "text": [
      "Graphe construit avec 320 sommets et 376 arêtes.\n"
     ]
    }
   ],
   "source": [
    "import pandas as pd\n",
    "import numpy as np\n",
    "import networkx as nx\n",
    "\n",
    "def construire_graphe_transport_pollution(path_csv=\"../Data/processed/trajets_stations_pollution.csv\"):\n",
    "    \"\"\"\n",
    "    Construit un graphe non orienté des stations de métro à partir du fichier enrichi,\n",
    "    en utilisant les colonnes :\n",
    "    - station1, station2\n",
    "    - temps_trajet_min\n",
    "    - pollution_moyenne\n",
    "\n",
    "    Le graphe résultant a les arêtes pondérées par temps et pollution.\n",
    "    \"\"\"\n",
    "    # Chargement des données\n",
    "    df = pd.read_csv(path_csv)\n",
    "\n",
    "    # Création du graphe\n",
    "    G = nx.Graph()\n",
    "    aretes_vues = set()\n",
    "\n",
    "    for _, row in df.iterrows():\n",
    "        if row.get('connected', True) and pd.notnull(row['temps_trajet_min']):\n",
    "            station1 = row['station1']\n",
    "            station2 = row['station2']\n",
    "            edge_key = tuple(sorted([station1, station2]))\n",
    "\n",
    "            if edge_key not in aretes_vues:\n",
    "                pollution_moyenne = row.get('pollution_moyenne', np.nan)\n",
    "\n",
    "                G.add_edge(\n",
    "                    station1,\n",
    "                    station2,\n",
    "                    temps=row['temps_trajet_min'],\n",
    "                    pollution=pollution_moyenne\n",
    "                )\n",
    "                aretes_vues.add(edge_key)\n",
    "\n",
    "    print(f\"Graphe construit avec {G.number_of_nodes()} sommets et {G.number_of_edges()} arêtes.\")\n",
    "    return G\n",
    "\n",
    "# Exemple d'utilisation\n",
    "if __name__ == \"__main__\":\n",
    "    G = construire_graphe_transport_pollution()\n"
   ]
  },
  {
   "cell_type": "code",
   "execution_count": 168,
   "id": "6452b26a",
   "metadata": {},
   "outputs": [
    {
     "name": "stdout",
     "output_type": "stream",
     "text": [
      "Nombre de sommets : 320\n",
      "Nombre d’arêtes : 376\n",
      "Exemple d'arête :\n",
      "Château de Vincennes -> Bérault, temps: 0.78, pollution: 1.0\n",
      "Bérault -> Saint-Mandé, temps: 0.7, pollution: 1.5\n",
      "Châtelet -> Louvre - Rivoli, temps: 0.37, pollution: 1.5\n",
      "Châtelet -> Hôtel de Ville, temps: 0.47, pollution: 1.5\n",
      "Châtelet -> Pyramides, temps: 1.02, pollution: 1.5\n"
     ]
    }
   ],
   "source": [
    "print(f\"Nombre de sommets : {G.number_of_nodes()}\")\n",
    "print(f\"Nombre d’arêtes : {G.number_of_edges()}\")\n",
    "print(\"Exemple d'arête :\")\n",
    "for u, v, data in list(G.edges(data=True))[:5]:\n",
    "    print(f\"{u} -> {v}, temps: {data['temps']}, pollution: {data['pollution']}\")\n"
   ]
  },
  {
   "cell_type": "code",
   "execution_count": 170,
   "id": "4350a0f7",
   "metadata": {},
   "outputs": [
    {
     "data": {
      "application/vnd.jupyter.widget-view+json": {
       "model_id": "18f82bf233984cd5a2272e19a5003006",
       "version_major": 2,
       "version_minor": 0
      },
      "text/plain": [
       "interactive(children=(Dropdown(description='Station:', layout=Layout(width='50%'), options=('Abbesses', 'Aimé …"
      ]
     },
     "metadata": {},
     "output_type": "display_data"
    },
    {
     "data": {
      "text/plain": [
       "<function __main__.afficher_voisins(station)>"
      ]
     },
     "execution_count": 170,
     "metadata": {},
     "output_type": "execute_result"
    }
   ],
   "source": [
    "import pandas as pd\n",
    "import numpy as np\n",
    "import networkx as nx\n",
    "import matplotlib.pyplot as plt\n",
    "import ipywidgets as widgets\n",
    "from IPython.display import display, Markdown\n",
    "\n",
    "# Liste des stations\n",
    "stations = sorted(G.nodes())\n",
    "\n",
    "# Widget de sélection\n",
    "station_selector = widgets.Dropdown(\n",
    "    options=stations,\n",
    "    description=\"Station:\",\n",
    "    layout=widgets.Layout(width='50%')\n",
    ")\n",
    "\n",
    "# Fonction d'affichage des voisins\n",
    "def afficher_voisins(station):\n",
    "    voisins = list(G.neighbors(station))\n",
    "    if not voisins:\n",
    "        display(Markdown(f\"**Aucune connexion depuis {station}.**\"))\n",
    "        return\n",
    "\n",
    "    lignes = []\n",
    "    for voisin in voisins:\n",
    "        data = G[station][voisin]\n",
    "        lignes.append(f\"- Vers **{voisin}** : {data['temps']} min, pollution moyenne = {data['pollution']}\")\n",
    "    \n",
    "    display(Markdown(f\"### Connexions depuis **{station}** :\\n\" + \"\\n\".join(lignes)))\n",
    "\n",
    "# Lier le widget à la fonction\n",
    "widgets.interact(afficher_voisins, station=station_selector)\n"
   ]
  },
  {
   "cell_type": "code",
   "execution_count": 171,
   "id": "0b8ea048",
   "metadata": {},
   "outputs": [
    {
     "name": "stderr",
     "output_type": "stream",
     "text": [
      "C:\\Users\\Administrateur\\AppData\\Local\\Temp\\ipykernel_23764\\352706971.py:30: DeprecationWarning:\n",
      "\n",
      "*scattermapbox* is deprecated! Use *scattermap* instead. Learn more at: https://plotly.com/python/mapbox-to-maplibre/\n",
      "\n",
      "C:\\Users\\Administrateur\\AppData\\Local\\Temp\\ipykernel_23764\\352706971.py:42: DeprecationWarning:\n",
      "\n",
      "*scattermapbox* is deprecated! Use *scattermap* instead. Learn more at: https://plotly.com/python/mapbox-to-maplibre/\n",
      "\n"
     ]
    },
    {
     "data": {
      "application/vnd.plotly.v1+json": {
       "config": {
        "plotlyServerURL": "https://plot.ly"
       },
       "data": [
        {
         "hoverinfo": "text",
         "lat": {
          "bdata": "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",
          "dtype": "f8"
         },
         "lon": {
          "bdata": "sSQyxZHaAkDHNSz1fC8DQOGmjsYKzAJA91GCvPxRAkBtRhoaeBwDQNDDrC2oTQJArnKLnKHpAUCCro2stbkCQKt3d+e/jwJAtdcqDoXPAkCtR3Ubj78CQCX2rZch0AJAAnVhuSZcAkD+wzdq9UgCQJHEsuI5hgNAQIh/ofHLAkCvqLNRHsQCQOEv4yN/qwJA2uT/RYWTAkBuaz2YJW0CQKk5/vdUJQNAdw4UXJdzAkDMWjfA6mADQEET5J8RTgNAm4We3tv/AUADbUUItMoCQLGUiZaUEgNAdjxeTViKAkDswKWkzlMDQGRkv33KLQNAdfv0IUjqAkCZnBDQq9wCQNd9A7/0ZwJATB0OWFP3AkBF2ug96r4CQMDm1iBehAJAMxb/C1AlAkCayUz9tPgCQN1//ApdOQJAw4A2X1kxAkCCcaVva7UCQHeQpVxESgJApjxsZ9wsAkAPruzuZJ0CQMwzgkxCmwJAtuWt85NUA0B1kHNtZxEDQIKXpnX5kANA743cqYJ6A0BwPidW3ssCQCqOcUTj4AJAUOiwTNIXAkD0doH/X5ECQNkXz0CwKgNAlJFQqOagAkA213npMLICQMwha6NPgAJAQ8VngdkWA0CzCaqdqJ8CQNIdDuIw2QJAbQLBcvW7AkDYvjphc4ECQFMe74BCFgNAJGmyGOShAkCg4huI+T4DQCgjTKHgmgJAgElaCj4UA0DA9SHt8dACQA2b4sKs6QJAgAMgi2k8A0DA23BGF1oDQOgit0S1xwJAXupbmWidAkCq+REjeNQCQOzy52huMANATCTU+IjkAkB4dhVpiWICQKjEGNmCoQJAn5NNxZzpAkDM37bWV/ICQBNQmv2/dgJAPFMbPwi1AkBk1L9A1MACQOHLQeFkRgJAQ54zwMWQAkDJCG9/1t8CQO0ylM8LAwNAppGXTCuYA0DGaAzW2/ECQAVRkprw9gJAbgKt7M5ZAkDceDzg7g4DQO/AdRnLFwNA+USsfiIqA0Dl7LDrQu8CQOU5k4+ReQJA7DIPVS6UAkA0S+6Kr54CQJHPydoI0QJAlV/Pn1YdA0CmCsYoIkgDQJDzOVlm5wFAeCTWp57EAkCIET6aU0ADQO/h8psz6gJA9kPvnWROAkCNF5kSCEICQKeoxFtfrgJABRUAmdiIA0BEn1GbB94CQG2kHp+WPwNAaGVdq9vyAUA9A/E+fREDQDoTWUh1hAJAJ3szH2mjAkDoMeJRBbQCQMqG6/Lm8gJAgMhEhZa5AkB1p/Gpr+8CQIHwdiCxYQJAOK3nbM81A0AtwhWZwLQCQGxyOg1mEQJAnUCRgJc4AkDFswH2jkADQGt74RnjrAJARAdZ27KwAkBueRPhy6QCQPRnJ0/JnwJAPWl0lzEWA0CwxQxrPAsDQF90GYKPmAJA5bhuX/TiAkCYKu8SAZUCQEcLu4gOTQJA5vPXRC6jAkBykE7wrYYCQAIsmXH4bwJAnS3BKheeAkCVxBacJ4oCQCgvBzQWOgJAyEBGyb/0AkD8vEHPvwMDQLB4dKpRCANA7PhVnyj2AkBWQ0d9dA0DQFBjNAWZNQNAUEmL6CTeAkAQR0sbQBQDQElA+9vi2AJARjKpsSHHAkBaA35yAl8CQF5yyIcsBANA2yz4e+YdA0CeYGFeJO0CQK0AA/go/AJAjE67+9unAkCwwtSY61kCQB5gDNwqwQJAb9oKf6DWAkBr0OnDAZsCQOgQsb20YwJAAVphoaTlAkBXaRDc+9ECQFC7yUM/MAJA+bzTD0gcAkBMqX6BrXkCQOZCJ4Nt/wJATVvwA5oEA0AP81ec3OoCQJDeIrO93wJAQO5OIVRJA0BHFO0fUeACQKGLdx1LMANAIti4bHn5AkBqZ7gIFbUCQAEnYg94/QJAAXwqzxfjAkA2z8HeX/ACQM6dcLpIyAJAVwAEjSzbAkAMQ/T8hkkCQKTybZRV8QJAoK0RZqloAkAW7M17pEcCQLSofQg9igJA9b0XczPnAUBiX3eR7agCQG/RyFW4yQJAH9NwVkzBAkBFmDm64oMCQH1LklafIgJAAKvMqGnlAkCjDi3VmsICQAsmn61OOwJAZzO5BpWpAkCFGV0wXpoCQAeUHDbWkwJABwMU34s7A0ByikdiWVsCQBCjaToVnwJA35v+6ZM5A0CdGrj5FXwCQPoFCiq+uAJAdaVmVFYCA0BMfblVXLoCQAm6NqZgcgJAX5dtEBqrAkBn26M+PC8CQPBf1wqKHwNAuYzgbjaoAkA9VBTe6RcDQLTfYEbtiwJAx0gYETjKAkCqbsXJgoUCQCyfhx4T2AFAZyQRJVg4A0DHephHysECQBZHcV4RIwNAjarIpucNAkCIXvDsUPQCQL+Ob5TaKAJAx7YuwiSSAkBpqnbt4hwDQPfVYRS1/QJAHUbBk2+RAkB0kIr7e+oCQJ01XgfogwJAw50dNyl7AkBRrDXqzp0CQBZpVLAEdQJAGqzk2aiVAkDb9B0VgfMCQDL4O68VqgJAu9J2D2doAkAvgI4OTgoDQJfP7HZpBgNAENWzix8oA0AFi0eEw1ACQMb78YlEIwNAMHGD6zJcAkDQ1UUHD28DQJ9rWoYUaQNAejxAekP+AkCebhSNldMBQIb+5SOPTwNAlhxAPVULA0AR/NlXoXwDQI5pJtighwJAK6Q23yMnAkAsocFp0BMCQIFF1/6zVQJAjL0bpanaAkBW/mr1mOMCQN5zgwBdWAJAavYundQIA0DekcPM1wsDQGrfRoNijgJANa5nsOhiAkAhn6nD1HkCQP4HMDknyQJAEPmpDQw4A0BVq15lfTYDQDuAOTS9HwNAN78TQSYlA0BNYl2SNtECQD3syUnJggJASQzn5A8+AkBtp91M2tsCQH3LuX71EAJAZ+Pg7iBFA0BGAa0RP1YCQGZfe5kmSQNA6tM4G1JxAkC3mkClGE4CQJ5d9lG7QgJAV/K9SoHTAkBYuKy2P2IDQKkH3j0cOQJACJi3UfqaAkCZQcgwcdkCQOYpZDxYswJAv0DrmQGsAkB7hbfFfsACQGxPpPnKpQJAjjBkGN7kAkBeiqOZIJICQNzvJwAThQJAwQR+c6vlAkCOoXxVsVACQPG0J0INzgJA7epHMKisA0CA/72hBdcCQLncyP7rtgNAEcxk5YGGA0AIsK/T+TQDQBpufrZsbAJApNoLnXu/AkCApjLVjrgDQDnhhPNJ2ANApfPc+OppAkB9pjJebFkCQKtSkY2CYAJAwFHTnymjA0A4B2AtZkkCQG+q+r4pvQNA1OKcxLDMAkDba9JMKeICQKpHAt9s+wJAK9d98l/EAkBinKb9fbICQI1xwf/TagNAiokPqep5AkBsxDzbpPoCQJFdM9vb8QJAMOCyGGLwAkDPqn+ia5gDQOkXjU/EmgNAKqO4EiLnAkCJKUmuje0CQA==",
          "dtype": "f8"
         },
         "marker": {
          "color": "black",
          "size": 7
         },
         "mode": "markers",
         "name": "Stations",
         "text": [
          "Arts et Métiers",
          "Avron",
          "Barbès - Rochechouart",
          "Boissière",
          "Botzaris",
          "Boucicaut",
          "Boulogne Jean Jaurès",
          "Bourse",
          "Brochant",
          "Cardinal Lemoine",
          "Carrefour Pleyel",
          "Censier - Daubenton",
          "Charles de Gaulle - Etoile",
          "Charles Michels",
          "Château de Vincennes",
          "Château Rouge",
          "Châtelet",
          "Chaussée d'Antin - La Fayette",
          "Concorde",
          "Courcelles",
          "Danube",
          "Ecole Militaire",
          "Ecole Vétérinaire de Maisons-Alfort",
          "Eglise de Pantin",
          "Esplanade de la Défense",
          "Etienne Marcel",
          "Faidherbe - Chaligny",
          "Falguière",
          "Gallieni",
          "Gambetta",
          "Gare d'Austerlitz",
          "Gare de l'Est",
          "George V",
          "Goncourt",
          "Grands Boulevards",
          "Invalides",
          "Jasmin",
          "Jaurès",
          "Javel - André Citroën",
          "La Muette",
          "Lamarck - Caulaincourt",
          "Les Agnettes",
          "Les Sablons",
          "Liège",
          "Madeleine",
          "Mairie des Lilas",
          "Mairie d'Ivry",
          "Maisons-Alfort - Les Juilliottes",
          "Maisons-Alfort - Stade",
          "Marcadet - Poissonniers",
          "Marx Dormoy",
          "Michel-Ange - Molitor",
          "Montparnasse Bienvenue",
          "Nation",
          "Notre-Dame des Champs",
          "Palais Royal - Musée du Louvre",
          "Pasteur",
          "Père Lachaise",
          "Place de Clichy",
          "Place d'Italie",
          "Pont Neuf",
          "Porte de Clichy",
          "Porte de la Villette",
          "Porte de Saint-Ouen",
          "Porte Dorée",
          "Porte d'Orléans",
          "Pyrénées",
          "Réaumur - Sébastopol",
          "République",
          "Saint-Fargeau",
          "Saint-Mandé",
          "Sentier",
          "Sèvres - Babylone",
          "Strasbourg - Saint-Denis",
          "Télégraphe",
          "Temple",
          "Ternes",
          "Vavin",
          "Villejuif Léo Lagrange",
          "Villejuif Paul Vaillant-Couturier",
          "Volontaires",
          "Abbesses",
          "Anvers",
          "Asnières - Gennevilliers Les Courtilles",
          "Assemblée Nationale",
          "Basilique de Saint-Denis",
          "Bibliothèque François Mitterrand",
          "Bobigny Pablo Picasso",
          "Chemin Vert",
          "Colonel Fabien",
          "Commerce",
          "Corentin Cariou",
          "Cour Saint-Emilion",
          "Daumesnil",
          "Filles du Calvaire",
          "Franklin D. Roosevelt",
          "Gaîté",
          "Guy Môquet",
          "Hôtel de Ville",
          "Jourdain",
          "La Courneuve - 8 Mai 1945",
          "La Défense (Grande Arche)",
          "Les Halles",
          "Liberté",
          "Louis Blanc",
          "Louise Michel",
          "Lourmel",
          "Mabillon",
          "Mairie de Montreuil",
          "Maison Blanche",
          "Maraîchers",
          "Marcel Sembat",
          "Ménilmontant",
          "Miromesnil",
          "Mouton-Duvernet",
          "Notre-Dame-de-Lorette",
          "Oberkampf",
          "Odéon",
          "Olympiades",
          "Pereire",
          "Picpus",
          "Pigalle",
          "Pont de Neuilly",
          "Porte Dauphine",
          "Porte des Lilas",
          "Pyramides",
          "Quatre Septembre",
          "Raspail",
          "Rennes",
          "Reuilly - Diderot",
          "Rue Saint-Maur",
          "Saint-Lazare",
          "Saint-Marcel",
          "Saint-Ouen",
          "Trocadéro",
          "Tuileries",
          "Villiers",
          "Wagram",
          "Alésia",
          "Bagneux - Lucie Aubrac",
          "Balard",
          "Bastille",
          "Belleville",
          "Bercy",
          "Bréguet-Sabin",
          "Buttes Chaumont",
          "Buzenval",
          "Campo-Formio",
          "Charonne",
          "Château d'Eau",
          "Cité",
          "Convention",
          "Crimée",
          "Dugommier",
          "Front Populaire",
          "Gare de Lyon",
          "Garibaldi",
          "Iéna",
          "Jules Joffrin",
          "Jussieu",
          "La Fourche",
          "La Motte-Picquet - Grenelle",
          "Le Kremlin-Bicêtre",
          "Les Gobelins",
          "Mairie d'Issy",
          "Michel-Ange - Auteuil",
          "Monceau",
          "Parmentier",
          "Pierre et Marie Curie",
          "Porte de Choisy",
          "Porte de la Chapelle",
          "Porte de Vincennes",
          "Porte d'Italie",
          "Pré-Saint-Gervais",
          "Richard-Lenoir",
          "Richelieu - Drouot",
          "Riquet",
          "Saint-Paul (Le Marais)",
          "Saint-Sébastien - Froissart",
          "Simplon",
          "Tolbiac",
          "Victor Hugo",
          "Villejuif - Louis Aragon",
          "Alma - Marceau",
          "Anatole France",
          "Barbara",
          "Billancourt",
          "Blanche",
          "Bonne Nouvelle",
          "Cadet",
          "Champs-Elysées - Clemenceau",
          "Chardon Lagache",
          "Château Landon",
          "Cluny - La Sorbonne",
          "Corentin Celton",
          "Denfert-Rochereau",
          "Edgar Quinet",
          "Europe",
          "Fort d'Aubervilliers",
          "Gabriel Péri",
          "Havre-Caumartin",
          "Hoche",
          "La Tour-Maubourg",
          "Le Peletier",
          "Ledru-Rollin",
          "Louvre - Rivoli",
          "Mairie de Clichy",
          "Mairie de Saint-Ouen",
          "Mirabeau",
          "Montgallet",
          "Opéra",
          "Ourcq",
          "Pernety",
          "Poissonnière",
          "Pont Cardinet",
          "Pont de Sèvres",
          "Porte de Charenton",
          "Porte de Clignancourt",
          "Porte de Pantin",
          "Porte de Saint-Cloud",
          "Porte d'Ivry",
          "Ranelagh",
          "Rome",
          "Rue des Boulets",
          "Saint-Ambroise",
          "Saint-Augustin",
          "Saint-Denis - Université",
          "Saint-François-Xavier",
          "Saint-Philippe-du-Roule",
          "Saint-Placide",
          "Ségur",
          "Solférino",
          "Stalingrad",
          "Trinité - d'Estienne d'Orves",
          "Vaugirard",
          "Voltaire",
          "Aimé Césaire",
          "Alexandre Dumas",
          "Argentine",
          "Aubervilliers-Pantin Quatre Chemins",
          "Avenue Emile Zola",
          "Bérault",
          "Bobigny-Pantin - Raymond Queneau",
          "Bolivar",
          "Boulogne Pont de Saint-Cloud",
          "Charenton - Ecoles",
          "Couronnes",
          "Croix de Chavaux",
          "Duroc",
          "Eglise d'Auteuil",
          "Exelmans",
          "Félix Faure",
          "Gare du Nord",
          "Jacques Bonsergent",
          "Kléber",
          "Laumière",
          "Mairie d'Aubervilliers",
          "Mairie de Montrouge",
          "Malakoff - Plateau de Vanves",
          "Malesherbes",
          "Maubert - Mutualité",
          "Michel Bizot",
          "Pelleport",
          "Philippe Auguste",
          "Place des Fêtes",
          "Place Monge",
          "Plaisance",
          "Pont de Levallois - Bécon",
          "Pont Marie (Cité des Arts)",
          "Porte d'Auteuil",
          "Porte de Bagnolet",
          "Porte de Champerret",
          "Porte de Montreuil",
          "Porte de Vanves",
          "Porte de Versailles",
          "Porte Maillot",
          "Rambuteau",
          "Robespierre",
          "Rue de la Pompe",
          "Rue du Bac",
          "Saint-Denis - Porte de Paris",
          "Saint-Georges",
          "Saint-Germain-des-Prés",
          "Saint-Michel",
          "Saint-Sulpice",
          "Sully - Morland",
          "Vaneau",
          "Varenne",
          "Aéroport d'Orly",
          "Bir-Hakeim",
          "Corvisart",
          "Créteil - Préfecture",
          "L'Haÿ-les-Roses",
          "Pointe du Lac",
          "Romainville-Carnot",
          "Bel-Air",
          "Cambronne",
          "Glacière",
          "La Dhuys",
          "Rosny-Bois-Perrier",
          "Châtillon-Montrouge",
          "Dupleix",
          "Malakoff - Rue Etienne Dolet",
          "Montreuil - Hôpital",
          "Passy",
          "Coteaux Beauclair",
          "Hôpital Bicêtre",
          "La Chapelle",
          "Quai de la Gare",
          "Saint-Denis - Pleyel",
          "Saint-Jacques",
          "Serge Gainsbourg",
          "Sèvres-Lecourbe",
          "Thiais - Orly (Pont de Rungis)",
          "Chevaleret",
          "Chevilly-Larue (Marché International)",
          "Créteil - L'Echat",
          "Créteil - Université",
          "Nationale",
          "Quai de la Rapée"
         ],
         "type": "scattermapbox"
        },
        {
         "hoverinfo": "text",
         "lat": [
          48.84431751431355,
          48.84549169626708
         ],
         "line": {
          "color": "#636EFA",
          "width": 2
         },
         "lon": [
          2.440540095406114,
          2.4292278831660283
         ],
         "mode": "lines",
         "showlegend": false,
         "text": "Château de Vincennes ↔ Bérault (Métro 1)",
         "type": "scattermapbox"
        },
        {
         "hoverinfo": "text",
         "lat": [
          48.85922471342816,
          48.86090733426327
         ],
         "line": {
          "color": "#636EFA",
          "width": 2
         },
         "lon": [
          2.3457609541847755,
          2.3409964272720227
         ],
         "mode": "lines",
         "showlegend": false,
         "text": "Châtelet ↔ Louvre - Rivoli (Métro 1)",
         "type": "scattermapbox"
        },
        {
         "hoverinfo": "text",
         "lat": [
          48.85922471342816,
          48.85735240518587
         ],
         "line": {
          "color": "#636EFA",
          "width": 2
         },
         "lon": [
          2.3457609541847755,
          2.3520676701391
         ],
         "mode": "lines",
         "showlegend": false,
         "text": "Châtelet ↔ Hôtel de Ville (Métro 1)",
         "type": "scattermapbox"
        },
        {
         "hoverinfo": "text",
         "lat": [
          48.88834989394862,
          48.88548938897471
         ],
         "line": {
          "color": "#636EFA",
          "width": 2
         },
         "lon": [
          2.249931086743073,
          2.258495429369125
         ],
         "mode": "lines",
         "showlegend": false,
         "text": "Esplanade de la Défense ↔ Pont de Neuilly (Métro 1)",
         "type": "scattermapbox"
        },
        {
         "hoverinfo": "text",
         "lat": [
          48.88834989394862,
          48.89181786646099
         ],
         "line": {
          "color": "#636EFA",
          "width": 2
         },
         "lon": [
          2.249931086743073,
          2.237988183098828
         ],
         "mode": "lines",
         "showlegend": false,
         "text": "Esplanade de la Défense ↔ La Défense (Grande Arche) (Métro 1)",
         "type": "scattermapbox"
        },
        {
         "hoverinfo": "text",
         "lat": [
          48.87203776458909,
          48.87392926445533
         ],
         "line": {
          "color": "#636EFA",
          "width": 2
         },
         "lon": [
          2.300759784978918,
          2.2951172138230334
         ],
         "mode": "lines",
         "showlegend": false,
         "text": "George V ↔ Charles de Gaulle - Etoile (Métro 1)",
         "type": "scattermapbox"
        },
        {
         "hoverinfo": "text",
         "lat": [
          48.87203776458909,
          48.8691648256349
         ],
         "line": {
          "color": "#636EFA",
          "width": 2
         },
         "lon": [
          2.300759784978918,
          2.309359666519628
         ],
         "mode": "lines",
         "showlegend": false,
         "text": "George V ↔ Franklin D. Roosevelt (Métro 1)",
         "type": "scattermapbox"
        },
        {
         "hoverinfo": "text",
         "lat": [
          48.88129083793358,
          48.87816265364455
         ],
         "line": {
          "color": "#636EFA",
          "width": 2
         },
         "lon": [
          2.271904762259129,
          2.2825838473615496
         ],
         "mode": "lines",
         "showlegend": false,
         "text": "Les Sablons ↔ Porte Maillot (Métro 1)",
         "type": "scattermapbox"
        },
        {
         "hoverinfo": "text",
         "lat": [
          48.88129083793358,
          48.88548938897471
         ],
         "line": {
          "color": "#636EFA",
          "width": 2
         },
         "lon": [
          2.271904762259129,
          2.258495429369125
         ],
         "mode": "lines",
         "showlegend": false,
         "text": "Les Sablons ↔ Pont de Neuilly (Métro 1)",
         "type": "scattermapbox"
        },
        {
         "hoverinfo": "text",
         "lat": [
          48.848084289973976,
          48.84734982784612
         ],
         "line": {
          "color": "#636EFA",
          "width": 2
         },
         "lon": [
          2.3958439887237373,
          2.3858367760086865
         ],
         "mode": "lines",
         "showlegend": false,
         "text": "Nation ↔ Reuilly - Diderot (Métro 1)",
         "type": "scattermapbox"
        },
        {
         "hoverinfo": "text",
         "lat": [
          48.848084289973976,
          48.84700773108863
         ],
         "line": {
          "color": "#636EFA",
          "width": 2
         },
         "lon": [
          2.3958439887237373,
          2.4108049967015006
         ],
         "mode": "lines",
         "showlegend": false,
         "text": "Nation ↔ Porte de Vincennes (Métro 1)",
         "type": "scattermapbox"
        },
        {
         "hoverinfo": "text",
         "lat": [
          48.84622934735893,
          48.84700773108863
         ],
         "line": {
          "color": "#636EFA",
          "width": 2
         },
         "lon": [
          2.418989706343808,
          2.4108049967015006
         ],
         "mode": "lines",
         "showlegend": false,
         "text": "Saint-Mandé ↔ Porte de Vincennes (Métro 1)",
         "type": "scattermapbox"
        },
        {
         "hoverinfo": "text",
         "lat": [
          48.84622934735893,
          48.84549169626708
         ],
         "line": {
          "color": "#636EFA",
          "width": 2
         },
         "lon": [
          2.418989706343808,
          2.4292278831660283
         ],
         "mode": "lines",
         "showlegend": false,
         "text": "Saint-Mandé ↔ Bérault (Métro 1)",
         "type": "scattermapbox"
        },
        {
         "hoverinfo": "text",
         "lat": [
          48.8691648256349,
          48.86758395955256
         ],
         "line": {
          "color": "#636EFA",
          "width": 2
         },
         "lon": [
          2.309359666519628,
          2.314397292025236
         ],
         "mode": "lines",
         "showlegend": false,
         "text": "Franklin D. Roosevelt ↔ Champs-Elysées - Clemenceau (Métro 1)",
         "type": "scattermapbox"
        },
        {
         "hoverinfo": "text",
         "lat": [
          48.85735240518587,
          48.85518742160445
         ],
         "line": {
          "color": "#636EFA",
          "width": 2
         },
         "lon": [
          2.3520676701391,
          2.3608852562751967
         ],
         "mode": "lines",
         "showlegend": false,
         "text": "Hôtel de Ville ↔ Saint-Paul (Le Marais) (Métro 1)",
         "type": "scattermapbox"
        },
        {
         "hoverinfo": "text",
         "lat": [
          48.84734982784612,
          48.84575948671397
         ],
         "line": {
          "color": "#636EFA",
          "width": 2
         },
         "lon": [
          2.3858367760086865,
          2.373125016776689
         ],
         "mode": "lines",
         "showlegend": false,
         "text": "Reuilly - Diderot ↔ Gare de Lyon (Métro 1)",
         "type": "scattermapbox"
        },
        {
         "hoverinfo": "text",
         "lat": [
          48.864477839314645,
          48.86655799294972
         ],
         "line": {
          "color": "#636EFA",
          "width": 2
         },
         "lon": [
          2.3296780947116416,
          2.3229614457982586
         ],
         "mode": "lines",
         "showlegend": false,
         "text": "Tuileries ↔ Concorde (Métro 1)",
         "type": "scattermapbox"
        },
        {
         "hoverinfo": "text",
         "lat": [
          48.864477839314645,
          48.86222226557415
         ],
         "line": {
          "color": "#636EFA",
          "width": 2
         },
         "lon": [
          2.3296780947116416,
          2.336454367754252
         ],
         "mode": "lines",
         "showlegend": false,
         "text": "Tuileries ↔ Palais Royal - Musée du Louvre (Métro 1)",
         "type": "scattermapbox"
        },
        {
         "hoverinfo": "text",
         "lat": [
          48.84575948671397,
          48.85196422011205
         ],
         "line": {
          "color": "#636EFA",
          "width": 2
         },
         "lon": [
          2.373125016776689,
          2.368692796099789
         ],
         "mode": "lines",
         "showlegend": false,
         "text": "Gare de Lyon ↔ Bastille (Métro 1)",
         "type": "scattermapbox"
        },
        {
         "hoverinfo": "text",
         "lat": [
          48.85518742160445,
          48.85196422011205
         ],
         "line": {
          "color": "#636EFA",
          "width": 2
         },
         "lon": [
          2.3608852562751967,
          2.368692796099789
         ],
         "mode": "lines",
         "showlegend": false,
         "text": "Saint-Paul (Le Marais) ↔ Bastille (Métro 1)",
         "type": "scattermapbox"
        },
        {
         "hoverinfo": "text",
         "lat": [
          48.86758395955256,
          48.86655799294972
         ],
         "line": {
          "color": "#636EFA",
          "width": 2
         },
         "lon": [
          2.314397292025236,
          2.3229614457982586
         ],
         "mode": "lines",
         "showlegend": false,
         "text": "Champs-Elysées - Clemenceau ↔ Concorde (Métro 1)",
         "type": "scattermapbox"
        },
        {
         "hoverinfo": "text",
         "lat": [
          48.86090733426327,
          48.86222226557415
         ],
         "line": {
          "color": "#636EFA",
          "width": 2
         },
         "lon": [
          2.3409964272720227,
          2.336454367754252
         ],
         "mode": "lines",
         "showlegend": false,
         "text": "Louvre - Rivoli ↔ Palais Royal - Musée du Louvre (Métro 1)",
         "type": "scattermapbox"
        },
        {
         "hoverinfo": "text",
         "lat": [
          48.87566737659971,
          48.87392926445533
         ],
         "line": {
          "color": "#636EFA",
          "width": 2
         },
         "lon": [
          2.289435418542214,
          2.2951172138230334
         ],
         "mode": "lines",
         "showlegend": false,
         "text": "Argentine ↔ Charles de Gaulle - Etoile (Métro 1)",
         "type": "scattermapbox"
        },
        {
         "hoverinfo": "text",
         "lat": [
          48.87566737659971,
          48.87816265364455
         ],
         "line": {
          "color": "#636EFA",
          "width": 2
         },
         "lon": [
          2.289435418542214,
          2.2825838473615496
         ],
         "mode": "lines",
         "showlegend": false,
         "text": "Argentine ↔ Porte Maillot (Métro 1)",
         "type": "scattermapbox"
        },
        {
         "hoverinfo": "text",
         "lat": [
          48.841991575324506,
          48.84067248206251
         ],
         "line": {
          "color": "#EF553B",
          "width": 2
         },
         "lon": [
          2.239077780728926,
          2.2283125898228056
         ],
         "mode": "lines",
         "showlegend": false,
         "text": "Boulogne Jean Jaurès ↔ Boulogne Pont de Saint-Cloud (Métro 10)",
         "type": "scattermapbox"
        },
        {
         "hoverinfo": "text",
         "lat": [
          48.841991575324506,
          48.84790412362924
         ],
         "line": {
          "color": "#EF553B",
          "width": 2
         },
         "lon": [
          2.239077780728926,
          2.258280744595537
         ],
         "mode": "lines",
         "showlegend": false,
         "text": "Boulogne Jean Jaurès ↔ Porte d'Auteuil (Métro 10)",
         "type": "scattermapbox"
        },
        {
         "hoverinfo": "text",
         "lat": [
          48.84670003526311,
          48.8462878950311
         ],
         "line": {
          "color": "#EF553B",
          "width": 2
         },
         "lon": [
          2.3513280016731763,
          2.354944184375758
         ],
         "mode": "lines",
         "showlegend": false,
         "text": "Cardinal Lemoine ↔ Jussieu (Métro 10)",
         "type": "scattermapbox"
        },
        {
         "hoverinfo": "text",
         "lat": [
          48.84670003526311,
          48.85010969451494
         ],
         "line": {
          "color": "#EF553B",
          "width": 2
         },
         "lon": [
          2.3513280016731763,
          2.348219343927666
         ],
         "mode": "lines",
         "showlegend": false,
         "text": "Cardinal Lemoine ↔ Maubert - Mutualité (Métro 10)",
         "type": "scattermapbox"
        },
        {
         "hoverinfo": "text",
         "lat": [
          48.84636172348247,
          48.84618110622323
         ],
         "line": {
          "color": "#EF553B",
          "width": 2
         },
         "lon": [
          2.2856243417995747,
          2.278009496527359
         ],
         "mode": "lines",
         "showlegend": false,
         "text": "Charles Michels ↔ Javel - André Citroën (Métro 10)",
         "type": "scattermapbox"
        },
        {
         "hoverinfo": "text",
         "lat": [
          48.84636172348247,
          48.84703801370517
         ],
         "line": {
          "color": "#EF553B",
          "width": 2
         },
         "lon": [
          2.2856243417995747,
          2.2950189971435506
         ],
         "mode": "lines",
         "showlegend": false,
         "text": "Charles Michels ↔ Avenue Emile Zola (Métro 10)",
         "type": "scattermapbox"
        },
        {
         "hoverinfo": "text",
         "lat": [
          48.84228236697996,
          48.8462878950311
         ],
         "line": {
          "color": "#EF553B",
          "width": 2
         },
         "lon": [
          2.364395394600644,
          2.354944184375758
         ],
         "mode": "lines",
         "showlegend": false,
         "text": "Gare d'Austerlitz ↔ Jussieu (Métro 10)",
         "type": "scattermapbox"
        },
        {
         "hoverinfo": "text",
         "lat": [
          48.84618110622323,
          48.84707750734599
         ],
         "line": {
          "color": "#EF553B",
          "width": 2
         },
         "lon": [
          2.278009496527359,
          2.2730641263728333
         ],
         "mode": "lines",
         "showlegend": false,
         "text": "Javel - André Citroën ↔ Mirabeau (Métro 10)",
         "type": "scattermapbox"
        },
        {
         "hoverinfo": "text",
         "lat": [
          48.85284373829949,
          48.8519477060765
         ],
         "line": {
          "color": "#EF553B",
          "width": 2
         },
         "lon": [
          2.335142819346476,
          2.340619126473996
         ],
         "mode": "lines",
         "showlegend": false,
         "text": "Mabillon ↔ Odéon (Métro 10)",
         "type": "scattermapbox"
        },
        {
         "hoverinfo": "text",
         "lat": [
          48.85284373829949,
          48.85093150598804
         ],
         "line": {
          "color": "#EF553B",
          "width": 2
         },
         "lon": [
          2.335142819346476,
          2.326104689925573
         ],
         "mode": "lines",
         "showlegend": false,
         "text": "Mabillon ↔ Sèvres - Babylone (Métro 10)",
         "type": "scattermapbox"
        },
        {
         "hoverinfo": "text",
         "lat": [
          48.84515597018703,
          48.84797535417627
         ],
         "line": {
          "color": "#EF553B",
          "width": 2
         },
         "lon": [
          2.2618218573220084,
          2.263989525333329
         ],
         "mode": "lines",
         "showlegend": false,
         "text": "Michel-Ange - Molitor ↔ Michel-Ange - Auteuil (Métro 10)",
         "type": "scattermapbox"
        },
        {
         "hoverinfo": "text",
         "lat": [
          48.84515597018703,
          48.84508829917885
         ],
         "line": {
          "color": "#EF553B",
          "width": 2
         },
         "lon": [
          2.2618218573220084,
          2.26690547594029
         ],
         "mode": "lines",
         "showlegend": false,
         "text": "Michel-Ange - Molitor ↔ Chardon Lagache (Métro 10)",
         "type": "scattermapbox"
        },
        {
         "hoverinfo": "text",
         "lat": [
          48.84515597018703,
          48.84790412362924
         ],
         "line": {
          "color": "#EF553B",
          "width": 2
         },
         "lon": [
          2.2618218573220084,
          2.258280744595537
         ],
         "mode": "lines",
         "showlegend": false,
         "text": "Michel-Ange - Molitor ↔ Porte d'Auteuil (Métro 10)",
         "type": "scattermapbox"
        },
        {
         "hoverinfo": "text",
         "lat": [
          48.8519477060765,
          48.850793731720536
         ],
         "line": {
          "color": "#EF553B",
          "width": 2
         },
         "lon": [
          2.340619126473996,
          2.3450218824744566
         ],
         "mode": "lines",
         "showlegend": false,
         "text": "Odéon ↔ Cluny - La Sorbonne (Métro 10)",
         "type": "scattermapbox"
        },
        {
         "hoverinfo": "text",
         "lat": [
          48.849532805857095,
          48.84703801370517
         ],
         "line": {
          "color": "#EF553B",
          "width": 2
         },
         "lon": [
          2.298684579816939,
          2.2950189971435506
         ],
         "mode": "lines",
         "showlegend": false,
         "text": "La Motte-Picquet - Grenelle ↔ Avenue Emile Zola (Métro 10)",
         "type": "scattermapbox"
        },
        {
         "hoverinfo": "text",
         "lat": [
          48.849532805857095,
          48.84716726999503
         ],
         "line": {
          "color": "#EF553B",
          "width": 2
         },
         "lon": [
          2.298684579816939,
          2.307137849403385
         ],
         "mode": "lines",
         "showlegend": false,
         "text": "La Motte-Picquet - Grenelle ↔ Ségur (Métro 10)",
         "type": "scattermapbox"
        },
        {
         "hoverinfo": "text",
         "lat": [
          48.84508829917885,
          48.84714336145718
         ],
         "line": {
          "color": "#EF553B",
          "width": 2
         },
         "lon": [
          2.26690547594029,
          2.269111389021892
         ],
         "mode": "lines",
         "showlegend": false,
         "text": "Chardon Lagache ↔ Eglise d'Auteuil (Métro 10)",
         "type": "scattermapbox"
        },
        {
         "hoverinfo": "text",
         "lat": [
          48.850793731720536,
          48.85010969451494
         ],
         "line": {
          "color": "#EF553B",
          "width": 2
         },
         "lon": [
          2.3450218824744566,
          2.348219343927666
         ],
         "mode": "lines",
         "showlegend": false,
         "text": "Cluny - La Sorbonne ↔ Maubert - Mutualité (Métro 10)",
         "type": "scattermapbox"
        },
        {
         "hoverinfo": "text",
         "lat": [
          48.84707750734599,
          48.84714336145718
         ],
         "line": {
          "color": "#EF553B",
          "width": 2
         },
         "lon": [
          2.2730641263728333,
          2.269111389021892
         ],
         "mode": "lines",
         "showlegend": false,
         "text": "Mirabeau ↔ Eglise d'Auteuil (Métro 10)",
         "type": "scattermapbox"
        },
        {
         "hoverinfo": "text",
         "lat": [
          48.84716726999503,
          48.84675637808778
         ],
         "line": {
          "color": "#EF553B",
          "width": 2
         },
         "lon": [
          2.307137849403385,
          2.3162247549746047
         ],
         "mode": "lines",
         "showlegend": false,
         "text": "Ségur ↔ Duroc (Métro 10)",
         "type": "scattermapbox"
        },
        {
         "hoverinfo": "text",
         "lat": [
          48.84675637808778,
          48.84889457005888
         ],
         "line": {
          "color": "#EF553B",
          "width": 2
         },
         "lon": [
          2.3162247549746047,
          2.321351242354736
         ],
         "mode": "lines",
         "showlegend": false,
         "text": "Duroc ↔ Vaneau (Métro 10)",
         "type": "scattermapbox"
        },
        {
         "hoverinfo": "text",
         "lat": [
          48.85093150598804,
          48.84889457005888
         ],
         "line": {
          "color": "#EF553B",
          "width": 2
         },
         "lon": [
          2.326104689925573,
          2.321351242354736
         ],
         "mode": "lines",
         "showlegend": false,
         "text": "Sèvres - Babylone ↔ Vaneau (Métro 10)",
         "type": "scattermapbox"
        },
        {
         "hoverinfo": "text",
         "lat": [
          48.8700070178386,
          48.87198955568015
         ],
         "line": {
          "color": "#00CC96",
          "width": 2
         },
         "lon": [
          2.3707644347484003,
          2.376684607718542
         ],
         "mode": "lines",
         "showlegend": false,
         "text": "Goncourt ↔ Belleville (Métro 11)",
         "type": "scattermapbox"
        },
        {
         "hoverinfo": "text",
         "lat": [
          48.8700070178386,
          48.86788497134881
         ],
         "line": {
          "color": "#00CC96",
          "width": 2
         },
         "lon": [
          2.3707644347484003,
          2.3648796725347783
         ],
         "mode": "lines",
         "showlegend": false,
         "text": "Goncourt ↔ République (Métro 11)",
         "type": "scattermapbox"
        },
        {
         "hoverinfo": "text",
         "lat": [
          48.87974365006289,
          48.87723143067265
         ],
         "line": {
          "color": "#00CC96",
          "width": 2
         },
         "lon": [
          2.4162978208011863,
          2.4065226763982275
         ],
         "mode": "lines",
         "showlegend": false,
         "text": "Mairie des Lilas ↔ Porte des Lilas (Métro 11)",
         "type": "scattermapbox"
        },
        {
         "hoverinfo": "text",
         "lat": [
          48.87974365006289,
          48.88125303440166
         ],
         "line": {
          "color": "#00CC96",
          "width": 2
         },
         "lon": [
          2.4162978208011863,
          2.427162168589524
         ],
         "mode": "lines",
         "showlegend": false,
         "text": "Mairie des Lilas ↔ Serge Gainsbourg (Métro 11)",
         "type": "scattermapbox"
        },
        {
         "hoverinfo": "text",
         "lat": [
          48.87381265491752,
          48.875247348641416
         ],
         "line": {
          "color": "#00CC96",
          "width": 2
         },
         "lon": [
          2.384883957748741,
          2.389325378910096
         ],
         "mode": "lines",
         "showlegend": false,
         "text": "Pyrénées ↔ Jourdain (Métro 11)",
         "type": "scattermapbox"
        },
        {
         "hoverinfo": "text",
         "lat": [
          48.87381265491752,
          48.87198955568015
         ],
         "line": {
          "color": "#00CC96",
          "width": 2
         },
         "lon": [
          2.384883957748741,
          2.376684607718542
         ],
         "mode": "lines",
         "showlegend": false,
         "text": "Pyrénées ↔ Belleville (Métro 11)",
         "type": "scattermapbox"
        },
        {
         "hoverinfo": "text",
         "lat": [
          48.86788497134881,
          48.86529961264491
         ],
         "line": {
          "color": "#00CC96",
          "width": 2
         },
         "lon": [
          2.3648796725347783,
          2.3565081436435467
         ],
         "mode": "lines",
         "showlegend": false,
         "text": "République ↔ Arts et Métiers (Métro 11)",
         "type": "scattermapbox"
        },
        {
         "hoverinfo": "text",
         "lat": [
          48.87551038418075,
          48.87672366197325
         ],
         "line": {
          "color": "#00CC96",
          "width": 2
         },
         "lon": [
          2.3986480899605933,
          2.393139370360497
         ],
         "mode": "lines",
         "showlegend": false,
         "text": "Télégraphe ↔ Place des Fêtes (Métro 11)",
         "type": "scattermapbox"
        },
        {
         "hoverinfo": "text",
         "lat": [
          48.87551038418075,
          48.87723143067265
         ],
         "line": {
          "color": "#00CC96",
          "width": 2
         },
         "lon": [
          2.3986480899605933,
          2.4065226763982275
         ],
         "mode": "lines",
         "showlegend": false,
         "text": "Télégraphe ↔ Porte des Lilas (Métro 11)",
         "type": "scattermapbox"
        },
        {
         "hoverinfo": "text",
         "lat": [
          48.875247348641416,
          48.87672366197325
         ],
         "line": {
          "color": "#00CC96",
          "width": 2
         },
         "lon": [
          2.389325378910096,
          2.393139370360497
         ],
         "mode": "lines",
         "showlegend": false,
         "text": "Jourdain ↔ Place des Fêtes (Métro 11)",
         "type": "scattermapbox"
        },
        {
         "hoverinfo": "text",
         "lat": [
          48.85760073633446,
          48.85776111354502
         ],
         "line": {
          "color": "#00CC96",
          "width": 2
         },
         "lon": [
          2.3514239919428728,
          2.3478374055687867
         ],
         "mode": "lines",
         "showlegend": false,
         "text": "Hôtel de Ville ↔ Châtelet (Métro 11)",
         "type": "scattermapbox"
        },
        {
         "hoverinfo": "text",
         "lat": [
          48.85760073633446,
          48.86119015695036
         ],
         "line": {
          "color": "#00CC96",
          "width": 2
         },
         "lon": [
          2.3514239919428728,
          2.353273948594772
         ],
         "mode": "lines",
         "showlegend": false,
         "text": "Hôtel de Ville ↔ Rambuteau (Métro 11)",
         "type": "scattermapbox"
        },
        {
         "hoverinfo": "text",
         "lat": [
          48.86529961264491,
          48.86119015695036
         ],
         "line": {
          "color": "#00CC96",
          "width": 2
         },
         "lon": [
          2.3565081436435467,
          2.353273948594772
         ],
         "mode": "lines",
         "showlegend": false,
         "text": "Arts et Métiers ↔ Rambuteau (Métro 11)",
         "type": "scattermapbox"
        },
        {
         "hoverinfo": "text",
         "lat": [
          48.88357423792701,
          48.88125303440166
         ],
         "line": {
          "color": "#00CC96",
          "width": 2
         },
         "lon": [
          2.440677444590172,
          2.427162168589524
         ],
         "mode": "lines",
         "showlegend": false,
         "text": "Romainville-Carnot ↔ Serge Gainsbourg (Métro 11)",
         "type": "scattermapbox"
        },
        {
         "hoverinfo": "text",
         "lat": [
          48.88357423792701,
          48.878269829247664
         ],
         "line": {
          "color": "#00CC96",
          "width": 2
         },
         "lon": [
          2.440677444590172,
          2.4546692358364623
         ],
         "mode": "lines",
         "showlegend": false,
         "text": "Romainville-Carnot ↔ Montreuil - Hôpital (Métro 11)",
         "type": "scattermapbox"
        },
        {
         "hoverinfo": "text",
         "lat": [
          48.8780111916913,
          48.88212212689498
         ],
         "line": {
          "color": "#00CC96",
          "width": 2
         },
         "lon": [
          2.465116181953647,
          2.4673647804495924
         ],
         "mode": "lines",
         "showlegend": false,
         "text": "La Dhuys ↔ Coteaux Beauclair (Métro 11)",
         "type": "scattermapbox"
        },
        {
         "hoverinfo": "text",
         "lat": [
          48.8780111916913,
          48.878269829247664
         ],
         "line": {
          "color": "#00CC96",
          "width": 2
         },
         "lon": [
          2.465116181953647,
          2.4546692358364623
         ],
         "mode": "lines",
         "showlegend": false,
         "text": "La Dhuys ↔ Montreuil - Hôpital (Métro 11)",
         "type": "scattermapbox"
        },
        {
         "hoverinfo": "text",
         "lat": [
          48.88302567942574,
          48.88212212689498
         ],
         "line": {
          "color": "#00CC96",
          "width": 2
         },
         "lon": [
          2.480609800808591,
          2.4673647804495924
         ],
         "mode": "lines",
         "showlegend": false,
         "text": "Rosny-Bois-Perrier ↔ Coteaux Beauclair (Métro 11)",
         "type": "scattermapbox"
        },
        {
         "hoverinfo": "text",
         "lat": [
          48.844317683534335,
          48.84282366881032
         ],
         "line": {
          "color": "#AB63FA",
          "width": 2
         },
         "lon": [
          2.317551235617027,
          2.3126518981045816
         ],
         "mode": "lines",
         "showlegend": false,
         "text": "Falguière ↔ Pasteur (Métro 12)",
         "type": "scattermapbox"
        },
        {
         "hoverinfo": "text",
         "lat": [
          48.844317683534335,
          48.84374228942691
         ],
         "line": {
          "color": "#AB63FA",
          "width": 2
         },
         "lon": [
          2.317551235617027,
          2.32392211008296
         ],
         "mode": "lines",
         "showlegend": false,
         "text": "Falguière ↔ Montparnasse Bienvenue (Métro 12)",
         "type": "scattermapbox"
        },
        {
         "hoverinfo": "text",
         "lat": [
          48.88968180996681,
          48.892492268201934
         ],
         "line": {
          "color": "#AB63FA",
          "width": 2
         },
         "lon": [
          2.3385838243831936,
          2.3443200293804827
         ],
         "mode": "lines",
         "showlegend": false,
         "text": "Lamarck - Caulaincourt ↔ Jules Joffrin (Métro 12)",
         "type": "scattermapbox"
        },
        {
         "hoverinfo": "text",
         "lat": [
          48.88968180996681,
          48.88439271799143
         ],
         "line": {
          "color": "#AB63FA",
          "width": 2
         },
         "lon": [
          2.3385838243831936,
          2.338394635220906
         ],
         "mode": "lines",
         "showlegend": false,
         "text": "Lamarck - Caulaincourt ↔ Abbesses (Métro 12)",
         "type": "scattermapbox"
        },
        {
         "hoverinfo": "text",
         "lat": [
          48.89057957856722,
          48.89154760285429
         ],
         "line": {
          "color": "#AB63FA",
          "width": 2
         },
         "lon": [
          2.359808478084024,
          2.3500246218070155
         ],
         "mode": "lines",
         "showlegend": false,
         "text": "Marx Dormoy ↔ Marcadet - Poissonniers (Métro 12)",
         "type": "scattermapbox"
        },
        {
         "hoverinfo": "text",
         "lat": [
          48.89057957856722,
          48.89740242267042
         ],
         "line": {
          "color": "#AB63FA",
          "width": 2
         },
         "lon": [
          2.359808478084024,
          2.359248542310361
         ],
         "mode": "lines",
         "showlegend": false,
         "text": "Marx Dormoy ↔ Porte de la Chapelle (Métro 12)",
         "type": "scattermapbox"
        },
        {
         "hoverinfo": "text",
         "lat": [
          48.84508150807547,
          48.84819024311401
         ],
         "line": {
          "color": "#AB63FA",
          "width": 2
         },
         "lon": [
          2.328564944227944,
          2.32802068556793
         ],
         "mode": "lines",
         "showlegend": false,
         "text": "Notre-Dame des Champs ↔ Rennes (Métro 12)",
         "type": "scattermapbox"
        },
        {
         "hoverinfo": "text",
         "lat": [
          48.84508150807547,
          48.84374228942691
         ],
         "line": {
          "color": "#AB63FA",
          "width": 2
         },
         "lon": [
          2.328564944227944,
          2.32392211008296
         ],
         "mode": "lines",
         "showlegend": false,
         "text": "Notre-Dame des Champs ↔ Montparnasse Bienvenue (Métro 12)",
         "type": "scattermapbox"
        },
        {
         "hoverinfo": "text",
         "lat": [
          48.84282366881032,
          48.84141172841498
         ],
         "line": {
          "color": "#AB63FA",
          "width": 2
         },
         "lon": [
          2.3126518981045816,
          2.3079833805768515
         ],
         "mode": "lines",
         "showlegend": false,
         "text": "Pasteur ↔ Volontaires (Métro 12)",
         "type": "scattermapbox"
        },
        {
         "hoverinfo": "text",
         "lat": [
          48.85156530639137,
          48.84819024311401
         ],
         "line": {
          "color": "#AB63FA",
          "width": 2
         },
         "lon": [
          2.326859663121737,
          2.32802068556793
         ],
         "mode": "lines",
         "showlegend": false,
         "text": "Sèvres - Babylone ↔ Rennes (Métro 12)",
         "type": "scattermapbox"
        },
        {
         "hoverinfo": "text",
         "lat": [
          48.85156530639137,
          48.85587553200213
         ],
         "line": {
          "color": "#AB63FA",
          "width": 2
         },
         "lon": [
          2.326859663121737,
          2.3256727584985164
         ],
         "mode": "lines",
         "showlegend": false,
         "text": "Sèvres - Babylone ↔ Rue du Bac (Métro 12)",
         "type": "scattermapbox"
        },
        {
         "hoverinfo": "text",
         "lat": [
          48.84141172841498,
          48.83953628376544
         ],
         "line": {
          "color": "#AB63FA",
          "width": 2
         },
         "lon": [
          2.3079833805768515,
          2.300977822126098
         ],
         "mode": "lines",
         "showlegend": false,
         "text": "Volontaires ↔ Vaugirard (Métro 12)",
         "type": "scattermapbox"
        },
        {
         "hoverinfo": "text",
         "lat": [
          48.88439271799143,
          48.88201178841109
         ],
         "line": {
          "color": "#AB63FA",
          "width": 2
         },
         "lon": [
          2.338394635220906,
          2.3371840091053384
         ],
         "mode": "lines",
         "showlegend": false,
         "text": "Abbesses ↔ Pigalle (Métro 12)",
         "type": "scattermapbox"
        },
        {
         "hoverinfo": "text",
         "lat": [
          48.861122050080816,
          48.85853194972854
         ],
         "line": {
          "color": "#AB63FA",
          "width": 2
         },
         "lon": [
          2.3206896796944263,
          2.323075964251541
         ],
         "mode": "lines",
         "showlegend": false,
         "text": "Assemblée Nationale ↔ Solférino (Métro 12)",
         "type": "scattermapbox"
        },
        {
         "hoverinfo": "text",
         "lat": [
          48.861122050080816,
          48.86615003482594
         ],
         "line": {
          "color": "#AB63FA",
          "width": 2
         },
         "lon": [
          2.3206896796944263,
          2.323181449571859
         ],
         "mode": "lines",
         "showlegend": false,
         "text": "Assemblée Nationale ↔ Concorde (Métro 12)",
         "type": "scattermapbox"
        },
        {
         "hoverinfo": "text",
         "lat": [
          48.86615003482594,
          48.87003294090397
         ],
         "line": {
          "color": "#AB63FA",
          "width": 2
         },
         "lon": [
          2.323181449571859,
          2.325169929034193
         ],
         "mode": "lines",
         "showlegend": false,
         "text": "Concorde ↔ Madeleine (Métro 12)",
         "type": "scattermapbox"
        },
        {
         "hoverinfo": "text",
         "lat": [
          48.87003294090397,
          48.875594817796994
         ],
         "line": {
          "color": "#AB63FA",
          "width": 2
         },
         "lon": [
          2.325169929034193,
          2.327470237303278
         ],
         "mode": "lines",
         "showlegend": false,
         "text": "Madeleine ↔ Saint-Lazare (Métro 12)",
         "type": "scattermapbox"
        },
        {
         "hoverinfo": "text",
         "lat": [
          48.87604417483004,
          48.87841659490173
         ],
         "line": {
          "color": "#AB63FA",
          "width": 2
         },
         "lon": [
          2.337900771823332,
          2.3375706403796697
         ],
         "mode": "lines",
         "showlegend": false,
         "text": "Notre-Dame-de-Lorette ↔ Saint-Georges (Métro 12)",
         "type": "scattermapbox"
        },
        {
         "hoverinfo": "text",
         "lat": [
          48.87604417483004,
          48.87633650730735
         ],
         "line": {
          "color": "#AB63FA",
          "width": 2
         },
         "lon": [
          2.337900771823332,
          2.333049172418236
         ],
         "mode": "lines",
         "showlegend": false,
         "text": "Notre-Dame-de-Lorette ↔ Trinité - d'Estienne d'Orves (Métro 12)",
         "type": "scattermapbox"
        },
        {
         "hoverinfo": "text",
         "lat": [
          48.83713505380496,
          48.83953628376544
         ],
         "line": {
          "color": "#AB63FA",
          "width": 2
         },
         "lon": [
          2.2963913864809173,
          2.300977822126098
         ],
         "mode": "lines",
         "showlegend": false,
         "text": "Convention ↔ Vaugirard (Métro 12)",
         "type": "scattermapbox"
        },
        {
         "hoverinfo": "text",
         "lat": [
          48.83713505380496,
          48.83230151439446
         ],
         "line": {
          "color": "#AB63FA",
          "width": 2
         },
         "lon": [
          2.2963913864809173,
          2.28813294509322
         ],
         "mode": "lines",
         "showlegend": false,
         "text": "Convention ↔ Porte de Versailles (Métro 12)",
         "type": "scattermapbox"
        },
        {
         "hoverinfo": "text",
         "lat": [
          48.90666420278779,
          48.90843758066954
         ],
         "line": {
          "color": "#AB63FA",
          "width": 2
         },
         "lon": [
          2.365792023989413,
          2.37813084516706
         ],
         "mode": "lines",
         "showlegend": false,
         "text": "Front Populaire ↔ Aimé Césaire (Métro 12)",
         "type": "scattermapbox"
        },
        {
         "hoverinfo": "text",
         "lat": [
          48.90666420278779,
          48.89740242267042
         ],
         "line": {
          "color": "#AB63FA",
          "width": 2
         },
         "lon": [
          2.365792023989413,
          2.359248542310361
         ],
         "mode": "lines",
         "showlegend": false,
         "text": "Front Populaire ↔ Porte de la Chapelle (Métro 12)",
         "type": "scattermapbox"
        },
        {
         "hoverinfo": "text",
         "lat": [
          48.892492268201934,
          48.89154760285429
         ],
         "line": {
          "color": "#AB63FA",
          "width": 2
         },
         "lon": [
          2.3443200293804827,
          2.3500246218070155
         ],
         "mode": "lines",
         "showlegend": false,
         "text": "Jules Joffrin ↔ Marcadet - Poissonniers (Métro 12)",
         "type": "scattermapbox"
        },
        {
         "hoverinfo": "text",
         "lat": [
          48.82434428766646,
          48.82682329515912
         ],
         "line": {
          "color": "#AB63FA",
          "width": 2
         },
         "lon": [
          2.273558168023932,
          2.2789586605256367
         ],
         "mode": "lines",
         "showlegend": false,
         "text": "Mairie d'Issy ↔ Corentin Celton (Métro 12)",
         "type": "scattermapbox"
        },
        {
         "hoverinfo": "text",
         "lat": [
          48.875594817796994,
          48.87633650730735
         ],
         "line": {
          "color": "#AB63FA",
          "width": 2
         },
         "lon": [
          2.327470237303278,
          2.333049172418236
         ],
         "mode": "lines",
         "showlegend": false,
         "text": "Saint-Lazare ↔ Trinité - d'Estienne d'Orves (Métro 12)",
         "type": "scattermapbox"
        },
        {
         "hoverinfo": "text",
         "lat": [
          48.82682329515912,
          48.83230151439446
         ],
         "line": {
          "color": "#AB63FA",
          "width": 2
         },
         "lon": [
          2.2789586605256367,
          2.28813294509322
         ],
         "mode": "lines",
         "showlegend": false,
         "text": "Corentin Celton ↔ Porte de Versailles (Métro 12)",
         "type": "scattermapbox"
        },
        {
         "hoverinfo": "text",
         "lat": [
          48.88201178841109,
          48.87841659490173
         ],
         "line": {
          "color": "#AB63FA",
          "width": 2
         },
         "lon": [
          2.3371840091053384,
          2.3375706403796697
         ],
         "mode": "lines",
         "showlegend": false,
         "text": "Pigalle ↔ Saint-Georges (Métro 12)",
         "type": "scattermapbox"
        },
        {
         "hoverinfo": "text",
         "lat": [
          48.85853194972854,
          48.85587553200213
         ],
         "line": {
          "color": "#AB63FA",
          "width": 2
         },
         "lon": [
          2.323075964251541,
          2.3256727584985164
         ],
         "mode": "lines",
         "showlegend": false,
         "text": "Solférino ↔ Rue du Bac (Métro 12)",
         "type": "scattermapbox"
        },
        {
         "hoverinfo": "text",
         "lat": [
          48.90843758066954,
          48.913739225808136
         ],
         "line": {
          "color": "#AB63FA",
          "width": 2
         },
         "lon": [
          2.37813084516706,
          2.3807826993163266
         ],
         "mode": "lines",
         "showlegend": false,
         "text": "Aimé Césaire ↔ Mairie d'Aubervilliers (Métro 12)",
         "type": "scattermapbox"
        },
        {
         "hoverinfo": "text",
         "lat": [
          48.89062201554889,
          48.88742451051807
         ],
         "line": {
          "color": "#FFA15A",
          "width": 2
         },
         "lon": [
          2.3201902468999456,
          2.325686960766736
         ],
         "mode": "lines",
         "showlegend": false,
         "text": "Brochant ↔ La Fourche (Métro 13)",
         "type": "scattermapbox"
        },
        {
         "hoverinfo": "text",
         "lat": [
          48.89062201554889,
          48.8930014419616
         ],
         "line": {
          "color": "#FFA15A",
          "width": 2
         },
         "lon": [
          2.3201902468999456,
          2.327483258626126
         ],
         "mode": "lines",
         "showlegend": false,
         "text": "Brochant ↔ Guy Môquet (Métro 13)",
         "type": "scattermapbox"
        },
        {
         "hoverinfo": "text",
         "lat": [
          48.89062201554889,
          48.89443128801746
         ],
         "line": {
          "color": "#FFA15A",
          "width": 2
         },
         "lon": [
          2.3201902468999456,
          2.31320835075881
         ],
         "mode": "lines",
         "showlegend": false,
         "text": "Brochant ↔ Porte de Clichy (Métro 13)",
         "type": "scattermapbox"
        },
        {
         "hoverinfo": "text",
         "lat": [
          48.91973260804976,
          48.911958864732505
         ],
         "line": {
          "color": "#FFA15A",
          "width": 2
         },
         "lon": [
          2.343534674183465,
          2.333893080685357
         ],
         "mode": "lines",
         "showlegend": false,
         "text": "Carrefour Pleyel ↔ Mairie de Saint-Ouen (Métro 13)",
         "type": "scattermapbox"
        },
        {
         "hoverinfo": "text",
         "lat": [
          48.91973260804976,
          48.92992275044576
         ],
         "line": {
          "color": "#FFA15A",
          "width": 2
         },
         "lon": [
          2.343534674183465,
          2.3561729251016
         ],
         "mode": "lines",
         "showlegend": false,
         "text": "Carrefour Pleyel ↔ Saint-Denis - Porte de Paris (Métro 13)",
         "type": "scattermapbox"
        },
        {
         "hoverinfo": "text",
         "lat": [
          48.92308777796361,
          48.93060364140038
         ],
         "line": {
          "color": "#FFA15A",
          "width": 2
         },
         "lon": [
          2.286263202479002,
          2.284372100658843
         ],
         "mode": "lines",
         "showlegend": false,
         "text": "Les Agnettes ↔ Asnières - Gennevilliers Les Courtilles (Métro 13)",
         "type": "scattermapbox"
        },
        {
         "hoverinfo": "text",
         "lat": [
          48.92308777796361,
          48.91634741814672
         ],
         "line": {
          "color": "#FFA15A",
          "width": 2
         },
         "lon": [
          2.286263202479002,
          2.29460408001733
         ],
         "mode": "lines",
         "showlegend": false,
         "text": "Les Agnettes ↔ Gabriel Péri (Métro 13)",
         "type": "scattermapbox"
        },
        {
         "hoverinfo": "text",
         "lat": [
          48.87953493737576,
          48.88373789022764
         ],
         "line": {
          "color": "#FFA15A",
          "width": 2
         },
         "lon": [
          2.3268526712397555,
          2.327398345647013
         ],
         "mode": "lines",
         "showlegend": false,
         "text": "Liège ↔ Place de Clichy (Métro 13)",
         "type": "scattermapbox"
        },
        {
         "hoverinfo": "text",
         "lat": [
          48.87953493737576,
          48.87538131600797
         ],
         "line": {
          "color": "#FFA15A",
          "width": 2
         },
         "lon": [
          2.3268526712397555,
          2.325488390672613
         ],
         "mode": "lines",
         "showlegend": false,
         "text": "Liège ↔ Saint-Lazare (Métro 13)",
         "type": "scattermapbox"
        },
        {
         "hoverinfo": "text",
         "lat": [
          48.84231364506487,
          48.83852608502253
         ],
         "line": {
          "color": "#FFA15A",
          "width": 2
         },
         "lon": [
          2.320983883036087,
          2.3223539967788067
         ],
         "mode": "lines",
         "showlegend": false,
         "text": "Montparnasse Bienvenue ↔ Gaîté (Métro 13)",
         "type": "scattermapbox"
        },
        {
         "hoverinfo": "text",
         "lat": [
          48.84231364506487,
          48.84699198555429
         ],
         "line": {
          "color": "#FFA15A",
          "width": 2
         },
         "lon": [
          2.320983883036087,
          2.316535081176305
         ],
         "mode": "lines",
         "showlegend": false,
         "text": "Montparnasse Bienvenue ↔ Duroc (Métro 13)",
         "type": "scattermapbox"
        },
        {
         "hoverinfo": "text",
         "lat": [
          48.89443128801746,
          48.90349897462669
         ],
         "line": {
          "color": "#FFA15A",
          "width": 2
         },
         "lon": [
          2.31320835075881,
          2.3058484063578857
         ],
         "mode": "lines",
         "showlegend": false,
         "text": "Porte de Clichy ↔ Mairie de Clichy (Métro 13)",
         "type": "scattermapbox"
        },
        {
         "hoverinfo": "text",
         "lat": [
          48.89749783732745,
          48.8930014419616
         ],
         "line": {
          "color": "#FFA15A",
          "width": 2
         },
         "lon": [
          2.3290483407446505,
          2.327483258626126
         ],
         "mode": "lines",
         "showlegend": false,
         "text": "Porte de Saint-Ouen ↔ Guy Môquet (Métro 13)",
         "type": "scattermapbox"
        },
        {
         "hoverinfo": "text",
         "lat": [
          48.89749783732745,
          48.906372391923206
         ],
         "line": {
          "color": "#FFA15A",
          "width": 2
         },
         "lon": [
          2.3290483407446505,
          2.331962553647662
         ],
         "mode": "lines",
         "showlegend": false,
         "text": "Porte de Saint-Ouen ↔ Garibaldi (Métro 13)",
         "type": "scattermapbox"
        },
        {
         "hoverinfo": "text",
         "lat": [
          48.93678306532419,
          48.92992275044576
         ],
         "line": {
          "color": "#FFA15A",
          "width": 2
         },
         "lon": [
          2.3592958408126816,
          2.3561729251016
         ],
         "mode": "lines",
         "showlegend": false,
         "text": "Basilique de Saint-Denis ↔ Saint-Denis - Porte de Paris (Métro 13)",
         "type": "scattermapbox"
        },
        {
         "hoverinfo": "text",
         "lat": [
          48.93678306532419,
          48.945911458883856
         ],
         "line": {
          "color": "#FFA15A",
          "width": 2
         },
         "lon": [
          2.3592958408126816,
          2.364494290510317
         ],
         "mode": "lines",
         "showlegend": false,
         "text": "Basilique de Saint-Denis ↔ Saint-Denis - Université (Métro 13)",
         "type": "scattermapbox"
        },
        {
         "hoverinfo": "text",
         "lat": [
          48.83852608502253,
          48.83416372097089
         ],
         "line": {
          "color": "#FFA15A",
          "width": 2
         },
         "lon": [
          2.3223539967788067,
          2.318323659736018
         ],
         "mode": "lines",
         "showlegend": false,
         "text": "Gaîté ↔ Pernety (Métro 13)",
         "type": "scattermapbox"
        },
        {
         "hoverinfo": "text",
         "lat": [
          48.86053445554123,
          48.85662420264694
         ],
         "line": {
          "color": "#FFA15A",
          "width": 2
         },
         "lon": [
          2.3146399951225347,
          2.3149776470363417
         ],
         "mode": "lines",
         "showlegend": false,
         "text": "Invalides ↔ Varenne (Métro 13)",
         "type": "scattermapbox"
        },
        {
         "hoverinfo": "text",
         "lat": [
          48.86053445554123,
          48.86750083759083
         ],
         "line": {
          "color": "#FFA15A",
          "width": 2
         },
         "lon": [
          2.3146399951225347,
          2.31401668387612
         ],
         "mode": "lines",
         "showlegend": false,
         "text": "Invalides ↔ Champs-Elysées - Clemenceau (Métro 13)",
         "type": "scattermapbox"
        },
        {
         "hoverinfo": "text",
         "lat": [
          48.88373789022764,
          48.88742451051807
         ],
         "line": {
          "color": "#FFA15A",
          "width": 2
         },
         "lon": [
          2.327398345647013,
          2.325686960766736
         ],
         "mode": "lines",
         "showlegend": false,
         "text": "Place de Clichy ↔ La Fourche (Métro 13)",
         "type": "scattermapbox"
        },
        {
         "hoverinfo": "text",
         "lat": [
          48.906372391923206,
          48.911958864732505
         ],
         "line": {
          "color": "#FFA15A",
          "width": 2
         },
         "lon": [
          2.331962553647662,
          2.333893080685357
         ],
         "mode": "lines",
         "showlegend": false,
         "text": "Garibaldi ↔ Mairie de Saint-Ouen (Métro 13)",
         "type": "scattermapbox"
        },
        {
         "hoverinfo": "text",
         "lat": [
          48.87344791579522,
          48.86750083759083
         ],
         "line": {
          "color": "#FFA15A",
          "width": 2
         },
         "lon": [
          2.3160106931210245,
          2.31401668387612
         ],
         "mode": "lines",
         "showlegend": false,
         "text": "Miromesnil ↔ Champs-Elysées - Clemenceau (Métro 13)",
         "type": "scattermapbox"
        },
        {
         "hoverinfo": "text",
         "lat": [
          48.87344791579522,
          48.87538131600797
         ],
         "line": {
          "color": "#FFA15A",
          "width": 2
         },
         "lon": [
          2.3160106931210245,
          2.325488390672613
         ],
         "mode": "lines",
         "showlegend": false,
         "text": "Miromesnil ↔ Saint-Lazare (Métro 13)",
         "type": "scattermapbox"
        },
        {
         "hoverinfo": "text",
         "lat": [
          48.91634741814672,
          48.90349897462669
         ],
         "line": {
          "color": "#FFA15A",
          "width": 2
         },
         "lon": [
          2.29460408001733,
          2.3058484063578857
         ],
         "mode": "lines",
         "showlegend": false,
         "text": "Gabriel Péri ↔ Mairie de Clichy (Métro 13)",
         "type": "scattermapbox"
        },
        {
         "hoverinfo": "text",
         "lat": [
          48.83416372097089,
          48.83175036306747
         ],
         "line": {
          "color": "#FFA15A",
          "width": 2
         },
         "lon": [
          2.318323659736018,
          2.313860489344306
         ],
         "mode": "lines",
         "showlegend": false,
         "text": "Pernety ↔ Plaisance (Métro 13)",
         "type": "scattermapbox"
        },
        {
         "hoverinfo": "text",
         "lat": [
          48.8512787565696,
          48.84699198555429
         ],
         "line": {
          "color": "#FFA15A",
          "width": 2
         },
         "lon": [
          2.314407403528732,
          2.316535081176305
         ],
         "mode": "lines",
         "showlegend": false,
         "text": "Saint-François-Xavier ↔ Duroc (Métro 13)",
         "type": "scattermapbox"
        },
        {
         "hoverinfo": "text",
         "lat": [
          48.8512787565696,
          48.85662420264694
         ],
         "line": {
          "color": "#FFA15A",
          "width": 2
         },
         "lon": [
          2.314407403528732,
          2.3149776470363417
         ],
         "mode": "lines",
         "showlegend": false,
         "text": "Saint-François-Xavier ↔ Varenne (Métro 13)",
         "type": "scattermapbox"
        },
        {
         "hoverinfo": "text",
         "lat": [
          48.82220756804045,
          48.81533836595972
         ],
         "line": {
          "color": "#FFA15A",
          "width": 2
         },
         "lon": [
          2.298295381702497,
          2.2971240100835835
         ],
         "mode": "lines",
         "showlegend": false,
         "text": "Malakoff - Plateau de Vanves ↔ Malakoff - Rue Etienne Dolet (Métro 13)",
         "type": "scattermapbox"
        },
        {
         "hoverinfo": "text",
         "lat": [
          48.82220756804045,
          48.82761346400429
         ],
         "line": {
          "color": "#FFA15A",
          "width": 2
         },
         "lon": [
          2.298295381702497,
          2.305332386657473
         ],
         "mode": "lines",
         "showlegend": false,
         "text": "Malakoff - Plateau de Vanves ↔ Porte de Vanves (Métro 13)",
         "type": "scattermapbox"
        },
        {
         "hoverinfo": "text",
         "lat": [
          48.83175036306747,
          48.82761346400429
         ],
         "line": {
          "color": "#FFA15A",
          "width": 2
         },
         "lon": [
          2.313860489344306,
          2.305332386657473
         ],
         "mode": "lines",
         "showlegend": false,
         "text": "Plaisance ↔ Porte de Vanves (Métro 13)",
         "type": "scattermapbox"
        },
        {
         "hoverinfo": "text",
         "lat": [
          48.81075140670139,
          48.81533836595972
         ],
         "line": {
          "color": "#FFA15A",
          "width": 2
         },
         "lon": [
          2.301717705004608,
          2.2971240100835835
         ],
         "mode": "lines",
         "showlegend": false,
         "text": "Châtillon-Montrouge ↔ Malakoff - Rue Etienne Dolet (Métro 13)",
         "type": "scattermapbox"
        },
        {
         "hoverinfo": "text",
         "lat": [
          48.87054467671624,
          48.87566085467199
         ],
         "line": {
          "color": "#19D3F3",
          "width": 2
         },
         "lon": [
          2.3258100487932776,
          2.3240258961246782
         ],
         "mode": "lines",
         "showlegend": false,
         "text": "Madeleine ↔ Saint-Lazare (Métro 14)",
         "type": "scattermapbox"
        },
        {
         "hoverinfo": "text",
         "lat": [
          48.87054467671624,
          48.86575552737676
         ],
         "line": {
          "color": "#19D3F3",
          "width": 2
         },
         "lon": [
          2.3258100487932776,
          2.3346236060049232
         ],
         "mode": "lines",
         "showlegend": false,
         "text": "Madeleine ↔ Pyramides (Métro 14)",
         "type": "scattermapbox"
        },
        {
         "hoverinfo": "text",
         "lat": [
          48.829925765928905,
          48.82694415504304
         ],
         "line": {
          "color": "#19D3F3",
          "width": 2
         },
         "lon": [
          2.376487371168301,
          2.367034270941924
         ],
         "mode": "lines",
         "showlegend": false,
         "text": "Bibliothèque François Mitterrand ↔ Olympiades (Métro 14)",
         "type": "scattermapbox"
        },
        {
         "hoverinfo": "text",
         "lat": [
          48.829925765928905,
          48.83331930384343
         ],
         "line": {
          "color": "#19D3F3",
          "width": 2
         },
         "lon": [
          2.376487371168301,
          2.386617850214058
         ],
         "mode": "lines",
         "showlegend": false,
         "text": "Bibliothèque François Mitterrand ↔ Cour Saint-Emilion (Métro 14)",
         "type": "scattermapbox"
        },
        {
         "hoverinfo": "text",
         "lat": [
          48.83331930384343,
          48.84010199803391
         ],
         "line": {
          "color": "#19D3F3",
          "width": 2
         },
         "lon": [
          2.386617850214058,
          2.379062015227724
         ],
         "mode": "lines",
         "showlegend": false,
         "text": "Cour Saint-Emilion ↔ Bercy (Métro 14)",
         "type": "scattermapbox"
        },
        {
         "hoverinfo": "text",
         "lat": [
          48.82694415504304,
          48.82120786862075
         ],
         "line": {
          "color": "#19D3F3",
          "width": 2
         },
         "lon": [
          2.367034270941924,
          2.3589182598590392
         ],
         "mode": "lines",
         "showlegend": false,
         "text": "Olympiades ↔ Maison Blanche (Métro 14)",
         "type": "scattermapbox"
        },
        {
         "hoverinfo": "text",
         "lat": [
          48.90516956991565,
          48.91164217552501
         ],
         "line": {
          "color": "#19D3F3",
          "width": 2
         },
         "lon": [
          2.3227559546697414,
          2.333545807213269
         ],
         "mode": "lines",
         "showlegend": false,
         "text": "Saint-Ouen ↔ Mairie de Saint-Ouen (Métro 14)",
         "type": "scattermapbox"
        },
        {
         "hoverinfo": "text",
         "lat": [
          48.90516956991565,
          48.89428867785142
         ],
         "line": {
          "color": "#19D3F3",
          "width": 2
         },
         "lon": [
          2.3227559546697414,
          2.313431869544054
         ],
         "mode": "lines",
         "showlegend": false,
         "text": "Saint-Ouen ↔ Porte de Clichy (Métro 14)",
         "type": "scattermapbox"
        },
        {
         "hoverinfo": "text",
         "lat": [
          48.84010199803391,
          48.84467563174822
         ],
         "line": {
          "color": "#19D3F3",
          "width": 2
         },
         "lon": [
          2.379062015227724,
          2.373100581933962
         ],
         "mode": "lines",
         "showlegend": false,
         "text": "Bercy ↔ Gare de Lyon (Métro 14)",
         "type": "scattermapbox"
        },
        {
         "hoverinfo": "text",
         "lat": [
          48.85955653272677,
          48.86575552737676
         ],
         "line": {
          "color": "#19D3F3",
          "width": 2
         },
         "lon": [
          2.346411849769497,
          2.3346236060049232
         ],
         "mode": "lines",
         "showlegend": false,
         "text": "Châtelet ↔ Pyramides (Métro 14)",
         "type": "scattermapbox"
        },
        {
         "hoverinfo": "text",
         "lat": [
          48.85955653272677,
          48.84467563174822
         ],
         "line": {
          "color": "#19D3F3",
          "width": 2
         },
         "lon": [
          2.346411849769497,
          2.373100581933962
         ],
         "mode": "lines",
         "showlegend": false,
         "text": "Châtelet ↔ Gare de Lyon (Métro 14)",
         "type": "scattermapbox"
        },
        {
         "hoverinfo": "text",
         "lat": [
          48.87566085467199,
          48.8881023898884
         ],
         "line": {
          "color": "#19D3F3",
          "width": 2
         },
         "lon": [
          2.3240258961246782,
          2.3151908648850013
         ],
         "mode": "lines",
         "showlegend": false,
         "text": "Saint-Lazare ↔ Pont Cardinet (Métro 14)",
         "type": "scattermapbox"
        },
        {
         "hoverinfo": "text",
         "lat": [
          48.91164217552501,
          48.91873375567987
         ],
         "line": {
          "color": "#19D3F3",
          "width": 2
         },
         "lon": [
          2.333545807213269,
          2.345886129823062
         ],
         "mode": "lines",
         "showlegend": false,
         "text": "Mairie de Saint-Ouen ↔ Saint-Denis - Pleyel (Métro 14)",
         "type": "scattermapbox"
        },
        {
         "hoverinfo": "text",
         "lat": [
          48.8881023898884,
          48.89428867785142
         ],
         "line": {
          "color": "#19D3F3",
          "width": 2
         },
         "lon": [
          2.3151908648850013,
          2.313431869544054
         ],
         "mode": "lines",
         "showlegend": false,
         "text": "Pont Cardinet ↔ Porte de Clichy (Métro 14)",
         "type": "scattermapbox"
        },
        {
         "hoverinfo": "text",
         "lat": [
          48.72791074498099,
          48.74683536938685
         ],
         "line": {
          "color": "#19D3F3",
          "width": 2
         },
         "lon": [
          2.3621434233506027,
          2.3723847511214924
         ],
         "mode": "lines",
         "showlegend": false,
         "text": "Aéroport d'Orly ↔ Thiais - Orly (Pont de Rungis) (Métro 14)",
         "type": "scattermapbox"
        },
        {
         "hoverinfo": "text",
         "lat": [
          48.77532646395088,
          48.75848356146962
         ],
         "line": {
          "color": "#19D3F3",
          "width": 2
         },
         "lon": [
          2.354991210566311,
          2.367374604185919
         ],
         "mode": "lines",
         "showlegend": false,
         "text": "L'Haÿ-les-Roses ↔ Chevilly-Larue (Marché International) (Métro 14)",
         "type": "scattermapbox"
        },
        {
         "hoverinfo": "text",
         "lat": [
          48.77532646395088,
          48.809971090725966
         ],
         "line": {
          "color": "#19D3F3",
          "width": 2
         },
         "lon": [
          2.354991210566311,
          2.349946533239157
         ],
         "mode": "lines",
         "showlegend": false,
         "text": "L'Haÿ-les-Roses ↔ Hôpital Bicêtre (Métro 14)",
         "type": "scattermapbox"
        },
        {
         "hoverinfo": "text",
         "lat": [
          48.809971090725966,
          48.82120786862075
         ],
         "line": {
          "color": "#19D3F3",
          "width": 2
         },
         "lon": [
          2.349946533239157,
          2.3589182598590392
         ],
         "mode": "lines",
         "showlegend": false,
         "text": "Hôpital Bicêtre ↔ Maison Blanche (Métro 14)",
         "type": "scattermapbox"
        },
        {
         "hoverinfo": "text",
         "lat": [
          48.74683536938685,
          48.75848356146962
         ],
         "line": {
          "color": "#19D3F3",
          "width": 2
         },
         "lon": [
          2.3723847511214924,
          2.367374604185919
         ],
         "mode": "lines",
         "showlegend": false,
         "text": "Thiais - Orly (Pont de Rungis) ↔ Chevilly-Larue (Marché International) (Métro 14)",
         "type": "scattermapbox"
        },
        {
         "hoverinfo": "text",
         "lat": [
          48.85164854359716,
          48.84845279707999
         ],
         "line": {
          "color": "#FF6692",
          "width": 2
         },
         "lon": [
          2.3981875566593973,
          2.395798835112525
         ],
         "mode": "lines",
         "showlegend": false,
         "text": "Avron ↔ Nation (Métro 2)",
         "type": "scattermapbox"
        },
        {
         "hoverinfo": "text",
         "lat": [
          48.85164854359716,
          48.856199097341126
         ],
         "line": {
          "color": "#FF6692",
          "width": 2
         },
         "lon": [
          2.3981875566593973,
          2.394591418672128
         ],
         "mode": "lines",
         "showlegend": false,
         "text": "Avron ↔ Alexandre Dumas (Métro 2)",
         "type": "scattermapbox"
        },
        {
         "hoverinfo": "text",
         "lat": [
          48.87926525411311,
          48.8782007528283
         ],
         "line": {
          "color": "#FF6692",
          "width": 2
         },
         "lon": [
          2.303294362425212,
          2.2981136521983068
         ],
         "mode": "lines",
         "showlegend": false,
         "text": "Courcelles ↔ Ternes (Métro 2)",
         "type": "scattermapbox"
        },
        {
         "hoverinfo": "text",
         "lat": [
          48.87926525411311,
          48.88056877012684
         ],
         "line": {
          "color": "#FF6692",
          "width": 2
         },
         "lon": [
          2.303294362425212,
          2.309412967374703
         ],
         "mode": "lines",
         "showlegend": false,
         "text": "Courcelles ↔ Monceau (Métro 2)",
         "type": "scattermapbox"
        },
        {
         "hoverinfo": "text",
         "lat": [
          48.88366908827266,
          48.88376635447715
         ],
         "line": {
          "color": "#FF6692",
          "width": 2
         },
         "lon": [
          2.32795832801022,
          2.3324843754343627
         ],
         "mode": "lines",
         "showlegend": false,
         "text": "Place de Clichy ↔ Blanche (Métro 2)",
         "type": "scattermapbox"
        },
        {
         "hoverinfo": "text",
         "lat": [
          48.88366908827266,
          48.88234581879614
         ],
         "line": {
          "color": "#FF6692",
          "width": 2
         },
         "lon": [
          2.32795832801022,
          2.3213591738229726
         ],
         "mode": "lines",
         "showlegend": false,
         "text": "Place de Clichy ↔ Rome (Métro 2)",
         "type": "scattermapbox"
        },
        {
         "hoverinfo": "text",
         "lat": [
          48.8782007528283,
          48.87494579313413
         ],
         "line": {
          "color": "#FF6692",
          "width": 2
         },
         "lon": [
          2.2981136521983068,
          2.295927507409278
         ],
         "mode": "lines",
         "showlegend": false,
         "text": "Ternes ↔ Charles de Gaulle - Etoile (Métro 2)",
         "type": "scattermapbox"
        },
        {
         "hoverinfo": "text",
         "lat": [
          48.882868568843925,
          48.88226954222623
         ],
         "line": {
          "color": "#FF6692",
          "width": 2
         },
         "lon": [
          2.344154840330292,
          2.338257976509587
         ],
         "mode": "lines",
         "showlegend": false,
         "text": "Anvers ↔ Pigalle (Métro 2)",
         "type": "scattermapbox"
        },
        {
         "hoverinfo": "text",
         "lat": [
          48.882868568843925,
          48.88385234986188
         ],
         "line": {
          "color": "#FF6692",
          "width": 2
         },
         "lon": [
          2.344154840330292,
          2.350573400888514
         ],
         "mode": "lines",
         "showlegend": false,
         "text": "Anvers ↔ Barbès - Rochechouart (Métro 2)",
         "type": "scattermapbox"
        },
        {
         "hoverinfo": "text",
         "lat": [
          48.877695345805535,
          48.88159683079925
         ],
         "line": {
          "color": "#FF6692",
          "width": 2
         },
         "lon": [
          2.370576102819657,
          2.370269867509251
         ],
         "mode": "lines",
         "showlegend": false,
         "text": "Colonel Fabien ↔ Jaurès (Métro 2)",
         "type": "scattermapbox"
        },
        {
         "hoverinfo": "text",
         "lat": [
          48.877695345805535,
          48.87231407736167
         ],
         "line": {
          "color": "#FF6692",
          "width": 2
         },
         "lon": [
          2.370576102819657,
          2.3768306915222848
         ],
         "mode": "lines",
         "showlegend": false,
         "text": "Colonel Fabien ↔ Belleville (Métro 2)",
         "type": "scattermapbox"
        },
        {
         "hoverinfo": "text",
         "lat": [
          48.866440166781686,
          48.86932051914457
         ],
         "line": {
          "color": "#FF6692",
          "width": 2
         },
         "lon": [
          2.38353966877949,
          2.3805336747351005
         ],
         "mode": "lines",
         "showlegend": false,
         "text": "Ménilmontant ↔ Couronnes (Métro 2)",
         "type": "scattermapbox"
        },
        {
         "hoverinfo": "text",
         "lat": [
          48.866440166781686,
          48.86248637862667
         ],
         "line": {
          "color": "#FF6692",
          "width": 2
         },
         "lon": [
          2.38353966877949,
          2.387689326065689
         ],
         "mode": "lines",
         "showlegend": false,
         "text": "Ménilmontant ↔ Père Lachaise (Métro 2)",
         "type": "scattermapbox"
        },
        {
         "hoverinfo": "text",
         "lat": [
          48.88226954222623,
          48.88376635447715
         ],
         "line": {
          "color": "#FF6692",
          "width": 2
         },
         "lon": [
          2.338257976509587,
          2.3324843754343627
         ],
         "mode": "lines",
         "showlegend": false,
         "text": "Pigalle ↔ Blanche (Métro 2)",
         "type": "scattermapbox"
        },
        {
         "hoverinfo": "text",
         "lat": [
          48.87139679524832,
          48.8698545716049
         ],
         "line": {
          "color": "#FF6692",
          "width": 2
         },
         "lon": [
          2.277632717545272,
          2.2859020006220643
         ],
         "mode": "lines",
         "showlegend": false,
         "text": "Porte Dauphine ↔ Victor Hugo (Métro 2)",
         "type": "scattermapbox"
        },
        {
         "hoverinfo": "text",
         "lat": [
          48.88121227337839,
          48.88234581879614
         ],
         "line": {
          "color": "#FF6692",
          "width": 2
         },
         "lon": [
          2.31576144923934,
          2.3213591738229726
         ],
         "mode": "lines",
         "showlegend": false,
         "text": "Villiers ↔ Rome (Métro 2)",
         "type": "scattermapbox"
        },
        {
         "hoverinfo": "text",
         "lat": [
          48.88121227337839,
          48.88056877012684
         ],
         "line": {
          "color": "#FF6692",
          "width": 2
         },
         "lon": [
          2.31576144923934,
          2.309412967374703
         ],
         "mode": "lines",
         "showlegend": false,
         "text": "Villiers ↔ Monceau (Métro 2)",
         "type": "scattermapbox"
        },
        {
         "hoverinfo": "text",
         "lat": [
          48.87231407736167,
          48.86932051914457
         ],
         "line": {
          "color": "#FF6692",
          "width": 2
         },
         "lon": [
          2.3768306915222848,
          2.3805336747351005
         ],
         "mode": "lines",
         "showlegend": false,
         "text": "Belleville ↔ Couronnes (Métro 2)",
         "type": "scattermapbox"
        },
        {
         "hoverinfo": "text",
         "lat": [
          48.8698545716049,
          48.87494579313413
         ],
         "line": {
          "color": "#FF6692",
          "width": 2
         },
         "lon": [
          2.2859020006220643,
          2.295927507409278
         ],
         "mode": "lines",
         "showlegend": false,
         "text": "Victor Hugo ↔ Charles de Gaulle - Etoile (Métro 2)",
         "type": "scattermapbox"
        },
        {
         "hoverinfo": "text",
         "lat": [
          48.86248637862667,
          48.85808942813576
         ],
         "line": {
          "color": "#FF6692",
          "width": 2
         },
         "lon": [
          2.387689326065689,
          2.390497596745289
         ],
         "mode": "lines",
         "showlegend": false,
         "text": "Père Lachaise ↔ Philippe Auguste (Métro 2)",
         "type": "scattermapbox"
        },
        {
         "hoverinfo": "text",
         "lat": [
          48.856199097341126,
          48.85808942813576
         ],
         "line": {
          "color": "#FF6692",
          "width": 2
         },
         "lon": [
          2.394591418672128,
          2.390497596745289
         ],
         "mode": "lines",
         "showlegend": false,
         "text": "Alexandre Dumas ↔ Philippe Auguste (Métro 2)",
         "type": "scattermapbox"
        },
        {
         "hoverinfo": "text",
         "lat": [
          48.88385234986188,
          48.88447648340964
         ],
         "line": {
          "color": "#FF6692",
          "width": 2
         },
         "lon": [
          2.350573400888514,
          2.360430336162137
         ],
         "mode": "lines",
         "showlegend": false,
         "text": "Barbès - Rochechouart ↔ La Chapelle (Métro 2)",
         "type": "scattermapbox"
        },
        {
         "hoverinfo": "text",
         "lat": [
          48.88159683079925,
          48.88432054886986
         ],
         "line": {
          "color": "#FF6692",
          "width": 2
         },
         "lon": [
          2.370269867509251,
          2.365774370558169
         ],
         "mode": "lines",
         "showlegend": false,
         "text": "Jaurès ↔ Stalingrad (Métro 2)",
         "type": "scattermapbox"
        },
        {
         "hoverinfo": "text",
         "lat": [
          48.88447648340964,
          48.88432054886986
         ],
         "line": {
          "color": "#FF6692",
          "width": 2
         },
         "lon": [
          2.360430336162137,
          2.365774370558169
         ],
         "mode": "lines",
         "showlegend": false,
         "text": "La Chapelle ↔ Stalingrad (Métro 2)",
         "type": "scattermapbox"
        },
        {
         "hoverinfo": "text",
         "lat": [
          48.86553459885931,
          48.86628268363084
         ],
         "line": {
          "color": "#B6E880",
          "width": 2
         },
         "lon": [
          2.3567233472754983,
          2.3520239377964742
         ],
         "mode": "lines",
         "showlegend": false,
         "text": "Arts et Métiers ↔ Réaumur - Sébastopol (Métro 3)",
         "type": "scattermapbox"
        },
        {
         "hoverinfo": "text",
         "lat": [
          48.86553459885931,
          48.86668483219092
         ],
         "line": {
          "color": "#B6E880",
          "width": 2
         },
         "lon": [
          2.3567233472754983,
          2.361589378332189
         ],
         "mode": "lines",
         "showlegend": false,
         "text": "Arts et Métiers ↔ Temple (Métro 3)",
         "type": "scattermapbox"
        },
        {
         "hoverinfo": "text",
         "lat": [
          48.86879284393317,
          48.86959592111917
         ],
         "line": {
          "color": "#B6E880",
          "width": 2
         },
         "lon": [
          2.340678546975881,
          2.3362786423248583
         ],
         "mode": "lines",
         "showlegend": false,
         "text": "Bourse ↔ Quatre Septembre (Métro 3)",
         "type": "scattermapbox"
        },
        {
         "hoverinfo": "text",
         "lat": [
          48.86879284393317,
          48.86728343166051
         ],
         "line": {
          "color": "#B6E880",
          "width": 2
         },
         "lon": [
          2.340678546975881,
          2.347513710821989
         ],
         "mode": "lines",
         "showlegend": false,
         "text": "Bourse ↔ Sentier (Métro 3)",
         "type": "scattermapbox"
        },
        {
         "hoverinfo": "text",
         "lat": [
          48.86539746068654,
          48.86453937293447
         ],
         "line": {
          "color": "#B6E880",
          "width": 2
         },
         "lon": [
          2.415921484287642,
          2.4087542211895427
         ],
         "mode": "lines",
         "showlegend": false,
         "text": "Gallieni ↔ Porte de Bagnolet (Métro 3)",
         "type": "scattermapbox"
        },
        {
         "hoverinfo": "text",
         "lat": [
          48.86497267606974,
          48.86453937293447
         ],
         "line": {
          "color": "#B6E880",
          "width": 2
         },
         "lon": [
          2.3973588775666475,
          2.4087542211895427
         ],
         "mode": "lines",
         "showlegend": false,
         "text": "Gambetta ↔ Porte de Bagnolet (Métro 3)",
         "type": "scattermapbox"
        },
        {
         "hoverinfo": "text",
         "lat": [
          48.86497267606974,
          48.86296417435419
         ],
         "line": {
          "color": "#B6E880",
          "width": 2
         },
         "lon": [
          2.3973588775666475,
          2.386157046298338
         ],
         "mode": "lines",
         "showlegend": false,
         "text": "Gambetta ↔ Père Lachaise (Métro 3)",
         "type": "scattermapbox"
        },
        {
         "hoverinfo": "text",
         "lat": [
          48.86296417435419,
          48.86413108020325
         ],
         "line": {
          "color": "#B6E880",
          "width": 2
         },
         "lon": [
          2.386157046298338,
          2.380486332251813
         ],
         "mode": "lines",
         "showlegend": false,
         "text": "Père Lachaise ↔ Rue Saint-Maur (Métro 3)",
         "type": "scattermapbox"
        },
        {
         "hoverinfo": "text",
         "lat": [
          48.86628268363084,
          48.86728343166051
         ],
         "line": {
          "color": "#B6E880",
          "width": 2
         },
         "lon": [
          2.3520239377964742,
          2.347513710821989
         ],
         "mode": "lines",
         "showlegend": false,
         "text": "Réaumur - Sébastopol ↔ Sentier (Métro 3)",
         "type": "scattermapbox"
        },
        {
         "hoverinfo": "text",
         "lat": [
          48.86668483219092,
          48.86720306822776
         ],
         "line": {
          "color": "#B6E880",
          "width": 2
         },
         "lon": [
          2.361589378332189,
          2.364333297545428
         ],
         "mode": "lines",
         "showlegend": false,
         "text": "Temple ↔ République (Métro 3)",
         "type": "scattermapbox"
        },
        {
         "hoverinfo": "text",
         "lat": [
          48.88853900119613,
          48.885652393133846
         ],
         "line": {
          "color": "#B6E880",
          "width": 2
         },
         "lon": [
          2.2882778490679767,
          2.2921124821588448
         ],
         "mode": "lines",
         "showlegend": false,
         "text": "Louise Michel ↔ Porte de Champerret (Métro 3)",
         "type": "scattermapbox"
        },
        {
         "hoverinfo": "text",
         "lat": [
          48.88853900119613,
          48.892206617614
         ],
         "line": {
          "color": "#B6E880",
          "width": 2
         },
         "lon": [
          2.2882778490679767,
          2.28498169634032
         ],
         "mode": "lines",
         "showlegend": false,
         "text": "Louise Michel ↔ Anatole France (Métro 3)",
         "type": "scattermapbox"
        },
        {
         "hoverinfo": "text",
         "lat": [
          48.88492986463719,
          48.885652393133846
         ],
         "line": {
          "color": "#B6E880",
          "width": 2
         },
         "lon": [
          2.297701123838181,
          2.2921124821588448
         ],
         "mode": "lines",
         "showlegend": false,
         "text": "Pereire ↔ Porte de Champerret (Métro 3)",
         "type": "scattermapbox"
        },
        {
         "hoverinfo": "text",
         "lat": [
          48.88492986463719,
          48.8838463907272
         ],
         "line": {
          "color": "#B6E880",
          "width": 2
         },
         "lon": [
          2.297701123838181,
          2.304673087584434
         ],
         "mode": "lines",
         "showlegend": false,
         "text": "Pereire ↔ Wagram (Métro 3)",
         "type": "scattermapbox"
        },
        {
         "hoverinfo": "text",
         "lat": [
          48.86959592111917,
          48.87150983278418
         ],
         "line": {
          "color": "#B6E880",
          "width": 2
         },
         "lon": [
          2.3362786423248583,
          2.331128974301561
         ],
         "mode": "lines",
         "showlegend": false,
         "text": "Quatre Septembre ↔ Opéra (Métro 3)",
         "type": "scattermapbox"
        },
        {
         "hoverinfo": "text",
         "lat": [
          48.86413108020325,
          48.86524326053047
         ],
         "line": {
          "color": "#B6E880",
          "width": 2
         },
         "lon": [
          2.380486332251813,
          2.3747205969196896
         ],
         "mode": "lines",
         "showlegend": false,
         "text": "Rue Saint-Maur ↔ Parmentier (Métro 3)",
         "type": "scattermapbox"
        },
        {
         "hoverinfo": "text",
         "lat": [
          48.87496650103443,
          48.87346783937801
         ],
         "line": {
          "color": "#B6E880",
          "width": 2
         },
         "lon": [
          2.3244924701707954,
          2.327462798423509
         ],
         "mode": "lines",
         "showlegend": false,
         "text": "Saint-Lazare ↔ Havre-Caumartin (Métro 3)",
         "type": "scattermapbox"
        },
        {
         "hoverinfo": "text",
         "lat": [
          48.87496650103443,
          48.87875316404477
         ],
         "line": {
          "color": "#B6E880",
          "width": 2
         },
         "lon": [
          2.3244924701707954,
          2.32218591952051
         ],
         "mode": "lines",
         "showlegend": false,
         "text": "Saint-Lazare ↔ Europe (Métro 3)",
         "type": "scattermapbox"
        },
        {
         "hoverinfo": "text",
         "lat": [
          48.8838463907272,
          48.88284002257779
         ],
         "line": {
          "color": "#B6E880",
          "width": 2
         },
         "lon": [
          2.304673087584434,
          2.309487846960011
         ],
         "mode": "lines",
         "showlegend": false,
         "text": "Wagram ↔ Malesherbes (Métro 3)",
         "type": "scattermapbox"
        },
        {
         "hoverinfo": "text",
         "lat": [
          48.86524326053047,
          48.86720306822776
         ],
         "line": {
          "color": "#B6E880",
          "width": 2
         },
         "lon": [
          2.3747205969196896,
          2.364333297545428
         ],
         "mode": "lines",
         "showlegend": false,
         "text": "Parmentier ↔ République (Métro 3)",
         "type": "scattermapbox"
        },
        {
         "hoverinfo": "text",
         "lat": [
          48.88107318307563,
          48.88284002257779
         ],
         "line": {
          "color": "#B6E880",
          "width": 2
         },
         "lon": [
          2.315815092646378,
          2.309487846960011
         ],
         "mode": "lines",
         "showlegend": false,
         "text": "Villiers ↔ Malesherbes (Métro 3)",
         "type": "scattermapbox"
        },
        {
         "hoverinfo": "text",
         "lat": [
          48.88107318307563,
          48.87875316404477
         ],
         "line": {
          "color": "#B6E880",
          "width": 2
         },
         "lon": [
          2.315815092646378,
          2.32218591952051
         ],
         "mode": "lines",
         "showlegend": false,
         "text": "Villiers ↔ Europe (Métro 3)",
         "type": "scattermapbox"
        },
        {
         "hoverinfo": "text",
         "lat": [
          48.892206617614,
          48.89722831603318
         ],
         "line": {
          "color": "#B6E880",
          "width": 2
         },
         "lon": [
          2.28498169634032,
          2.28030375318625
         ],
         "mode": "lines",
         "showlegend": false,
         "text": "Anatole France ↔ Pont de Levallois - Bécon (Métro 3)",
         "type": "scattermapbox"
        },
        {
         "hoverinfo": "text",
         "lat": [
          48.87346783937801,
          48.87150983278418
         ],
         "line": {
          "color": "#B6E880",
          "width": 2
         },
         "lon": [
          2.327462798423509,
          2.331128974301561
         ],
         "mode": "lines",
         "showlegend": false,
         "text": "Havre-Caumartin ↔ Opéra (Métro 3)",
         "type": "scattermapbox"
        },
        {
         "hoverinfo": "text",
         "lat": [
          48.87184337222297,
          48.86842046799948
         ],
         "line": {
          "color": "#FF97FF",
          "width": 2
         },
         "lon": [
          2.4044981831688688,
          2.40160636134298
         ],
         "mode": "lines",
         "showlegend": false,
         "text": "Saint-Fargeau ↔ Pelleport (Métro 3B)",
         "type": "scattermapbox"
        },
        {
         "hoverinfo": "text",
         "lat": [
          48.87184337222297,
          48.87663999703494
         ],
         "line": {
          "color": "#FF97FF",
          "width": 2
         },
         "lon": [
          2.4044981831688688,
          2.4069512666209
         ],
         "mode": "lines",
         "showlegend": false,
         "text": "Saint-Fargeau ↔ Porte des Lilas (Métro 3B)",
         "type": "scattermapbox"
        },
        {
         "hoverinfo": "text",
         "lat": [
          48.865032564464,
          48.86842046799948
         ],
         "line": {
          "color": "#FF97FF",
          "width": 2
         },
         "lon": [
          2.398537305704572,
          2.40160636134298
         ],
         "mode": "lines",
         "showlegend": false,
         "text": "Gambetta ↔ Pelleport (Métro 3B)",
         "type": "scattermapbox"
        },
        {
         "hoverinfo": "text",
         "lat": [
          48.88340206048623,
          48.88724193064896
         ],
         "line": {
          "color": "#FECB52",
          "width": 2
         },
         "lon": [
          2.349629927853002,
          2.34958196802566
         ],
         "mode": "lines",
         "showlegend": false,
         "text": "Barbès - Rochechouart ↔ Château Rouge (Métro 4)",
         "type": "scattermapbox"
        },
        {
         "hoverinfo": "text",
         "lat": [
          48.88340206048623,
          48.879510553130615
         ],
         "line": {
          "color": "#FECB52",
          "width": 2
         },
         "lon": [
          2.349629927853002,
          2.356768884572096
         ],
         "mode": "lines",
         "showlegend": false,
         "text": "Barbès - Rochechouart ↔ Gare du Nord (Métro 4)",
         "type": "scattermapbox"
        },
        {
         "hoverinfo": "text",
         "lat": [
          48.88724193064896,
          48.89127969913649
         ],
         "line": {
          "color": "#FECB52",
          "width": 2
         },
         "lon": [
          2.34958196802566,
          2.3495451670385634
         ],
         "mode": "lines",
         "showlegend": false,
         "text": "Château Rouge ↔ Marcadet - Poissonniers (Métro 4)",
         "type": "scattermapbox"
        },
        {
         "hoverinfo": "text",
         "lat": [
          48.86370301202431,
          48.86252665962869
         ],
         "line": {
          "color": "#FECB52",
          "width": 2
         },
         "lon": [
          2.3489761968791085,
          2.34600573656331
         ],
         "mode": "lines",
         "showlegend": false,
         "text": "Etienne Marcel ↔ Les Halles (Métro 4)",
         "type": "scattermapbox"
        },
        {
         "hoverinfo": "text",
         "lat": [
          48.86370301202431,
          48.866077771215046
         ],
         "line": {
          "color": "#FECB52",
          "width": 2
         },
         "lon": [
          2.3489761968791085,
          2.352381731140252
         ],
         "mode": "lines",
         "showlegend": false,
         "text": "Etienne Marcel ↔ Réaumur - Sébastopol (Métro 4)",
         "type": "scattermapbox"
        },
        {
         "hoverinfo": "text",
         "lat": [
          48.87627821831841,
          48.879510553130615
         ],
         "line": {
          "color": "#FECB52",
          "width": 2
         },
         "lon": [
          2.3577495818204395,
          2.356768884572096
         ],
         "mode": "lines",
         "showlegend": false,
         "text": "Gare de l'Est ↔ Gare du Nord (Métro 4)",
         "type": "scattermapbox"
        },
        {
         "hoverinfo": "text",
         "lat": [
          48.87627821831841,
          48.87247308911766
         ],
         "line": {
          "color": "#FECB52",
          "width": 2
         },
         "lon": [
          2.3577495818204395,
          2.355901449780536
         ],
         "mode": "lines",
         "showlegend": false,
         "text": "Gare de l'Est ↔ Château d'Eau (Métro 4)",
         "type": "scattermapbox"
        },
        {
         "hoverinfo": "text",
         "lat": [
          48.89127969913649,
          48.8938152613519
         ],
         "line": {
          "color": "#FECB52",
          "width": 2
         },
         "lon": [
          2.3495451670385634,
          2.347794968187123
         ],
         "mode": "lines",
         "showlegend": false,
         "text": "Marcadet - Poissonniers ↔ Simplon (Métro 4)",
         "type": "scattermapbox"
        },
        {
         "hoverinfo": "text",
         "lat": [
          48.82339460262072,
          48.82815215770352
         ],
         "line": {
          "color": "#FECB52",
          "width": 2
         },
         "lon": [
          2.325623760353114,
          2.3271926250651647
         ],
         "mode": "lines",
         "showlegend": false,
         "text": "Porte d'Orléans ↔ Alésia (Métro 4)",
         "type": "scattermapbox"
        },
        {
         "hoverinfo": "text",
         "lat": [
          48.82339460262072,
          48.81847190007368
         ],
         "line": {
          "color": "#FECB52",
          "width": 2
         },
         "lon": [
          2.325623760353114,
          2.319523835754741
         ],
         "mode": "lines",
         "showlegend": false,
         "text": "Porte d'Orléans ↔ Mairie de Montrouge (Métro 4)",
         "type": "scattermapbox"
        },
        {
         "hoverinfo": "text",
         "lat": [
          48.84205232329236,
          48.83915635952557
         ],
         "line": {
          "color": "#FECB52",
          "width": 2
         },
         "lon": [
          2.3288628540691043,
          2.330466993719873
         ],
         "mode": "lines",
         "showlegend": false,
         "text": "Vavin ↔ Raspail (Métro 4)",
         "type": "scattermapbox"
        },
        {
         "hoverinfo": "text",
         "lat": [
          48.84205232329236,
          48.84385251452581
         ],
         "line": {
          "color": "#FECB52",
          "width": 2
         },
         "lon": [
          2.3288628540691043,
          2.3243294607791096
         ],
         "mode": "lines",
         "showlegend": false,
         "text": "Vavin ↔ Montparnasse Bienvenue (Métro 4)",
         "type": "scattermapbox"
        },
        {
         "hoverinfo": "text",
         "lat": [
          48.86252665962869,
          48.859661211559086
         ],
         "line": {
          "color": "#FECB52",
          "width": 2
         },
         "lon": [
          2.34600573656331,
          2.3466414308440138
         ],
         "mode": "lines",
         "showlegend": false,
         "text": "Les Halles ↔ Châtelet (Métro 4)",
         "type": "scattermapbox"
        },
        {
         "hoverinfo": "text",
         "lat": [
          48.831382009093616,
          48.83392232305997
         ],
         "line": {
          "color": "#FECB52",
          "width": 2
         },
         "lon": [
          2.32979034782274,
          2.332128160437612
         ],
         "mode": "lines",
         "showlegend": false,
         "text": "Mouton-Duvernet ↔ Denfert-Rochereau (Métro 4)",
         "type": "scattermapbox"
        },
        {
         "hoverinfo": "text",
         "lat": [
          48.831382009093616,
          48.82815215770352
         ],
         "line": {
          "color": "#FECB52",
          "width": 2
         },
         "lon": [
          2.32979034782274,
          2.3271926250651647
         ],
         "mode": "lines",
         "showlegend": false,
         "text": "Mouton-Duvernet ↔ Alésia (Métro 4)",
         "type": "scattermapbox"
        },
        {
         "hoverinfo": "text",
         "lat": [
          48.83915635952557,
          48.83392232305997
         ],
         "line": {
          "color": "#FECB52",
          "width": 2
         },
         "lon": [
          2.330466993719873,
          2.332128160437612
         ],
         "mode": "lines",
         "showlegend": false,
         "text": "Raspail ↔ Denfert-Rochereau (Métro 4)",
         "type": "scattermapbox"
        },
        {
         "hoverinfo": "text",
         "lat": [
          48.866077771215046,
          48.86962358263758
         ],
         "line": {
          "color": "#FECB52",
          "width": 2
         },
         "lon": [
          2.352381731140252,
          2.354491616563834
         ],
         "mode": "lines",
         "showlegend": false,
         "text": "Réaumur - Sébastopol ↔ Strasbourg - Saint-Denis (Métro 4)",
         "type": "scattermapbox"
        },
        {
         "hoverinfo": "text",
         "lat": [
          48.80354822259104,
          48.80979025430712
         ],
         "line": {
          "color": "#FECB52",
          "width": 2
         },
         "lon": [
          2.317458362049886,
          2.3174992240284045
         ],
         "mode": "lines",
         "showlegend": false,
         "text": "Bagneux - Lucie Aubrac ↔ Barbara (Métro 4)",
         "type": "scattermapbox"
        },
        {
         "hoverinfo": "text",
         "lat": [
          48.87247308911766,
          48.86962358263758
         ],
         "line": {
          "color": "#FECB52",
          "width": 2
         },
         "lon": [
          2.355901449780536,
          2.354491616563834
         ],
         "mode": "lines",
         "showlegend": false,
         "text": "Château d'Eau ↔ Strasbourg - Saint-Denis (Métro 4)",
         "type": "scattermapbox"
        },
        {
         "hoverinfo": "text",
         "lat": [
          48.85493384910671,
          48.85359407756809
         ],
         "line": {
          "color": "#FECB52",
          "width": 2
         },
         "lon": [
          2.3472322349319112,
          2.343991799033288
         ],
         "mode": "lines",
         "showlegend": false,
         "text": "Cité ↔ Saint-Michel (Métro 4)",
         "type": "scattermapbox"
        },
        {
         "hoverinfo": "text",
         "lat": [
          48.85493384910671,
          48.859661211559086
         ],
         "line": {
          "color": "#FECB52",
          "width": 2
         },
         "lon": [
          2.3472322349319112,
          2.3466414308440138
         ],
         "mode": "lines",
         "showlegend": false,
         "text": "Cité ↔ Châtelet (Métro 4)",
         "type": "scattermapbox"
        },
        {
         "hoverinfo": "text",
         "lat": [
          48.8938152613519,
          48.897525631278015
         ],
         "line": {
          "color": "#FECB52",
          "width": 2
         },
         "lon": [
          2.347794968187123,
          2.344624099102791
         ],
         "mode": "lines",
         "showlegend": false,
         "text": "Simplon ↔ Porte de Clignancourt (Métro 4)",
         "type": "scattermapbox"
        },
        {
         "hoverinfo": "text",
         "lat": [
          48.80979025430712,
          48.81847190007368
         ],
         "line": {
          "color": "#FECB52",
          "width": 2
         },
         "lon": [
          2.3174992240284045,
          2.319523835754741
         ],
         "mode": "lines",
         "showlegend": false,
         "text": "Barbara ↔ Mairie de Montrouge (Métro 4)",
         "type": "scattermapbox"
        },
        {
         "hoverinfo": "text",
         "lat": [
          48.84385251452581,
          48.84700665158937
         ],
         "line": {
          "color": "#FECB52",
          "width": 2
         },
         "lon": [
          2.3243294607791096,
          2.327054815066312
         ],
         "mode": "lines",
         "showlegend": false,
         "text": "Montparnasse Bienvenue ↔ Saint-Placide (Métro 4)",
         "type": "scattermapbox"
        },
        {
         "hoverinfo": "text",
         "lat": [
          48.84700665158937,
          48.85113858957915
         ],
         "line": {
          "color": "#FECB52",
          "width": 2
         },
         "lon": [
          2.327054815066312,
          2.330953550650454
         ],
         "mode": "lines",
         "showlegend": false,
         "text": "Saint-Placide ↔ Saint-Sulpice (Métro 4)",
         "type": "scattermapbox"
        },
        {
         "hoverinfo": "text",
         "lat": [
          48.85210334038093,
          48.85359407756809
         ],
         "line": {
          "color": "#FECB52",
          "width": 2
         },
         "lon": [
          2.339486020317896,
          2.343991799033288
         ],
         "mode": "lines",
         "showlegend": false,
         "text": "Odéon ↔ Saint-Michel (Métro 4)",
         "type": "scattermapbox"
        },
        {
         "hoverinfo": "text",
         "lat": [
          48.85210334038093,
          48.85367371343323
         ],
         "line": {
          "color": "#FECB52",
          "width": 2
         },
         "lon": [
          2.339486020317896,
          2.333987429134225
         ],
         "mode": "lines",
         "showlegend": false,
         "text": "Odéon ↔ Saint-Germain-des-Prés (Métro 4)",
         "type": "scattermapbox"
        },
        {
         "hoverinfo": "text",
         "lat": [
          48.85367371343323,
          48.85113858957915
         ],
         "line": {
          "color": "#FECB52",
          "width": 2
         },
         "lon": [
          2.333987429134225,
          2.330953550650454
         ],
         "mode": "lines",
         "showlegend": false,
         "text": "Saint-Germain-des-Prés ↔ Saint-Sulpice (Métro 4)",
         "type": "scattermapbox"
        },
        {
         "hoverinfo": "text",
         "lat": [
          48.893163974098265,
          48.8914957494373
         ],
         "line": {
          "color": "#636EFA",
          "width": 2
         },
         "lon": [
          2.413119553706935,
          2.403114154894396
         ],
         "mode": "lines",
         "showlegend": false,
         "text": "Eglise de Pantin ↔ Hoche (Métro 5)",
         "type": "scattermapbox"
        },
        {
         "hoverinfo": "text",
         "lat": [
          48.893163974098265,
          48.89560207433252
         ],
         "line": {
          "color": "#636EFA",
          "width": 2
         },
         "lon": [
          2.413119553706935,
          2.426308679232036
         ],
         "mode": "lines",
         "showlegend": false,
         "text": "Eglise de Pantin ↔ Bobigny-Pantin - Raymond Queneau (Métro 5)",
         "type": "scattermapbox"
        },
        {
         "hoverinfo": "text",
         "lat": [
          48.88302391342934,
          48.8841445128949
         ],
         "line": {
          "color": "#636EFA",
          "width": 2
         },
         "lon": [
          2.371438959985608,
          2.367348121277192
         ],
         "mode": "lines",
         "showlegend": false,
         "text": "Jaurès ↔ Stalingrad (Métro 5)",
         "type": "scattermapbox"
        },
        {
         "hoverinfo": "text",
         "lat": [
          48.88302391342934,
          48.88520088689033
         ],
         "line": {
          "color": "#636EFA",
          "width": 2
         },
         "lon": [
          2.371438959985608,
          2.3793117790181
         ],
         "mode": "lines",
         "showlegend": false,
         "text": "Jaurès ↔ Laumière (Métro 5)",
         "type": "scattermapbox"
        },
        {
         "hoverinfo": "text",
         "lat": [
          48.867687468165165,
          48.87066646803471
         ],
         "line": {
          "color": "#636EFA",
          "width": 2
         },
         "lon": [
          2.3640990472225725,
          2.3611315892483544
         ],
         "mode": "lines",
         "showlegend": false,
         "text": "République ↔ Jacques Bonsergent (Métro 5)",
         "type": "scattermapbox"
        },
        {
         "hoverinfo": "text",
         "lat": [
          48.867687468165165,
          48.86464456516527
         ],
         "line": {
          "color": "#636EFA",
          "width": 2
         },
         "lon": [
          2.3640990472225725,
          2.3686045625807752
         ],
         "mode": "lines",
         "showlegend": false,
         "text": "République ↔ Oberkampf (Métro 5)",
         "type": "scattermapbox"
        },
        {
         "hoverinfo": "text",
         "lat": [
          48.90636679503056,
          48.89560207433252
         ],
         "line": {
          "color": "#636EFA",
          "width": 2
         },
         "lon": [
          2.449301336646573,
          2.426308679232036
         ],
         "mode": "lines",
         "showlegend": false,
         "text": "Bobigny Pablo Picasso ↔ Bobigny-Pantin - Raymond Queneau (Métro 5)",
         "type": "scattermapbox"
        },
        {
         "hoverinfo": "text",
         "lat": [
          48.86464456516527,
          48.85987693786871
         ],
         "line": {
          "color": "#636EFA",
          "width": 2
         },
         "lon": [
          2.3686045625807752,
          2.371813630476951
         ],
         "mode": "lines",
         "showlegend": false,
         "text": "Oberkampf ↔ Richard-Lenoir (Métro 5)",
         "type": "scattermapbox"
        },
        {
         "hoverinfo": "text",
         "lat": [
          48.83096622708413,
          48.83559543123327
         ],
         "line": {
          "color": "#636EFA",
          "width": 2
         },
         "lon": [
          2.35559694336975,
          2.358468834639247
         ],
         "mode": "lines",
         "showlegend": false,
         "text": "Place d'Italie ↔ Campo-Formio (Métro 5)",
         "type": "scattermapbox"
        },
        {
         "hoverinfo": "text",
         "lat": [
          48.83847698406796,
          48.83559543123327
         ],
         "line": {
          "color": "#636EFA",
          "width": 2
         },
         "lon": [
          2.3608176665940044,
          2.358468834639247
         ],
         "mode": "lines",
         "showlegend": false,
         "text": "Saint-Marcel ↔ Campo-Formio (Métro 5)",
         "type": "scattermapbox"
        },
        {
         "hoverinfo": "text",
         "lat": [
          48.83847698406796,
          48.84229779662816
         ],
         "line": {
          "color": "#636EFA",
          "width": 2
         },
         "lon": [
          2.3608176665940044,
          2.3656078807625422
         ],
         "mode": "lines",
         "showlegend": false,
         "text": "Saint-Marcel ↔ Gare d'Austerlitz (Métro 5)",
         "type": "scattermapbox"
        },
        {
         "hoverinfo": "text",
         "lat": [
          48.85624405468632,
          48.85328747830434
         ],
         "line": {
          "color": "#636EFA",
          "width": 2
         },
         "lon": [
          2.370194668589752,
          2.368922075646989
         ],
         "mode": "lines",
         "showlegend": false,
         "text": "Bréguet-Sabin ↔ Bastille (Métro 5)",
         "type": "scattermapbox"
        },
        {
         "hoverinfo": "text",
         "lat": [
          48.85624405468632,
          48.85987693786871
         ],
         "line": {
          "color": "#636EFA",
          "width": 2
         },
         "lon": [
          2.370194668589752,
          2.371813630476951
         ],
         "mode": "lines",
         "showlegend": false,
         "text": "Bréguet-Sabin ↔ Richard-Lenoir (Métro 5)",
         "type": "scattermapbox"
        },
        {
         "hoverinfo": "text",
         "lat": [
          48.87616299446643,
          48.87968001223662
         ],
         "line": {
          "color": "#636EFA",
          "width": 2
         },
         "lon": [
          2.35806459441865,
          2.357342884924845
         ],
         "mode": "lines",
         "showlegend": false,
         "text": "Gare de l'Est ↔ Gare du Nord (Métro 5)",
         "type": "scattermapbox"
        },
        {
         "hoverinfo": "text",
         "lat": [
          48.87616299446643,
          48.87066646803471
         ],
         "line": {
          "color": "#636EFA",
          "width": 2
         },
         "lon": [
          2.35806459441865,
          2.3611315892483544
         ],
         "mode": "lines",
         "showlegend": false,
         "text": "Gare de l'Est ↔ Jacques Bonsergent (Métro 5)",
         "type": "scattermapbox"
        },
        {
         "hoverinfo": "text",
         "lat": [
          48.8914957494373,
          48.88845921134684
         ],
         "line": {
          "color": "#636EFA",
          "width": 2
         },
         "lon": [
          2.403114154894396,
          2.3921229723281483
         ],
         "mode": "lines",
         "showlegend": false,
         "text": "Hoche ↔ Porte de Pantin (Métro 5)",
         "type": "scattermapbox"
        },
        {
         "hoverinfo": "text",
         "lat": [
          48.88714990283661,
          48.88845921134684
         ],
         "line": {
          "color": "#636EFA",
          "width": 2
         },
         "lon": [
          2.3866765356019912,
          2.3921229723281483
         ],
         "mode": "lines",
         "showlegend": false,
         "text": "Ourcq ↔ Porte de Pantin (Métro 5)",
         "type": "scattermapbox"
        },
        {
         "hoverinfo": "text",
         "lat": [
          48.88714990283661,
          48.88520088689033
         ],
         "line": {
          "color": "#636EFA",
          "width": 2
         },
         "lon": [
          2.3866765356019912,
          2.3793117790181
         ],
         "mode": "lines",
         "showlegend": false,
         "text": "Ourcq ↔ Laumière (Métro 5)",
         "type": "scattermapbox"
        },
        {
         "hoverinfo": "text",
         "lat": [
          48.85328747830434,
          48.84649085420337
         ],
         "line": {
          "color": "#636EFA",
          "width": 2
         },
         "lon": [
          2.368922075646989,
          2.365992890937552
         ],
         "mode": "lines",
         "showlegend": false,
         "text": "Bastille ↔ Quai de la Rapée (Métro 5)",
         "type": "scattermapbox"
        },
        {
         "hoverinfo": "text",
         "lat": [
          48.87968001223662,
          48.8841445128949
         ],
         "line": {
          "color": "#636EFA",
          "width": 2
         },
         "lon": [
          2.357342884924845,
          2.367348121277192
         ],
         "mode": "lines",
         "showlegend": false,
         "text": "Gare du Nord ↔ Stalingrad (Métro 5)",
         "type": "scattermapbox"
        },
        {
         "hoverinfo": "text",
         "lat": [
          48.84229779662816,
          48.84649085420337
         ],
         "line": {
          "color": "#636EFA",
          "width": 2
         },
         "lon": [
          2.3656078807625422,
          2.365992890937552
         ],
         "mode": "lines",
         "showlegend": false,
         "text": "Gare d'Austerlitz ↔ Quai de la Rapée (Métro 5)",
         "type": "scattermapbox"
        },
        {
         "hoverinfo": "text",
         "lat": [
          48.8668483434173,
          48.86346147371448
         ],
         "line": {
          "color": "#EF553B",
          "width": 2
         },
         "lon": [
          2.2900328376074373,
          2.287625377853519
         ],
         "mode": "lines",
         "showlegend": false,
         "text": "Boissière ↔ Trocadéro (Métro 6)",
         "type": "scattermapbox"
        },
        {
         "hoverinfo": "text",
         "lat": [
          48.8668483434173,
          48.87148941293503
         ],
         "line": {
          "color": "#EF553B",
          "width": 2
         },
         "lon": [
          2.2900328376074373,
          2.293146137248626
         ],
         "mode": "lines",
         "showlegend": false,
         "text": "Boissière ↔ Kléber (Métro 6)",
         "type": "scattermapbox"
        },
        {
         "hoverinfo": "text",
         "lat": [
          48.87383861478572,
          48.87148941293503
         ],
         "line": {
          "color": "#EF553B",
          "width": 2
         },
         "lon": [
          2.294995735441831,
          2.293146137248626
         ],
         "mode": "lines",
         "showlegend": false,
         "text": "Charles de Gaulle - Etoile ↔ Kléber (Métro 6)",
         "type": "scattermapbox"
        },
        {
         "hoverinfo": "text",
         "lat": [
          48.830991153013954,
          48.82986001331238
         ],
         "line": {
          "color": "#EF553B",
          "width": 2
         },
         "lon": [
          2.3560502682264337,
          2.350611225926166
         ],
         "mode": "lines",
         "showlegend": false,
         "text": "Place d'Italie ↔ Corvisart (Métro 6)",
         "type": "scattermapbox"
        },
        {
         "hoverinfo": "text",
         "lat": [
          48.830991153013954,
          48.83318160406702
         ],
         "line": {
          "color": "#EF553B",
          "width": 2
         },
         "lon": [
          2.3560502682264337,
          2.362857958087621
         ],
         "mode": "lines",
         "showlegend": false,
         "text": "Place d'Italie ↔ Nationale (Métro 6)",
         "type": "scattermapbox"
        },
        {
         "hoverinfo": "text",
         "lat": [
          48.84213060781436,
          48.84098044632817
         ],
         "line": {
          "color": "#EF553B",
          "width": 2
         },
         "lon": [
          2.3212187199903807,
          2.3253749636089105
         ],
         "mode": "lines",
         "showlegend": false,
         "text": "Montparnasse Bienvenue ↔ Edgar Quinet (Métro 6)",
         "type": "scattermapbox"
        },
        {
         "hoverinfo": "text",
         "lat": [
          48.84213060781436,
          48.842482718285865
         ],
         "line": {
          "color": "#EF553B",
          "width": 2
         },
         "lon": [
          2.3212187199903807,
          2.312792651441268
         ],
         "mode": "lines",
         "showlegend": false,
         "text": "Montparnasse Bienvenue ↔ Pasteur (Métro 6)",
         "type": "scattermapbox"
        },
        {
         "hoverinfo": "text",
         "lat": [
          48.84789550545761,
          48.84510324750185
         ],
         "line": {
          "color": "#EF553B",
          "width": 2
         },
         "lon": [
          2.3958598043279085,
          2.401274538822374
         ],
         "mode": "lines",
         "showlegend": false,
         "text": "Nation ↔ Picpus (Métro 6)",
         "type": "scattermapbox"
        },
        {
         "hoverinfo": "text",
         "lat": [
          48.84510324750185,
          48.84142733223358
         ],
         "line": {
          "color": "#EF553B",
          "width": 2
         },
         "lon": [
          2.401274538822374,
          2.400867131995259
         ],
         "mode": "lines",
         "showlegend": false,
         "text": "Picpus ↔ Bel-Air (Métro 6)",
         "type": "scattermapbox"
        },
        {
         "hoverinfo": "text",
         "lat": [
          48.8390661288004,
          48.84098044632817
         ],
         "line": {
          "color": "#EF553B",
          "width": 2
         },
         "lon": [
          2.33041447123548,
          2.3253749636089105
         ],
         "mode": "lines",
         "showlegend": false,
         "text": "Raspail ↔ Edgar Quinet (Métro 6)",
         "type": "scattermapbox"
        },
        {
         "hoverinfo": "text",
         "lat": [
          48.8390661288004,
          48.83424986732888
         ],
         "line": {
          "color": "#EF553B",
          "width": 2
         },
         "lon": [
          2.33041447123548,
          2.332803776289825
         ],
         "mode": "lines",
         "showlegend": false,
         "text": "Raspail ↔ Denfert-Rochereau (Métro 6)",
         "type": "scattermapbox"
        },
        {
         "hoverinfo": "text",
         "lat": [
          48.86346147371448,
          48.85751508962033
         ],
         "line": {
          "color": "#EF553B",
          "width": 2
         },
         "lon": [
          2.287625377853519,
          2.285839418881462
         ],
         "mode": "lines",
         "showlegend": false,
         "text": "Trocadéro ↔ Passy (Métro 6)",
         "type": "scattermapbox"
        },
        {
         "hoverinfo": "text",
         "lat": [
          48.839537421644565,
          48.84142733223358
         ],
         "line": {
          "color": "#EF553B",
          "width": 2
         },
         "lon": [
          2.396146067915452,
          2.400867131995259
         ],
         "mode": "lines",
         "showlegend": false,
         "text": "Daumesnil ↔ Bel-Air (Métro 6)",
         "type": "scattermapbox"
        },
        {
         "hoverinfo": "text",
         "lat": [
          48.839537421644565,
          48.83903652832887
         ],
         "line": {
          "color": "#EF553B",
          "width": 2
         },
         "lon": [
          2.396146067915452,
          2.3895997700798097
         ],
         "mode": "lines",
         "showlegend": false,
         "text": "Daumesnil ↔ Dugommier (Métro 6)",
         "type": "scattermapbox"
        },
        {
         "hoverinfo": "text",
         "lat": [
          48.83903652832887,
          48.840176028121896
         ],
         "line": {
          "color": "#EF553B",
          "width": 2
         },
         "lon": [
          2.3895997700798097,
          2.379463070185257
         ],
         "mode": "lines",
         "showlegend": false,
         "text": "Dugommier ↔ Bercy (Métro 6)",
         "type": "scattermapbox"
        },
        {
         "hoverinfo": "text",
         "lat": [
          48.83424986732888,
          48.832916006219165
         ],
         "line": {
          "color": "#EF553B",
          "width": 2
         },
         "lon": [
          2.332803776289825,
          2.337154370925007
         ],
         "mode": "lines",
         "showlegend": false,
         "text": "Denfert-Rochereau ↔ Saint-Jacques (Métro 6)",
         "type": "scattermapbox"
        },
        {
         "hoverinfo": "text",
         "lat": [
          48.840176028121896,
          48.8370742706096
         ],
         "line": {
          "color": "#EF553B",
          "width": 2
         },
         "lon": [
          2.379463070185257,
          2.372766248948172
         ],
         "mode": "lines",
         "showlegend": false,
         "text": "Bercy ↔ Quai de la Gare (Métro 6)",
         "type": "scattermapbox"
        },
        {
         "hoverinfo": "text",
         "lat": [
          48.842482718285865,
          48.84564768265073
         ],
         "line": {
          "color": "#EF553B",
          "width": 2
         },
         "lon": [
          2.312792651441268,
          2.309529610430393
         ],
         "mode": "lines",
         "showlegend": false,
         "text": "Pasteur ↔ Sèvres-Lecourbe (Métro 6)",
         "type": "scattermapbox"
        },
        {
         "hoverinfo": "text",
         "lat": [
          48.85392536837598,
          48.85751508962033
         ],
         "line": {
          "color": "#EF553B",
          "width": 2
         },
         "lon": [
          2.2894007376346,
          2.285839418881462
         ],
         "mode": "lines",
         "showlegend": false,
         "text": "Bir-Hakeim ↔ Passy (Métro 6)",
         "type": "scattermapbox"
        },
        {
         "hoverinfo": "text",
         "lat": [
          48.85392536837598,
          48.8504116258067
         ],
         "line": {
          "color": "#EF553B",
          "width": 2
         },
         "lon": [
          2.2894007376346,
          2.293663726731039
         ],
         "mode": "lines",
         "showlegend": false,
         "text": "Bir-Hakeim ↔ Dupleix (Métro 6)",
         "type": "scattermapbox"
        },
        {
         "hoverinfo": "text",
         "lat": [
          48.82986001331238,
          48.83117023524584
         ],
         "line": {
          "color": "#EF553B",
          "width": 2
         },
         "lon": [
          2.350611225926166,
          2.3434974927179884
         ],
         "mode": "lines",
         "showlegend": false,
         "text": "Corvisart ↔ Glacière (Métro 6)",
         "type": "scattermapbox"
        },
        {
         "hoverinfo": "text",
         "lat": [
          48.84754311219352,
          48.84876544812232
         ],
         "line": {
          "color": "#EF553B",
          "width": 2
         },
         "lon": [
          2.302941728337612,
          2.298957096977008
         ],
         "mode": "lines",
         "showlegend": false,
         "text": "Cambronne ↔ La Motte-Picquet - Grenelle (Métro 6)",
         "type": "scattermapbox"
        },
        {
         "hoverinfo": "text",
         "lat": [
          48.84754311219352,
          48.84564768265073
         ],
         "line": {
          "color": "#EF553B",
          "width": 2
         },
         "lon": [
          2.302941728337612,
          2.309529610430393
         ],
         "mode": "lines",
         "showlegend": false,
         "text": "Cambronne ↔ Sèvres-Lecourbe (Métro 6)",
         "type": "scattermapbox"
        },
        {
         "hoverinfo": "text",
         "lat": [
          48.83117023524584,
          48.832916006219165
         ],
         "line": {
          "color": "#EF553B",
          "width": 2
         },
         "lon": [
          2.3434974927179884,
          2.337154370925007
         ],
         "mode": "lines",
         "showlegend": false,
         "text": "Glacière ↔ Saint-Jacques (Métro 6)",
         "type": "scattermapbox"
        },
        {
         "hoverinfo": "text",
         "lat": [
          48.84876544812232,
          48.8504116258067
         ],
         "line": {
          "color": "#EF553B",
          "width": 2
         },
         "lon": [
          2.298957096977008,
          2.293663726731039
         ],
         "mode": "lines",
         "showlegend": false,
         "text": "La Motte-Picquet - Grenelle ↔ Dupleix (Métro 6)",
         "type": "scattermapbox"
        },
        {
         "hoverinfo": "text",
         "lat": [
          48.8370742706096,
          48.83494516788824
         ],
         "line": {
          "color": "#EF553B",
          "width": 2
         },
         "lon": [
          2.372766248948172,
          2.3680951237726693
         ],
         "mode": "lines",
         "showlegend": false,
         "text": "Quai de la Gare ↔ Chevaleret (Métro 6)",
         "type": "scattermapbox"
        },
        {
         "hoverinfo": "text",
         "lat": [
          48.83494516788824,
          48.83318160406702
         ],
         "line": {
          "color": "#EF553B",
          "width": 2
         },
         "lon": [
          2.3680951237726693,
          2.362857958087621
         ],
         "mode": "lines",
         "showlegend": false,
         "text": "Chevaleret ↔ Nationale (Métro 6)",
         "type": "scattermapbox"
        },
        {
         "hoverinfo": "text",
         "lat": [
          48.84022624851393,
          48.842666385642886
         ],
         "line": {
          "color": "#00CC96",
          "width": 2
         },
         "lon": [
          2.351626572605499,
          2.3521548685787708
         ],
         "mode": "lines",
         "showlegend": false,
         "text": "Censier - Daubenton ↔ Place Monge (Métro 7)",
         "type": "scattermapbox"
        },
        {
         "hoverinfo": "text",
         "lat": [
          48.84022624851393,
          48.83589170669027
         ],
         "line": {
          "color": "#00CC96",
          "width": 2
         },
         "lon": [
          2.351626572605499,
          2.3525311653622043
         ],
         "mode": "lines",
         "showlegend": false,
         "text": "Censier - Daubenton ↔ Les Gobelins (Métro 7)",
         "type": "scattermapbox"
        },
        {
         "hoverinfo": "text",
         "lat": [
          48.87313420577469,
          48.87030303390994
         ],
         "line": {
          "color": "#00CC96",
          "width": 2
         },
         "lon": [
          2.333738594408701,
          2.3324387808144875
         ],
         "mode": "lines",
         "showlegend": false,
         "text": "Chaussée d'Antin - La Fayette ↔ Opéra (Métro 7)",
         "type": "scattermapbox"
        },
        {
         "hoverinfo": "text",
         "lat": [
          48.87313420577469,
          48.87485179367072
         ],
         "line": {
          "color": "#00CC96",
          "width": 2
         },
         "lon": [
          2.333738594408701,
          2.340206459456337
         ],
         "mode": "lines",
         "showlegend": false,
         "text": "Chaussée d'Antin - La Fayette ↔ Le Peletier (Métro 7)",
         "type": "scattermapbox"
        },
        {
         "hoverinfo": "text",
         "lat": [
          48.87627121454162,
          48.87844145573239
         ],
         "line": {
          "color": "#00CC96",
          "width": 2
         },
         "lon": [
          2.358120525273069,
          2.3620179355106075
         ],
         "mode": "lines",
         "showlegend": false,
         "text": "Gare de l'Est ↔ Château Landon (Métro 7)",
         "type": "scattermapbox"
        },
        {
         "hoverinfo": "text",
         "lat": [
          48.87627121454162,
          48.87716484925024
         ],
         "line": {
          "color": "#00CC96",
          "width": 2
         },
         "lon": [
          2.358120525273069,
          2.3487397513900734
         ],
         "mode": "lines",
         "showlegend": false,
         "text": "Gare de l'Est ↔ Poissonnière (Métro 7)",
         "type": "scattermapbox"
        },
        {
         "hoverinfo": "text",
         "lat": [
          48.811210093393306,
          48.81583650099709
         ],
         "line": {
          "color": "#00CC96",
          "width": 2
         },
         "lon": [
          2.383498053635828,
          2.377246886036494
         ],
         "mode": "lines",
         "showlegend": false,
         "text": "Mairie d'Ivry ↔ Pierre et Marie Curie (Métro 7)",
         "type": "scattermapbox"
        },
        {
         "hoverinfo": "text",
         "lat": [
          48.86268399776967,
          48.86588028991413
         ],
         "line": {
          "color": "#00CC96",
          "width": 2
         },
         "lon": [
          2.337007354765684,
          2.334417535966556
         ],
         "mode": "lines",
         "showlegend": false,
         "text": "Palais Royal - Musée du Louvre ↔ Pyramides (Métro 7)",
         "type": "scattermapbox"
        },
        {
         "hoverinfo": "text",
         "lat": [
          48.86268399776967,
          48.85854633926832
         ],
         "line": {
          "color": "#00CC96",
          "width": 2
         },
         "lon": [
          2.337007354765684,
          2.341776749148542
         ],
         "mode": "lines",
         "showlegend": false,
         "text": "Palais Royal - Musée du Louvre ↔ Pont Neuf (Métro 7)",
         "type": "scattermapbox"
        },
        {
         "hoverinfo": "text",
         "lat": [
          48.85854633926832,
          48.85695346078533
         ],
         "line": {
          "color": "#00CC96",
          "width": 2
         },
         "lon": [
          2.341776749148542,
          2.3481609912345776
         ],
         "mode": "lines",
         "showlegend": false,
         "text": "Pont Neuf ↔ Châtelet (Métro 7)",
         "type": "scattermapbox"
        },
        {
         "hoverinfo": "text",
         "lat": [
          48.89780269235572,
          48.89467266005628
         ],
         "line": {
          "color": "#00CC96",
          "width": 2
         },
         "lon": [
          2.385869033143345,
          2.382291557164633
         ],
         "mode": "lines",
         "showlegend": false,
         "text": "Porte de la Villette ↔ Corentin Cariou (Métro 7)",
         "type": "scattermapbox"
        },
        {
         "hoverinfo": "text",
         "lat": [
          48.89780269235572,
          48.90375706036556
         ],
         "line": {
          "color": "#00CC96",
          "width": 2
         },
         "lon": [
          2.385869033143345,
          2.3922205712292195
         ],
         "mode": "lines",
         "showlegend": false,
         "text": "Porte de la Villette ↔ Aubervilliers-Pantin Quatre Chemins (Métro 7)",
         "type": "scattermapbox"
        },
        {
         "hoverinfo": "text",
         "lat": [
          48.80436739901952,
          48.81025257278989
         ],
         "line": {
          "color": "#00CC96",
          "width": 2
         },
         "lon": [
          2.364068547658874,
          2.362130413802561
         ],
         "mode": "lines",
         "showlegend": false,
         "text": "Villejuif Léo Lagrange ↔ Le Kremlin-Bicêtre (Métro 7)",
         "type": "scattermapbox"
        },
        {
         "hoverinfo": "text",
         "lat": [
          48.80436739901952,
          48.79631793416014
         ],
         "line": {
          "color": "#00CC96",
          "width": 2
         },
         "lon": [
          2.364068547658874,
          2.3683316015776423
         ],
         "mode": "lines",
         "showlegend": false,
         "text": "Villejuif Léo Lagrange ↔ Villejuif Paul Vaillant-Couturier (Métro 7)",
         "type": "scattermapbox"
        },
        {
         "hoverinfo": "text",
         "lat": [
          48.79631793416014,
          48.78753717099888
         ],
         "line": {
          "color": "#00CC96",
          "width": 2
         },
         "lon": [
          2.3683316015776423,
          2.36783901176962
         ],
         "mode": "lines",
         "showlegend": false,
         "text": "Villejuif Paul Vaillant-Couturier ↔ Villejuif - Louis Aragon (Métro 7)",
         "type": "scattermapbox"
        },
        {
         "hoverinfo": "text",
         "lat": [
          48.89467266005628,
          48.890814345621656
         ],
         "line": {
          "color": "#00CC96",
          "width": 2
         },
         "lon": [
          2.382291557164633,
          2.3770380600019925
         ],
         "mode": "lines",
         "showlegend": false,
         "text": "Corentin Cariou ↔ Crimée (Métro 7)",
         "type": "scattermapbox"
        },
        {
         "hoverinfo": "text",
         "lat": [
          48.92024579662936,
          48.91475665506255
         ],
         "line": {
          "color": "#00CC96",
          "width": 2
         },
         "lon": [
          2.4102214036405085,
          2.404075377271855
         ],
         "mode": "lines",
         "showlegend": false,
         "text": "La Courneuve - 8 Mai 1945 ↔ Fort d'Aubervilliers (Métro 7)",
         "type": "scattermapbox"
        },
        {
         "hoverinfo": "text",
         "lat": [
          48.88124182075271,
          48.87844145573239
         ],
         "line": {
          "color": "#00CC96",
          "width": 2
         },
         "lon": [
          2.3643562491890786,
          2.3620179355106075
         ],
         "mode": "lines",
         "showlegend": false,
         "text": "Louis Blanc ↔ Château Landon (Métro 7)",
         "type": "scattermapbox"
        },
        {
         "hoverinfo": "text",
         "lat": [
          48.88124182075271,
          48.88437303056126
         ],
         "line": {
          "color": "#00CC96",
          "width": 2
         },
         "lon": [
          2.3643562491890786,
          2.3688985490576733
         ],
         "mode": "lines",
         "showlegend": false,
         "text": "Louis Blanc ↔ Stalingrad (Métro 7)",
         "type": "scattermapbox"
        },
        {
         "hoverinfo": "text",
         "lat": [
          48.82214950607496,
          48.81910659655869
         ],
         "line": {
          "color": "#00CC96",
          "width": 2
         },
         "lon": [
          2.358412946155939,
          2.3595297331071694
         ],
         "mode": "lines",
         "showlegend": false,
         "text": "Maison Blanche ↔ Porte d'Italie (Métro 7)",
         "type": "scattermapbox"
        },
        {
         "hoverinfo": "text",
         "lat": [
          48.82214950607496,
          48.82615323734341
         ],
         "line": {
          "color": "#00CC96",
          "width": 2
         },
         "lon": [
          2.358412946155939,
          2.357018567738162
         ],
         "mode": "lines",
         "showlegend": false,
         "text": "Maison Blanche ↔ Tolbiac (Métro 7)",
         "type": "scattermapbox"
        },
        {
         "hoverinfo": "text",
         "lat": [
          48.83154938471729,
          48.83589170669027
         ],
         "line": {
          "color": "#00CC96",
          "width": 2
         },
         "lon": [
          2.355330902236442,
          2.3525311653622043
         ],
         "mode": "lines",
         "showlegend": false,
         "text": "Place d'Italie ↔ Les Gobelins (Métro 7)",
         "type": "scattermapbox"
        },
        {
         "hoverinfo": "text",
         "lat": [
          48.83154938471729,
          48.82615323734341
         ],
         "line": {
          "color": "#00CC96",
          "width": 2
         },
         "lon": [
          2.355330902236442,
          2.357018567738162
         ],
         "mode": "lines",
         "showlegend": false,
         "text": "Place d'Italie ↔ Tolbiac (Métro 7)",
         "type": "scattermapbox"
        },
        {
         "hoverinfo": "text",
         "lat": [
          48.86588028991413,
          48.87030303390994
         ],
         "line": {
          "color": "#00CC96",
          "width": 2
         },
         "lon": [
          2.334417535966556,
          2.3324387808144875
         ],
         "mode": "lines",
         "showlegend": false,
         "text": "Pyramides ↔ Opéra (Métro 7)",
         "type": "scattermapbox"
        },
        {
         "hoverinfo": "text",
         "lat": [
          48.85695346078533,
          48.85341474936241
         ],
         "line": {
          "color": "#00CC96",
          "width": 2
         },
         "lon": [
          2.3481609912345776,
          2.357349968447059
         ],
         "mode": "lines",
         "showlegend": false,
         "text": "Châtelet ↔ Pont Marie (Cité des Arts) (Métro 7)",
         "type": "scattermapbox"
        },
        {
         "hoverinfo": "text",
         "lat": [
          48.890814345621656,
          48.88810829453359
         ],
         "line": {
          "color": "#00CC96",
          "width": 2
         },
         "lon": [
          2.3770380600019925,
          2.373764152701256
         ],
         "mode": "lines",
         "showlegend": false,
         "text": "Crimée ↔ Riquet (Métro 7)",
         "type": "scattermapbox"
        },
        {
         "hoverinfo": "text",
         "lat": [
          48.84596333903808,
          48.842666385642886
         ],
         "line": {
          "color": "#00CC96",
          "width": 2
         },
         "lon": [
          2.354798309820857,
          2.3521548685787708
         ],
         "mode": "lines",
         "showlegend": false,
         "text": "Jussieu ↔ Place Monge (Métro 7)",
         "type": "scattermapbox"
        },
        {
         "hoverinfo": "text",
         "lat": [
          48.84596333903808,
          48.85120791254347
         ],
         "line": {
          "color": "#00CC96",
          "width": 2
         },
         "lon": [
          2.354798309820857,
          2.3617517381263218
         ],
         "mode": "lines",
         "showlegend": false,
         "text": "Jussieu ↔ Sully - Morland (Métro 7)",
         "type": "scattermapbox"
        },
        {
         "hoverinfo": "text",
         "lat": [
          48.81025257278989,
          48.81910659655869
         ],
         "line": {
          "color": "#00CC96",
          "width": 2
         },
         "lon": [
          2.362130413802561,
          2.3595297331071694
         ],
         "mode": "lines",
         "showlegend": false,
         "text": "Le Kremlin-Bicêtre ↔ Porte d'Italie (Métro 7)",
         "type": "scattermapbox"
        },
        {
         "hoverinfo": "text",
         "lat": [
          48.81583650099709,
          48.82135298833688
         ],
         "line": {
          "color": "#00CC96",
          "width": 2
         },
         "lon": [
          2.377246886036494,
          2.369294978223312
         ],
         "mode": "lines",
         "showlegend": false,
         "text": "Pierre et Marie Curie ↔ Porte d'Ivry (Métro 7)",
         "type": "scattermapbox"
        },
        {
         "hoverinfo": "text",
         "lat": [
          48.82005592914816,
          48.82135298833688
         ],
         "line": {
          "color": "#00CC96",
          "width": 2
         },
         "lon": [
          2.3646785940494577,
          2.369294978223312
         ],
         "mode": "lines",
         "showlegend": false,
         "text": "Porte de Choisy ↔ Porte d'Ivry (Métro 7)",
         "type": "scattermapbox"
        },
        {
         "hoverinfo": "text",
         "lat": [
          48.82005592914816,
          48.81910659655869
         ],
         "line": {
          "color": "#00CC96",
          "width": 2
         },
         "lon": [
          2.3646785940494577,
          2.3595297331071694
         ],
         "mode": "lines",
         "showlegend": false,
         "text": "Porte de Choisy ↔ Porte d'Italie (Métro 7)",
         "type": "scattermapbox"
        },
        {
         "hoverinfo": "text",
         "lat": [
          48.88810829453359,
          48.88437303056126
         ],
         "line": {
          "color": "#00CC96",
          "width": 2
         },
         "lon": [
          2.373764152701256,
          2.3688985490576733
         ],
         "mode": "lines",
         "showlegend": false,
         "text": "Riquet ↔ Stalingrad (Métro 7)",
         "type": "scattermapbox"
        },
        {
         "hoverinfo": "text",
         "lat": [
          48.87604838013132,
          48.87485179367072
         ],
         "line": {
          "color": "#00CC96",
          "width": 2
         },
         "lon": [
          2.344383883779656,
          2.340206459456337
         ],
         "mode": "lines",
         "showlegend": false,
         "text": "Cadet ↔ Le Peletier (Métro 7)",
         "type": "scattermapbox"
        },
        {
         "hoverinfo": "text",
         "lat": [
          48.87604838013132,
          48.87716484925024
         ],
         "line": {
          "color": "#00CC96",
          "width": 2
         },
         "lon": [
          2.344383883779656,
          2.3487397513900734
         ],
         "mode": "lines",
         "showlegend": false,
         "text": "Cadet ↔ Poissonnière (Métro 7)",
         "type": "scattermapbox"
        },
        {
         "hoverinfo": "text",
         "lat": [
          48.91475665506255,
          48.90375706036556
         ],
         "line": {
          "color": "#00CC96",
          "width": 2
         },
         "lon": [
          2.404075377271855,
          2.3922205712292195
         ],
         "mode": "lines",
         "showlegend": false,
         "text": "Fort d'Aubervilliers ↔ Aubervilliers-Pantin Quatre Chemins (Métro 7)",
         "type": "scattermapbox"
        },
        {
         "hoverinfo": "text",
         "lat": [
          48.85341474936241,
          48.85120791254347
         ],
         "line": {
          "color": "#00CC96",
          "width": 2
         },
         "lon": [
          2.357349968447059,
          2.3617517381263218
         ],
         "mode": "lines",
         "showlegend": false,
         "text": "Pont Marie (Cité des Arts) ↔ Sully - Morland (Métro 7)",
         "type": "scattermapbox"
        },
        {
         "hoverinfo": "text",
         "lat": [
          48.879534991268365,
          48.87693859004261
         ],
         "line": {
          "color": "#AB63FA",
          "width": 2
         },
         "lon": [
          2.388900951315739,
          2.392959616507311
         ],
         "mode": "lines",
         "showlegend": false,
         "text": "Botzaris ↔ Place des Fêtes (Métro 7B)",
         "type": "scattermapbox"
        },
        {
         "hoverinfo": "text",
         "lat": [
          48.879534991268365,
          48.88194921492064
         ],
         "line": {
          "color": "#AB63FA",
          "width": 2
         },
         "lon": [
          2.388900951315739,
          2.393228471227492
         ],
         "mode": "lines",
         "showlegend": false,
         "text": "Botzaris ↔ Danube (Métro 7B)",
         "type": "scattermapbox"
        },
        {
         "hoverinfo": "text",
         "lat": [
          48.879534991268365,
          48.87849908839857
         ],
         "line": {
          "color": "#AB63FA",
          "width": 2
         },
         "lon": [
          2.388900951315739,
          2.381569842088008
         ],
         "mode": "lines",
         "showlegend": false,
         "text": "Botzaris ↔ Buttes Chaumont (Métro 7B)",
         "type": "scattermapbox"
        },
        {
         "hoverinfo": "text",
         "lat": [
          48.88194921492064,
          48.8801595806643
         ],
         "line": {
          "color": "#AB63FA",
          "width": 2
         },
         "lon": [
          2.393228471227492,
          2.398580770693528
         ],
         "mode": "lines",
         "showlegend": false,
         "text": "Danube ↔ Pré-Saint-Gervais (Métro 7B)",
         "type": "scattermapbox"
        },
        {
         "hoverinfo": "text",
         "lat": [
          48.88234423020823,
          48.880789805531926
         ],
         "line": {
          "color": "#AB63FA",
          "width": 2
         },
         "lon": [
          2.370451734004561,
          2.374152140698752
         ],
         "mode": "lines",
         "showlegend": false,
         "text": "Jaurès ↔ Bolivar (Métro 7B)",
         "type": "scattermapbox"
        },
        {
         "hoverinfo": "text",
         "lat": [
          48.88234423020823,
          48.88118341152446
         ],
         "line": {
          "color": "#AB63FA",
          "width": 2
         },
         "lon": [
          2.370451734004561,
          2.364365143550256
         ],
         "mode": "lines",
         "showlegend": false,
         "text": "Jaurès ↔ Louis Blanc (Métro 7B)",
         "type": "scattermapbox"
        },
        {
         "hoverinfo": "text",
         "lat": [
          48.87849908839857,
          48.880789805531926
         ],
         "line": {
          "color": "#AB63FA",
          "width": 2
         },
         "lon": [
          2.381569842088008,
          2.374152140698752
         ],
         "mode": "lines",
         "showlegend": false,
         "text": "Buttes Chaumont ↔ Bolivar (Métro 7B)",
         "type": "scattermapbox"
        },
        {
         "hoverinfo": "text",
         "lat": [
          48.841024160993214,
          48.84268433479664
         ],
         "line": {
          "color": "#FFA15A",
          "width": 2
         },
         "lon": [
          2.2879184311245595,
          2.2918472203679703
         ],
         "mode": "lines",
         "showlegend": false,
         "text": "Boucicaut ↔ Félix Faure (Métro 8)",
         "type": "scattermapbox"
        },
        {
         "hoverinfo": "text",
         "lat": [
          48.841024160993214,
          48.83866086365992
         ],
         "line": {
          "color": "#FFA15A",
          "width": 2
         },
         "lon": [
          2.2879184311245595,
          2.2822419598550767
         ],
         "mode": "lines",
         "showlegend": false,
         "text": "Boucicaut ↔ Lourmel (Métro 8)",
         "type": "scattermapbox"
        },
        {
         "hoverinfo": "text",
         "lat": [
          48.86652125193945,
          48.86956561611772
         ],
         "line": {
          "color": "#FFA15A",
          "width": 2
         },
         "lon": [
          2.3220315426557194,
          2.3260272117729994
         ],
         "mode": "lines",
         "showlegend": false,
         "text": "Concorde ↔ Madeleine (Métro 8)",
         "type": "scattermapbox"
        },
        {
         "hoverinfo": "text",
         "lat": [
          48.86652125193945,
          48.86109201138112
         ],
         "line": {
          "color": "#FFA15A",
          "width": 2
         },
         "lon": [
          2.3220315426557194,
          2.3146326604445164
         ],
         "mode": "lines",
         "showlegend": false,
         "text": "Concorde ↔ Invalides (Métro 8)",
         "type": "scattermapbox"
        },
        {
         "hoverinfo": "text",
         "lat": [
          48.85486175512232,
          48.85766922956403
         ],
         "line": {
          "color": "#FFA15A",
          "width": 2
         },
         "lon": [
          2.3064410394306907,
          2.310588789873988
         ],
         "mode": "lines",
         "showlegend": false,
         "text": "Ecole Militaire ↔ La Tour-Maubourg (Métro 8)",
         "type": "scattermapbox"
        },
        {
         "hoverinfo": "text",
         "lat": [
          48.85486175512232,
          48.84950618174656
         ],
         "line": {
          "color": "#FFA15A",
          "width": 2
         },
         "lon": [
          2.3064410394306907,
          2.298745444388579
         ],
         "mode": "lines",
         "showlegend": false,
         "text": "Ecole Militaire ↔ La Motte-Picquet - Grenelle (Métro 8)",
         "type": "scattermapbox"
        },
        {
         "hoverinfo": "text",
         "lat": [
          48.814758684006726,
          48.82125590204953
         ],
         "line": {
          "color": "#FFA15A",
          "width": 2
         },
         "lon": [
          2.422322751702586,
          2.413847237068526
         ],
         "mode": "lines",
         "showlegend": false,
         "text": "Ecole Vétérinaire de Maisons-Alfort ↔ Charenton - Ecoles (Métro 8)",
         "type": "scattermapbox"
        },
        {
         "hoverinfo": "text",
         "lat": [
          48.814758684006726,
          48.80891847848263
         ],
         "line": {
          "color": "#FFA15A",
          "width": 2
         },
         "lon": [
          2.422322751702586,
          2.434819533389365
         ],
         "mode": "lines",
         "showlegend": false,
         "text": "Ecole Vétérinaire de Maisons-Alfort ↔ Maisons-Alfort - Stade (Métro 8)",
         "type": "scattermapbox"
        },
        {
         "hoverinfo": "text",
         "lat": [
          48.85020070550927,
          48.84721292669797
         ],
         "line": {
          "color": "#FFA15A",
          "width": 2
         },
         "lon": [
          2.384072471688875,
          2.387201070409392
         ],
         "mode": "lines",
         "showlegend": false,
         "text": "Faidherbe - Chaligny ↔ Reuilly - Diderot (Métro 8)",
         "type": "scattermapbox"
        },
        {
         "hoverinfo": "text",
         "lat": [
          48.85020070550927,
          48.85133776679838
         ],
         "line": {
          "color": "#FFA15A",
          "width": 2
         },
         "lon": [
          2.384072471688875,
          2.376141223318593
         ],
         "mode": "lines",
         "showlegend": false,
         "text": "Faidherbe - Chaligny ↔ Ledru-Rollin (Métro 8)",
         "type": "scattermapbox"
        },
        {
         "hoverinfo": "text",
         "lat": [
          48.86109201138112,
          48.85766922956403
         ],
         "line": {
          "color": "#FFA15A",
          "width": 2
         },
         "lon": [
          2.3146326604445164,
          2.310588789873988
         ],
         "mode": "lines",
         "showlegend": false,
         "text": "Invalides ↔ La Tour-Maubourg (Métro 8)",
         "type": "scattermapbox"
        },
        {
         "hoverinfo": "text",
         "lat": [
          48.80310585036659,
          48.79661108096057
         ],
         "line": {
          "color": "#FFA15A",
          "width": 2
         },
         "lon": [
          2.4457883063759605,
          2.449424047013373
         ],
         "mode": "lines",
         "showlegend": false,
         "text": "Maisons-Alfort - Les Juilliottes ↔ Créteil - L'Echat (Métro 8)",
         "type": "scattermapbox"
        },
        {
         "hoverinfo": "text",
         "lat": [
          48.80310585036659,
          48.80891847848263
         ],
         "line": {
          "color": "#FFA15A",
          "width": 2
         },
         "lon": [
          2.4457883063759605,
          2.434819533389365
         ],
         "mode": "lines",
         "showlegend": false,
         "text": "Maisons-Alfort - Les Juilliottes ↔ Maisons-Alfort - Stade (Métro 8)",
         "type": "scattermapbox"
        },
        {
         "hoverinfo": "text",
         "lat": [
          48.8350662204656,
          48.83344922287947
         ],
         "line": {
          "color": "#FFA15A",
          "width": 2
         },
         "lon": [
          2.405749381400099,
          2.402511872850073
         ],
         "mode": "lines",
         "showlegend": false,
         "text": "Porte Dorée ↔ Porte de Charenton (Métro 8)",
         "type": "scattermapbox"
        },
        {
         "hoverinfo": "text",
         "lat": [
          48.8350662204656,
          48.83707743103578
         ],
         "line": {
          "color": "#FFA15A",
          "width": 2
         },
         "lon": [
          2.405749381400099,
          2.402366739988004
         ],
         "mode": "lines",
         "showlegend": false,
         "text": "Porte Dorée ↔ Michel Bizot (Métro 8)",
         "type": "scattermapbox"
        },
        {
         "hoverinfo": "text",
         "lat": [
          48.86938572399119,
          48.87048144580479
         ],
         "line": {
          "color": "#FFA15A",
          "width": 2
         },
         "lon": [
          2.353744768129407,
          2.348496122542364
         ],
         "mode": "lines",
         "showlegend": false,
         "text": "Strasbourg - Saint-Denis ↔ Bonne Nouvelle (Métro 8)",
         "type": "scattermapbox"
        },
        {
         "hoverinfo": "text",
         "lat": [
          48.86938572399119,
          48.86742161002706
         ],
         "line": {
          "color": "#FFA15A",
          "width": 2
         },
         "lon": [
          2.353744768129407,
          2.363149406900382
         ],
         "mode": "lines",
         "showlegend": false,
         "text": "Strasbourg - Saint-Denis ↔ République (Métro 8)",
         "type": "scattermapbox"
        },
        {
         "hoverinfo": "text",
         "lat": [
          48.85708736782028,
          48.853425461693256
         ],
         "line": {
          "color": "#FFA15A",
          "width": 2
         },
         "lon": [
          2.368095085385991,
          2.3695064282002
         ],
         "mode": "lines",
         "showlegend": false,
         "text": "Chemin Vert ↔ Bastille (Métro 8)",
         "type": "scattermapbox"
        },
        {
         "hoverinfo": "text",
         "lat": [
          48.85708736782028,
          48.86098670797991
         ],
         "line": {
          "color": "#FFA15A",
          "width": 2
         },
         "lon": [
          2.368095085385991,
          2.367370357789606
         ],
         "mode": "lines",
         "showlegend": false,
         "text": "Chemin Vert ↔ Saint-Sébastien - Froissart (Métro 8)",
         "type": "scattermapbox"
        },
        {
         "hoverinfo": "text",
         "lat": [
          48.84458485524012,
          48.84268433479664
         ],
         "line": {
          "color": "#FFA15A",
          "width": 2
         },
         "lon": [
          2.293851708440619,
          2.2918472203679703
         ],
         "mode": "lines",
         "showlegend": false,
         "text": "Commerce ↔ Félix Faure (Métro 8)",
         "type": "scattermapbox"
        },
        {
         "hoverinfo": "text",
         "lat": [
          48.84458485524012,
          48.84950618174656
         ],
         "line": {
          "color": "#FFA15A",
          "width": 2
         },
         "lon": [
          2.293851708440619,
          2.298745444388579
         ],
         "mode": "lines",
         "showlegend": false,
         "text": "Commerce ↔ La Motte-Picquet - Grenelle (Métro 8)",
         "type": "scattermapbox"
        },
        {
         "hoverinfo": "text",
         "lat": [
          48.83967393140864,
          48.83707743103578
         ],
         "line": {
          "color": "#FFA15A",
          "width": 2
         },
         "lon": [
          2.395573606140371,
          2.402366739988004
         ],
         "mode": "lines",
         "showlegend": false,
         "text": "Daumesnil ↔ Michel Bizot (Métro 8)",
         "type": "scattermapbox"
        },
        {
         "hoverinfo": "text",
         "lat": [
          48.83967393140864,
          48.84400507570895
         ],
         "line": {
          "color": "#FFA15A",
          "width": 2
         },
         "lon": [
          2.395573606140371,
          2.3904000136353645
         ],
         "mode": "lines",
         "showlegend": false,
         "text": "Daumesnil ↔ Montgallet (Métro 8)",
         "type": "scattermapbox"
        },
        {
         "hoverinfo": "text",
         "lat": [
          48.86308830188695,
          48.86098670797991
         ],
         "line": {
          "color": "#FFA15A",
          "width": 2
         },
         "lon": [
          2.366826859795412,
          2.367370357789606
         ],
         "mode": "lines",
         "showlegend": false,
         "text": "Filles du Calvaire ↔ Saint-Sébastien - Froissart (Métro 8)",
         "type": "scattermapbox"
        },
        {
         "hoverinfo": "text",
         "lat": [
          48.86308830188695,
          48.86742161002706
         ],
         "line": {
          "color": "#FFA15A",
          "width": 2
         },
         "lon": [
          2.366826859795412,
          2.363149406900382
         ],
         "mode": "lines",
         "showlegend": false,
         "text": "Filles du Calvaire ↔ République (Métro 8)",
         "type": "scattermapbox"
        },
        {
         "hoverinfo": "text",
         "lat": [
          48.87146677844407,
          48.87173920910264
         ],
         "line": {
          "color": "#FFA15A",
          "width": 2
         },
         "lon": [
          2.342839648636545,
          2.3384190255427955
         ],
         "mode": "lines",
         "showlegend": false,
         "text": "Grands Boulevards ↔ Richelieu - Drouot (Métro 8)",
         "type": "scattermapbox"
        },
        {
         "hoverinfo": "text",
         "lat": [
          48.87146677844407,
          48.87048144580479
         ],
         "line": {
          "color": "#FFA15A",
          "width": 2
         },
         "lon": [
          2.342839648636545,
          2.348496122542364
         ],
         "mode": "lines",
         "showlegend": false,
         "text": "Grands Boulevards ↔ Bonne Nouvelle (Métro 8)",
         "type": "scattermapbox"
        },
        {
         "hoverinfo": "text",
         "lat": [
          48.82608032193611,
          48.82125590204953
         ],
         "line": {
          "color": "#FFA15A",
          "width": 2
         },
         "lon": [
          2.406409459132366,
          2.413847237068526
         ],
         "mode": "lines",
         "showlegend": false,
         "text": "Liberté ↔ Charenton - Ecoles (Métro 8)",
         "type": "scattermapbox"
        },
        {
         "hoverinfo": "text",
         "lat": [
          48.82608032193611,
          48.83344922287947
         ],
         "line": {
          "color": "#FFA15A",
          "width": 2
         },
         "lon": [
          2.406409459132366,
          2.402511872850073
         ],
         "mode": "lines",
         "showlegend": false,
         "text": "Liberté ↔ Porte de Charenton (Métro 8)",
         "type": "scattermapbox"
        },
        {
         "hoverinfo": "text",
         "lat": [
          48.83866086365992,
          48.83666789483108
         ],
         "line": {
          "color": "#FFA15A",
          "width": 2
         },
         "lon": [
          2.2822419598550767,
          2.2783626618092008
         ],
         "mode": "lines",
         "showlegend": false,
         "text": "Lourmel ↔ Balard (Métro 8)",
         "type": "scattermapbox"
        },
        {
         "hoverinfo": "text",
         "lat": [
          48.84721292669797,
          48.84400507570895
         ],
         "line": {
          "color": "#FFA15A",
          "width": 2
         },
         "lon": [
          2.387201070409392,
          2.3904000136353645
         ],
         "mode": "lines",
         "showlegend": false,
         "text": "Reuilly - Diderot ↔ Montgallet (Métro 8)",
         "type": "scattermapbox"
        },
        {
         "hoverinfo": "text",
         "lat": [
          48.853425461693256,
          48.85133776679838
         ],
         "line": {
          "color": "#FFA15A",
          "width": 2
         },
         "lon": [
          2.3695064282002,
          2.376141223318593
         ],
         "mode": "lines",
         "showlegend": false,
         "text": "Bastille ↔ Ledru-Rollin (Métro 8)",
         "type": "scattermapbox"
        },
        {
         "hoverinfo": "text",
         "lat": [
          48.86956561611772,
          48.87059812248669
         ],
         "line": {
          "color": "#FFA15A",
          "width": 2
         },
         "lon": [
          2.3260272117729994,
          2.332135072925294
         ],
         "mode": "lines",
         "showlegend": false,
         "text": "Madeleine ↔ Opéra (Métro 8)",
         "type": "scattermapbox"
        },
        {
         "hoverinfo": "text",
         "lat": [
          48.87173920910264,
          48.87059812248669
         ],
         "line": {
          "color": "#FFA15A",
          "width": 2
         },
         "lon": [
          2.3384190255427955,
          2.332135072925294
         ],
         "mode": "lines",
         "showlegend": false,
         "text": "Richelieu - Drouot ↔ Opéra (Métro 8)",
         "type": "scattermapbox"
        },
        {
         "hoverinfo": "text",
         "lat": [
          48.77975652677895,
          48.76876136434425
         ],
         "line": {
          "color": "#FFA15A",
          "width": 2
         },
         "lon": [
          2.459305169291261,
          2.464317312722042
         ],
         "mode": "lines",
         "showlegend": false,
         "text": "Créteil - Préfecture ↔ Pointe du Lac (Métro 8)",
         "type": "scattermapbox"
        },
        {
         "hoverinfo": "text",
         "lat": [
          48.77975652677895,
          48.78994285432577
         ],
         "line": {
          "color": "#FFA15A",
          "width": 2
         },
         "lon": [
          2.459305169291261,
          2.4505697455342568
         ],
         "mode": "lines",
         "showlegend": false,
         "text": "Créteil - Préfecture ↔ Créteil - Université (Métro 8)",
         "type": "scattermapbox"
        },
        {
         "hoverinfo": "text",
         "lat": [
          48.79661108096057,
          48.78994285432577
         ],
         "line": {
          "color": "#FFA15A",
          "width": 2
         },
         "lon": [
          2.449424047013373,
          2.4505697455342568
         ],
         "mode": "lines",
         "showlegend": false,
         "text": "Créteil - L'Echat ↔ Créteil - Université (Métro 8)",
         "type": "scattermapbox"
        },
        {
         "hoverinfo": "text",
         "lat": [
          48.871558801223806,
          48.87213587031796
         ],
         "line": {
          "color": "#19D3F3",
          "width": 2
         },
         "lon": [
          2.3432202183423976,
          2.3385912215385414
         ],
         "mode": "lines",
         "showlegend": false,
         "text": "Grands Boulevards ↔ Richelieu - Drouot (Métro 9)",
         "type": "scattermapbox"
        },
        {
         "hoverinfo": "text",
         "lat": [
          48.871558801223806,
          48.87049007203075
         ],
         "line": {
          "color": "#19D3F3",
          "width": 2
         },
         "lon": [
          2.3432202183423976,
          2.348428667867017
         ],
         "mode": "lines",
         "showlegend": false,
         "text": "Grands Boulevards ↔ Bonne Nouvelle (Métro 9)",
         "type": "scattermapbox"
        },
        {
         "hoverinfo": "text",
         "lat": [
          48.85246214784456,
          48.85550355839564
         ],
         "line": {
          "color": "#19D3F3",
          "width": 2
         },
         "lon": [
          2.268219083521012,
          2.269948157934635
         ],
         "mode": "lines",
         "showlegend": false,
         "text": "Jasmin ↔ Ranelagh (Métro 9)",
         "type": "scattermapbox"
        },
        {
         "hoverinfo": "text",
         "lat": [
          48.85246214784456,
          48.84770893216831
         ],
         "line": {
          "color": "#19D3F3",
          "width": 2
         },
         "lon": [
          2.268219083521012,
          2.2638093220226634
         ],
         "mode": "lines",
         "showlegend": false,
         "text": "Jasmin ↔ Michel-Ange - Auteuil (Métro 9)",
         "type": "scattermapbox"
        },
        {
         "hoverinfo": "text",
         "lat": [
          48.85809196689865,
          48.85550355839564
         ],
         "line": {
          "color": "#19D3F3",
          "width": 2
         },
         "lon": [
          2.2740962446697224,
          2.269948157934635
         ],
         "mode": "lines",
         "showlegend": false,
         "text": "La Muette ↔ Ranelagh (Métro 9)",
         "type": "scattermapbox"
        },
        {
         "hoverinfo": "text",
         "lat": [
          48.85809196689865,
          48.863951708879945
         ],
         "line": {
          "color": "#19D3F3",
          "width": 2
         },
         "lon": [
          2.2740962446697224,
          2.2778858979590564
         ],
         "mode": "lines",
         "showlegend": false,
         "text": "La Muette ↔ Rue de la Pompe (Métro 9)",
         "type": "scattermapbox"
        },
        {
         "hoverinfo": "text",
         "lat": [
          48.844880488259605,
          48.842624465259945
         ],
         "line": {
          "color": "#19D3F3",
          "width": 2
         },
         "lon": [
          2.261631583355701,
          2.25967486021195
         ],
         "mode": "lines",
         "showlegend": false,
         "text": "Michel-Ange - Molitor ↔ Exelmans (Métro 9)",
         "type": "scattermapbox"
        },
        {
         "hoverinfo": "text",
         "lat": [
          48.844880488259605,
          48.84770893216831
         ],
         "line": {
          "color": "#19D3F3",
          "width": 2
         },
         "lon": [
          2.261631583355701,
          2.2638093220226634
         ],
         "mode": "lines",
         "showlegend": false,
         "text": "Michel-Ange - Molitor ↔ Michel-Ange - Auteuil (Métro 9)",
         "type": "scattermapbox"
        },
        {
         "hoverinfo": "text",
         "lat": [
          48.8622744369706,
          48.857992585158016
         ],
         "line": {
          "color": "#19D3F3",
          "width": 2
         },
         "lon": [
          2.4418193772459085,
          2.4358546126745826
         ],
         "mode": "lines",
         "showlegend": false,
         "text": "Mairie de Montreuil ↔ Croix de Chavaux (Métro 9)",
         "type": "scattermapbox"
        },
        {
         "hoverinfo": "text",
         "lat": [
          48.85265013095636,
          48.85348263120656
         ],
         "line": {
          "color": "#19D3F3",
          "width": 2
         },
         "lon": [
          2.4060490065790447,
          2.410718154027495
         ],
         "mode": "lines",
         "showlegend": false,
         "text": "Maraîchers ↔ Porte de Montreuil (Métro 9)",
         "type": "scattermapbox"
        },
        {
         "hoverinfo": "text",
         "lat": [
          48.85265013095636,
          48.85176243983227
         ],
         "line": {
          "color": "#19D3F3",
          "width": 2
         },
         "lon": [
          2.4060490065790447,
          2.401170769368413
         ],
         "mode": "lines",
         "showlegend": false,
         "text": "Maraîchers ↔ Buzenval (Métro 9)",
         "type": "scattermapbox"
        },
        {
         "hoverinfo": "text",
         "lat": [
          48.83359298218974,
          48.83191997405451
         ],
         "line": {
          "color": "#19D3F3",
          "width": 2
         },
         "lon": [
          2.243583048618053,
          2.237891101038026
         ],
         "mode": "lines",
         "showlegend": false,
         "text": "Marcel Sembat ↔ Billancourt (Métro 9)",
         "type": "scattermapbox"
        },
        {
         "hoverinfo": "text",
         "lat": [
          48.83359298218974,
          48.83799728287381
         ],
         "line": {
          "color": "#19D3F3",
          "width": 2
         },
         "lon": [
          2.243583048618053,
          2.2567894964207142
         ],
         "mode": "lines",
         "showlegend": false,
         "text": "Marcel Sembat ↔ Porte de Saint-Cloud (Métro 9)",
         "type": "scattermapbox"
        },
        {
         "hoverinfo": "text",
         "lat": [
          48.87369210197914,
          48.87215513107743
         ],
         "line": {
          "color": "#19D3F3",
          "width": 2
         },
         "lon": [
          2.3146768238242688,
          2.3101372056878247
         ],
         "mode": "lines",
         "showlegend": false,
         "text": "Miromesnil ↔ Saint-Philippe-du-Roule (Métro 9)",
         "type": "scattermapbox"
        },
        {
         "hoverinfo": "text",
         "lat": [
          48.87369210197914,
          48.87454661293485
         ],
         "line": {
          "color": "#19D3F3",
          "width": 2
         },
         "lon": [
          2.3146768238242688,
          2.3210135978086
         ],
         "mode": "lines",
         "showlegend": false,
         "text": "Miromesnil ↔ Saint-Augustin (Métro 9)",
         "type": "scattermapbox"
        },
        {
         "hoverinfo": "text",
         "lat": [
          48.86751235781114,
          48.86477709852134
         ],
         "line": {
          "color": "#19D3F3",
          "width": 2
         },
         "lon": [
          2.3633023407804536,
          2.3681558453945515
         ],
         "mode": "lines",
         "showlegend": false,
         "text": "République ↔ Oberkampf (Métro 9)",
         "type": "scattermapbox"
        },
        {
         "hoverinfo": "text",
         "lat": [
          48.86751235781114,
          48.869349679171926
         ],
         "line": {
          "color": "#19D3F3",
          "width": 2
         },
         "lon": [
          2.3633023407804536,
          2.353731582673184
         ],
         "mode": "lines",
         "showlegend": false,
         "text": "République ↔ Strasbourg - Saint-Denis (Métro 9)",
         "type": "scattermapbox"
        },
        {
         "hoverinfo": "text",
         "lat": [
          48.85176243983227,
          48.84888521841715
         ],
         "line": {
          "color": "#19D3F3",
          "width": 2
         },
         "lon": [
          2.401170769368413,
          2.3959437210498136
         ],
         "mode": "lines",
         "showlegend": false,
         "text": "Buzenval ↔ Nation (Métro 9)",
         "type": "scattermapbox"
        },
        {
         "hoverinfo": "text",
         "lat": [
          48.85500743705073,
          48.85221407333194
         ],
         "line": {
          "color": "#19D3F3",
          "width": 2
         },
         "lon": [
          2.3848878986690423,
          2.3891047050322425
         ],
         "mode": "lines",
         "showlegend": false,
         "text": "Charonne ↔ Rue des Boulets (Métro 9)",
         "type": "scattermapbox"
        },
        {
         "hoverinfo": "text",
         "lat": [
          48.85500743705073,
          48.85766243438601
         ],
         "line": {
          "color": "#19D3F3",
          "width": 2
         },
         "lon": [
          2.3848878986690423,
          2.3800316941488044
         ],
         "mode": "lines",
         "showlegend": false,
         "text": "Charonne ↔ Voltaire (Métro 9)",
         "type": "scattermapbox"
        },
        {
         "hoverinfo": "text",
         "lat": [
          48.87280723715393,
          48.87213587031796
         ],
         "line": {
          "color": "#19D3F3",
          "width": 2
         },
         "lon": [
          2.333970457594147,
          2.3385912215385414
         ],
         "mode": "lines",
         "showlegend": false,
         "text": "Chaussée d'Antin - La Fayette ↔ Richelieu - Drouot (Métro 9)",
         "type": "scattermapbox"
        },
        {
         "hoverinfo": "text",
         "lat": [
          48.87280723715393,
          48.8737568325288
         ],
         "line": {
          "color": "#19D3F3",
          "width": 2
         },
         "lon": [
          2.333970457594147,
          2.327677208279404
         ],
         "mode": "lines",
         "showlegend": false,
         "text": "Chaussée d'Antin - La Fayette ↔ Havre-Caumartin (Métro 9)",
         "type": "scattermapbox"
        },
        {
         "hoverinfo": "text",
         "lat": [
          48.86872488799857,
          48.87215513107743
         ],
         "line": {
          "color": "#19D3F3",
          "width": 2
         },
         "lon": [
          2.309488192337113,
          2.3101372056878247
         ],
         "mode": "lines",
         "showlegend": false,
         "text": "Franklin D. Roosevelt ↔ Saint-Philippe-du-Roule (Métro 9)",
         "type": "scattermapbox"
        },
        {
         "hoverinfo": "text",
         "lat": [
          48.86872488799857,
          48.86464714790582
         ],
         "line": {
          "color": "#19D3F3",
          "width": 2
         },
         "lon": [
          2.309488192337113,
          2.30110435239267
         ],
         "mode": "lines",
         "showlegend": false,
         "text": "Franklin D. Roosevelt ↔ Alma - Marceau (Métro 9)",
         "type": "scattermapbox"
        },
        {
         "hoverinfo": "text",
         "lat": [
          48.86468583928868,
          48.86464714790582
         ],
         "line": {
          "color": "#19D3F3",
          "width": 2
         },
         "lon": [
          2.293906396859107,
          2.30110435239267
         ],
         "mode": "lines",
         "showlegend": false,
         "text": "Iéna ↔ Alma - Marceau (Métro 9)",
         "type": "scattermapbox"
        },
        {
         "hoverinfo": "text",
         "lat": [
          48.86468583928868,
          48.863088061116
         ],
         "line": {
          "color": "#19D3F3",
          "width": 2
         },
         "lon": [
          2.293906396859107,
          2.28683987979629
         ],
         "mode": "lines",
         "showlegend": false,
         "text": "Iéna ↔ Trocadéro (Métro 9)",
         "type": "scattermapbox"
        },
        {
         "hoverinfo": "text",
         "lat": [
          48.86477709852134,
          48.86141665790915
         ],
         "line": {
          "color": "#19D3F3",
          "width": 2
         },
         "lon": [
          2.3681558453945515,
          2.3738805382115475
         ],
         "mode": "lines",
         "showlegend": false,
         "text": "Oberkampf ↔ Saint-Ambroise (Métro 9)",
         "type": "scattermapbox"
        },
        {
         "hoverinfo": "text",
         "lat": [
          48.83191997405451,
          48.82966919074605
         ],
         "line": {
          "color": "#19D3F3",
          "width": 2
         },
         "lon": [
          2.237891101038026,
          2.230505217088554
         ],
         "mode": "lines",
         "showlegend": false,
         "text": "Billancourt ↔ Pont de Sèvres (Métro 9)",
         "type": "scattermapbox"
        },
        {
         "hoverinfo": "text",
         "lat": [
          48.8737568325288,
          48.87454661293485
         ],
         "line": {
          "color": "#19D3F3",
          "width": 2
         },
         "lon": [
          2.327677208279404,
          2.3210135978086
         ],
         "mode": "lines",
         "showlegend": false,
         "text": "Havre-Caumartin ↔ Saint-Augustin (Métro 9)",
         "type": "scattermapbox"
        },
        {
         "hoverinfo": "text",
         "lat": [
          48.83799728287381,
          48.842624465259945
         ],
         "line": {
          "color": "#19D3F3",
          "width": 2
         },
         "lon": [
          2.2567894964207142,
          2.25967486021195
         ],
         "mode": "lines",
         "showlegend": false,
         "text": "Porte de Saint-Cloud ↔ Exelmans (Métro 9)",
         "type": "scattermapbox"
        },
        {
         "hoverinfo": "text",
         "lat": [
          48.85221407333194,
          48.84888521841715
         ],
         "line": {
          "color": "#19D3F3",
          "width": 2
         },
         "lon": [
          2.3891047050322425,
          2.3959437210498136
         ],
         "mode": "lines",
         "showlegend": false,
         "text": "Rue des Boulets ↔ Nation (Métro 9)",
         "type": "scattermapbox"
        },
        {
         "hoverinfo": "text",
         "lat": [
          48.86141665790915,
          48.85766243438601
         ],
         "line": {
          "color": "#19D3F3",
          "width": 2
         },
         "lon": [
          2.3738805382115475,
          2.3800316941488044
         ],
         "mode": "lines",
         "showlegend": false,
         "text": "Saint-Ambroise ↔ Voltaire (Métro 9)",
         "type": "scattermapbox"
        },
        {
         "hoverinfo": "text",
         "lat": [
          48.869349679171926,
          48.87049007203075
         ],
         "line": {
          "color": "#19D3F3",
          "width": 2
         },
         "lon": [
          2.353731582673184,
          2.348428667867017
         ],
         "mode": "lines",
         "showlegend": false,
         "text": "Strasbourg - Saint-Denis ↔ Bonne Nouvelle (Métro 9)",
         "type": "scattermapbox"
        },
        {
         "hoverinfo": "text",
         "lat": [
          48.857992585158016,
          48.85567380855032
         ],
         "line": {
          "color": "#19D3F3",
          "width": 2
         },
         "lon": [
          2.4358546126745826,
          2.422973086496352
         ],
         "mode": "lines",
         "showlegend": false,
         "text": "Croix de Chavaux ↔ Robespierre (Métro 9)",
         "type": "scattermapbox"
        },
        {
         "hoverinfo": "text",
         "lat": [
          48.85348263120656,
          48.85567380855032
         ],
         "line": {
          "color": "#19D3F3",
          "width": 2
         },
         "lon": [
          2.410718154027495,
          2.422973086496352
         ],
         "mode": "lines",
         "showlegend": false,
         "text": "Porte de Montreuil ↔ Robespierre (Métro 9)",
         "type": "scattermapbox"
        },
        {
         "hoverinfo": "text",
         "lat": [
          48.863951708879945,
          48.863088061116
         ],
         "line": {
          "color": "#19D3F3",
          "width": 2
         },
         "lon": [
          2.2778858979590564,
          2.28683987979629
         ],
         "mode": "lines",
         "showlegend": false,
         "text": "Rue de la Pompe ↔ Trocadéro (Métro 9)",
         "type": "scattermapbox"
        }
       ],
       "layout": {
        "height": 700,
        "mapbox": {
         "center": {
          "lat": 48.8566,
          "lon": 2.3522
         },
         "style": "carto-positron",
         "zoom": 11
        },
        "margin": {
         "b": 10,
         "l": 10,
         "r": 10,
         "t": 40
        },
        "template": {
         "data": {
          "bar": [
           {
            "error_x": {
             "color": "#2a3f5f"
            },
            "error_y": {
             "color": "#2a3f5f"
            },
            "marker": {
             "line": {
              "color": "#E5ECF6",
              "width": 0.5
             },
             "pattern": {
              "fillmode": "overlay",
              "size": 10,
              "solidity": 0.2
             }
            },
            "type": "bar"
           }
          ],
          "barpolar": [
           {
            "marker": {
             "line": {
              "color": "#E5ECF6",
              "width": 0.5
             },
             "pattern": {
              "fillmode": "overlay",
              "size": 10,
              "solidity": 0.2
             }
            },
            "type": "barpolar"
           }
          ],
          "carpet": [
           {
            "aaxis": {
             "endlinecolor": "#2a3f5f",
             "gridcolor": "white",
             "linecolor": "white",
             "minorgridcolor": "white",
             "startlinecolor": "#2a3f5f"
            },
            "baxis": {
             "endlinecolor": "#2a3f5f",
             "gridcolor": "white",
             "linecolor": "white",
             "minorgridcolor": "white",
             "startlinecolor": "#2a3f5f"
            },
            "type": "carpet"
           }
          ],
          "choropleth": [
           {
            "colorbar": {
             "outlinewidth": 0,
             "ticks": ""
            },
            "type": "choropleth"
           }
          ],
          "contour": [
           {
            "colorbar": {
             "outlinewidth": 0,
             "ticks": ""
            },
            "colorscale": [
             [
              0,
              "#0d0887"
             ],
             [
              0.1111111111111111,
              "#46039f"
             ],
             [
              0.2222222222222222,
              "#7201a8"
             ],
             [
              0.3333333333333333,
              "#9c179e"
             ],
             [
              0.4444444444444444,
              "#bd3786"
             ],
             [
              0.5555555555555556,
              "#d8576b"
             ],
             [
              0.6666666666666666,
              "#ed7953"
             ],
             [
              0.7777777777777778,
              "#fb9f3a"
             ],
             [
              0.8888888888888888,
              "#fdca26"
             ],
             [
              1,
              "#f0f921"
             ]
            ],
            "type": "contour"
           }
          ],
          "contourcarpet": [
           {
            "colorbar": {
             "outlinewidth": 0,
             "ticks": ""
            },
            "type": "contourcarpet"
           }
          ],
          "heatmap": [
           {
            "colorbar": {
             "outlinewidth": 0,
             "ticks": ""
            },
            "colorscale": [
             [
              0,
              "#0d0887"
             ],
             [
              0.1111111111111111,
              "#46039f"
             ],
             [
              0.2222222222222222,
              "#7201a8"
             ],
             [
              0.3333333333333333,
              "#9c179e"
             ],
             [
              0.4444444444444444,
              "#bd3786"
             ],
             [
              0.5555555555555556,
              "#d8576b"
             ],
             [
              0.6666666666666666,
              "#ed7953"
             ],
             [
              0.7777777777777778,
              "#fb9f3a"
             ],
             [
              0.8888888888888888,
              "#fdca26"
             ],
             [
              1,
              "#f0f921"
             ]
            ],
            "type": "heatmap"
           }
          ],
          "histogram": [
           {
            "marker": {
             "pattern": {
              "fillmode": "overlay",
              "size": 10,
              "solidity": 0.2
             }
            },
            "type": "histogram"
           }
          ],
          "histogram2d": [
           {
            "colorbar": {
             "outlinewidth": 0,
             "ticks": ""
            },
            "colorscale": [
             [
              0,
              "#0d0887"
             ],
             [
              0.1111111111111111,
              "#46039f"
             ],
             [
              0.2222222222222222,
              "#7201a8"
             ],
             [
              0.3333333333333333,
              "#9c179e"
             ],
             [
              0.4444444444444444,
              "#bd3786"
             ],
             [
              0.5555555555555556,
              "#d8576b"
             ],
             [
              0.6666666666666666,
              "#ed7953"
             ],
             [
              0.7777777777777778,
              "#fb9f3a"
             ],
             [
              0.8888888888888888,
              "#fdca26"
             ],
             [
              1,
              "#f0f921"
             ]
            ],
            "type": "histogram2d"
           }
          ],
          "histogram2dcontour": [
           {
            "colorbar": {
             "outlinewidth": 0,
             "ticks": ""
            },
            "colorscale": [
             [
              0,
              "#0d0887"
             ],
             [
              0.1111111111111111,
              "#46039f"
             ],
             [
              0.2222222222222222,
              "#7201a8"
             ],
             [
              0.3333333333333333,
              "#9c179e"
             ],
             [
              0.4444444444444444,
              "#bd3786"
             ],
             [
              0.5555555555555556,
              "#d8576b"
             ],
             [
              0.6666666666666666,
              "#ed7953"
             ],
             [
              0.7777777777777778,
              "#fb9f3a"
             ],
             [
              0.8888888888888888,
              "#fdca26"
             ],
             [
              1,
              "#f0f921"
             ]
            ],
            "type": "histogram2dcontour"
           }
          ],
          "mesh3d": [
           {
            "colorbar": {
             "outlinewidth": 0,
             "ticks": ""
            },
            "type": "mesh3d"
           }
          ],
          "parcoords": [
           {
            "line": {
             "colorbar": {
              "outlinewidth": 0,
              "ticks": ""
             }
            },
            "type": "parcoords"
           }
          ],
          "pie": [
           {
            "automargin": true,
            "type": "pie"
           }
          ],
          "scatter": [
           {
            "fillpattern": {
             "fillmode": "overlay",
             "size": 10,
             "solidity": 0.2
            },
            "type": "scatter"
           }
          ],
          "scatter3d": [
           {
            "line": {
             "colorbar": {
              "outlinewidth": 0,
              "ticks": ""
             }
            },
            "marker": {
             "colorbar": {
              "outlinewidth": 0,
              "ticks": ""
             }
            },
            "type": "scatter3d"
           }
          ],
          "scattercarpet": [
           {
            "marker": {
             "colorbar": {
              "outlinewidth": 0,
              "ticks": ""
             }
            },
            "type": "scattercarpet"
           }
          ],
          "scattergeo": [
           {
            "marker": {
             "colorbar": {
              "outlinewidth": 0,
              "ticks": ""
             }
            },
            "type": "scattergeo"
           }
          ],
          "scattergl": [
           {
            "marker": {
             "colorbar": {
              "outlinewidth": 0,
              "ticks": ""
             }
            },
            "type": "scattergl"
           }
          ],
          "scattermap": [
           {
            "marker": {
             "colorbar": {
              "outlinewidth": 0,
              "ticks": ""
             }
            },
            "type": "scattermap"
           }
          ],
          "scattermapbox": [
           {
            "marker": {
             "colorbar": {
              "outlinewidth": 0,
              "ticks": ""
             }
            },
            "type": "scattermapbox"
           }
          ],
          "scatterpolar": [
           {
            "marker": {
             "colorbar": {
              "outlinewidth": 0,
              "ticks": ""
             }
            },
            "type": "scatterpolar"
           }
          ],
          "scatterpolargl": [
           {
            "marker": {
             "colorbar": {
              "outlinewidth": 0,
              "ticks": ""
             }
            },
            "type": "scatterpolargl"
           }
          ],
          "scatterternary": [
           {
            "marker": {
             "colorbar": {
              "outlinewidth": 0,
              "ticks": ""
             }
            },
            "type": "scatterternary"
           }
          ],
          "surface": [
           {
            "colorbar": {
             "outlinewidth": 0,
             "ticks": ""
            },
            "colorscale": [
             [
              0,
              "#0d0887"
             ],
             [
              0.1111111111111111,
              "#46039f"
             ],
             [
              0.2222222222222222,
              "#7201a8"
             ],
             [
              0.3333333333333333,
              "#9c179e"
             ],
             [
              0.4444444444444444,
              "#bd3786"
             ],
             [
              0.5555555555555556,
              "#d8576b"
             ],
             [
              0.6666666666666666,
              "#ed7953"
             ],
             [
              0.7777777777777778,
              "#fb9f3a"
             ],
             [
              0.8888888888888888,
              "#fdca26"
             ],
             [
              1,
              "#f0f921"
             ]
            ],
            "type": "surface"
           }
          ],
          "table": [
           {
            "cells": {
             "fill": {
              "color": "#EBF0F8"
             },
             "line": {
              "color": "white"
             }
            },
            "header": {
             "fill": {
              "color": "#C8D4E3"
             },
             "line": {
              "color": "white"
             }
            },
            "type": "table"
           }
          ]
         },
         "layout": {
          "annotationdefaults": {
           "arrowcolor": "#2a3f5f",
           "arrowhead": 0,
           "arrowwidth": 1
          },
          "autotypenumbers": "strict",
          "coloraxis": {
           "colorbar": {
            "outlinewidth": 0,
            "ticks": ""
           }
          },
          "colorscale": {
           "diverging": [
            [
             0,
             "#8e0152"
            ],
            [
             0.1,
             "#c51b7d"
            ],
            [
             0.2,
             "#de77ae"
            ],
            [
             0.3,
             "#f1b6da"
            ],
            [
             0.4,
             "#fde0ef"
            ],
            [
             0.5,
             "#f7f7f7"
            ],
            [
             0.6,
             "#e6f5d0"
            ],
            [
             0.7,
             "#b8e186"
            ],
            [
             0.8,
             "#7fbc41"
            ],
            [
             0.9,
             "#4d9221"
            ],
            [
             1,
             "#276419"
            ]
           ],
           "sequential": [
            [
             0,
             "#0d0887"
            ],
            [
             0.1111111111111111,
             "#46039f"
            ],
            [
             0.2222222222222222,
             "#7201a8"
            ],
            [
             0.3333333333333333,
             "#9c179e"
            ],
            [
             0.4444444444444444,
             "#bd3786"
            ],
            [
             0.5555555555555556,
             "#d8576b"
            ],
            [
             0.6666666666666666,
             "#ed7953"
            ],
            [
             0.7777777777777778,
             "#fb9f3a"
            ],
            [
             0.8888888888888888,
             "#fdca26"
            ],
            [
             1,
             "#f0f921"
            ]
           ],
           "sequentialminus": [
            [
             0,
             "#0d0887"
            ],
            [
             0.1111111111111111,
             "#46039f"
            ],
            [
             0.2222222222222222,
             "#7201a8"
            ],
            [
             0.3333333333333333,
             "#9c179e"
            ],
            [
             0.4444444444444444,
             "#bd3786"
            ],
            [
             0.5555555555555556,
             "#d8576b"
            ],
            [
             0.6666666666666666,
             "#ed7953"
            ],
            [
             0.7777777777777778,
             "#fb9f3a"
            ],
            [
             0.8888888888888888,
             "#fdca26"
            ],
            [
             1,
             "#f0f921"
            ]
           ]
          },
          "colorway": [
           "#636efa",
           "#EF553B",
           "#00cc96",
           "#ab63fa",
           "#FFA15A",
           "#19d3f3",
           "#FF6692",
           "#B6E880",
           "#FF97FF",
           "#FECB52"
          ],
          "font": {
           "color": "#2a3f5f"
          },
          "geo": {
           "bgcolor": "white",
           "lakecolor": "white",
           "landcolor": "#E5ECF6",
           "showlakes": true,
           "showland": true,
           "subunitcolor": "white"
          },
          "hoverlabel": {
           "align": "left"
          },
          "hovermode": "closest",
          "mapbox": {
           "style": "light"
          },
          "paper_bgcolor": "white",
          "plot_bgcolor": "#E5ECF6",
          "polar": {
           "angularaxis": {
            "gridcolor": "white",
            "linecolor": "white",
            "ticks": ""
           },
           "bgcolor": "#E5ECF6",
           "radialaxis": {
            "gridcolor": "white",
            "linecolor": "white",
            "ticks": ""
           }
          },
          "scene": {
           "xaxis": {
            "backgroundcolor": "#E5ECF6",
            "gridcolor": "white",
            "gridwidth": 2,
            "linecolor": "white",
            "showbackground": true,
            "ticks": "",
            "zerolinecolor": "white"
           },
           "yaxis": {
            "backgroundcolor": "#E5ECF6",
            "gridcolor": "white",
            "gridwidth": 2,
            "linecolor": "white",
            "showbackground": true,
            "ticks": "",
            "zerolinecolor": "white"
           },
           "zaxis": {
            "backgroundcolor": "#E5ECF6",
            "gridcolor": "white",
            "gridwidth": 2,
            "linecolor": "white",
            "showbackground": true,
            "ticks": "",
            "zerolinecolor": "white"
           }
          },
          "shapedefaults": {
           "line": {
            "color": "#2a3f5f"
           }
          },
          "ternary": {
           "aaxis": {
            "gridcolor": "white",
            "linecolor": "white",
            "ticks": ""
           },
           "baxis": {
            "gridcolor": "white",
            "linecolor": "white",
            "ticks": ""
           },
           "bgcolor": "#E5ECF6",
           "caxis": {
            "gridcolor": "white",
            "linecolor": "white",
            "ticks": ""
           }
          },
          "title": {
           "x": 0.05
          },
          "xaxis": {
           "automargin": true,
           "gridcolor": "white",
           "linecolor": "white",
           "ticks": "",
           "title": {
            "standoff": 15
           },
           "zerolinecolor": "white",
           "zerolinewidth": 2
          },
          "yaxis": {
           "automargin": true,
           "gridcolor": "white",
           "linecolor": "white",
           "ticks": "",
           "title": {
            "standoff": 15
           },
           "zerolinecolor": "white",
           "zerolinewidth": 2
          }
         }
        },
        "title": {
         "text": "Carte interactive des stations de métro et connexions"
        }
       }
      }
     },
     "metadata": {},
     "output_type": "display_data"
    }
   ],
   "source": [
    "import pandas as pd\n",
    "import plotly.graph_objects as go\n",
    "import os\n",
    "\n",
    "# Chemins des fichiers\n",
    "base_dir = os.path.dirname(os.getcwd())\n",
    "trajets_path = os.path.join(base_dir, \"Data\", \"processed\", \"trajets_stations_pollution.csv\")\n",
    "stations_path = os.path.join(base_dir, \"Data\", \"processed\", \"stations_qgis.csv\")\n",
    "\n",
    "# Chargement des données\n",
    "df_connexions = pd.read_csv(trajets_path)\n",
    "df_stations = pd.read_csv(stations_path)\n",
    "\n",
    "# On garde les connexions valides\n",
    "df_connexions = df_connexions[df_connexions['connected'] == True]\n",
    "\n",
    "# Dictionnaire couleur par ligne de métro\n",
    "lignes_uniques = df_connexions['ligne_metro'].dropna().unique()\n",
    "couleurs = px.colors.qualitative.Plotly\n",
    "couleur_par_ligne = {ligne: couleurs[i % len(couleurs)] for i, ligne in enumerate(sorted(lignes_uniques))}\n",
    "\n",
    "# Traces des segments de métro (lignes)\n",
    "segments = []\n",
    "for _, row in df_connexions.iterrows():\n",
    "    lat1, lon1 = row['lat_station1'], row['lon_station1']\n",
    "    lat2, lon2 = row['lat_station2'], row['lon_station2']\n",
    "    ligne = row['ligne_metro']\n",
    "    couleur = couleur_par_ligne.get(ligne, \"gray\")\n",
    "\n",
    "    segments.append(go.Scattermapbox(\n",
    "        lat=[lat1, lat2],\n",
    "        lon=[lon1, lon2],\n",
    "        mode='lines',\n",
    "        line=dict(width=2, color=couleur),\n",
    "        hoverinfo='text',\n",
    "        text=f\"{row['station1']} ↔ {row['station2']} ({ligne})\",\n",
    "        showlegend=False\n",
    "    ))\n",
    "\n",
    "# Traces des stations\n",
    "stations_unique = df_stations.drop_duplicates(subset=\"Nom de la Station\")\n",
    "station_trace = go.Scattermapbox(\n",
    "    lat=stations_unique[\"stop_lat\"],\n",
    "    lon=stations_unique[\"stop_lon\"],\n",
    "    mode='markers',\n",
    "    marker=dict(size=7, color=\"black\"),\n",
    "    text=stations_unique[\"Nom de la Station\"],\n",
    "    hoverinfo=\"text\",\n",
    "    name=\"Stations\"\n",
    ")\n",
    "\n",
    "# Création de la figure\n",
    "fig = go.Figure(data=[station_trace] + segments)\n",
    "\n",
    "# Mise en page Mapbox\n",
    "fig.update_layout(\n",
    "    title=\"Carte interactive des stations de métro et connexions\",\n",
    "    mapbox=dict(\n",
    "        style=\"carto-positron\",\n",
    "        zoom=11,\n",
    "        center=dict(lat=48.8566, lon=2.3522)  # Paris\n",
    "    ),\n",
    "    height=700,\n",
    "    margin=dict(l=10, r=10, t=40, b=10)\n",
    ")\n",
    "\n",
    "fig.show()\n"
   ]
  },
  {
   "cell_type": "code",
   "execution_count": 111,
   "id": "bf521021",
   "metadata": {},
   "outputs": [],
   "source": [
    "def chemin_min_pollution(G, depart, arrivee, temps_max):\n",
    "    from heapq import heappush, heappop\n",
    "\n",
    "    # Vérifications de base\n",
    "    if depart not in G.nodes:\n",
    "        return f\"Station de départ '{depart}' introuvable dans le graphe.\"\n",
    "    if arrivee not in G.nodes:\n",
    "        return f\"Station d'arrivée '{arrivee}' introuvable dans le graphe.\"\n",
    "\n",
    "    try:\n",
    "        _ = nx.shortest_path(G, source=depart, target=arrivee)\n",
    "    except nx.NetworkXNoPath:\n",
    "        return f\"Aucun chemin possible entre '{depart}' et '{arrivee}'.\"\n",
    "\n",
    "    # File de priorité : (pollution cumulée, temps cumulé, station actuelle, chemin parcouru)\n",
    "    file = [(0, 0, depart, [])]\n",
    "    visited = {}\n",
    "\n",
    "    while file:\n",
    "        pollution_cumulee, temps_cumule, current, chemin = heappop(file)\n",
    "        chemin = chemin + [current]\n",
    "\n",
    "        # Éviter les redondances\n",
    "        if current in visited and visited[current] <= temps_cumule:\n",
    "            continue\n",
    "        visited[current] = temps_cumule\n",
    "\n",
    "        # Si destination atteinte dans les temps\n",
    "        if current == arrivee and temps_cumule <= temps_max:\n",
    "            pollution_moyenne = pollution_cumulee / len(chemin)\n",
    "            return {\n",
    "                'chemin': chemin,\n",
    "                'temps_total': round(temps_cumule, 2),\n",
    "                'pollution_moyenne': round(pollution_moyenne, 2)\n",
    "            }\n",
    "\n",
    "        for voisin in G.neighbors(current):\n",
    "            data = G[current][voisin]\n",
    "\n",
    "            # Pollution avec valeur par défaut\n",
    "            pollution = data.get('pollution', 999)\n",
    "            if pd.isna(pollution):\n",
    "                pollution = 999\n",
    "\n",
    "            # Temps avec vérification\n",
    "            temps = data.get('temps')\n",
    "            if temps is None:\n",
    "                continue\n",
    "\n",
    "            nouveau_temps = temps_cumule + temps\n",
    "            if nouveau_temps > temps_max:\n",
    "                continue\n",
    "\n",
    "            heappush(file, (\n",
    "                pollution_cumulee + pollution,\n",
    "                nouveau_temps,\n",
    "                voisin,\n",
    "                chemin\n",
    "            ))\n",
    "\n",
    "    return f\"Aucun chemin ne respecte la contrainte de temps maximale de {temps_max} minutes entre '{depart}' et '{arrivee}'.\"\n"
   ]
  },
  {
   "cell_type": "code",
   "execution_count": 112,
   "id": "bffb815d",
   "metadata": {},
   "outputs": [
    {
     "data": {
      "text/html": [
       "<div>\n",
       "<style scoped>\n",
       "    .dataframe tbody tr th:only-of-type {\n",
       "        vertical-align: middle;\n",
       "    }\n",
       "\n",
       "    .dataframe tbody tr th {\n",
       "        vertical-align: top;\n",
       "    }\n",
       "\n",
       "    .dataframe thead th {\n",
       "        text-align: right;\n",
       "    }\n",
       "</style>\n",
       "<table border=\"1\" class=\"dataframe\">\n",
       "  <thead>\n",
       "    <tr style=\"text-align: right;\">\n",
       "      <th></th>\n",
       "      <th>chemin</th>\n",
       "      <th>temps_total</th>\n",
       "      <th>pollution_moyenne</th>\n",
       "    </tr>\n",
       "  </thead>\n",
       "  <tbody>\n",
       "    <tr>\n",
       "      <th>0</th>\n",
       "      <td>[République, Commerce, Boucicaut, Strasbourg - Saint-Denis, Concorde, Palais Royal - Musée du Louvre, Gare de Lyon]</td>\n",
       "      <td>17.38</td>\n",
       "      <td>856.29</td>\n",
       "    </tr>\n",
       "  </tbody>\n",
       "</table>\n",
       "</div>"
      ],
      "text/plain": [
       "                                                                                                                chemin  \\\n",
       "0  [République, Commerce, Boucicaut, Strasbourg - Saint-Denis, Concorde, Palais Royal - Musée du Louvre, Gare de Lyon]   \n",
       "\n",
       "   temps_total  pollution_moyenne  \n",
       "0        17.38             856.29  "
      ]
     },
     "metadata": {},
     "output_type": "display_data"
    }
   ],
   "source": [
    "# Exemple avec affichage du résultat\n",
    "resultat = chemin_min_pollution(G, \"République\", \"Gare de Lyon\", 20)\n",
    "if isinstance(resultat, dict):\n",
    "    display(pd.DataFrame([resultat]))\n",
    "else:\n",
    "    print(resultat)"
   ]
  },
  {
   "cell_type": "code",
   "execution_count": 92,
   "id": "b1b44e77",
   "metadata": {},
   "outputs": [],
   "source": [
    "def tester_chemins_pollution(station_depart, station_arrivee):\n",
    "    \"\"\"\n",
    "    Teste les chemins entre deux stations selon différents seuils de pollution.\n",
    "    Affiche un tableau avec :\n",
    "    - Seuil utilisé\n",
    "    - Chemin trouvé ou non\n",
    "    - Trajet\n",
    "    - Pollution sur le trajet\n",
    "    \"\"\"\n",
    "    resultats_txt = []\n",
    "   \n",
    "    for seuil in [1, 2, 3]:\n",
    "        existe, chemin, pollution_chemin = chemin_pollution_txt(G_txt, station_depart, station_arrivee, seuil)\n",
    "       \n",
    "        pollution_textuelle = [\"faible\" if p == 1 else \"moyenne\" if p == 2 else \"élevée\" for p in pollution_chemin]\n",
    "       \n",
    "        if   seuil == 1: description_seuil = \"faible\"\n",
    "        elif seuil == 2: description_seuil = \"faible ou moyenne\"\n",
    "        else:            description_seuil = \"faible, moyenne ou élevée\"\n",
    "       \n",
    "        resultats_txt.append({\n",
    "            \"Seuil de pollution autorisé\": description_seuil,\n",
    "            \"Chemin trouvé\": \"Oui\" if existe else \"Non\",\n",
    "            \"Trajet\": \" -> \".join(chemin) if existe else \"Aucun\",\n",
    "            \"Pollution sur le trajet\": pollution_textuelle if existe else \"N/A\"\n",
    "        })\n",
    "    \n",
    "    return resultats_txt"
   ]
  },
  {
   "cell_type": "code",
   "execution_count": 94,
   "id": "89d99b83",
   "metadata": {},
   "outputs": [
    {
     "data": {
      "text/html": [
       "<div>\n",
       "<style scoped>\n",
       "    .dataframe tbody tr th:only-of-type {\n",
       "        vertical-align: middle;\n",
       "    }\n",
       "\n",
       "    .dataframe tbody tr th {\n",
       "        vertical-align: top;\n",
       "    }\n",
       "\n",
       "    .dataframe thead th {\n",
       "        text-align: right;\n",
       "    }\n",
       "</style>\n",
       "<table border=\"1\" class=\"dataframe\">\n",
       "  <thead>\n",
       "    <tr style=\"text-align: right;\">\n",
       "      <th></th>\n",
       "      <th>Seuil de pollution autorisé</th>\n",
       "      <th>Chemin trouvé</th>\n",
       "      <th>Trajet</th>\n",
       "      <th>Pollution sur le trajet</th>\n",
       "    </tr>\n",
       "  </thead>\n",
       "  <tbody>\n",
       "    <tr>\n",
       "      <th>0</th>\n",
       "      <td>faible</td>\n",
       "      <td>Non</td>\n",
       "      <td>Aucun</td>\n",
       "      <td>N/A</td>\n",
       "    </tr>\n",
       "    <tr>\n",
       "      <th>1</th>\n",
       "      <td>faible ou moyenne</td>\n",
       "      <td>Oui</td>\n",
       "      <td>Gare de Lyon -&gt; Palais Royal - Musée du Louvre -&gt; Concorde -&gt; Strasbourg - Saint-Denis -&gt; Boucicaut -&gt; Commerce -&gt; République</td>\n",
       "      <td>[moyenne, moyenne, moyenne, moyenne, faible, faible, moyenne]</td>\n",
       "    </tr>\n",
       "    <tr>\n",
       "      <th>2</th>\n",
       "      <td>faible, moyenne ou élevée</td>\n",
       "      <td>Oui</td>\n",
       "      <td>Gare de Lyon -&gt; Palais Royal - Musée du Louvre -&gt; Concorde -&gt; Strasbourg - Saint-Denis -&gt; Boucicaut -&gt; Commerce -&gt; République</td>\n",
       "      <td>[moyenne, moyenne, moyenne, moyenne, faible, faible, moyenne]</td>\n",
       "    </tr>\n",
       "  </tbody>\n",
       "</table>\n",
       "</div>"
      ],
      "text/plain": [
       "  Seuil de pollution autorisé Chemin trouvé  \\\n",
       "0                      faible           Non   \n",
       "1           faible ou moyenne           Oui   \n",
       "2   faible, moyenne ou élevée           Oui   \n",
       "\n",
       "                                                                                                                          Trajet  \\\n",
       "0                                                                                                                          Aucun   \n",
       "1  Gare de Lyon -> Palais Royal - Musée du Louvre -> Concorde -> Strasbourg - Saint-Denis -> Boucicaut -> Commerce -> République   \n",
       "2  Gare de Lyon -> Palais Royal - Musée du Louvre -> Concorde -> Strasbourg - Saint-Denis -> Boucicaut -> Commerce -> République   \n",
       "\n",
       "                                         Pollution sur le trajet  \n",
       "0                                                            N/A  \n",
       "1  [moyenne, moyenne, moyenne, moyenne, faible, faible, moyenne]  \n",
       "2  [moyenne, moyenne, moyenne, moyenne, faible, faible, moyenne]  "
      ]
     },
     "metadata": {},
     "output_type": "display_data"
    }
   ],
   "source": [
    "# Exemple d'utilisation\n",
    "resultats = tester_chemins_pollution(\"Gare de Lyon\", \"République\")\n",
    "if isinstance(resultats, list) and all(isinstance(r, dict) for r in resultats):\n",
    "    display(pd.DataFrame(resultats))\n",
    "else:\n",
    "    print(resultats)"
   ]
  },
  {
   "cell_type": "code",
   "execution_count": 98,
   "id": "31088531",
   "metadata": {},
   "outputs": [
    {
     "name": "stdout",
     "output_type": "stream",
     "text": [
      "✅ Coordonnées ajoutées à 216 stations.\n"
     ]
    }
   ],
   "source": [
    "# Charger les données avec les coordonnées GPS\n",
    "df_connexions = pd.read_csv(\"../Data/processed/trajets_stations_pollution.csv\")\n",
    "\n",
    "# Ajouter lat/lon aux nœuds de G_txt à partir de station1\n",
    "for _, row in df_connexions.iterrows():\n",
    "    s1, s2 = row['station1'], row['station2']\n",
    "\n",
    "    if s1 in G_txt.nodes:\n",
    "        G_txt.nodes[s1]['lat'] = row['lat_station1']\n",
    "        G_txt.nodes[s1]['lon'] = row['lon_station1']\n",
    "    if s2 in G_txt.nodes:\n",
    "        G_txt.nodes[s2]['lat'] = row['lat_station2']\n",
    "        G_txt.nodes[s2]['lon'] = row['lon_station2']\n",
    "\n",
    "# Vérification rapide (facultative)\n",
    "print(f\"✅ Coordonnées ajoutées à {len(G_txt.nodes)} stations.\")\n"
   ]
  },
  {
   "cell_type": "code",
   "execution_count": 113,
   "id": "ba85326f",
   "metadata": {},
   "outputs": [
    {
     "data": {
      "application/vnd.jupyter.widget-view+json": {
       "model_id": "b9c509beb33a49aaa1db56f62188d708",
       "version_major": 2,
       "version_minor": 0
      },
      "text/plain": [
       "VBox(children=(Dropdown(description='Départ', options=('Abbesses', 'Aimé Césaire', 'Alexandre Dumas', 'Alésia'…"
      ]
     },
     "metadata": {},
     "output_type": "display_data"
    },
    {
     "data": {
      "application/vnd.jupyter.widget-view+json": {
       "model_id": "d48b192ea8d0443c97a94ed79c73d79e",
       "version_major": 2,
       "version_minor": 0
      },
      "text/plain": [
       "Output()"
      ]
     },
     "metadata": {},
     "output_type": "display_data"
    }
   ],
   "source": [
    "import pandas as pd\n",
    "import plotly.graph_objects as go\n",
    "import ipywidgets as widgets\n",
    "from IPython.display import display\n",
    "\n",
    "# Préparation des stations disponibles\n",
    "stations_list = sorted(set(G_txt.nodes))\n",
    "\n",
    "# Widgets\n",
    "station_depart_widget = widgets.Dropdown(options=stations_list, description=\"Départ\")\n",
    "station_arrivee_widget = widgets.Dropdown(options=stations_list, description=\"Arrivée\")\n",
    "fonction_widget = widgets.RadioButtons(\n",
    "    options=[\"tester_chemins_pollution\", \"chemin_min_pollution\"],\n",
    "    description=\"Fonction:\"\n",
    ")\n",
    "temps_max_widget = widgets.IntSlider(value=15, min=1, max=60, step=1, description=\"Temps max\")\n",
    "\n",
    "def afficher_resultats(depart, arrivee, fonction, temps_max):\n",
    "    import itertools\n",
    "    from matplotlib import cm\n",
    "\n",
    "    print(f\"🟢 Départ : {depart}   🔵 Arrivée : {arrivee}\")\n",
    "    print(f\"📌 Fonction choisie : {fonction}\")\n",
    "\n",
    "    fig = go.Figure()\n",
    "    chemins_affiches = False\n",
    "    all_lats, all_lons = [], []\n",
    "\n",
    "    if fonction == \"tester_chemins_pollution\":\n",
    "        resultats = tester_chemins_pollution(depart, arrivee)\n",
    "        display(pd.DataFrame(resultats))\n",
    "\n",
    "        cmap = cm.get_cmap('tab10')\n",
    "        couleurs = itertools.cycle([\n",
    "            f'rgb({int(r*255)},{int(g*255)},{int(b*255)})'\n",
    "            for r, g, b, _ in cmap(np.linspace(0, 1, 10))\n",
    "        ])\n",
    "\n",
    "        for resultat in resultats:\n",
    "            if resultat[\"Chemin trouvé\"] == \"Oui\":\n",
    "                chemin = resultat[\"Trajet\"].split(\" -> \")\n",
    "                couleur = next(couleurs)\n",
    "\n",
    "                for i in range(len(chemin) - 1):\n",
    "                    n1, n2 = chemin[i], chemin[i+1]\n",
    "                    lat1, lon1 = G_txt.nodes[n1].get('lat'), G_txt.nodes[n1].get('lon')\n",
    "                    lat2, lon2 = G_txt.nodes[n2].get('lat'), G_txt.nodes[n2].get('lon')\n",
    "                    if lat1 and lon1 and lat2 and lon2:\n",
    "                        fig.add_trace(go.Scattermapbox(\n",
    "                            lat=[lat1, lat2],\n",
    "                            lon=[lon1, lon2],\n",
    "                            mode='lines',\n",
    "                            line=dict(width=2, color=couleur),\n",
    "                            showlegend=False\n",
    "                        ))\n",
    "                        all_lats += [lat1, lat2]\n",
    "                        all_lons += [lon1, lon2]\n",
    "\n",
    "                coords = []\n",
    "                for n in chemin:\n",
    "                    if n in G_txt.nodes:\n",
    "                        lat = G_txt.nodes[n].get('lat')\n",
    "                        lon = G_txt.nodes[n].get('lon')\n",
    "                        if lat is not None and lon is not None:\n",
    "                            coords.append((lat, lon))\n",
    "\n",
    "                fig.add_trace(go.Scattermapbox(\n",
    "                    lat=[lat for lat, lon in coords],\n",
    "                    lon=[lon for lat, lon in coords],\n",
    "                    mode='markers+text',\n",
    "                    text=chemin,\n",
    "                    marker=dict(size=9, color=couleur),\n",
    "                    name='Chemin'\n",
    "                ))\n",
    "\n",
    "                chemins_affiches = True\n",
    "\n",
    "    else:\n",
    "        res = chemin_min_pollution(G_txt, depart, arrivee, temps_max)\n",
    "        if isinstance(res, str):\n",
    "            print(res)\n",
    "            return\n",
    "        display(pd.DataFrame([res]))\n",
    "        chemin = res['chemin']\n",
    "\n",
    "        for i in range(len(chemin) - 1):\n",
    "            n1, n2 = chemin[i], chemin[i+1]\n",
    "            lat1, lon1 = G_txt.nodes[n1].get('lat'), G_txt.nodes[n1].get('lon')\n",
    "            lat2, lon2 = G_txt.nodes[n2].get('lat'), G_txt.nodes[n2].get('lon')\n",
    "            if lat1 and lon1 and lat2 and lon2:\n",
    "                fig.add_trace(go.Scattermapbox(\n",
    "                    lat=[lat1, lat2],\n",
    "                    lon=[lon1, lon2],\n",
    "                    mode='lines',\n",
    "                    line=dict(width=3, color='blue'),\n",
    "                    showlegend=False\n",
    "                ))\n",
    "                all_lats += [lat1, lat2]\n",
    "                all_lons += [lon1, lon2]\n",
    "\n",
    "        coords = []\n",
    "        for n in chemin:\n",
    "            if n in G_txt.nodes:\n",
    "                lat = G_txt.nodes[n].get('lat')\n",
    "                lon = G_txt.nodes[n].get('lon')\n",
    "                if lat is not None and lon is not None:\n",
    "                    coords.append((lat, lon))\n",
    "\n",
    "        fig.add_trace(go.Scattermapbox(\n",
    "            lat=[lat for lat, lon in coords],\n",
    "            lon=[lon for lat, lon in coords],\n",
    "            mode='markers+text',\n",
    "            text=chemin,\n",
    "            marker=dict(size=10, color='red'),\n",
    "            name='Chemin optimal'\n",
    "        ))\n",
    "\n",
    "        chemins_affiches = True\n",
    "\n",
    "    if chemins_affiches:\n",
    "        fig.update_layout(\n",
    "            mapbox_style=\"carto-positron\",\n",
    "            mapbox_zoom=11,\n",
    "            mapbox_center={\n",
    "                \"lat\": all_lats[0] if all_lats else 48.85,\n",
    "                \"lon\": all_lons[0] if all_lons else 2.35\n",
    "            },\n",
    "            height=600,\n",
    "            margin={\"r\": 0, \"t\": 30, \"l\": 0, \"b\": 0},\n",
    "            title=\"Trajets sur le graphe\"\n",
    "        )\n",
    "        fig.show()\n",
    "    else:\n",
    "        print(\"❗ Aucun chemin visualisable trouvé pour affichage cartographique.\")\n",
    "\n",
    "\n",
    "\n",
    "# Interface interactive\n",
    "ui = widgets.VBox([\n",
    "    station_depart_widget,\n",
    "    station_arrivee_widget,\n",
    "    fonction_widget,\n",
    "    temps_max_widget\n",
    "])\n",
    "\n",
    "out = widgets.interactive_output(\n",
    "    afficher_resultats,\n",
    "    {\n",
    "        'depart': station_depart_widget,\n",
    "        'arrivee': station_arrivee_widget,\n",
    "        'fonction': fonction_widget,\n",
    "        'temps_max': temps_max_widget\n",
    "    }\n",
    ")\n",
    "\n",
    "display(ui, out)\n"
   ]
  }
 ],
 "metadata": {
  "kernelspec": {
   "display_name": "Python 3 (ipykernel)",
   "language": "python",
   "name": "python3"
  },
  "language_info": {
   "codemirror_mode": {
    "name": "ipython",
    "version": 3
   },
   "file_extension": ".py",
   "mimetype": "text/x-python",
   "name": "python",
   "nbconvert_exporter": "python",
   "pygments_lexer": "ipython3",
   "version": "3.9.6"
  }
 },
 "nbformat": 4,
 "nbformat_minor": 5
}
