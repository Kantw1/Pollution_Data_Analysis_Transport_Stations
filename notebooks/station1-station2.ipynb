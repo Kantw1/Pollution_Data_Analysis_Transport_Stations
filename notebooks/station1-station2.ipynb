{
 "cells": [
  {
   "cell_type": "code",
   "execution_count": 2,
   "id": "f182b155-0769-491b-848f-a39c7632e822",
   "metadata": {},
   "outputs": [
    {
     "name": "stdout",
     "output_type": "stream",
     "text": [
      "Fichier généré : graphe_stations_reduit.csv\n",
      "Nombre de connexions uniques : 241\n"
     ]
    }
   ],
   "source": [
    "import pandas as pd\n",
    "\n",
    "# on charge le fichier avec le train\n",
    "df = pd.read_csv(\"../Data/processed/train.csv\")\n",
    "\n",
    "# on enleve les lignes qui nous semble inutile\n",
    "df = df[df['niveau_pollution'] != 'pas de données']\n",
    "df = df[['Nom de la Station', 'Nom de la ligne']].drop_duplicates()\n",
    "\n",
    "# on Groupe par ligne pour reconstituer les connections\n",
    "lines = df.groupby('Nom de la ligne')['Nom de la Station'].apply(list)\n",
    "\n",
    "# on genere  les connexions directes sur chaque ligne\n",
    "connections = []\n",
    "for stations in lines:\n",
    "    for i in range(len(stations) - 1):\n",
    "        s1 = stations[i]\n",
    "        s2 = stations[i + 1]\n",
    "        connections.append((s1, s2))\n",
    "        connections.append((s2, s1))  #on detecte les liens B->A pour les supprimer car ce son des doublons\n",
    "\n",
    "# On constuit la bdd\n",
    "df_conn = pd.DataFrame(connections, columns=['station1', 'station2'])\n",
    "df_conn['trajet_existe'] = True\n",
    "\n",
    "# on utilise la ligne pour supprimer les doublons\n",
    "df_conn_reduit = df_conn[df_conn['station1'] < df_conn['station2']]\n",
    "\n",
    "#csv\n",
    "df_conn_reduit.to_csv(\"graphe_stations_reduit.csv\", index=False)\n",
    "\n",
    "print(\"Fichier généré : graphe_stations_reduit.csv\")\n",
    "print(\"Nombre de connexions uniques :\", len(df_conn_reduit))\n"
   ]
  },
  {
   "cell_type": "code",
   "execution_count": null,
   "id": "68cd4a69-a8c0-4419-a471-7ba9b6f46ec1",
   "metadata": {},
   "outputs": [],
   "source": [
    "import networkx as nx\n",
    "\n",
    "G = nx.from_pandas_edgelist(df_conn[df_conn['trajet_existe']], 'station1', 'station2')\n",
    "nx.draw(G, with_labels=True, node_size=10, font_size=6)\n"
   ]
  },
  {
   "cell_type": "code",
   "execution_count": null,
   "id": "e7d19fe3-2f19-400c-ab9c-2892d883e852",
   "metadata": {},
   "outputs": [],
   "source": []
  }
 ],
 "metadata": {
  "kernelspec": {
   "display_name": "Python 3 (ipykernel)",
   "language": "python",
   "name": "python3"
  },
  "language_info": {
   "codemirror_mode": {
    "name": "ipython",
    "version": 3
   },
   "file_extension": ".py",
   "mimetype": "text/x-python",
   "name": "python",
   "nbconvert_exporter": "python",
   "pygments_lexer": "ipython3",
   "version": "3.9.6"
  }
 },
 "nbformat": 4,
 "nbformat_minor": 5
}
