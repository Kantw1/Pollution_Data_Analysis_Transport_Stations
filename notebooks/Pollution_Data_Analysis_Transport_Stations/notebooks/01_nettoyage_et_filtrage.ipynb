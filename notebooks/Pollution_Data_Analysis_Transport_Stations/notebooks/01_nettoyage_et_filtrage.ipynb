{
  "cells": [
    {
      "cell_type": "markdown",
      "metadata": {},
      "source": [
        "# Nettoyage et Filtrage du Dataset\n",
        "Ce notebook effectue les premi\u00e8res \u00e9tapes de traitement sur le fichier CSV original :\n",
        "- Suppression des lignes vides\n",
        "- Suppression des colonnes inutiles\n",
        "- Suppression des doublons\n",
        "- Filtrage des stations de m\u00e9tro\n",
        "- S\u00e9paration en train/test\n"
      ]
    },
    {
      "cell_type": "code",
      "execution_count": null,
      "metadata": {},
      "outputs": [],
      "source": [
        "import pandas as pd\n",
        "from sklearn.model_selection import train_test_split\n",
        "\n",
        "# Charger le dataset brut\n",
        "df = pd.read_csv('../data/raw/qualite-de-lair-dans-le-reseau-de-transport-francilien.csv', sep=';', low_memory=False)\n",
        "df.head()"
      ]
    },
    {
      "cell_type": "code",
      "execution_count": null,
      "metadata": {},
      "outputs": [],
      "source": [
        "# Supprimer les lignes vides et les doublons\n",
        "df.dropna(how='all', inplace=True)\n",
        "df.drop_duplicates(inplace=True)\n",
        "df.reset_index(drop=True, inplace=True)\n",
        "df.shape"
      ]
    },
    {
      "cell_type": "code",
      "execution_count": null,
      "metadata": {},
      "outputs": [],
      "source": [
        "# Afficher les colonnes\n",
        "df.columns.tolist()"
      ]
    },
    {
      "cell_type": "code",
      "execution_count": null,
      "metadata": {},
      "outputs": [],
      "source": [
        "# Supprimer les colonnes jug\u00e9es inutiles\n",
        "colonnes_a_supprimer = [\n",
        "    'Lien vers les mesures en direct', 'Dur\u00e9e des mesures', 'Mesures d\u2019am\u00e9lioration mises en place ou pr\u00e9vues',\n",
        "    'point_geo', 'pollution_air', 'niveau', 'actions'\n",
        "]\n",
        "df.drop(columns=colonnes_a_supprimer, inplace=True, errors='ignore')\n",
        "df.head()"
      ]
    },
    {
      "cell_type": "code",
      "execution_count": null,
      "metadata": {},
      "outputs": [],
      "source": [
        "# Garder uniquement les stations de m\u00e9tro\n",
        "df_metro = df[df['Nom de la ligne'].str.contains('M\u00e9tro', na=False)]\n",
        "df_metro.shape"
      ]
    },
    {
      "cell_type": "code",
      "execution_count": null,
      "metadata": {},
      "outputs": [],
      "source": [
        "# S\u00e9parer en train (70%) et test (30%)\n",
        "train, test = train_test_split(df_metro, test_size=0.3, random_state=42)\n",
        "\n",
        "# Sauvegarder les fichiers\n",
        "train.to_csv('../data/processed/train.csv', index=False)\n",
        "test.to_csv('../data/processed/test.csv', index=False)\n",
        "print('\u2705 Fichiers train.csv et test.csv enregistr\u00e9s.')"
      ]
    }
  ],
  "metadata": {
    "kernelspec": {
      "display_name": "Python 3",
      "language": "python",
      "name": "python3"
    },
    "language_info": {
      "name": "python",
      "version": "3.9"
    }
  },
  "nbformat": 4,
  "nbformat_minor": 2
}