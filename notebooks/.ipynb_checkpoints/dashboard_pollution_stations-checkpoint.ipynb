{
 "cells": [
  {
   "cell_type": "code",
   "execution_count": 1,
   "id": "72769c56",
   "metadata": {},
   "outputs": [],
   "source": [
    "\n",
    "import pandas as pd\n",
    "import plotly.express as px\n",
    "import ipywidgets as widgets\n",
    "from IPython.display import display\n",
    "import os\n"
   ]
  },
  {
   "cell_type": "code",
   "execution_count": 11,
   "id": "c1be97d2",
   "metadata": {},
   "outputs": [],
   "source": [
    "# chargement des données et localisation du fichier train.csv automatiquement\n",
    "base_dir = os.path.dirname(os.getcwd())  # monte d’un niveau\n",
    "csv_path = os.path.join(base_dir, \"Data\", \"processed\", \"metro_complet.csv\")\n",
    "\n",
    "# chargement du fichier CSV\n",
    "df = pd.read_csv(csv_path)\n",
    "df = df[df['Niveau de pollution'] != 'pas de données']"
   ]
  },
  {
   "cell_type": "code",
   "execution_count": 24,
   "id": "3cbd0113",
   "metadata": {},
   "outputs": [
    {
     "data": {
      "application/vnd.jupyter.widget-view+json": {
       "model_id": "5fd209dcfdf743e8964a9799f403e5d4",
       "version_major": 2,
       "version_minor": 0
      },
      "text/plain": [
       "interactive(children=(Dropdown(description='Ligne:', options=('Toutes', 'Métro 1', 'Métro 10', 'Métro 11', 'Mé…"
      ]
     },
     "metadata": {},
     "output_type": "display_data"
    },
    {
     "data": {
      "text/plain": [
       "<function __main__.afficher_carte(ligne)>"
      ]
     },
     "execution_count": 24,
     "metadata": {},
     "output_type": "execute_result"
    }
   ],
   "source": [
    "\n",
    "ligne_selector = widgets.Dropdown(\n",
    "    options=[\"Toutes\"] + sorted(df[\"Nom de la ligne\"].unique()),\n",
    "    description='Ligne:',\n",
    "    value=\"Toutes\"\n",
    ")\n",
    "\n",
    "def afficher_carte(ligne):\n",
    "    if ligne == \"Toutes\":\n",
    "        filtered = df\n",
    "    else:\n",
    "        filtered = df[df[\"Nom de la ligne\"] == ligne]\n",
    "\n",
    "    color_discrete_map = {\n",
    "        \"FAIBLE\": \"green\",\n",
    "        \"MOYENNE\": \"orange\",\n",
    "        \"ELEVE\": \"red\"\n",
    "    }\n",
    "\n",
    "    fig = px.scatter_mapbox(\n",
    "        filtered,\n",
    "        lat=\"stop_lat\",\n",
    "        lon=\"stop_lon\",\n",
    "        color=\"Niveau de pollution\",\n",
    "        hover_name=\"Nom de la Station\",\n",
    "        zoom=11,\n",
    "        height=500,\n",
    "        mapbox_style=\"carto-positron\",\n",
    "        title=f\"Stations de métro - {ligne if ligne != 'Toutes' else 'Toutes lignes'}\",\n",
    "        color_discrete_map=color_discrete_map\n",
    "    )\n",
    "    fig.show()\n",
    "\n",
    "widgets.interact(afficher_carte, ligne=ligne_selector)\n"
   ]
  },
  {
   "cell_type": "code",
   "execution_count": 25,
   "id": "f634c433",
   "metadata": {},
   "outputs": [
    {
     "data": {
      "application/vnd.plotly.v1+json": {
       "config": {
        "plotlyServerURL": "https://plot.ly"
       },
       "data": [
        {
         "alignmentgroup": "True",
         "hovertemplate": "Niveau de pollution=FAIBLE<br>Nom de la ligne=%{x}<br>Nombre de stations=%{y}<extra></extra>",
         "legendgroup": "FAIBLE",
         "marker": {
          "color": "green",
          "pattern": {
           "shape": ""
          }
         },
         "name": "FAIBLE",
         "offsetgroup": "FAIBLE",
         "orientation": "v",
         "showlegend": true,
         "textposition": "auto",
         "type": "bar",
         "x": [
          "Métro 1",
          "Métro 10",
          "Métro 11",
          "Métro 12",
          "Métro 13",
          "Métro 14",
          "Métro 3",
          "Métro 4",
          "Métro 7",
          "Métro 8"
         ],
         "xaxis": "x",
         "y": {
          "bdata": "DwQCChQIBhcMEQ==",
          "dtype": "i1"
         },
         "yaxis": "y"
        },
        {
         "alignmentgroup": "True",
         "hovertemplate": "Niveau de pollution=MOYENNE<br>Nom de la ligne=%{x}<br>Nombre de stations=%{y}<extra></extra>",
         "legendgroup": "MOYENNE",
         "marker": {
          "color": "orange",
          "pattern": {
           "shape": ""
          }
         },
         "name": "MOYENNE",
         "offsetgroup": "MOYENNE",
         "orientation": "v",
         "showlegend": true,
         "textposition": "auto",
         "type": "bar",
         "x": [
          "Métro 1",
          "Métro 10",
          "Métro 11",
          "Métro 12",
          "Métro 13",
          "Métro 14",
          "Métro 2",
          "Métro 3",
          "Métro 3B",
          "Métro 4",
          "Métro 5",
          "Métro 6",
          "Métro 7",
          "Métro 7B",
          "Métro 8",
          "Métro 9"
         ],
         "xaxis": "x",
         "y": {
          "bdata": "ChMRFQwMFhMEBhIcGggVHw==",
          "dtype": "i1"
         },
         "yaxis": "y"
        },
        {
         "alignmentgroup": "True",
         "hovertemplate": "Niveau de pollution=ELEVE<br>Nom de la ligne=%{x}<br>Nombre de stations=%{y}<extra></extra>",
         "legendgroup": "ELEVE",
         "marker": {
          "color": "red",
          "pattern": {
           "shape": ""
          }
         },
         "name": "ELEVE",
         "offsetgroup": "ELEVE",
         "orientation": "v",
         "showlegend": true,
         "textposition": "auto",
         "type": "bar",
         "x": [
          "Métro 2",
          "Métro 5",
          "Métro 9"
         ],
         "xaxis": "x",
         "y": {
          "bdata": "AwQG",
          "dtype": "i1"
         },
         "yaxis": "y"
        }
       ],
       "layout": {
        "barmode": "group",
        "legend": {
         "title": {
          "text": "Niveau de pollution"
         },
         "tracegroupgap": 0
        },
        "template": {
         "data": {
          "bar": [
           {
            "error_x": {
             "color": "#2a3f5f"
            },
            "error_y": {
             "color": "#2a3f5f"
            },
            "marker": {
             "line": {
              "color": "#E5ECF6",
              "width": 0.5
             },
             "pattern": {
              "fillmode": "overlay",
              "size": 10,
              "solidity": 0.2
             }
            },
            "type": "bar"
           }
          ],
          "barpolar": [
           {
            "marker": {
             "line": {
              "color": "#E5ECF6",
              "width": 0.5
             },
             "pattern": {
              "fillmode": "overlay",
              "size": 10,
              "solidity": 0.2
             }
            },
            "type": "barpolar"
           }
          ],
          "carpet": [
           {
            "aaxis": {
             "endlinecolor": "#2a3f5f",
             "gridcolor": "white",
             "linecolor": "white",
             "minorgridcolor": "white",
             "startlinecolor": "#2a3f5f"
            },
            "baxis": {
             "endlinecolor": "#2a3f5f",
             "gridcolor": "white",
             "linecolor": "white",
             "minorgridcolor": "white",
             "startlinecolor": "#2a3f5f"
            },
            "type": "carpet"
           }
          ],
          "choropleth": [
           {
            "colorbar": {
             "outlinewidth": 0,
             "ticks": ""
            },
            "type": "choropleth"
           }
          ],
          "contour": [
           {
            "colorbar": {
             "outlinewidth": 0,
             "ticks": ""
            },
            "colorscale": [
             [
              0,
              "#0d0887"
             ],
             [
              0.1111111111111111,
              "#46039f"
             ],
             [
              0.2222222222222222,
              "#7201a8"
             ],
             [
              0.3333333333333333,
              "#9c179e"
             ],
             [
              0.4444444444444444,
              "#bd3786"
             ],
             [
              0.5555555555555556,
              "#d8576b"
             ],
             [
              0.6666666666666666,
              "#ed7953"
             ],
             [
              0.7777777777777778,
              "#fb9f3a"
             ],
             [
              0.8888888888888888,
              "#fdca26"
             ],
             [
              1,
              "#f0f921"
             ]
            ],
            "type": "contour"
           }
          ],
          "contourcarpet": [
           {
            "colorbar": {
             "outlinewidth": 0,
             "ticks": ""
            },
            "type": "contourcarpet"
           }
          ],
          "heatmap": [
           {
            "colorbar": {
             "outlinewidth": 0,
             "ticks": ""
            },
            "colorscale": [
             [
              0,
              "#0d0887"
             ],
             [
              0.1111111111111111,
              "#46039f"
             ],
             [
              0.2222222222222222,
              "#7201a8"
             ],
             [
              0.3333333333333333,
              "#9c179e"
             ],
             [
              0.4444444444444444,
              "#bd3786"
             ],
             [
              0.5555555555555556,
              "#d8576b"
             ],
             [
              0.6666666666666666,
              "#ed7953"
             ],
             [
              0.7777777777777778,
              "#fb9f3a"
             ],
             [
              0.8888888888888888,
              "#fdca26"
             ],
             [
              1,
              "#f0f921"
             ]
            ],
            "type": "heatmap"
           }
          ],
          "histogram": [
           {
            "marker": {
             "pattern": {
              "fillmode": "overlay",
              "size": 10,
              "solidity": 0.2
             }
            },
            "type": "histogram"
           }
          ],
          "histogram2d": [
           {
            "colorbar": {
             "outlinewidth": 0,
             "ticks": ""
            },
            "colorscale": [
             [
              0,
              "#0d0887"
             ],
             [
              0.1111111111111111,
              "#46039f"
             ],
             [
              0.2222222222222222,
              "#7201a8"
             ],
             [
              0.3333333333333333,
              "#9c179e"
             ],
             [
              0.4444444444444444,
              "#bd3786"
             ],
             [
              0.5555555555555556,
              "#d8576b"
             ],
             [
              0.6666666666666666,
              "#ed7953"
             ],
             [
              0.7777777777777778,
              "#fb9f3a"
             ],
             [
              0.8888888888888888,
              "#fdca26"
             ],
             [
              1,
              "#f0f921"
             ]
            ],
            "type": "histogram2d"
           }
          ],
          "histogram2dcontour": [
           {
            "colorbar": {
             "outlinewidth": 0,
             "ticks": ""
            },
            "colorscale": [
             [
              0,
              "#0d0887"
             ],
             [
              0.1111111111111111,
              "#46039f"
             ],
             [
              0.2222222222222222,
              "#7201a8"
             ],
             [
              0.3333333333333333,
              "#9c179e"
             ],
             [
              0.4444444444444444,
              "#bd3786"
             ],
             [
              0.5555555555555556,
              "#d8576b"
             ],
             [
              0.6666666666666666,
              "#ed7953"
             ],
             [
              0.7777777777777778,
              "#fb9f3a"
             ],
             [
              0.8888888888888888,
              "#fdca26"
             ],
             [
              1,
              "#f0f921"
             ]
            ],
            "type": "histogram2dcontour"
           }
          ],
          "mesh3d": [
           {
            "colorbar": {
             "outlinewidth": 0,
             "ticks": ""
            },
            "type": "mesh3d"
           }
          ],
          "parcoords": [
           {
            "line": {
             "colorbar": {
              "outlinewidth": 0,
              "ticks": ""
             }
            },
            "type": "parcoords"
           }
          ],
          "pie": [
           {
            "automargin": true,
            "type": "pie"
           }
          ],
          "scatter": [
           {
            "fillpattern": {
             "fillmode": "overlay",
             "size": 10,
             "solidity": 0.2
            },
            "type": "scatter"
           }
          ],
          "scatter3d": [
           {
            "line": {
             "colorbar": {
              "outlinewidth": 0,
              "ticks": ""
             }
            },
            "marker": {
             "colorbar": {
              "outlinewidth": 0,
              "ticks": ""
             }
            },
            "type": "scatter3d"
           }
          ],
          "scattercarpet": [
           {
            "marker": {
             "colorbar": {
              "outlinewidth": 0,
              "ticks": ""
             }
            },
            "type": "scattercarpet"
           }
          ],
          "scattergeo": [
           {
            "marker": {
             "colorbar": {
              "outlinewidth": 0,
              "ticks": ""
             }
            },
            "type": "scattergeo"
           }
          ],
          "scattergl": [
           {
            "marker": {
             "colorbar": {
              "outlinewidth": 0,
              "ticks": ""
             }
            },
            "type": "scattergl"
           }
          ],
          "scattermap": [
           {
            "marker": {
             "colorbar": {
              "outlinewidth": 0,
              "ticks": ""
             }
            },
            "type": "scattermap"
           }
          ],
          "scattermapbox": [
           {
            "marker": {
             "colorbar": {
              "outlinewidth": 0,
              "ticks": ""
             }
            },
            "type": "scattermapbox"
           }
          ],
          "scatterpolar": [
           {
            "marker": {
             "colorbar": {
              "outlinewidth": 0,
              "ticks": ""
             }
            },
            "type": "scatterpolar"
           }
          ],
          "scatterpolargl": [
           {
            "marker": {
             "colorbar": {
              "outlinewidth": 0,
              "ticks": ""
             }
            },
            "type": "scatterpolargl"
           }
          ],
          "scatterternary": [
           {
            "marker": {
             "colorbar": {
              "outlinewidth": 0,
              "ticks": ""
             }
            },
            "type": "scatterternary"
           }
          ],
          "surface": [
           {
            "colorbar": {
             "outlinewidth": 0,
             "ticks": ""
            },
            "colorscale": [
             [
              0,
              "#0d0887"
             ],
             [
              0.1111111111111111,
              "#46039f"
             ],
             [
              0.2222222222222222,
              "#7201a8"
             ],
             [
              0.3333333333333333,
              "#9c179e"
             ],
             [
              0.4444444444444444,
              "#bd3786"
             ],
             [
              0.5555555555555556,
              "#d8576b"
             ],
             [
              0.6666666666666666,
              "#ed7953"
             ],
             [
              0.7777777777777778,
              "#fb9f3a"
             ],
             [
              0.8888888888888888,
              "#fdca26"
             ],
             [
              1,
              "#f0f921"
             ]
            ],
            "type": "surface"
           }
          ],
          "table": [
           {
            "cells": {
             "fill": {
              "color": "#EBF0F8"
             },
             "line": {
              "color": "white"
             }
            },
            "header": {
             "fill": {
              "color": "#C8D4E3"
             },
             "line": {
              "color": "white"
             }
            },
            "type": "table"
           }
          ]
         },
         "layout": {
          "annotationdefaults": {
           "arrowcolor": "#2a3f5f",
           "arrowhead": 0,
           "arrowwidth": 1
          },
          "autotypenumbers": "strict",
          "coloraxis": {
           "colorbar": {
            "outlinewidth": 0,
            "ticks": ""
           }
          },
          "colorscale": {
           "diverging": [
            [
             0,
             "#8e0152"
            ],
            [
             0.1,
             "#c51b7d"
            ],
            [
             0.2,
             "#de77ae"
            ],
            [
             0.3,
             "#f1b6da"
            ],
            [
             0.4,
             "#fde0ef"
            ],
            [
             0.5,
             "#f7f7f7"
            ],
            [
             0.6,
             "#e6f5d0"
            ],
            [
             0.7,
             "#b8e186"
            ],
            [
             0.8,
             "#7fbc41"
            ],
            [
             0.9,
             "#4d9221"
            ],
            [
             1,
             "#276419"
            ]
           ],
           "sequential": [
            [
             0,
             "#0d0887"
            ],
            [
             0.1111111111111111,
             "#46039f"
            ],
            [
             0.2222222222222222,
             "#7201a8"
            ],
            [
             0.3333333333333333,
             "#9c179e"
            ],
            [
             0.4444444444444444,
             "#bd3786"
            ],
            [
             0.5555555555555556,
             "#d8576b"
            ],
            [
             0.6666666666666666,
             "#ed7953"
            ],
            [
             0.7777777777777778,
             "#fb9f3a"
            ],
            [
             0.8888888888888888,
             "#fdca26"
            ],
            [
             1,
             "#f0f921"
            ]
           ],
           "sequentialminus": [
            [
             0,
             "#0d0887"
            ],
            [
             0.1111111111111111,
             "#46039f"
            ],
            [
             0.2222222222222222,
             "#7201a8"
            ],
            [
             0.3333333333333333,
             "#9c179e"
            ],
            [
             0.4444444444444444,
             "#bd3786"
            ],
            [
             0.5555555555555556,
             "#d8576b"
            ],
            [
             0.6666666666666666,
             "#ed7953"
            ],
            [
             0.7777777777777778,
             "#fb9f3a"
            ],
            [
             0.8888888888888888,
             "#fdca26"
            ],
            [
             1,
             "#f0f921"
            ]
           ]
          },
          "colorway": [
           "#636efa",
           "#EF553B",
           "#00cc96",
           "#ab63fa",
           "#FFA15A",
           "#19d3f3",
           "#FF6692",
           "#B6E880",
           "#FF97FF",
           "#FECB52"
          ],
          "font": {
           "color": "#2a3f5f"
          },
          "geo": {
           "bgcolor": "white",
           "lakecolor": "white",
           "landcolor": "#E5ECF6",
           "showlakes": true,
           "showland": true,
           "subunitcolor": "white"
          },
          "hoverlabel": {
           "align": "left"
          },
          "hovermode": "closest",
          "mapbox": {
           "style": "light"
          },
          "paper_bgcolor": "white",
          "plot_bgcolor": "#E5ECF6",
          "polar": {
           "angularaxis": {
            "gridcolor": "white",
            "linecolor": "white",
            "ticks": ""
           },
           "bgcolor": "#E5ECF6",
           "radialaxis": {
            "gridcolor": "white",
            "linecolor": "white",
            "ticks": ""
           }
          },
          "scene": {
           "xaxis": {
            "backgroundcolor": "#E5ECF6",
            "gridcolor": "white",
            "gridwidth": 2,
            "linecolor": "white",
            "showbackground": true,
            "ticks": "",
            "zerolinecolor": "white"
           },
           "yaxis": {
            "backgroundcolor": "#E5ECF6",
            "gridcolor": "white",
            "gridwidth": 2,
            "linecolor": "white",
            "showbackground": true,
            "ticks": "",
            "zerolinecolor": "white"
           },
           "zaxis": {
            "backgroundcolor": "#E5ECF6",
            "gridcolor": "white",
            "gridwidth": 2,
            "linecolor": "white",
            "showbackground": true,
            "ticks": "",
            "zerolinecolor": "white"
           }
          },
          "shapedefaults": {
           "line": {
            "color": "#2a3f5f"
           }
          },
          "ternary": {
           "aaxis": {
            "gridcolor": "white",
            "linecolor": "white",
            "ticks": ""
           },
           "baxis": {
            "gridcolor": "white",
            "linecolor": "white",
            "ticks": ""
           },
           "bgcolor": "#E5ECF6",
           "caxis": {
            "gridcolor": "white",
            "linecolor": "white",
            "ticks": ""
           }
          },
          "title": {
           "x": 0.05
          },
          "xaxis": {
           "automargin": true,
           "gridcolor": "white",
           "linecolor": "white",
           "ticks": "",
           "title": {
            "standoff": 15
           },
           "zerolinecolor": "white",
           "zerolinewidth": 2
          },
          "yaxis": {
           "automargin": true,
           "gridcolor": "white",
           "linecolor": "white",
           "ticks": "",
           "title": {
            "standoff": 15
           },
           "zerolinecolor": "white",
           "zerolinewidth": 2
          }
         }
        },
        "title": {
         "text": "Niveau de pollution par ligne de métro"
        },
        "xaxis": {
         "anchor": "y",
         "domain": [
          0,
          1
         ],
         "title": {
          "text": "Nom de la ligne"
         }
        },
        "yaxis": {
         "anchor": "x",
         "domain": [
          0,
          1
         ],
         "title": {
          "text": "Nombre de stations"
         }
        }
       }
      }
     },
     "metadata": {},
     "output_type": "display_data"
    }
   ],
   "source": [
    "import plotly.express as px\n",
    "\n",
    "# Regroupement\n",
    "pollution_counts = df.groupby([\"Nom de la ligne\", \"Niveau de pollution\"]).size().reset_index(name='Nombre de stations')\n",
    "\n",
    "# Définir la couleur personnalisée\n",
    "color_discrete_map = {\n",
    "    \"FAIBLE\": \"green\",\n",
    "    \"MOYENNE\": \"orange\",\n",
    "    \"ELEVE\": \"red\"\n",
    "}\n",
    "\n",
    "# Graphique\n",
    "fig = px.bar(\n",
    "    pollution_counts,\n",
    "    x=\"Nom de la ligne\",\n",
    "    y=\"Nombre de stations\",\n",
    "    color=\"Niveau de pollution\",\n",
    "    barmode=\"group\",\n",
    "    title=\"Niveau de pollution par ligne de métro\",\n",
    "    color_discrete_map=color_discrete_map\n",
    ")\n",
    "\n",
    "fig.show()\n"
   ]
  },
  {
   "cell_type": "code",
   "execution_count": 27,
   "id": "32476da9",
   "metadata": {},
   "outputs": [
    {
     "data": {
      "application/vnd.plotly.v1+json": {
       "config": {
        "plotlyServerURL": "https://plot.ly"
       },
       "data": [
        {
         "cells": {
          "align": "left",
          "fill": {
           "color": "lavender"
          },
          "font": {
           "size": 11
          },
          "values": [
           [
            "Abbesses",
            "Aimé Césaire",
            "Alexandre Dumas",
            "Alma - Marceau",
            "Alésia",
            "Anatole France",
            "Anvers",
            "Argentine",
            "Arts et Métiers",
            "Asnières - Gennevilliers Les Courtilles",
            "Assemblée Nationale",
            "Aubervilliers-Pantin Quatre Chemins",
            "Avenue Emile Zola",
            "Avron",
            "Aéroport d'Orly",
            "Bagneux - Lucie Aubrac",
            "Balard",
            "Barbara",
            "Barbès - Rochechouart",
            "Basilique de Saint-Denis",
            "Bastille",
            "Bel-Air",
            "Belleville",
            "Bercy",
            "Bibliothèque François Mitterrand",
            "Billancourt",
            "Bir-Hakeim",
            "Blanche",
            "Bobigny Pablo Picasso",
            "Bobigny-Pantin - Raymond Queneau",
            "Boissière",
            "Bolivar",
            "Bonne Nouvelle",
            "Botzaris",
            "Boucicaut",
            "Boulogne Jean Jaurès",
            "Boulogne Pont de Saint-Cloud",
            "Bourse",
            "Brochant",
            "Bréguet-Sabin",
            "Buttes Chaumont",
            "Buzenval",
            "Bérault",
            "Cadet",
            "Cambronne",
            "Campo-Formio",
            "Cardinal Lemoine",
            "Carrefour Pleyel",
            "Censier - Daubenton",
            "Champs-Elysées - Clemenceau",
            "Chardon Lagache",
            "Charenton - Ecoles",
            "Charles Michels",
            "Charles de Gaulle - Etoile",
            "Charonne",
            "Chaussée d'Antin - La Fayette",
            "Chemin Vert",
            "Chevaleret",
            "Chevilly-Larue (Marché International)",
            "Château Landon",
            "Château Rouge",
            "Château d'Eau",
            "Château de Vincennes",
            "Châtelet",
            "Châtillon-Montrouge",
            "Cité",
            "Cluny - La Sorbonne",
            "Colonel Fabien",
            "Commerce",
            "Concorde",
            "Convention",
            "Corentin Cariou",
            "Corentin Celton",
            "Corvisart",
            "Coteaux Beauclair",
            "Cour Saint-Emilion",
            "Courcelles",
            "Couronnes",
            "Crimée",
            "Croix de Chavaux",
            "Créteil - L'Echat",
            "Créteil - Préfecture",
            "Créteil - Université",
            "Danube",
            "Daumesnil",
            "Denfert-Rochereau",
            "Dugommier",
            "Dupleix",
            "Duroc",
            "Ecole Militaire",
            "Ecole Vétérinaire de Maisons-Alfort",
            "Edgar Quinet",
            "Eglise d'Auteuil",
            "Eglise de Pantin",
            "Esplanade de la Défense",
            "Etienne Marcel",
            "Europe",
            "Exelmans",
            "Faidherbe - Chaligny",
            "Falguière",
            "Filles du Calvaire",
            "Fort d'Aubervilliers",
            "Franklin D. Roosevelt",
            "Front Populaire",
            "Félix Faure",
            "Gabriel Péri",
            "Gallieni",
            "Gambetta",
            "Gare d'Austerlitz",
            "Gare de Lyon",
            "Gare de l'Est",
            "Gare du Nord",
            "Garibaldi",
            "Gaîté",
            "George V",
            "Glacière",
            "Goncourt",
            "Grands Boulevards",
            "Guy Môquet",
            "Havre-Caumartin",
            "Hoche",
            "Hôpital Bicêtre",
            "Hôtel de Ville",
            "Invalides",
            "Iéna",
            "Jacques Bonsergent",
            "Jasmin",
            "Jaurès",
            "Javel - André Citroën",
            "Jourdain",
            "Jules Joffrin",
            "Jussieu",
            "Kléber",
            "L'Haÿ-les-Roses",
            "La Chapelle",
            "La Courneuve - 8 Mai 1945",
            "La Dhuys",
            "La Défense (Grande Arche)",
            "La Fourche",
            "La Motte-Picquet - Grenelle",
            "La Muette",
            "La Tour-Maubourg",
            "Lamarck - Caulaincourt",
            "Laumière",
            "Le Kremlin-Bicêtre",
            "Le Peletier",
            "Ledru-Rollin",
            "Les Agnettes",
            "Les Gobelins",
            "Les Halles",
            "Les Sablons",
            "Liberté",
            "Liège",
            "Louis Blanc",
            "Louise Michel",
            "Lourmel",
            "Louvre - Rivoli",
            "Mabillon",
            "Madeleine",
            "Mairie d'Aubervilliers",
            "Mairie d'Issy",
            "Mairie d'Ivry",
            "Mairie de Clichy",
            "Mairie de Montreuil",
            "Mairie de Montrouge",
            "Mairie de Saint-Ouen",
            "Mairie des Lilas",
            "Maison Blanche",
            "Maisons-Alfort - Les Juilliottes",
            "Maisons-Alfort - Stade",
            "Malakoff - Plateau de Vanves",
            "Malakoff - Rue Etienne Dolet",
            "Malesherbes",
            "Maraîchers",
            "Marcadet - Poissonniers",
            "Marcel Sembat",
            "Marx Dormoy",
            "Maubert - Mutualité",
            "Michel Bizot",
            "Michel-Ange - Auteuil",
            "Michel-Ange - Molitor",
            "Mirabeau",
            "Miromesnil",
            "Monceau",
            "Montgallet",
            "Montparnasse Bienvenue",
            "Montreuil - Hôpital",
            "Mouton-Duvernet",
            "Ménilmontant",
            "Nation",
            "Nationale",
            "Notre-Dame des Champs",
            "Notre-Dame-de-Lorette",
            "Oberkampf",
            "Odéon",
            "Olympiades",
            "Opéra",
            "Ourcq",
            "Palais Royal - Musée du Louvre",
            "Parmentier",
            "Passy",
            "Pasteur",
            "Pelleport",
            "Pereire",
            "Pernety",
            "Philippe Auguste",
            "Picpus",
            "Pierre et Marie Curie",
            "Pigalle",
            "Place Monge",
            "Place d'Italie",
            "Place de Clichy",
            "Place des Fêtes",
            "Plaisance",
            "Pointe du Lac",
            "Poissonnière",
            "Pont Cardinet",
            "Pont Marie (Cité des Arts)",
            "Pont Neuf",
            "Pont de Levallois - Bécon",
            "Pont de Neuilly",
            "Pont de Sèvres",
            "Porte Dauphine",
            "Porte Dorée",
            "Porte Maillot",
            "Porte d'Auteuil",
            "Porte d'Italie",
            "Porte d'Ivry",
            "Porte d'Orléans",
            "Porte de Bagnolet",
            "Porte de Champerret",
            "Porte de Charenton",
            "Porte de Choisy",
            "Porte de Clichy",
            "Porte de Clignancourt",
            "Porte de Montreuil",
            "Porte de Pantin",
            "Porte de Saint-Cloud",
            "Porte de Saint-Ouen",
            "Porte de Vanves",
            "Porte de Versailles",
            "Porte de Vincennes",
            "Porte de la Chapelle",
            "Porte de la Villette",
            "Porte des Lilas",
            "Pré-Saint-Gervais",
            "Pyramides",
            "Pyrénées",
            "Père Lachaise",
            "Quai de la Gare",
            "Quai de la Rapée",
            "Quatre Septembre",
            "Rambuteau",
            "Ranelagh",
            "Raspail",
            "Rennes",
            "Reuilly - Diderot",
            "Richard-Lenoir",
            "Richelieu - Drouot",
            "Riquet",
            "Robespierre",
            "Romainville-Carnot",
            "Rome",
            "Rosny-Bois-Perrier",
            "Rue Saint-Maur",
            "Rue de la Pompe",
            "Rue des Boulets",
            "Rue du Bac",
            "Réaumur - Sébastopol",
            "République",
            "Saint-Ambroise",
            "Saint-Augustin",
            "Saint-Denis - Pleyel",
            "Saint-Denis - Porte de Paris",
            "Saint-Denis - Université",
            "Saint-Fargeau",
            "Saint-François-Xavier",
            "Saint-Georges",
            "Saint-Germain-des-Prés",
            "Saint-Jacques",
            "Saint-Lazare",
            "Saint-Mandé",
            "Saint-Marcel",
            "Saint-Michel",
            "Saint-Ouen",
            "Saint-Paul (Le Marais)",
            "Saint-Philippe-du-Roule",
            "Saint-Placide",
            "Saint-Sulpice",
            "Saint-Sébastien - Froissart",
            "Sentier",
            "Serge Gainsbourg",
            "Simplon",
            "Solférino",
            "Stalingrad",
            "Strasbourg - Saint-Denis",
            "Sully - Morland",
            "Sèvres - Babylone",
            "Sèvres-Lecourbe",
            "Ségur",
            "Temple",
            "Ternes",
            "Thiais - Orly (Pont de Rungis)",
            "Tolbiac",
            "Trinité - d'Estienne d'Orves",
            "Trocadéro",
            "Tuileries",
            "Télégraphe",
            "Vaneau",
            "Varenne",
            "Vaugirard",
            "Vavin",
            "Victor Hugo",
            "Villejuif - Louis Aragon",
            "Villejuif Léo Lagrange",
            "Villejuif Paul Vaillant-Couturier",
            "Villiers",
            "Volontaires",
            "Voltaire",
            "Wagram"
           ],
           [
            "IDFM:463116",
            "IDFM:483900",
            "IDFM:22122",
            "IDFM:463052",
            "IDFM:463118",
            "IDFM:22036",
            "IDFM:22123",
            "IDFM:463121",
            "IDFM:21994, IDFM:21997",
            "IDFM:22233",
            "IDFM:463123",
            "IDFM:463031",
            "IDFM:463124",
            "IDFM:22124",
            "IDFM:490917",
            "IDFM:483314",
            "IDFM:463051",
            "IDFM:483277",
            "IDFM:22130, IDFM:463094",
            "IDFM:22240",
            "IDFM:22010, IDFM:22097, IDFM:463019",
            "IDFM:463127",
            "IDFM:22128, IDFM:463110",
            "IDFM:22178, IDFM:463129",
            "IDFM:463112",
            "IDFM:463035",
            "IDFM:463005",
            "IDFM:463113",
            "IDFM:463131",
            "IDFM:22014",
            "IDFM:463114",
            "IDFM:463132",
            "IDFM:463115, IDFM:463133",
            "IDFM:463134",
            "IDFM:22188",
            "IDFM:463137",
            "IDFM:463136",
            "IDFM:22033",
            "IDFM:22231",
            "IDFM:22008",
            "IDFM:24683",
            "IDFM:463039",
            "IDFM:463130",
            "IDFM:463139",
            "IDFM:22176",
            "IDFM:22009",
            "IDFM:463141",
            "IDFM:462976",
            "IDFM:22391",
            "IDFM:22090, IDFM:22093",
            "IDFM:21985",
            "IDFM:22210",
            "IDFM:21986",
            "IDFM:22095, IDFM:463013, IDFM:463043",
            "IDFM:21934",
            "IDFM:22388, IDFM:463144",
            "IDFM:463146",
            "IDFM:463147",
            "IDFM:490851",
            "IDFM:22367",
            "IDFM:22152",
            "IDFM:462979",
            "IDFM:463149",
            "IDFM:21966, IDFM:22087, IDFM:22092, IDFM:22364, IDFM:463159",
            "IDFM:22237",
            "IDFM:22150",
            "IDFM:462944",
            "IDFM:22120",
            "IDFM:463162",
            "IDFM:22057, IDFM:22096, IDFM:463150",
            "IDFM:462949",
            "IDFM:463152",
            "IDFM:22061",
            "IDFM:463105",
            "IDFM:490770",
            "IDFM:463165",
            "IDFM:22121",
            "IDFM:22126",
            "IDFM:463155",
            "IDFM:21943",
            "IDFM:463166",
            "IDFM:463056",
            "IDFM:463167",
            "IDFM:24687",
            "IDFM:463168, IDFM:463169",
            "IDFM:22151, IDFM:463103",
            "IDFM:463075",
            "IDFM:22171",
            "IDFM:21970, IDFM:463083",
            "IDFM:463177",
            "IDFM:22214",
            "IDFM:22172",
            "IDFM:21971",
            "IDFM:22016",
            "IDFM:463170",
            "IDFM:463171",
            "IDFM:463069",
            "IDFM:462956",
            "IDFM:22204",
            "IDFM:22056",
            "IDFM:22200",
            "IDFM:22393",
            "IDFM:21931, IDFM:22082",
            "IDFM:463082",
            "IDFM:22189",
            "IDFM:462953",
            "IDFM:463174",
            "IDFM:462991, IDFM:462997",
            "IDFM:21981, IDFM:463024",
            "IDFM:463046, IDFM:463197",
            "IDFM:22013, IDFM:22148, IDFM:463001",
            "IDFM:22149, IDFM:463182",
            "IDFM:22244",
            "IDFM:463184",
            "IDFM:22084",
            "IDFM:22173",
            "IDFM:21996",
            "IDFM:22197, IDFM:463049",
            "IDFM:462952",
            "IDFM:21906, IDFM:463188",
            "IDFM:463017",
            "IDFM:490839",
            "IDFM:22091, IDFM:463061",
            "IDFM:22185, IDFM:22193",
            "IDFM:21927",
            "IDFM:22011",
            "IDFM:21928",
            "IDFM:21952, IDFM:22118, IDFM:24680",
            "IDFM:21972",
            "IDFM:21995",
            "IDFM:463065",
            "IDFM:463077, IDFM:463078",
            "IDFM:22170",
            "IDFM:490837",
            "IDFM:462982",
            "IDFM:22395",
            "IDFM:490791",
            "IDFM:22101",
            "IDFM:22227",
            "IDFM:22183, IDFM:463194, IDFM:463202",
            "IDFM:21929",
            "IDFM:22192",
            "IDFM:463205",
            "IDFM:462999",
            "IDFM:22398",
            "IDFM:463206",
            "IDFM:22203",
            "IDFM:22232",
            "IDFM:463216",
            "IDFM:22146",
            "IDFM:463217",
            "IDFM:463209",
            "IDFM:22225",
            "IDFM:22384, IDFM:463034",
            "IDFM:22034",
            "IDFM:22187",
            "IDFM:463218",
            "IDFM:21973",
            "IDFM:21961, IDFM:22194, IDFM:463081",
            "IDFM:483904",
            "IDFM:463219",
            "IDFM:463220",
            "IDFM:22238",
            "IDFM:21941",
            "IDFM:26602",
            "IDFM:463212, IDFM:480330",
            "IDFM:21999",
            "IDFM:463224, IDFM:490841",
            "IDFM:22216",
            "IDFM:22215",
            "IDFM:22235",
            "IDFM:463214",
            "IDFM:463068",
            "IDFM:463215",
            "IDFM:462973, IDFM:462974",
            "IDFM:462914",
            "IDFM:463236",
            "IDFM:21975",
            "IDFM:463226",
            "IDFM:21907, IDFM:463238",
            "IDFM:21904, IDFM:463239",
            "IDFM:21982",
            "IDFM:22224, IDFM:462957",
            "IDFM:463240",
            "IDFM:463241",
            "IDFM:22143, IDFM:22157, IDFM:462955, IDFM:462980",
            "IDFM:490789",
            "IDFM:22144",
            "IDFM:22116",
            "IDFM:21919, IDFM:22072, IDFM:22073, IDFM:22080",
            "IDFM:22169",
            "IDFM:22051",
            "IDFM:463062",
            "IDFM:21925, IDFM:463059",
            "IDFM:21978, IDFM:22145",
            "IDFM:463045",
            "IDFM:22195, IDFM:22381, IDFM:463246",
            "IDFM:22005",
            "IDFM:22079, IDFM:22376",
            "IDFM:22019",
            "IDFM:22165",
            "IDFM:22166, IDFM:462947",
            "IDFM:21948",
            "IDFM:463228",
            "IDFM:463229",
            "IDFM:463230",
            "IDFM:463098",
            "IDFM:22397",
            "IDFM:22040, IDFM:22114",
            "IDFM:22366",
            "IDFM:22006, IDFM:463003, IDFM:463026",
            "IDFM:22115, IDFM:22129",
            "IDFM:21951, IDFM:24682",
            "IDFM:463085",
            "IDFM:463057",
            "IDFM:22377",
            "IDFM:480286",
            "IDFM:22378",
            "IDFM:463232",
            "IDFM:462985",
            "IDFM:22099",
            "IDFM:463233",
            "IDFM:22111",
            "IDFM:22207",
            "IDFM:22078",
            "IDFM:463234",
            "IDFM:463235",
            "IDFM:463029",
            "IDFM:463092",
            "IDFM:463276",
            "IDFM:463258",
            "IDFM:22208",
            "IDFM:463030",
            "IDFM:463278, IDFM:480541",
            "IDFM:463073",
            "IDFM:463279",
            "IDFM:463280",
            "IDFM:463259",
            "IDFM:22220",
            "IDFM:463260",
            "IDFM:22042",
            "IDFM:22077",
            "IDFM:22041",
            "IDFM:22374",
            "IDFM:463262, IDFM:463263",
            "IDFM:24684",
            "IDFM:21960, IDFM:22375",
            "IDFM:21991",
            "IDFM:22020, IDFM:22112",
            "IDFM:463288",
            "IDFM:22004",
            "IDFM:22024",
            "IDFM:21992",
            "IDFM:463290",
            "IDFM:22131, IDFM:463292",
            "IDFM:462968",
            "IDFM:22098, IDFM:463294",
            "IDFM:22002",
            "IDFM:21921, IDFM:22196",
            "IDFM:22371",
            "IDFM:21942",
            "IDFM:490788",
            "IDFM:463296",
            "IDFM:490793",
            "IDFM:22025",
            "IDFM:21908",
            "IDFM:22442",
            "IDFM:22043",
            "IDFM:463072, IDFM:463091",
            "IDFM:21903, IDFM:462946, IDFM:462960, IDFM:462962, IDFM:462963",
            "IDFM:21910",
            "IDFM:21911",
            "IDFM:490794",
            "IDFM:463301",
            "IDFM:22242",
            "IDFM:21946",
            "IDFM:22217",
            "IDFM:22044",
            "IDFM:462993",
            "IDFM:22160",
            "IDFM:22218, IDFM:462969, IDFM:462971, IDFM:462972",
            "IDFM:463040",
            "IDFM:463097",
            "IDFM:463306",
            "IDFM:480341",
            "IDFM:22074",
            "IDFM:462915",
            "IDFM:463308",
            "IDFM:462992",
            "IDFM:22201",
            "IDFM:462986",
            "IDFM:490762",
            "IDFM:22133",
            "IDFM:463311",
            "IDFM:22001, IDFM:463008, IDFM:463009",
            "IDFM:21920, IDFM:22134, IDFM:22159",
            "IDFM:22369",
            "IDFM:21976, IDFM:21980",
            "IDFM:463314",
            "IDFM:463315",
            "IDFM:463316",
            "IDFM:22108",
            "IDFM:490833",
            "IDFM:463267",
            "IDFM:463317",
            "IDFM:21917, IDFM:22164",
            "IDFM:463041",
            "IDFM:21993",
            "IDFM:462959",
            "IDFM:463320",
            "IDFM:463321",
            "IDFM:463016",
            "IDFM:22109",
            "IDFM:22400",
            "IDFM:463323",
            "IDFM:22401",
            "IDFM:22027, IDFM:462988",
            "IDFM:22048",
            "IDFM:463325",
            "IDFM:463070"
           ],
           [
            "Métro 12",
            "Métro 12",
            "Métro 2",
            "Métro 9",
            "Métro 4",
            "Métro 3",
            "Métro 2",
            "Métro 1",
            "Métro 11, Métro 3",
            "Métro 13",
            "Métro 12",
            "Métro 7",
            "Métro 10",
            "Métro 2",
            "Métro 14",
            "Métro 4",
            "Métro 8",
            "Métro 4",
            "Métro 2, Métro 4",
            "Métro 13",
            "Métro 1, Métro 5, Métro 8",
            "Métro 6",
            "Métro 11, Métro 2",
            "Métro 14, Métro 6",
            "Métro 14",
            "Métro 9",
            "Métro 6",
            "Métro 2",
            "Métro 5",
            "Métro 5",
            "Métro 6",
            "Métro 7B",
            "Métro 8, Métro 9",
            "Métro 7B",
            "Métro 8",
            "Métro 10",
            "Métro 10",
            "Métro 3",
            "Métro 13",
            "Métro 5",
            "Métro 7B",
            "Métro 9",
            "Métro 1",
            "Métro 7",
            "Métro 6",
            "Métro 5",
            "Métro 10",
            "Métro 13",
            "Métro 7",
            "Métro 1, Métro 13",
            "Métro 10",
            "Métro 8",
            "Métro 10",
            "Métro 1, Métro 2, Métro 6",
            "Métro 9",
            "Métro 7, Métro 9",
            "Métro 8",
            "Métro 6",
            "Métro 14",
            "Métro 7",
            "Métro 4",
            "Métro 4",
            "Métro 1",
            "Métro 1, Métro 11, Métro 14, Métro 4, Métro 7",
            "Métro 13",
            "Métro 4",
            "Métro 10",
            "Métro 2",
            "Métro 8",
            "Métro 1, Métro 12, Métro 8",
            "Métro 12",
            "Métro 7",
            "Métro 12",
            "Métro 6",
            "Métro 11",
            "Métro 14",
            "Métro 2",
            "Métro 2",
            "Métro 7",
            "Métro 9",
            "Métro 8",
            "Métro 8",
            "Métro 8",
            "Métro 7B",
            "Métro 6, Métro 8",
            "Métro 4, Métro 6",
            "Métro 6",
            "Métro 6",
            "Métro 10, Métro 13",
            "Métro 8",
            "Métro 8",
            "Métro 6",
            "Métro 10",
            "Métro 5",
            "Métro 1",
            "Métro 4",
            "Métro 3",
            "Métro 9",
            "Métro 8",
            "Métro 12",
            "Métro 8",
            "Métro 7",
            "Métro 1, Métro 9",
            "Métro 12",
            "Métro 8",
            "Métro 13",
            "Métro 3",
            "Métro 3, Métro 3B",
            "Métro 10, Métro 5",
            "Métro 1, Métro 14",
            "Métro 4, Métro 5, Métro 7",
            "Métro 4, Métro 5",
            "Métro 13",
            "Métro 13",
            "Métro 1",
            "Métro 6",
            "Métro 11",
            "Métro 8, Métro 9",
            "Métro 13",
            "Métro 3, Métro 9",
            "Métro 5",
            "Métro 14",
            "Métro 1, Métro 11",
            "Métro 13, Métro 8",
            "Métro 9",
            "Métro 5",
            "Métro 9",
            "Métro 2, Métro 5, Métro 7B",
            "Métro 10",
            "Métro 11",
            "Métro 12",
            "Métro 10, Métro 7",
            "Métro 6",
            "Métro 14",
            "Métro 2",
            "Métro 7",
            "Métro 11",
            "Métro 1",
            "Métro 13",
            "Métro 10, Métro 6, Métro 8",
            "Métro 9",
            "Métro 8",
            "Métro 12",
            "Métro 5",
            "Métro 7",
            "Métro 7",
            "Métro 8",
            "Métro 13",
            "Métro 7",
            "Métro 4",
            "Métro 1",
            "Métro 8",
            "Métro 13",
            "Métro 7, Métro 7B",
            "Métro 3",
            "Métro 8",
            "Métro 1",
            "Métro 10",
            "Métro 12, Métro 14, Métro 8",
            "Métro 12",
            "Métro 12",
            "Métro 7",
            "Métro 13",
            "Métro 9",
            "Métro 4",
            "Métro 13, Métro 14",
            "Métro 11",
            "Métro 14, Métro 7",
            "Métro 8",
            "Métro 8",
            "Métro 13",
            "Métro 13",
            "Métro 3",
            "Métro 9",
            "Métro 12, Métro 4",
            "Métro 9",
            "Métro 12",
            "Métro 10",
            "Métro 8",
            "Métro 10, Métro 9",
            "Métro 10, Métro 9",
            "Métro 10",
            "Métro 13, Métro 9",
            "Métro 2",
            "Métro 8",
            "Métro 12, Métro 13, Métro 4, Métro 6",
            "Métro 11",
            "Métro 4",
            "Métro 2",
            "Métro 1, Métro 2, Métro 6, Métro 9",
            "Métro 6",
            "Métro 12",
            "Métro 12",
            "Métro 5, Métro 9",
            "Métro 10, Métro 4",
            "Métro 14",
            "Métro 3, Métro 7, Métro 8",
            "Métro 5",
            "Métro 1, Métro 7",
            "Métro 3",
            "Métro 6",
            "Métro 12, Métro 6",
            "Métro 3B",
            "Métro 3",
            "Métro 13",
            "Métro 2",
            "Métro 6",
            "Métro 7",
            "Métro 12, Métro 2",
            "Métro 7",
            "Métro 5, Métro 6, Métro 7",
            "Métro 13, Métro 2",
            "Métro 11, Métro 7B",
            "Métro 13",
            "Métro 8",
            "Métro 7",
            "Métro 14",
            "Métro 7",
            "Métro 7",
            "Métro 3",
            "Métro 1",
            "Métro 9",
            "Métro 2",
            "Métro 8",
            "Métro 1",
            "Métro 10",
            "Métro 7",
            "Métro 7",
            "Métro 4",
            "Métro 3",
            "Métro 3",
            "Métro 8",
            "Métro 7",
            "Métro 13, Métro 14",
            "Métro 4",
            "Métro 9",
            "Métro 5",
            "Métro 9",
            "Métro 13",
            "Métro 13",
            "Métro 12",
            "Métro 1",
            "Métro 12",
            "Métro 7",
            "Métro 11, Métro 3B",
            "Métro 7B",
            "Métro 14, Métro 7",
            "Métro 11",
            "Métro 2, Métro 3",
            "Métro 6",
            "Métro 5",
            "Métro 3",
            "Métro 11",
            "Métro 9",
            "Métro 4, Métro 6",
            "Métro 12",
            "Métro 1, Métro 8",
            "Métro 5",
            "Métro 8, Métro 9",
            "Métro 7",
            "Métro 9",
            "Métro 11",
            "Métro 2",
            "Métro 11",
            "Métro 3",
            "Métro 9",
            "Métro 9",
            "Métro 12",
            "Métro 3, Métro 4",
            "Métro 11, Métro 3, Métro 5, Métro 8, Métro 9",
            "Métro 9",
            "Métro 9",
            "Métro 14",
            "Métro 13",
            "Métro 13",
            "Métro 3B",
            "Métro 13",
            "Métro 12",
            "Métro 4",
            "Métro 6",
            "Métro 12, Métro 13, Métro 14, Métro 3",
            "Métro 1",
            "Métro 5",
            "Métro 4",
            "Métro 14",
            "Métro 1",
            "Métro 9",
            "Métro 4",
            "Métro 4",
            "Métro 8",
            "Métro 3",
            "Métro 11",
            "Métro 4",
            "Métro 12",
            "Métro 2, Métro 5, Métro 7",
            "Métro 4, Métro 8, Métro 9",
            "Métro 7",
            "Métro 10, Métro 12",
            "Métro 6",
            "Métro 10",
            "Métro 3",
            "Métro 2",
            "Métro 14",
            "Métro 7",
            "Métro 12",
            "Métro 6, Métro 9",
            "Métro 1",
            "Métro 11",
            "Métro 10",
            "Métro 13",
            "Métro 12",
            "Métro 4",
            "Métro 2",
            "Métro 7",
            "Métro 7",
            "Métro 7",
            "Métro 2, Métro 3",
            "Métro 12",
            "Métro 9",
            "Métro 3"
           ],
           [
            "FAIBLE",
            "FAIBLE",
            "MOYENNE",
            "MOYENNE",
            "FAIBLE",
            "FAIBLE",
            "MOYENNE",
            "FAIBLE",
            "FAIBLE, MOYENNE",
            "FAIBLE",
            "MOYENNE",
            "MOYENNE",
            "MOYENNE",
            "MOYENNE",
            "FAIBLE",
            "FAIBLE",
            "MOYENNE",
            "FAIBLE",
            "FAIBLE, MOYENNE",
            "MOYENNE",
            "MOYENNE",
            "MOYENNE",
            "ELEVE, MOYENNE",
            "FAIBLE, MOYENNE",
            "FAIBLE",
            "MOYENNE",
            "MOYENNE",
            "MOYENNE",
            "MOYENNE",
            "MOYENNE",
            "MOYENNE",
            "MOYENNE",
            "MOYENNE",
            "MOYENNE",
            "FAIBLE",
            "MOYENNE",
            "MOYENNE",
            "MOYENNE",
            "FAIBLE",
            "MOYENNE",
            "MOYENNE",
            "MOYENNE",
            "FAIBLE",
            "FAIBLE",
            "MOYENNE",
            "MOYENNE",
            "MOYENNE",
            "FAIBLE",
            "MOYENNE",
            "FAIBLE",
            "FAIBLE",
            "MOYENNE",
            "MOYENNE",
            "FAIBLE, MOYENNE",
            "MOYENNE",
            "MOYENNE",
            "FAIBLE",
            "MOYENNE",
            "FAIBLE",
            "MOYENNE",
            "FAIBLE",
            "FAIBLE",
            "FAIBLE",
            "MOYENNE",
            "FAIBLE",
            "MOYENNE",
            "MOYENNE",
            "MOYENNE",
            "FAIBLE",
            "FAIBLE, MOYENNE",
            "MOYENNE",
            "FAIBLE",
            "MOYENNE",
            "MOYENNE",
            "MOYENNE",
            "FAIBLE",
            "MOYENNE",
            "MOYENNE",
            "MOYENNE",
            "MOYENNE",
            "MOYENNE",
            "MOYENNE",
            "MOYENNE",
            "MOYENNE",
            "MOYENNE",
            "FAIBLE, MOYENNE",
            "MOYENNE",
            "MOYENNE",
            "MOYENNE",
            "FAIBLE",
            "FAIBLE",
            "MOYENNE",
            "MOYENNE",
            "MOYENNE",
            "MOYENNE",
            "FAIBLE",
            "FAIBLE",
            "MOYENNE",
            "FAIBLE",
            "MOYENNE",
            "FAIBLE",
            "MOYENNE",
            "FAIBLE, MOYENNE",
            "MOYENNE",
            "FAIBLE",
            "MOYENNE",
            "FAIBLE",
            "MOYENNE",
            "MOYENNE",
            "MOYENNE",
            "FAIBLE, MOYENNE",
            "MOYENNE",
            "FAIBLE",
            "FAIBLE",
            "FAIBLE",
            "MOYENNE",
            "MOYENNE",
            "MOYENNE",
            "FAIBLE",
            "FAIBLE, MOYENNE",
            "MOYENNE",
            "MOYENNE",
            "FAIBLE, MOYENNE",
            "FAIBLE",
            "ELEVE",
            "MOYENNE",
            "MOYENNE",
            "ELEVE, MOYENNE",
            "MOYENNE",
            "FAIBLE",
            "FAIBLE",
            "FAIBLE, MOYENNE",
            "MOYENNE",
            "FAIBLE",
            "MOYENNE",
            "MOYENNE",
            "MOYENNE",
            "FAIBLE",
            "FAIBLE",
            "FAIBLE, MOYENNE",
            "MOYENNE",
            "FAIBLE",
            "FAIBLE",
            "ELEVE",
            "MOYENNE",
            "FAIBLE",
            "MOYENNE",
            "FAIBLE",
            "MOYENNE",
            "FAIBLE",
            "MOYENNE",
            "MOYENNE",
            "FAIBLE",
            "MOYENNE",
            "MOYENNE",
            "FAIBLE",
            "FAIBLE",
            "FAIBLE",
            "FAIBLE, MOYENNE",
            "MOYENNE",
            "MOYENNE",
            "MOYENNE",
            "MOYENNE",
            "MOYENNE",
            "MOYENNE",
            "MOYENNE",
            "MOYENNE",
            "MOYENNE",
            "MOYENNE",
            "MOYENNE",
            "FAIBLE",
            "FAIBLE",
            "MOYENNE",
            "MOYENNE",
            "FAIBLE, MOYENNE",
            "MOYENNE",
            "MOYENNE",
            "MOYENNE",
            "FAIBLE",
            "ELEVE, MOYENNE",
            "ELEVE, MOYENNE",
            "MOYENNE",
            "FAIBLE, MOYENNE",
            "MOYENNE",
            "FAIBLE",
            "FAIBLE, MOYENNE",
            "MOYENNE",
            "FAIBLE",
            "MOYENNE",
            "MOYENNE",
            "MOYENNE",
            "FAIBLE",
            "MOYENNE",
            "ELEVE",
            "FAIBLE, MOYENNE",
            "MOYENNE",
            "FAIBLE, MOYENNE",
            "ELEVE",
            "MOYENNE",
            "MOYENNE",
            "MOYENNE",
            "MOYENNE",
            "MOYENNE",
            "MOYENNE",
            "FAIBLE",
            "MOYENNE",
            "MOYENNE",
            "MOYENNE",
            "ELEVE, MOYENNE",
            "MOYENNE",
            "MOYENNE",
            "FAIBLE, MOYENNE",
            "MOYENNE",
            "MOYENNE",
            "MOYENNE",
            "FAIBLE",
            "MOYENNE",
            "FAIBLE",
            "FAIBLE",
            "FAIBLE",
            "MOYENNE",
            "MOYENNE",
            "MOYENNE",
            "MOYENNE",
            "FAIBLE",
            "MOYENNE",
            "FAIBLE",
            "FAIBLE",
            "MOYENNE",
            "MOYENNE",
            "MOYENNE",
            "FAIBLE",
            "FAIBLE",
            "MOYENNE",
            "MOYENNE",
            "MOYENNE",
            "MOYENNE",
            "MOYENNE",
            "FAIBLE",
            "FAIBLE",
            "FAIBLE",
            "MOYENNE",
            "FAIBLE",
            "MOYENNE",
            "FAIBLE, MOYENNE",
            "MOYENNE",
            "FAIBLE",
            "MOYENNE",
            "ELEVE, MOYENNE",
            "MOYENNE",
            "MOYENNE",
            "MOYENNE",
            "MOYENNE",
            "MOYENNE",
            "FAIBLE, MOYENNE",
            "MOYENNE",
            "FAIBLE, MOYENNE",
            "MOYENNE",
            "MOYENNE",
            "FAIBLE",
            "MOYENNE",
            "MOYENNE",
            "MOYENNE",
            "MOYENNE",
            "MOYENNE",
            "MOYENNE",
            "MOYENNE",
            "MOYENNE",
            "FAIBLE, MOYENNE",
            "MOYENNE",
            "MOYENNE",
            "MOYENNE",
            "MOYENNE",
            "MOYENNE",
            "MOYENNE",
            "MOYENNE",
            "MOYENNE",
            "FAIBLE",
            "FAIBLE",
            "MOYENNE",
            "FAIBLE, MOYENNE",
            "MOYENNE",
            "MOYENNE",
            "FAIBLE",
            "MOYENNE",
            "FAIBLE",
            "ELEVE",
            "FAIBLE",
            "FAIBLE",
            "FAIBLE",
            "MOYENNE",
            "MOYENNE",
            "FAIBLE",
            "MOYENNE",
            "MOYENNE",
            "FAIBLE, MOYENNE",
            "MOYENNE",
            "MOYENNE",
            "MOYENNE",
            "MOYENNE",
            "MOYENNE",
            "MOYENNE",
            "FAIBLE",
            "MOYENNE",
            "MOYENNE",
            "ELEVE, MOYENNE",
            "FAIBLE",
            "MOYENNE",
            "MOYENNE",
            "MOYENNE",
            "FAIBLE",
            "FAIBLE",
            "MOYENNE",
            "MOYENNE",
            "MOYENNE",
            "MOYENNE",
            "MOYENNE",
            "MOYENNE",
            "MOYENNE",
            "MOYENNE"
           ],
           [
            2.338394635220906,
            2.37813084516706,
            2.394591418672128,
            2.30110435239267,
            2.3271926250651647,
            2.28498169634032,
            2.344154840330292,
            2.289435418542214,
            2.3566157454595222,
            2.284372100658843,
            2.3206896796944263,
            2.3922205712292195,
            2.2950189971435506,
            2.3981875566593973,
            2.3621434233506027,
            2.317458362049886,
            2.2783626618092008,
            2.3174992240284045,
            2.350101664370758,
            2.3592958408126816,
            2.3690404333156594,
            2.400867131995259,
            2.3767576496204135,
            2.3792625427064906,
            2.376487371168301,
            2.237891101038026,
            2.2894007376346,
            2.3324843754343627,
            2.449301336646573,
            2.426308679232036,
            2.2900328376074373,
            2.374152140698752,
            2.348462395204691,
            2.388900951315739,
            2.2879184311245595,
            2.239077780728926,
            2.2283125898228056,
            2.340678546975881,
            2.3201902468999456,
            2.370194668589752,
            2.381569842088008,
            2.401170769368413,
            2.4292278831660283,
            2.344383883779656,
            2.302941728337612,
            2.358468834639247,
            2.3513280016731763,
            2.343534674183465,
            2.351626572605499,
            2.314206987950678,
            2.26690547594029,
            2.413847237068526,
            2.2856243417995747,
            2.295346818891381,
            2.3848878986690423,
            2.333854526001424,
            2.368095085385991,
            2.3680951237726693,
            2.367374604185919,
            2.3620179355106075,
            2.34958196802566,
            2.355901449780536,
            2.440540095406114,
            2.34696252632033,
            2.301717705004608,
            2.3472322349319112,
            2.3450218824744566,
            2.370576102819657,
            2.293851708440619,
            2.322724812675279,
            2.2963913864809173,
            2.382291557164633,
            2.2789586605256367,
            2.350611225926166,
            2.4673647804495924,
            2.386617850214058,
            2.303294362425212,
            2.3805336747351005,
            2.3770380600019925,
            2.4358546126745826,
            2.449424047013373,
            2.459305169291261,
            2.4505697455342568,
            2.393228471227492,
            2.3958598370279116,
            2.3324659683637186,
            2.3895997700798097,
            2.293663726731039,
            2.3163799180754547,
            2.3064410394306907,
            2.422322751702586,
            2.3253749636089105,
            2.269111389021892,
            2.413119553706935,
            2.249931086743073,
            2.3489761968791085,
            2.32218591952051,
            2.25967486021195,
            2.384072471688875,
            2.317551235617027,
            2.366826859795412,
            2.404075377271855,
            2.3094239294283705,
            2.365792023989413,
            2.2918472203679703,
            2.29460408001733,
            2.415921484287642,
            2.3979480916356097,
            2.365001637681593,
            2.3731127993553254,
            2.357978233837386,
            2.357055884748471,
            2.331962553647662,
            2.3223539967788067,
            2.300759784978918,
            2.3434974927179884,
            2.3707644347484003,
            2.343029933489471,
            2.327483258626126,
            2.3275700033514566,
            2.403114154894396,
            2.349946533239157,
            2.3517458310409864,
            2.314636327783526,
            2.293906396859107,
            2.3611315892483544,
            2.268219083521012,
            2.3707201871664734,
            2.278009496527359,
            2.389325378910096,
            2.3443200293804827,
            2.3548712470983073,
            2.293146137248626,
            2.354991210566311,
            2.360430336162137,
            2.4102214036405085,
            2.465116181953647,
            2.237988183098828,
            2.325686960766736,
            2.298795707060842,
            2.2740962446697224,
            2.310588789873988,
            2.3385838243831936,
            2.3793117790181,
            2.362130413802561,
            2.340206459456337,
            2.376141223318593,
            2.286263202479002,
            2.3525311653622043,
            2.34600573656331,
            2.271904762259129,
            2.406409459132366,
            2.3268526712397555,
            2.3643606963696673,
            2.2882778490679767,
            2.2822419598550767,
            2.3409964272720227,
            2.335142819346476,
            2.3256690632001566,
            2.3807826993163266,
            2.273558168023932,
            2.383498053635828,
            2.3058484063578857,
            2.4418193772459085,
            2.319523835754741,
            2.333719443949313,
            2.4162978208011863,
            2.358665603007489,
            2.4457883063759605,
            2.434819533389365,
            2.298295381702497,
            2.2971240100835835,
            2.309487846960011,
            2.4060490065790447,
            2.3497848944227897,
            2.243583048618053,
            2.359808478084024,
            2.348219343927666,
            2.402366739988004,
            2.263899423677996,
            2.2617267203388547,
            2.2730641263728333,
            2.315343758472647,
            2.309412967374703,
            2.3904000136353645,
            2.3226135434721344,
            2.4546692358364623,
            2.32979034782274,
            2.38353966877949,
            2.395861587303496,
            2.362857958087621,
            2.328564944227944,
            2.337900771823332,
            2.3683802039876634,
            2.340052573395946,
            2.367034270941924,
            2.331900942680447,
            2.3866765356019912,
            2.3367308612599684,
            2.3747205969196896,
            2.285839418881462,
            2.312722274772925,
            2.40160636134298,
            2.297701123838181,
            2.318323659736018,
            2.390497596745289,
            2.401274538822374,
            2.377246886036494,
            2.337720992807463,
            2.3521548685787708,
            2.3556593712775418,
            2.3276783368286162,
            2.393049493433904,
            2.313860489344306,
            2.464317312722042,
            2.3487397513900734,
            2.3151908648850013,
            2.357349968447059,
            2.341776749148542,
            2.28030375318625,
            2.258495429369125,
            2.230505217088554,
            2.277632717545272,
            2.405749381400099,
            2.2825838473615496,
            2.258280744595537,
            2.3595297331071694,
            2.369294978223312,
            2.325623760353114,
            2.4087542211895427,
            2.2921124821588448,
            2.402511872850073,
            2.3646785940494577,
            2.313320110151432,
            2.344624099102791,
            2.410718154027495,
            2.3921229723281483,
            2.2567894964207142,
            2.3290483407446505,
            2.305332386657473,
            2.28813294509322,
            2.4108049967015006,
            2.359248542310361,
            2.385869033143345,
            2.406736971509564,
            2.398580770693528,
            2.33452057098574,
            2.384883957748741,
            2.3869231861820133,
            2.372766248948172,
            2.365992890937552,
            2.3362786423248583,
            2.353273948594772,
            2.269948157934635,
            2.3304407324776766,
            2.32802068556793,
            2.386518923209039,
            2.371813630476951,
            2.3385051235406684,
            2.373764152701256,
            2.422973086496352,
            2.440677444590172,
            2.3213591738229726,
            2.480609800808591,
            2.380486332251813,
            2.2778858979590564,
            2.3891047050322425,
            2.3256727584985164,
            2.352202834468363,
            2.363952752996723,
            2.3738805382115475,
            2.3210135978086,
            2.345886129823062,
            2.3561729251016,
            2.364494290510317,
            2.4044981831688688,
            2.314407403528732,
            2.3375706403796697,
            2.333987429134225,
            2.337154370925007,
            2.325369248567841,
            2.418989706343808,
            2.3608176665940044,
            2.343991799033288,
            2.3227559546697414,
            2.3608852562751967,
            2.3101372056878247,
            2.327054815066312,
            2.330953550650454,
            2.367370357789606,
            2.347513710821989,
            2.427162168589524,
            2.347794968187123,
            2.323075964251541,
            2.367340346964345,
            2.353989322455475,
            2.3617517381263218,
            2.3264821765236547,
            2.309529610430393,
            2.307137849403385,
            2.361589378332189,
            2.2981136521983068,
            2.3723847511214924,
            2.357018567738162,
            2.333049172418236,
            2.2872326288249045,
            2.3296780947116416,
            2.3986480899605933,
            2.321351242354736,
            2.3149776470363417,
            2.300977822126098,
            2.3288628540691043,
            2.2859020006220643,
            2.36783901176962,
            2.364068547658874,
            2.3683316015776423,
            2.3157882709428588,
            2.3079833805768515,
            2.3800316941488044,
            2.304673087584434
           ],
           [
            48.88439271799143,
            48.90843758066954,
            48.856199097341126,
            48.86464714790582,
            48.82815215770352,
            48.892206617614,
            48.882868568843925,
            48.87566737659971,
            48.865417105752115,
            48.93060364140038,
            48.861122050080816,
            48.90375706036556,
            48.84703801370517,
            48.85164854359716,
            48.72791074498099,
            48.80354822259104,
            48.83666789483108,
            48.80979025430712,
            48.88362720517406,
            48.93678306532419,
            48.85289238670322,
            48.84142733223358,
            48.87215181652091,
            48.8401390130779,
            48.829925765928905,
            48.83191997405451,
            48.85392536837598,
            48.88376635447715,
            48.90636679503056,
            48.89560207433252,
            48.8668483434173,
            48.880789805531926,
            48.870485758917766,
            48.879534991268365,
            48.841024160993214,
            48.841991575324506,
            48.84067248206251,
            48.86879284393317,
            48.89062201554889,
            48.85624405468632,
            48.87849908839857,
            48.85176243983227,
            48.84549169626708,
            48.87604838013132,
            48.84754311219352,
            48.83559543123327,
            48.84670003526311,
            48.91973260804976,
            48.84022624851393,
            48.8675423985717,
            48.84508829917885,
            48.82125590204953,
            48.84636172348247,
            48.874237890791726,
            48.85500743705073,
            48.87297072146431,
            48.85708736782028,
            48.83494516788824,
            48.75848356146962,
            48.87844145573239,
            48.88724193064896,
            48.87247308911766,
            48.84431751431355,
            48.85863140640887,
            48.81075140670139,
            48.85493384910671,
            48.850793731720536,
            48.877695345805535,
            48.84458485524012,
            48.866409759905046,
            48.83713505380496,
            48.89467266005628,
            48.82682329515912,
            48.82986001331238,
            48.88212212689498,
            48.83331930384343,
            48.87926525411311,
            48.86932051914457,
            48.890814345621656,
            48.857992585158016,
            48.79661108096057,
            48.77975652677895,
            48.78994285432577,
            48.88194921492064,
            48.8396056765266,
            48.83408609519442,
            48.83903652832887,
            48.8504116258067,
            48.846874181821036,
            48.85486175512232,
            48.814758684006726,
            48.84098044632817,
            48.84714336145718,
            48.893163974098265,
            48.88834989394862,
            48.86370301202431,
            48.87875316404477,
            48.842624465259945,
            48.85020070550927,
            48.844317683534335,
            48.86308830188695,
            48.91475665506255,
            48.86894485681673,
            48.90666420278779,
            48.84268433479664,
            48.91634741814672,
            48.86539746068654,
            48.86500262026687,
            48.84229008180406,
            48.845217559231095,
            48.87623747577549,
            48.87959528268362,
            48.906372391923206,
            48.83852608502253,
            48.87203776458909,
            48.83117023524584,
            48.8700070178386,
            48.87151278983394,
            48.8930014419616,
            48.8736123359534,
            48.8914957494373,
            48.809971090725966,
            48.85747657076017,
            48.86081323346117,
            48.86468583928868,
            48.87066646803471,
            48.85246214784456,
            48.88232165814561,
            48.84618110622323,
            48.875247348641416,
            48.892492268201934,
            48.84612561703459,
            48.87148941293503,
            48.77532646395088,
            48.88447648340964,
            48.92024579662936,
            48.8780111916913,
            48.89181786646099,
            48.88742451051807,
            48.849268145242,
            48.85809196689865,
            48.85766922956403,
            48.88968180996681,
            48.88520088689033,
            48.81025257278989,
            48.87485179367072,
            48.85133776679838,
            48.92308777796361,
            48.83589170669027,
            48.86252665962869,
            48.88129083793358,
            48.82608032193611,
            48.87953493737576,
            48.88121261613858,
            48.88853900119613,
            48.83866086365992,
            48.86090733426327,
            48.85284373829949,
            48.8700477445793,
            48.913739225808136,
            48.82434428766646,
            48.811210093393306,
            48.90349897462669,
            48.8622744369706,
            48.81847190007368,
            48.91180052012876,
            48.87974365006289,
            48.821678687347855,
            48.80310585036659,
            48.80891847848263,
            48.82220756804045,
            48.81533836595972,
            48.88284002257779,
            48.85265013095636,
            48.89141365099539,
            48.83359298218974,
            48.89057957856722,
            48.85010969451494,
            48.83707743103578,
            48.84784214317229,
            48.845018229223314,
            48.84707750734599,
            48.87357000888718,
            48.88056877012684,
            48.84400507570895,
            48.84300976420799,
            48.878269829247664,
            48.831382009093616,
            48.866440166781686,
            48.84832945273218,
            48.83318160406702,
            48.84508150807547,
            48.87604417483004,
            48.864710831843304,
            48.85202552322872,
            48.82694415504304,
            48.870803663060265,
            48.88714990283661,
            48.86245313167191,
            48.86524326053047,
            48.85751508962033,
            48.84265319354809,
            48.86842046799948,
            48.88492986463719,
            48.83416372097089,
            48.85808942813576,
            48.84510324750185,
            48.81583650099709,
            48.88214066531866,
            48.842666385642886,
            48.831168921605126,
            48.88370348925015,
            48.87683112600793,
            48.83175036306747,
            48.76876136434425,
            48.87716484925024,
            48.8881023898884,
            48.85341474936241,
            48.85854633926832,
            48.89722831603318,
            48.88548938897471,
            48.82966919074605,
            48.87139679524832,
            48.8350662204656,
            48.87816265364455,
            48.84790412362924,
            48.81910659655869,
            48.82135298833688,
            48.82339460262072,
            48.86453937293447,
            48.885652393133846,
            48.83344922287947,
            48.82005592914816,
            48.89435998293444,
            48.897525631278015,
            48.85348263120656,
            48.88845921134684,
            48.83799728287381,
            48.89749783732745,
            48.82761346400429,
            48.83230151439446,
            48.84700773108863,
            48.89740242267042,
            48.89780269235572,
            48.8769357138538,
            48.8801595806643,
            48.86581790864545,
            48.87381265491752,
            48.86272527649043,
            48.8370742706096,
            48.84649085420337,
            48.86959592111917,
            48.86119015695036,
            48.85550355839564,
            48.83911124416298,
            48.84819024311401,
            48.84728137727204,
            48.85987693786871,
            48.8719375397103,
            48.88810829453359,
            48.85567380855032,
            48.88357423792701,
            48.88234581879614,
            48.88302567942574,
            48.86413108020325,
            48.863951708879945,
            48.85221407333194,
            48.85587553200213,
            48.866180227422944,
            48.867541895115984,
            48.86141665790915,
            48.87454661293485,
            48.91873375567987,
            48.92992275044576,
            48.945911458883856,
            48.87184337222297,
            48.8512787565696,
            48.87841659490173,
            48.85367371343323,
            48.832916006219165,
            48.875400872377845,
            48.84622934735893,
            48.83847698406796,
            48.85359407756809,
            48.90516956991565,
            48.85518742160445,
            48.87215513107743,
            48.84700665158937,
            48.85113858957915,
            48.86098670797991,
            48.86728343166051,
            48.88125303440166,
            48.8938152613519,
            48.85853194972854,
            48.88427936410867,
            48.8694529952669,
            48.85120791254347,
            48.851248406189704,
            48.84564768265073,
            48.84716726999503,
            48.86668483219092,
            48.8782007528283,
            48.74683536938685,
            48.82615323734341,
            48.87633650730735,
            48.86327476741524,
            48.864477839314645,
            48.87551038418075,
            48.84889457005888,
            48.85662420264694,
            48.83953628376544,
            48.84205232329236,
            48.8698545716049,
            48.78753717099888,
            48.80436739901952,
            48.79631793416014,
            48.881142728227005,
            48.84141172841498,
            48.85766243438601,
            48.8838463907272
           ]
          ]
         },
         "columnwidth": [
          80,
          80,
          80,
          80,
          80,
          80
         ],
         "header": {
          "align": "left",
          "fill": {
           "color": "darkblue"
          },
          "font": {
           "color": "white",
           "size": 12
          },
          "values": [
           "<b>Nom de la Station</b>",
           "<b>Identifiant station</b>",
           "<b>Nom de la ligne</b>",
           "<b>Niveau de pollution</b>",
           "<b>stop_lon</b>",
           "<b>stop_lat</b>"
          ]
         },
         "type": "table"
        }
       ],
       "layout": {
        "height": 600,
        "template": {
         "data": {
          "bar": [
           {
            "error_x": {
             "color": "#2a3f5f"
            },
            "error_y": {
             "color": "#2a3f5f"
            },
            "marker": {
             "line": {
              "color": "#E5ECF6",
              "width": 0.5
             },
             "pattern": {
              "fillmode": "overlay",
              "size": 10,
              "solidity": 0.2
             }
            },
            "type": "bar"
           }
          ],
          "barpolar": [
           {
            "marker": {
             "line": {
              "color": "#E5ECF6",
              "width": 0.5
             },
             "pattern": {
              "fillmode": "overlay",
              "size": 10,
              "solidity": 0.2
             }
            },
            "type": "barpolar"
           }
          ],
          "carpet": [
           {
            "aaxis": {
             "endlinecolor": "#2a3f5f",
             "gridcolor": "white",
             "linecolor": "white",
             "minorgridcolor": "white",
             "startlinecolor": "#2a3f5f"
            },
            "baxis": {
             "endlinecolor": "#2a3f5f",
             "gridcolor": "white",
             "linecolor": "white",
             "minorgridcolor": "white",
             "startlinecolor": "#2a3f5f"
            },
            "type": "carpet"
           }
          ],
          "choropleth": [
           {
            "colorbar": {
             "outlinewidth": 0,
             "ticks": ""
            },
            "type": "choropleth"
           }
          ],
          "contour": [
           {
            "colorbar": {
             "outlinewidth": 0,
             "ticks": ""
            },
            "colorscale": [
             [
              0,
              "#0d0887"
             ],
             [
              0.1111111111111111,
              "#46039f"
             ],
             [
              0.2222222222222222,
              "#7201a8"
             ],
             [
              0.3333333333333333,
              "#9c179e"
             ],
             [
              0.4444444444444444,
              "#bd3786"
             ],
             [
              0.5555555555555556,
              "#d8576b"
             ],
             [
              0.6666666666666666,
              "#ed7953"
             ],
             [
              0.7777777777777778,
              "#fb9f3a"
             ],
             [
              0.8888888888888888,
              "#fdca26"
             ],
             [
              1,
              "#f0f921"
             ]
            ],
            "type": "contour"
           }
          ],
          "contourcarpet": [
           {
            "colorbar": {
             "outlinewidth": 0,
             "ticks": ""
            },
            "type": "contourcarpet"
           }
          ],
          "heatmap": [
           {
            "colorbar": {
             "outlinewidth": 0,
             "ticks": ""
            },
            "colorscale": [
             [
              0,
              "#0d0887"
             ],
             [
              0.1111111111111111,
              "#46039f"
             ],
             [
              0.2222222222222222,
              "#7201a8"
             ],
             [
              0.3333333333333333,
              "#9c179e"
             ],
             [
              0.4444444444444444,
              "#bd3786"
             ],
             [
              0.5555555555555556,
              "#d8576b"
             ],
             [
              0.6666666666666666,
              "#ed7953"
             ],
             [
              0.7777777777777778,
              "#fb9f3a"
             ],
             [
              0.8888888888888888,
              "#fdca26"
             ],
             [
              1,
              "#f0f921"
             ]
            ],
            "type": "heatmap"
           }
          ],
          "histogram": [
           {
            "marker": {
             "pattern": {
              "fillmode": "overlay",
              "size": 10,
              "solidity": 0.2
             }
            },
            "type": "histogram"
           }
          ],
          "histogram2d": [
           {
            "colorbar": {
             "outlinewidth": 0,
             "ticks": ""
            },
            "colorscale": [
             [
              0,
              "#0d0887"
             ],
             [
              0.1111111111111111,
              "#46039f"
             ],
             [
              0.2222222222222222,
              "#7201a8"
             ],
             [
              0.3333333333333333,
              "#9c179e"
             ],
             [
              0.4444444444444444,
              "#bd3786"
             ],
             [
              0.5555555555555556,
              "#d8576b"
             ],
             [
              0.6666666666666666,
              "#ed7953"
             ],
             [
              0.7777777777777778,
              "#fb9f3a"
             ],
             [
              0.8888888888888888,
              "#fdca26"
             ],
             [
              1,
              "#f0f921"
             ]
            ],
            "type": "histogram2d"
           }
          ],
          "histogram2dcontour": [
           {
            "colorbar": {
             "outlinewidth": 0,
             "ticks": ""
            },
            "colorscale": [
             [
              0,
              "#0d0887"
             ],
             [
              0.1111111111111111,
              "#46039f"
             ],
             [
              0.2222222222222222,
              "#7201a8"
             ],
             [
              0.3333333333333333,
              "#9c179e"
             ],
             [
              0.4444444444444444,
              "#bd3786"
             ],
             [
              0.5555555555555556,
              "#d8576b"
             ],
             [
              0.6666666666666666,
              "#ed7953"
             ],
             [
              0.7777777777777778,
              "#fb9f3a"
             ],
             [
              0.8888888888888888,
              "#fdca26"
             ],
             [
              1,
              "#f0f921"
             ]
            ],
            "type": "histogram2dcontour"
           }
          ],
          "mesh3d": [
           {
            "colorbar": {
             "outlinewidth": 0,
             "ticks": ""
            },
            "type": "mesh3d"
           }
          ],
          "parcoords": [
           {
            "line": {
             "colorbar": {
              "outlinewidth": 0,
              "ticks": ""
             }
            },
            "type": "parcoords"
           }
          ],
          "pie": [
           {
            "automargin": true,
            "type": "pie"
           }
          ],
          "scatter": [
           {
            "fillpattern": {
             "fillmode": "overlay",
             "size": 10,
             "solidity": 0.2
            },
            "type": "scatter"
           }
          ],
          "scatter3d": [
           {
            "line": {
             "colorbar": {
              "outlinewidth": 0,
              "ticks": ""
             }
            },
            "marker": {
             "colorbar": {
              "outlinewidth": 0,
              "ticks": ""
             }
            },
            "type": "scatter3d"
           }
          ],
          "scattercarpet": [
           {
            "marker": {
             "colorbar": {
              "outlinewidth": 0,
              "ticks": ""
             }
            },
            "type": "scattercarpet"
           }
          ],
          "scattergeo": [
           {
            "marker": {
             "colorbar": {
              "outlinewidth": 0,
              "ticks": ""
             }
            },
            "type": "scattergeo"
           }
          ],
          "scattergl": [
           {
            "marker": {
             "colorbar": {
              "outlinewidth": 0,
              "ticks": ""
             }
            },
            "type": "scattergl"
           }
          ],
          "scattermap": [
           {
            "marker": {
             "colorbar": {
              "outlinewidth": 0,
              "ticks": ""
             }
            },
            "type": "scattermap"
           }
          ],
          "scattermapbox": [
           {
            "marker": {
             "colorbar": {
              "outlinewidth": 0,
              "ticks": ""
             }
            },
            "type": "scattermapbox"
           }
          ],
          "scatterpolar": [
           {
            "marker": {
             "colorbar": {
              "outlinewidth": 0,
              "ticks": ""
             }
            },
            "type": "scatterpolar"
           }
          ],
          "scatterpolargl": [
           {
            "marker": {
             "colorbar": {
              "outlinewidth": 0,
              "ticks": ""
             }
            },
            "type": "scatterpolargl"
           }
          ],
          "scatterternary": [
           {
            "marker": {
             "colorbar": {
              "outlinewidth": 0,
              "ticks": ""
             }
            },
            "type": "scatterternary"
           }
          ],
          "surface": [
           {
            "colorbar": {
             "outlinewidth": 0,
             "ticks": ""
            },
            "colorscale": [
             [
              0,
              "#0d0887"
             ],
             [
              0.1111111111111111,
              "#46039f"
             ],
             [
              0.2222222222222222,
              "#7201a8"
             ],
             [
              0.3333333333333333,
              "#9c179e"
             ],
             [
              0.4444444444444444,
              "#bd3786"
             ],
             [
              0.5555555555555556,
              "#d8576b"
             ],
             [
              0.6666666666666666,
              "#ed7953"
             ],
             [
              0.7777777777777778,
              "#fb9f3a"
             ],
             [
              0.8888888888888888,
              "#fdca26"
             ],
             [
              1,
              "#f0f921"
             ]
            ],
            "type": "surface"
           }
          ],
          "table": [
           {
            "cells": {
             "fill": {
              "color": "#EBF0F8"
             },
             "line": {
              "color": "white"
             }
            },
            "header": {
             "fill": {
              "color": "#C8D4E3"
             },
             "line": {
              "color": "white"
             }
            },
            "type": "table"
           }
          ]
         },
         "layout": {
          "annotationdefaults": {
           "arrowcolor": "#2a3f5f",
           "arrowhead": 0,
           "arrowwidth": 1
          },
          "autotypenumbers": "strict",
          "coloraxis": {
           "colorbar": {
            "outlinewidth": 0,
            "ticks": ""
           }
          },
          "colorscale": {
           "diverging": [
            [
             0,
             "#8e0152"
            ],
            [
             0.1,
             "#c51b7d"
            ],
            [
             0.2,
             "#de77ae"
            ],
            [
             0.3,
             "#f1b6da"
            ],
            [
             0.4,
             "#fde0ef"
            ],
            [
             0.5,
             "#f7f7f7"
            ],
            [
             0.6,
             "#e6f5d0"
            ],
            [
             0.7,
             "#b8e186"
            ],
            [
             0.8,
             "#7fbc41"
            ],
            [
             0.9,
             "#4d9221"
            ],
            [
             1,
             "#276419"
            ]
           ],
           "sequential": [
            [
             0,
             "#0d0887"
            ],
            [
             0.1111111111111111,
             "#46039f"
            ],
            [
             0.2222222222222222,
             "#7201a8"
            ],
            [
             0.3333333333333333,
             "#9c179e"
            ],
            [
             0.4444444444444444,
             "#bd3786"
            ],
            [
             0.5555555555555556,
             "#d8576b"
            ],
            [
             0.6666666666666666,
             "#ed7953"
            ],
            [
             0.7777777777777778,
             "#fb9f3a"
            ],
            [
             0.8888888888888888,
             "#fdca26"
            ],
            [
             1,
             "#f0f921"
            ]
           ],
           "sequentialminus": [
            [
             0,
             "#0d0887"
            ],
            [
             0.1111111111111111,
             "#46039f"
            ],
            [
             0.2222222222222222,
             "#7201a8"
            ],
            [
             0.3333333333333333,
             "#9c179e"
            ],
            [
             0.4444444444444444,
             "#bd3786"
            ],
            [
             0.5555555555555556,
             "#d8576b"
            ],
            [
             0.6666666666666666,
             "#ed7953"
            ],
            [
             0.7777777777777778,
             "#fb9f3a"
            ],
            [
             0.8888888888888888,
             "#fdca26"
            ],
            [
             1,
             "#f0f921"
            ]
           ]
          },
          "colorway": [
           "#636efa",
           "#EF553B",
           "#00cc96",
           "#ab63fa",
           "#FFA15A",
           "#19d3f3",
           "#FF6692",
           "#B6E880",
           "#FF97FF",
           "#FECB52"
          ],
          "font": {
           "color": "#2a3f5f"
          },
          "geo": {
           "bgcolor": "white",
           "lakecolor": "white",
           "landcolor": "#E5ECF6",
           "showlakes": true,
           "showland": true,
           "subunitcolor": "white"
          },
          "hoverlabel": {
           "align": "left"
          },
          "hovermode": "closest",
          "mapbox": {
           "style": "light"
          },
          "paper_bgcolor": "white",
          "plot_bgcolor": "#E5ECF6",
          "polar": {
           "angularaxis": {
            "gridcolor": "white",
            "linecolor": "white",
            "ticks": ""
           },
           "bgcolor": "#E5ECF6",
           "radialaxis": {
            "gridcolor": "white",
            "linecolor": "white",
            "ticks": ""
           }
          },
          "scene": {
           "xaxis": {
            "backgroundcolor": "#E5ECF6",
            "gridcolor": "white",
            "gridwidth": 2,
            "linecolor": "white",
            "showbackground": true,
            "ticks": "",
            "zerolinecolor": "white"
           },
           "yaxis": {
            "backgroundcolor": "#E5ECF6",
            "gridcolor": "white",
            "gridwidth": 2,
            "linecolor": "white",
            "showbackground": true,
            "ticks": "",
            "zerolinecolor": "white"
           },
           "zaxis": {
            "backgroundcolor": "#E5ECF6",
            "gridcolor": "white",
            "gridwidth": 2,
            "linecolor": "white",
            "showbackground": true,
            "ticks": "",
            "zerolinecolor": "white"
           }
          },
          "shapedefaults": {
           "line": {
            "color": "#2a3f5f"
           }
          },
          "ternary": {
           "aaxis": {
            "gridcolor": "white",
            "linecolor": "white",
            "ticks": ""
           },
           "baxis": {
            "gridcolor": "white",
            "linecolor": "white",
            "ticks": ""
           },
           "bgcolor": "#E5ECF6",
           "caxis": {
            "gridcolor": "white",
            "linecolor": "white",
            "ticks": ""
           }
          },
          "title": {
           "x": 0.05
          },
          "xaxis": {
           "automargin": true,
           "gridcolor": "white",
           "linecolor": "white",
           "ticks": "",
           "title": {
            "standoff": 15
           },
           "zerolinecolor": "white",
           "zerolinewidth": 2
          },
          "yaxis": {
           "automargin": true,
           "gridcolor": "white",
           "linecolor": "white",
           "ticks": "",
           "title": {
            "standoff": 15
           },
           "zerolinecolor": "white",
           "zerolinewidth": 2
          }
         }
        },
        "title": {
         "text": "Tableau interactif des stations de métro regroupées"
        }
       }
      }
     },
     "metadata": {},
     "output_type": "display_data"
    }
   ],
   "source": [
    "import pandas as pd\n",
    "import plotly.graph_objects as go\n",
    "\n",
    "# Regrouper les données par station\n",
    "grouped = df.groupby(\"Nom de la Station\").agg({\n",
    "    \"Identifiant station\": lambda x: ', '.join(sorted(set(x))),\n",
    "    \"Nom de la ligne\": lambda x: ', '.join(sorted(set(x))),\n",
    "    \"Niveau de pollution\": lambda x: ', '.join(sorted(set(x))),\n",
    "    \"stop_lon\": \"mean\",\n",
    "    \"stop_lat\": \"mean\"\n",
    "}).reset_index()\n",
    "\n",
    "# Créer un tableau interactif avec Plotly\n",
    "fig = go.Figure(data=[go.Table(\n",
    "    columnwidth=[80]*len(grouped.columns),\n",
    "    header=dict(\n",
    "        values=[f\"<b>{col}</b>\" for col in grouped.columns],\n",
    "        fill_color='darkblue',\n",
    "        font=dict(color='white', size=12),\n",
    "        align='left'\n",
    "    ),\n",
    "    cells=dict(\n",
    "        values=[grouped[col] for col in grouped.columns],\n",
    "        fill_color='lavender',\n",
    "        align='left',\n",
    "        font=dict(size=11)\n",
    "    )\n",
    ")])\n",
    "\n",
    "fig.update_layout(\n",
    "    title=\"Tableau interactif des stations de métro regroupées\",\n",
    "    height=600\n",
    ")\n",
    "\n",
    "fig.show()\n"
   ]
  },
  {
   "cell_type": "code",
   "execution_count": 32,
   "id": "f356f000",
   "metadata": {},
   "outputs": [],
   "source": [
    "import os\n",
    "import pandas as pd\n",
    "\n",
    "# Recharger les données\n",
    "base_dir = os.path.dirname(os.getcwd())\n",
    "csv_path = os.path.join(base_dir, \"Data\", \"processed\", \"metro_complet.csv\")\n",
    "df = pd.read_csv(csv_path)\n",
    "\n",
    "# Ajouter une colonne numérique pour le niveau de pollution\n",
    "pollution_mapping = {\n",
    "    'FAIBLE': 1,\n",
    "    'MOYENNE': 2,\n",
    "    'ÉLEVE': 3,\n",
    "}\n",
    "df['pollution_num'] = df['Niveau de pollution'].map(pollution_mapping)\n",
    "\n",
    "# Exporter vers un fichier CSV pour QGIS\n",
    "cols = ['Nom de la Station', 'Nom de la ligne', 'Niveau de pollution', 'pollution_num', 'stop_lat', 'stop_lon']\n",
    "df_export = df[cols]\n",
    "output_path = os.path.join(base_dir, \"Data\", \"processed\", \"stations_qgis.csv\")\n",
    "df_export.to_csv(output_path, index=False)\n"
   ]
  }
 ],
 "metadata": {
  "kernelspec": {
   "display_name": "Python 3",
   "language": "python",
   "name": "python3"
  },
  "language_info": {
   "codemirror_mode": {
    "name": "ipython",
    "version": 3
   },
   "file_extension": ".py",
   "mimetype": "text/x-python",
   "name": "python",
   "nbconvert_exporter": "python",
   "pygments_lexer": "ipython3",
   "version": "3.12.3"
  }
 },
 "nbformat": 4,
 "nbformat_minor": 5
}
