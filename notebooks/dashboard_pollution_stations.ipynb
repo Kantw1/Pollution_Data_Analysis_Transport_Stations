{
 "cells": [
  {
   "cell_type": "code",
   "execution_count": 1,
   "id": "72769c56",
   "metadata": {},
   "outputs": [],
   "source": [
    "\n",
    "import pandas as pd\n",
    "import plotly.express as px\n",
    "import ipywidgets as widgets\n",
    "from IPython.display import display\n",
    "import os\n"
   ]
  },
  {
   "cell_type": "code",
   "execution_count": 11,
   "id": "c1be97d2",
   "metadata": {},
   "outputs": [],
   "source": [
    "# chargement des données et localisation du fichier train.csv automatiquement\n",
    "base_dir = os.path.dirname(os.getcwd())  # monte d’un niveau\n",
    "csv_path = os.path.join(base_dir, \"Data\", \"processed\", \"metro_complet.csv\")\n",
    "\n",
    "# chargement du fichier CSV\n",
    "df = pd.read_csv(csv_path)\n",
    "df = df[df['Niveau de pollution'] != 'pas de données']"
   ]
  },
  {
   "cell_type": "code",
   "execution_count": null,
   "id": "3cbd0113",
   "metadata": {},
   "outputs": [
    {
     "data": {
      "application/vnd.jupyter.widget-view+json": {
       "model_id": "9846c777f2da4f539d88f678dfd739b6",
       "version_major": 2,
       "version_minor": 0
      },
      "text/plain": [
       "interactive(children=(Dropdown(description='Ligne:', options=('Toutes', 'Métro 1', 'Métro 10', 'Métro 11', 'Mé…"
      ]
     },
     "metadata": {},
     "output_type": "display_data"
    },
    {
     "data": {
      "text/plain": [
       "<function __main__.afficher_carte(ligne)>"
      ]
     },
     "execution_count": 16,
     "metadata": {},
     "output_type": "execute_result"
    }
   ],
   "source": [
    "\n",
    "ligne_selector = widgets.Dropdown(\n",
    "    options=[\"Toutes\"] + sorted(df[\"Nom de la ligne\"].unique()),\n",
    "    description='Ligne:',\n",
    "    value=\"Toutes\"\n",
    ")\n",
    "\n",
    "def afficher_carte(ligne):\n",
    "    if ligne == \"Toutes\":\n",
    "        filtered = df\n",
    "    else:\n",
    "        filtered = df[df[\"Nom de la ligne\"] == ligne]\n",
    "\n",
    "    color_discrete_map = {\n",
    "        \"Faible\": \"vert\",\n",
    "        \"Moyen\": \"orange\",\n",
    "        \"ELEVE\": \"red\"\n",
    "    }\n",
    "\n",
    "    fig = px.scatter_mapbox(\n",
    "        filtered,\n",
    "        lat=\"stop_lat\",\n",
    "        lon=\"stop_lon\",\n",
    "        color=\"Niveau de pollution\",\n",
    "        hover_name=\"Nom de la Station\",\n",
    "        zoom=11,\n",
    "        height=500,\n",
    "        mapbox_style=\"carto-positron\",\n",
    "        title=f\"Stations de métro - {ligne if ligne != 'Toutes' else 'Toutes lignes'}\",\n",
    "        color_discrete_map=color_discrete_map\n",
    "    )\n",
    "    fig.show()\n",
    "\n",
    "widgets.interact(afficher_carte, ligne=ligne_selector)\n"
   ]
  },
  {
   "cell_type": "code",
   "execution_count": 4,
   "id": "f634c433",
   "metadata": {},
   "outputs": [
    {
     "data": {
      "application/vnd.plotly.v1+json": {
       "config": {
        "plotlyServerURL": "https://plot.ly"
       },
       "data": [
        {
         "alignmentgroup": "True",
         "hovertemplate": "niveau_pollution=pollution faible<br>Nom de la ligne=%{x}<br>Nombre de stations=%{y}<extra></extra>",
         "legendgroup": "pollution faible",
         "marker": {
          "color": "#636efa",
          "pattern": {
           "shape": ""
          }
         },
         "name": "pollution faible",
         "offsetgroup": "pollution faible",
         "orientation": "v",
         "showlegend": true,
         "textposition": "auto",
         "type": "bar",
         "x": [
          "Métro 1",
          "Métro 10",
          "Métro 12",
          "Métro 13",
          "Métro 14",
          "Métro 3",
          "Métro 4",
          "Métro 7",
          "Métro 8"
         ],
         "xaxis": "x",
         "y": {
          "bdata": "CgMJEAIGEQsJ",
          "dtype": "i1"
         },
         "yaxis": "y"
        },
        {
         "alignmentgroup": "True",
         "hovertemplate": "niveau_pollution=pollution moyenne<br>Nom de la ligne=%{x}<br>Nombre de stations=%{y}<extra></extra>",
         "legendgroup": "pollution moyenne",
         "marker": {
          "color": "#EF553B",
          "pattern": {
           "shape": ""
          }
         },
         "name": "pollution moyenne",
         "offsetgroup": "pollution moyenne",
         "orientation": "v",
         "showlegend": true,
         "textposition": "auto",
         "type": "bar",
         "x": [
          "Métro 1",
          "Métro 10",
          "Métro 11",
          "Métro 12",
          "Métro 13",
          "Métro 14",
          "Métro 2",
          "Métro 3",
          "Métro 3B",
          "Métro 4",
          "Métro 5",
          "Métro 6",
          "Métro 7",
          "Métro 7B",
          "Métro 8",
          "Métro 9"
         ],
         "xaxis": "x",
         "y": {
          "bdata": "BA0JDgkFDQ0BBAsJDwYOGA==",
          "dtype": "i1"
         },
         "yaxis": "y"
        },
        {
         "alignmentgroup": "True",
         "hovertemplate": "niveau_pollution=pollution élevée<br>Nom de la ligne=%{x}<br>Nombre de stations=%{y}<extra></extra>",
         "legendgroup": "pollution élevée",
         "marker": {
          "color": "#00cc96",
          "pattern": {
           "shape": ""
          }
         },
         "name": "pollution élevée",
         "offsetgroup": "pollution élevée",
         "orientation": "v",
         "showlegend": true,
         "textposition": "auto",
         "type": "bar",
         "x": [
          "Métro 2",
          "Métro 5",
          "Métro 9"
         ],
         "xaxis": "x",
         "y": {
          "bdata": "AwIF",
          "dtype": "i1"
         },
         "yaxis": "y"
        }
       ],
       "layout": {
        "barmode": "group",
        "legend": {
         "title": {
          "text": "niveau_pollution"
         },
         "tracegroupgap": 0
        },
        "template": {
         "data": {
          "bar": [
           {
            "error_x": {
             "color": "#2a3f5f"
            },
            "error_y": {
             "color": "#2a3f5f"
            },
            "marker": {
             "line": {
              "color": "#E5ECF6",
              "width": 0.5
             },
             "pattern": {
              "fillmode": "overlay",
              "size": 10,
              "solidity": 0.2
             }
            },
            "type": "bar"
           }
          ],
          "barpolar": [
           {
            "marker": {
             "line": {
              "color": "#E5ECF6",
              "width": 0.5
             },
             "pattern": {
              "fillmode": "overlay",
              "size": 10,
              "solidity": 0.2
             }
            },
            "type": "barpolar"
           }
          ],
          "carpet": [
           {
            "aaxis": {
             "endlinecolor": "#2a3f5f",
             "gridcolor": "white",
             "linecolor": "white",
             "minorgridcolor": "white",
             "startlinecolor": "#2a3f5f"
            },
            "baxis": {
             "endlinecolor": "#2a3f5f",
             "gridcolor": "white",
             "linecolor": "white",
             "minorgridcolor": "white",
             "startlinecolor": "#2a3f5f"
            },
            "type": "carpet"
           }
          ],
          "choropleth": [
           {
            "colorbar": {
             "outlinewidth": 0,
             "ticks": ""
            },
            "type": "choropleth"
           }
          ],
          "contour": [
           {
            "colorbar": {
             "outlinewidth": 0,
             "ticks": ""
            },
            "colorscale": [
             [
              0,
              "#0d0887"
             ],
             [
              0.1111111111111111,
              "#46039f"
             ],
             [
              0.2222222222222222,
              "#7201a8"
             ],
             [
              0.3333333333333333,
              "#9c179e"
             ],
             [
              0.4444444444444444,
              "#bd3786"
             ],
             [
              0.5555555555555556,
              "#d8576b"
             ],
             [
              0.6666666666666666,
              "#ed7953"
             ],
             [
              0.7777777777777778,
              "#fb9f3a"
             ],
             [
              0.8888888888888888,
              "#fdca26"
             ],
             [
              1,
              "#f0f921"
             ]
            ],
            "type": "contour"
           }
          ],
          "contourcarpet": [
           {
            "colorbar": {
             "outlinewidth": 0,
             "ticks": ""
            },
            "type": "contourcarpet"
           }
          ],
          "heatmap": [
           {
            "colorbar": {
             "outlinewidth": 0,
             "ticks": ""
            },
            "colorscale": [
             [
              0,
              "#0d0887"
             ],
             [
              0.1111111111111111,
              "#46039f"
             ],
             [
              0.2222222222222222,
              "#7201a8"
             ],
             [
              0.3333333333333333,
              "#9c179e"
             ],
             [
              0.4444444444444444,
              "#bd3786"
             ],
             [
              0.5555555555555556,
              "#d8576b"
             ],
             [
              0.6666666666666666,
              "#ed7953"
             ],
             [
              0.7777777777777778,
              "#fb9f3a"
             ],
             [
              0.8888888888888888,
              "#fdca26"
             ],
             [
              1,
              "#f0f921"
             ]
            ],
            "type": "heatmap"
           }
          ],
          "histogram": [
           {
            "marker": {
             "pattern": {
              "fillmode": "overlay",
              "size": 10,
              "solidity": 0.2
             }
            },
            "type": "histogram"
           }
          ],
          "histogram2d": [
           {
            "colorbar": {
             "outlinewidth": 0,
             "ticks": ""
            },
            "colorscale": [
             [
              0,
              "#0d0887"
             ],
             [
              0.1111111111111111,
              "#46039f"
             ],
             [
              0.2222222222222222,
              "#7201a8"
             ],
             [
              0.3333333333333333,
              "#9c179e"
             ],
             [
              0.4444444444444444,
              "#bd3786"
             ],
             [
              0.5555555555555556,
              "#d8576b"
             ],
             [
              0.6666666666666666,
              "#ed7953"
             ],
             [
              0.7777777777777778,
              "#fb9f3a"
             ],
             [
              0.8888888888888888,
              "#fdca26"
             ],
             [
              1,
              "#f0f921"
             ]
            ],
            "type": "histogram2d"
           }
          ],
          "histogram2dcontour": [
           {
            "colorbar": {
             "outlinewidth": 0,
             "ticks": ""
            },
            "colorscale": [
             [
              0,
              "#0d0887"
             ],
             [
              0.1111111111111111,
              "#46039f"
             ],
             [
              0.2222222222222222,
              "#7201a8"
             ],
             [
              0.3333333333333333,
              "#9c179e"
             ],
             [
              0.4444444444444444,
              "#bd3786"
             ],
             [
              0.5555555555555556,
              "#d8576b"
             ],
             [
              0.6666666666666666,
              "#ed7953"
             ],
             [
              0.7777777777777778,
              "#fb9f3a"
             ],
             [
              0.8888888888888888,
              "#fdca26"
             ],
             [
              1,
              "#f0f921"
             ]
            ],
            "type": "histogram2dcontour"
           }
          ],
          "mesh3d": [
           {
            "colorbar": {
             "outlinewidth": 0,
             "ticks": ""
            },
            "type": "mesh3d"
           }
          ],
          "parcoords": [
           {
            "line": {
             "colorbar": {
              "outlinewidth": 0,
              "ticks": ""
             }
            },
            "type": "parcoords"
           }
          ],
          "pie": [
           {
            "automargin": true,
            "type": "pie"
           }
          ],
          "scatter": [
           {
            "fillpattern": {
             "fillmode": "overlay",
             "size": 10,
             "solidity": 0.2
            },
            "type": "scatter"
           }
          ],
          "scatter3d": [
           {
            "line": {
             "colorbar": {
              "outlinewidth": 0,
              "ticks": ""
             }
            },
            "marker": {
             "colorbar": {
              "outlinewidth": 0,
              "ticks": ""
             }
            },
            "type": "scatter3d"
           }
          ],
          "scattercarpet": [
           {
            "marker": {
             "colorbar": {
              "outlinewidth": 0,
              "ticks": ""
             }
            },
            "type": "scattercarpet"
           }
          ],
          "scattergeo": [
           {
            "marker": {
             "colorbar": {
              "outlinewidth": 0,
              "ticks": ""
             }
            },
            "type": "scattergeo"
           }
          ],
          "scattergl": [
           {
            "marker": {
             "colorbar": {
              "outlinewidth": 0,
              "ticks": ""
             }
            },
            "type": "scattergl"
           }
          ],
          "scattermap": [
           {
            "marker": {
             "colorbar": {
              "outlinewidth": 0,
              "ticks": ""
             }
            },
            "type": "scattermap"
           }
          ],
          "scattermapbox": [
           {
            "marker": {
             "colorbar": {
              "outlinewidth": 0,
              "ticks": ""
             }
            },
            "type": "scattermapbox"
           }
          ],
          "scatterpolar": [
           {
            "marker": {
             "colorbar": {
              "outlinewidth": 0,
              "ticks": ""
             }
            },
            "type": "scatterpolar"
           }
          ],
          "scatterpolargl": [
           {
            "marker": {
             "colorbar": {
              "outlinewidth": 0,
              "ticks": ""
             }
            },
            "type": "scatterpolargl"
           }
          ],
          "scatterternary": [
           {
            "marker": {
             "colorbar": {
              "outlinewidth": 0,
              "ticks": ""
             }
            },
            "type": "scatterternary"
           }
          ],
          "surface": [
           {
            "colorbar": {
             "outlinewidth": 0,
             "ticks": ""
            },
            "colorscale": [
             [
              0,
              "#0d0887"
             ],
             [
              0.1111111111111111,
              "#46039f"
             ],
             [
              0.2222222222222222,
              "#7201a8"
             ],
             [
              0.3333333333333333,
              "#9c179e"
             ],
             [
              0.4444444444444444,
              "#bd3786"
             ],
             [
              0.5555555555555556,
              "#d8576b"
             ],
             [
              0.6666666666666666,
              "#ed7953"
             ],
             [
              0.7777777777777778,
              "#fb9f3a"
             ],
             [
              0.8888888888888888,
              "#fdca26"
             ],
             [
              1,
              "#f0f921"
             ]
            ],
            "type": "surface"
           }
          ],
          "table": [
           {
            "cells": {
             "fill": {
              "color": "#EBF0F8"
             },
             "line": {
              "color": "white"
             }
            },
            "header": {
             "fill": {
              "color": "#C8D4E3"
             },
             "line": {
              "color": "white"
             }
            },
            "type": "table"
           }
          ]
         },
         "layout": {
          "annotationdefaults": {
           "arrowcolor": "#2a3f5f",
           "arrowhead": 0,
           "arrowwidth": 1
          },
          "autotypenumbers": "strict",
          "coloraxis": {
           "colorbar": {
            "outlinewidth": 0,
            "ticks": ""
           }
          },
          "colorscale": {
           "diverging": [
            [
             0,
             "#8e0152"
            ],
            [
             0.1,
             "#c51b7d"
            ],
            [
             0.2,
             "#de77ae"
            ],
            [
             0.3,
             "#f1b6da"
            ],
            [
             0.4,
             "#fde0ef"
            ],
            [
             0.5,
             "#f7f7f7"
            ],
            [
             0.6,
             "#e6f5d0"
            ],
            [
             0.7,
             "#b8e186"
            ],
            [
             0.8,
             "#7fbc41"
            ],
            [
             0.9,
             "#4d9221"
            ],
            [
             1,
             "#276419"
            ]
           ],
           "sequential": [
            [
             0,
             "#0d0887"
            ],
            [
             0.1111111111111111,
             "#46039f"
            ],
            [
             0.2222222222222222,
             "#7201a8"
            ],
            [
             0.3333333333333333,
             "#9c179e"
            ],
            [
             0.4444444444444444,
             "#bd3786"
            ],
            [
             0.5555555555555556,
             "#d8576b"
            ],
            [
             0.6666666666666666,
             "#ed7953"
            ],
            [
             0.7777777777777778,
             "#fb9f3a"
            ],
            [
             0.8888888888888888,
             "#fdca26"
            ],
            [
             1,
             "#f0f921"
            ]
           ],
           "sequentialminus": [
            [
             0,
             "#0d0887"
            ],
            [
             0.1111111111111111,
             "#46039f"
            ],
            [
             0.2222222222222222,
             "#7201a8"
            ],
            [
             0.3333333333333333,
             "#9c179e"
            ],
            [
             0.4444444444444444,
             "#bd3786"
            ],
            [
             0.5555555555555556,
             "#d8576b"
            ],
            [
             0.6666666666666666,
             "#ed7953"
            ],
            [
             0.7777777777777778,
             "#fb9f3a"
            ],
            [
             0.8888888888888888,
             "#fdca26"
            ],
            [
             1,
             "#f0f921"
            ]
           ]
          },
          "colorway": [
           "#636efa",
           "#EF553B",
           "#00cc96",
           "#ab63fa",
           "#FFA15A",
           "#19d3f3",
           "#FF6692",
           "#B6E880",
           "#FF97FF",
           "#FECB52"
          ],
          "font": {
           "color": "#2a3f5f"
          },
          "geo": {
           "bgcolor": "white",
           "lakecolor": "white",
           "landcolor": "#E5ECF6",
           "showlakes": true,
           "showland": true,
           "subunitcolor": "white"
          },
          "hoverlabel": {
           "align": "left"
          },
          "hovermode": "closest",
          "mapbox": {
           "style": "light"
          },
          "paper_bgcolor": "white",
          "plot_bgcolor": "#E5ECF6",
          "polar": {
           "angularaxis": {
            "gridcolor": "white",
            "linecolor": "white",
            "ticks": ""
           },
           "bgcolor": "#E5ECF6",
           "radialaxis": {
            "gridcolor": "white",
            "linecolor": "white",
            "ticks": ""
           }
          },
          "scene": {
           "xaxis": {
            "backgroundcolor": "#E5ECF6",
            "gridcolor": "white",
            "gridwidth": 2,
            "linecolor": "white",
            "showbackground": true,
            "ticks": "",
            "zerolinecolor": "white"
           },
           "yaxis": {
            "backgroundcolor": "#E5ECF6",
            "gridcolor": "white",
            "gridwidth": 2,
            "linecolor": "white",
            "showbackground": true,
            "ticks": "",
            "zerolinecolor": "white"
           },
           "zaxis": {
            "backgroundcolor": "#E5ECF6",
            "gridcolor": "white",
            "gridwidth": 2,
            "linecolor": "white",
            "showbackground": true,
            "ticks": "",
            "zerolinecolor": "white"
           }
          },
          "shapedefaults": {
           "line": {
            "color": "#2a3f5f"
           }
          },
          "ternary": {
           "aaxis": {
            "gridcolor": "white",
            "linecolor": "white",
            "ticks": ""
           },
           "baxis": {
            "gridcolor": "white",
            "linecolor": "white",
            "ticks": ""
           },
           "bgcolor": "#E5ECF6",
           "caxis": {
            "gridcolor": "white",
            "linecolor": "white",
            "ticks": ""
           }
          },
          "title": {
           "x": 0.05
          },
          "xaxis": {
           "automargin": true,
           "gridcolor": "white",
           "linecolor": "white",
           "ticks": "",
           "title": {
            "standoff": 15
           },
           "zerolinecolor": "white",
           "zerolinewidth": 2
          },
          "yaxis": {
           "automargin": true,
           "gridcolor": "white",
           "linecolor": "white",
           "ticks": "",
           "title": {
            "standoff": 15
           },
           "zerolinecolor": "white",
           "zerolinewidth": 2
          }
         }
        },
        "title": {
         "text": "Niveau de pollution par ligne de métro"
        },
        "xaxis": {
         "anchor": "y",
         "domain": [
          0,
          1
         ],
         "title": {
          "text": "Nom de la ligne"
         }
        },
        "yaxis": {
         "anchor": "x",
         "domain": [
          0,
          1
         ],
         "title": {
          "text": "Nombre de stations"
         }
        }
       }
      }
     },
     "metadata": {},
     "output_type": "display_data"
    }
   ],
   "source": [
    "\n",
    "pollution_counts = df.groupby([\"Nom de la ligne\", \"niveau_pollution\"]).size().reset_index(name='Nombre de stations')\n",
    "fig = px.bar(pollution_counts, x=\"Nom de la ligne\", y=\"Nombre de stations\", color=\"niveau_pollution\", barmode=\"group\",\n",
    "             title=\"Niveau de pollution par ligne de métro\")\n",
    "fig.show()\n"
   ]
  },
  {
   "cell_type": "code",
   "execution_count": 5,
   "id": "32476da9",
   "metadata": {},
   "outputs": [
    {
     "data": {
      "application/vnd.plotly.v1+json": {
       "config": {
        "plotlyServerURL": "https://plot.ly"
       },
       "data": [
        {
         "cells": {
          "align": "left",
          "fill": {
           "color": "lavender"
          },
          "font": {
           "size": 11
          },
          "values": [
           [
            "Abbesses",
            "Aimé Césaire",
            "Alexandre Dumas",
            "Alésia",
            "Anatole France",
            "Anvers",
            "Argentine",
            "Arts et Métiers",
            "Asnières - Gennevilliers Les Courtilles",
            "Aubervilliers-Pantin Quatre Chemins",
            "Avron",
            "Bagneux - Lucie Aubrac",
            "Balard",
            "Basilique de Saint-Denis",
            "Bastille",
            "Belleville",
            "Bibliothèque François Mitterrand",
            "Billancourt",
            "Bobigny-Pantin - Raymond Queneau",
            "Boissière",
            "Bolivar",
            "Bonne Nouvelle",
            "Boucicaut",
            "Boulogne Pont de Saint-Cloud",
            "Bourse",
            "Bréguet-Sabin",
            "Buttes Chaumont",
            "Bérault",
            "Cadet",
            "Campo-Formio",
            "Cardinal Lemoine",
            "Carrefour Pleyel",
            "Censier - Daubenton",
            "Charenton - Ecoles",
            "Charles Michels",
            "Charles de Gaulle - Etoile",
            "Charonne",
            "Chaussée d'Antin - La Fayette",
            "Château d'Eau",
            "Châtelet",
            "Cité",
            "Cluny - La Sorbonne",
            "Colonel Fabien",
            "Commerce",
            "Concorde",
            "Convention",
            "Corentin Cariou",
            "Corentin Celton",
            "Cour Saint-Emilion",
            "Courcelles",
            "Couronnes",
            "Croix de Chavaux",
            "Danube",
            "Daumesnil",
            "Denfert-Rochereau",
            "Dugommier",
            "Duroc",
            "Ecole Vétérinaire de Maisons-Alfort",
            "Etienne Marcel",
            "Europe",
            "Exelmans",
            "Faidherbe - Chaligny",
            "Falguière",
            "Fort d'Aubervilliers",
            "Franklin D. Roosevelt",
            "Front Populaire",
            "Félix Faure",
            "Gabriel Péri",
            "Gallieni",
            "Gare de Lyon",
            "Gare de l'Est",
            "Gare du Nord",
            "Garibaldi",
            "Gaîté",
            "George V",
            "Goncourt",
            "Grands Boulevards",
            "Guy Môquet",
            "Havre-Caumartin",
            "Hoche",
            "Hôtel de Ville",
            "Invalides",
            "Iéna",
            "Jasmin",
            "Jaurès",
            "Javel - André Citroën",
            "Jules Joffrin",
            "Jussieu",
            "Kléber",
            "La Fourche",
            "La Motte-Picquet - Grenelle",
            "Lamarck - Caulaincourt",
            "Le Kremlin-Bicêtre",
            "Le Peletier",
            "Ledru-Rollin",
            "Les Agnettes",
            "Les Halles",
            "Liège",
            "Louis Blanc",
            "Louise Michel",
            "Louvre - Rivoli",
            "Mabillon",
            "Madeleine",
            "Mairie d'Issy",
            "Mairie d'Ivry",
            "Mairie de Clichy",
            "Mairie de Montreuil",
            "Mairie de Montrouge",
            "Mairie de Saint-Ouen",
            "Mairie des Lilas",
            "Maison Blanche",
            "Maisons-Alfort - Les Juilliottes",
            "Maisons-Alfort - Stade",
            "Malakoff - Plateau de Vanves",
            "Maraîchers",
            "Marcadet - Poissonniers",
            "Marcel Sembat",
            "Marx Dormoy",
            "Maubert - Mutualité",
            "Michel-Ange - Auteuil",
            "Mirabeau",
            "Miromesnil",
            "Montgallet",
            "Montparnasse Bienvenue",
            "Mouton-Duvernet",
            "Ménilmontant",
            "Nation",
            "Notre-Dame des Champs",
            "Notre-Dame-de-Lorette",
            "Oberkampf",
            "Odéon",
            "Opéra",
            "Ourcq",
            "Palais Royal - Musée du Louvre",
            "Parmentier",
            "Pasteur",
            "Pelleport",
            "Pereire",
            "Pernety",
            "Philippe Auguste",
            "Picpus",
            "Pierre et Marie Curie",
            "Pigalle",
            "Place Monge",
            "Place d'Italie",
            "Place de Clichy",
            "Place des Fêtes",
            "Plaisance",
            "Poissonnière",
            "Pont Cardinet",
            "Pont Neuf",
            "Pont de Levallois - Bécon",
            "Pont de Neuilly",
            "Porte Dorée",
            "Porte d'Auteuil",
            "Porte d'Italie",
            "Porte d'Ivry",
            "Porte d'Orléans",
            "Porte de Charenton",
            "Porte de Choisy",
            "Porte de Clichy",
            "Porte de Clignancourt",
            "Porte de Montreuil",
            "Porte de Pantin",
            "Porte de Saint-Cloud",
            "Porte de Saint-Ouen",
            "Porte de Vanves",
            "Porte de Versailles",
            "Porte de Vincennes",
            "Porte de la Chapelle",
            "Pyramides",
            "Pyrénées",
            "Père Lachaise",
            "Quatre Septembre",
            "Rambuteau",
            "Ranelagh",
            "Raspail",
            "Rennes",
            "Reuilly - Diderot",
            "Richard-Lenoir",
            "Richelieu - Drouot",
            "Riquet",
            "Robespierre",
            "Rome",
            "Rue Saint-Maur",
            "Rue des Boulets",
            "Réaumur - Sébastopol",
            "République",
            "Saint-Ambroise",
            "Saint-Augustin",
            "Saint-Denis - Université",
            "Saint-François-Xavier",
            "Saint-Georges",
            "Saint-Lazare",
            "Saint-Marcel",
            "Saint-Michel",
            "Saint-Paul (Le Marais)",
            "Saint-Philippe-du-Roule",
            "Saint-Placide",
            "Saint-Sulpice",
            "Simplon",
            "Stalingrad",
            "Strasbourg - Saint-Denis",
            "Sèvres - Babylone",
            "Ségur",
            "Temple",
            "Tolbiac",
            "Trocadéro",
            "Télégraphe",
            "Varenne",
            "Vaugirard",
            "Vavin",
            "Victor Hugo",
            "Villejuif Paul Vaillant-Couturier",
            "Volontaires",
            "Voltaire",
            "Wagram"
           ],
           [
            "IDFM:463116",
            "IDFM:483900",
            "IDFM:22122",
            "IDFM:463118",
            "IDFM:22036",
            "IDFM:22123",
            "IDFM:463121",
            "IDFM:21997, IDFM:21994",
            "IDFM:22233",
            "IDFM:463031",
            "IDFM:22124",
            "IDFM:483314",
            "IDFM:463051",
            "IDFM:22240",
            "IDFM:22010",
            "IDFM:22128, IDFM:463110",
            "IDFM:463112",
            "IDFM:463035",
            "IDFM:22014",
            "IDFM:463114",
            "IDFM:463132",
            "IDFM:463133, IDFM:463115",
            "IDFM:22188",
            "IDFM:463136",
            "IDFM:22033",
            "IDFM:22008",
            "IDFM:24683",
            "IDFM:463130",
            "IDFM:463139",
            "IDFM:22009",
            "IDFM:463141",
            "IDFM:462976",
            "IDFM:22391",
            "IDFM:22210",
            "IDFM:21986",
            "IDFM:463013, IDFM:22095, IDFM:463043",
            "IDFM:21934",
            "IDFM:22388, IDFM:463144",
            "IDFM:462979",
            "IDFM:21966",
            "IDFM:22150",
            "IDFM:462944",
            "IDFM:22120",
            "IDFM:463162",
            "IDFM:22057, IDFM:463150, IDFM:22096",
            "IDFM:462949",
            "IDFM:463152",
            "IDFM:22061",
            "IDFM:463165",
            "IDFM:22121",
            "IDFM:22126",
            "IDFM:21943",
            "IDFM:24687",
            "IDFM:463169, IDFM:463168",
            "IDFM:22151",
            "IDFM:463075",
            "IDFM:21970, IDFM:463083",
            "IDFM:22214",
            "IDFM:463171",
            "IDFM:463069",
            "IDFM:462956",
            "IDFM:22204",
            "IDFM:22056",
            "IDFM:22393",
            "IDFM:21931, IDFM:22082",
            "IDFM:463082",
            "IDFM:22189",
            "IDFM:462953",
            "IDFM:463174",
            "IDFM:463197",
            "IDFM:22148, IDFM:22013",
            "IDFM:463182",
            "IDFM:22244",
            "IDFM:463184",
            "IDFM:22084",
            "IDFM:21996",
            "IDFM:463049",
            "IDFM:462952",
            "IDFM:21906",
            "IDFM:463017",
            "IDFM:22091",
            "IDFM:22185, IDFM:22193",
            "IDFM:21927",
            "IDFM:21928",
            "IDFM:24680",
            "IDFM:21972",
            "IDFM:463065",
            "IDFM:463077, IDFM:463078",
            "IDFM:22170",
            "IDFM:22227",
            "IDFM:463202",
            "IDFM:463205",
            "IDFM:22398",
            "IDFM:463206",
            "IDFM:22203",
            "IDFM:22232",
            "IDFM:22146",
            "IDFM:22225",
            "IDFM:463034",
            "IDFM:22034",
            "IDFM:463218",
            "IDFM:21973",
            "IDFM:22194, IDFM:21961",
            "IDFM:463219",
            "IDFM:463220",
            "IDFM:22238",
            "IDFM:21941",
            "IDFM:26602",
            "IDFM:480330",
            "IDFM:21999",
            "IDFM:463224",
            "IDFM:22216",
            "IDFM:22215",
            "IDFM:22235",
            "IDFM:463215",
            "IDFM:462974, IDFM:462973",
            "IDFM:462914",
            "IDFM:463236",
            "IDFM:21975",
            "IDFM:463238, IDFM:21907",
            "IDFM:21982",
            "IDFM:462957, IDFM:22224",
            "IDFM:463241",
            "IDFM:462980, IDFM:22143",
            "IDFM:22144",
            "IDFM:22116",
            "IDFM:22073, IDFM:21919, IDFM:22072",
            "IDFM:22051",
            "IDFM:463062",
            "IDFM:463059, IDFM:21925",
            "IDFM:21978",
            "IDFM:22381, IDFM:463246, IDFM:22195",
            "IDFM:22005",
            "IDFM:22376, IDFM:22079",
            "IDFM:22019",
            "IDFM:22166",
            "IDFM:21948",
            "IDFM:463228",
            "IDFM:463229",
            "IDFM:463230",
            "IDFM:463098",
            "IDFM:22397",
            "IDFM:22114, IDFM:22040",
            "IDFM:22366",
            "IDFM:463026",
            "IDFM:22115, IDFM:22129",
            "IDFM:24682, IDFM:21951",
            "IDFM:463085",
            "IDFM:22377",
            "IDFM:480286",
            "IDFM:463232",
            "IDFM:462985",
            "IDFM:22099",
            "IDFM:22207",
            "IDFM:463234",
            "IDFM:463235",
            "IDFM:463029",
            "IDFM:463092",
            "IDFM:22208",
            "IDFM:463030",
            "IDFM:463278, IDFM:480541",
            "IDFM:463073",
            "IDFM:463279",
            "IDFM:463280",
            "IDFM:463259",
            "IDFM:22220",
            "IDFM:463260",
            "IDFM:22042",
            "IDFM:22077",
            "IDFM:22041",
            "IDFM:22375",
            "IDFM:21991",
            "IDFM:22020, IDFM:22112",
            "IDFM:22024",
            "IDFM:21992",
            "IDFM:463290",
            "IDFM:22131",
            "IDFM:462968",
            "IDFM:22098, IDFM:463294",
            "IDFM:22002",
            "IDFM:21921, IDFM:22196",
            "IDFM:22371",
            "IDFM:21942",
            "IDFM:463296",
            "IDFM:22025",
            "IDFM:22442",
            "IDFM:463072, IDFM:463091",
            "IDFM:462946, IDFM:462962",
            "IDFM:21910",
            "IDFM:21911",
            "IDFM:22242",
            "IDFM:22217",
            "IDFM:22044",
            "IDFM:462971, IDFM:462972, IDFM:22218, IDFM:462969",
            "IDFM:463097",
            "IDFM:463306",
            "IDFM:22074",
            "IDFM:462915",
            "IDFM:463308",
            "IDFM:462992",
            "IDFM:22133",
            "IDFM:22001, IDFM:463008",
            "IDFM:21920, IDFM:22159",
            "IDFM:21976",
            "IDFM:463315",
            "IDFM:463316",
            "IDFM:463267",
            "IDFM:22164, IDFM:21917",
            "IDFM:21993",
            "IDFM:463320",
            "IDFM:463321",
            "IDFM:463016",
            "IDFM:22109",
            "IDFM:22401",
            "IDFM:22048",
            "IDFM:463325",
            "IDFM:463070"
           ],
           [
            "Métro 12",
            "Métro 12",
            "Métro 2",
            "Métro 4",
            "Métro 3",
            "Métro 2",
            "Métro 1",
            "Métro 11, Métro 3",
            "Métro 13",
            "Métro 7",
            "Métro 2",
            "Métro 4",
            "Métro 8",
            "Métro 13",
            "Métro 5",
            "Métro 11, Métro 2",
            "Métro 14",
            "Métro 9",
            "Métro 5",
            "Métro 6",
            "Métro 7B",
            "Métro 8, Métro 9",
            "Métro 8",
            "Métro 10",
            "Métro 3",
            "Métro 5",
            "Métro 7B",
            "Métro 1",
            "Métro 7",
            "Métro 5",
            "Métro 10",
            "Métro 13",
            "Métro 7",
            "Métro 8",
            "Métro 10",
            "Métro 1, Métro 2, Métro 6",
            "Métro 9",
            "Métro 7, Métro 9",
            "Métro 4",
            "Métro 11",
            "Métro 4",
            "Métro 10",
            "Métro 2",
            "Métro 8",
            "Métro 1, Métro 12, Métro 8",
            "Métro 12",
            "Métro 7",
            "Métro 12",
            "Métro 14",
            "Métro 2",
            "Métro 2",
            "Métro 9",
            "Métro 7B",
            "Métro 6, Métro 8",
            "Métro 4",
            "Métro 6",
            "Métro 10, Métro 13",
            "Métro 8",
            "Métro 4",
            "Métro 3",
            "Métro 9",
            "Métro 8",
            "Métro 12",
            "Métro 7",
            "Métro 1, Métro 9",
            "Métro 12",
            "Métro 8",
            "Métro 13",
            "Métro 3",
            "Métro 1",
            "Métro 4, Métro 5",
            "Métro 5",
            "Métro 13",
            "Métro 13",
            "Métro 1",
            "Métro 11",
            "Métro 9",
            "Métro 13",
            "Métro 3",
            "Métro 5",
            "Métro 1",
            "Métro 13, Métro 8",
            "Métro 9",
            "Métro 9",
            "Métro 7B",
            "Métro 10",
            "Métro 12",
            "Métro 10, Métro 7",
            "Métro 6",
            "Métro 13",
            "Métro 10",
            "Métro 12",
            "Métro 7",
            "Métro 7",
            "Métro 8",
            "Métro 13",
            "Métro 4",
            "Métro 13",
            "Métro 7B",
            "Métro 3",
            "Métro 1",
            "Métro 10",
            "Métro 14, Métro 8",
            "Métro 12",
            "Métro 7",
            "Métro 13",
            "Métro 9",
            "Métro 4",
            "Métro 14",
            "Métro 11",
            "Métro 7",
            "Métro 8",
            "Métro 8",
            "Métro 13",
            "Métro 9",
            "Métro 12, Métro 4",
            "Métro 9",
            "Métro 12",
            "Métro 10",
            "Métro 10, Métro 9",
            "Métro 10",
            "Métro 13, Métro 9",
            "Métro 8",
            "Métro 12, Métro 4",
            "Métro 4",
            "Métro 2",
            "Métro 2, Métro 6, Métro 9",
            "Métro 12",
            "Métro 12",
            "Métro 5, Métro 9",
            "Métro 10",
            "Métro 3, Métro 7, Métro 8",
            "Métro 5",
            "Métro 1, Métro 7",
            "Métro 3",
            "Métro 6",
            "Métro 3B",
            "Métro 3",
            "Métro 13",
            "Métro 2",
            "Métro 6",
            "Métro 7",
            "Métro 12, Métro 2",
            "Métro 7",
            "Métro 7",
            "Métro 13, Métro 2",
            "Métro 11, Métro 7B",
            "Métro 13",
            "Métro 7",
            "Métro 14",
            "Métro 7",
            "Métro 3",
            "Métro 1",
            "Métro 8",
            "Métro 10",
            "Métro 7",
            "Métro 7",
            "Métro 4",
            "Métro 8",
            "Métro 7",
            "Métro 13, Métro 14",
            "Métro 4",
            "Métro 9",
            "Métro 5",
            "Métro 9",
            "Métro 13",
            "Métro 13",
            "Métro 12",
            "Métro 1",
            "Métro 12",
            "Métro 7",
            "Métro 11",
            "Métro 2, Métro 3",
            "Métro 3",
            "Métro 11",
            "Métro 9",
            "Métro 4",
            "Métro 12",
            "Métro 1, Métro 8",
            "Métro 5",
            "Métro 8, Métro 9",
            "Métro 7",
            "Métro 9",
            "Métro 2",
            "Métro 3",
            "Métro 9",
            "Métro 3, Métro 4",
            "Métro 3, Métro 8",
            "Métro 9",
            "Métro 9",
            "Métro 13",
            "Métro 13",
            "Métro 12",
            "Métro 12, Métro 13, Métro 14, Métro 3",
            "Métro 5",
            "Métro 4",
            "Métro 1",
            "Métro 9",
            "Métro 4",
            "Métro 4",
            "Métro 4",
            "Métro 5, Métro 7",
            "Métro 8, Métro 9",
            "Métro 10",
            "Métro 10",
            "Métro 3",
            "Métro 7",
            "Métro 6, Métro 9",
            "Métro 11",
            "Métro 13",
            "Métro 12",
            "Métro 4",
            "Métro 2",
            "Métro 7",
            "Métro 12",
            "Métro 9",
            "Métro 3"
           ],
           [
            "pollution faible",
            "pollution faible",
            "pollution moyenne",
            "pollution faible",
            "pollution faible",
            "pollution moyenne",
            "pollution faible",
            "pollution faible, pollution moyenne",
            "pollution faible",
            "pollution moyenne",
            "pollution moyenne",
            "pollution faible",
            "pollution moyenne",
            "pollution moyenne",
            "pollution moyenne",
            "pollution moyenne, pollution élevée",
            "pollution faible",
            "pollution moyenne",
            "pollution moyenne",
            "pollution moyenne",
            "pollution moyenne",
            "pollution moyenne",
            "pollution faible",
            "pollution moyenne",
            "pollution moyenne",
            "pollution moyenne",
            "pollution moyenne",
            "pollution faible",
            "pollution faible",
            "pollution moyenne",
            "pollution moyenne",
            "pollution faible",
            "pollution moyenne",
            "pollution moyenne",
            "pollution moyenne",
            "pollution faible, pollution moyenne",
            "pollution moyenne",
            "pollution moyenne",
            "pollution faible",
            "pollution moyenne",
            "pollution moyenne",
            "pollution moyenne",
            "pollution moyenne",
            "pollution faible",
            "pollution faible, pollution moyenne",
            "pollution moyenne",
            "pollution faible",
            "pollution moyenne",
            "pollution faible",
            "pollution moyenne",
            "pollution moyenne",
            "pollution moyenne",
            "pollution moyenne",
            "pollution moyenne",
            "pollution faible",
            "pollution moyenne",
            "pollution moyenne",
            "pollution faible",
            "pollution faible",
            "pollution faible",
            "pollution moyenne",
            "pollution faible",
            "pollution moyenne",
            "pollution moyenne",
            "pollution faible, pollution moyenne",
            "pollution moyenne",
            "pollution faible",
            "pollution moyenne",
            "pollution faible",
            "pollution moyenne",
            "pollution faible, pollution moyenne",
            "pollution moyenne",
            "pollution faible",
            "pollution faible",
            "pollution faible",
            "pollution moyenne",
            "pollution moyenne",
            "pollution faible",
            "pollution faible",
            "pollution moyenne",
            "pollution faible",
            "pollution faible",
            "pollution élevée",
            "pollution moyenne",
            "pollution moyenne",
            "pollution moyenne",
            "pollution faible",
            "pollution faible, pollution moyenne",
            "pollution moyenne",
            "pollution faible",
            "pollution faible",
            "pollution faible",
            "pollution moyenne",
            "pollution faible",
            "pollution moyenne",
            "pollution faible",
            "pollution faible",
            "pollution faible",
            "pollution moyenne",
            "pollution moyenne",
            "pollution faible",
            "pollution faible",
            "pollution moyenne",
            "pollution moyenne",
            "pollution moyenne",
            "pollution moyenne",
            "pollution moyenne",
            "pollution moyenne",
            "pollution moyenne",
            "pollution moyenne",
            "pollution moyenne",
            "pollution moyenne",
            "pollution moyenne",
            "pollution faible",
            "pollution moyenne",
            "pollution faible, pollution moyenne",
            "pollution moyenne",
            "pollution moyenne",
            "pollution moyenne",
            "pollution moyenne, pollution élevée",
            "pollution moyenne",
            "pollution faible, pollution moyenne",
            "pollution faible",
            "pollution faible, pollution moyenne",
            "pollution faible",
            "pollution moyenne",
            "pollution moyenne",
            "pollution faible",
            "pollution moyenne",
            "pollution élevée",
            "pollution moyenne",
            "pollution faible, pollution moyenne",
            "pollution élevée",
            "pollution moyenne",
            "pollution moyenne",
            "pollution moyenne",
            "pollution moyenne",
            "pollution moyenne",
            "pollution faible",
            "pollution moyenne",
            "pollution moyenne",
            "pollution moyenne",
            "pollution moyenne, pollution élevée",
            "pollution moyenne",
            "pollution moyenne",
            "pollution faible, pollution moyenne",
            "pollution moyenne",
            "pollution moyenne",
            "pollution faible",
            "pollution moyenne",
            "pollution faible",
            "pollution faible",
            "pollution moyenne",
            "pollution moyenne",
            "pollution moyenne",
            "pollution faible",
            "pollution faible",
            "pollution moyenne",
            "pollution faible",
            "pollution faible",
            "pollution moyenne",
            "pollution moyenne",
            "pollution moyenne",
            "pollution moyenne",
            "pollution moyenne",
            "pollution faible",
            "pollution faible",
            "pollution faible",
            "pollution moyenne",
            "pollution faible",
            "pollution faible",
            "pollution moyenne",
            "pollution moyenne, pollution élevée",
            "pollution moyenne",
            "pollution moyenne",
            "pollution moyenne",
            "pollution faible",
            "pollution moyenne",
            "pollution faible, pollution moyenne",
            "pollution moyenne",
            "pollution moyenne",
            "pollution faible",
            "pollution moyenne",
            "pollution moyenne",
            "pollution moyenne",
            "pollution moyenne",
            "pollution faible, pollution moyenne",
            "pollution moyenne",
            "pollution moyenne",
            "pollution moyenne",
            "pollution moyenne",
            "pollution moyenne",
            "pollution faible",
            "pollution faible, pollution moyenne",
            "pollution moyenne",
            "pollution faible",
            "pollution faible",
            "pollution élevée",
            "pollution faible",
            "pollution faible",
            "pollution faible",
            "pollution moyenne",
            "pollution moyenne",
            "pollution moyenne",
            "pollution moyenne",
            "pollution moyenne",
            "pollution moyenne",
            "pollution moyenne, pollution élevée",
            "pollution moyenne",
            "pollution moyenne",
            "pollution faible",
            "pollution faible",
            "pollution moyenne",
            "pollution moyenne",
            "pollution moyenne",
            "pollution moyenne",
            "pollution moyenne"
           ],
           [
            2.338394635220906,
            2.37813084516706,
            2.394591418672128,
            2.3271926250651647,
            2.28498169634032,
            2.344154840330292,
            2.289435418542214,
            2.3566157454595222,
            2.284372100658843,
            2.3922205712292195,
            2.3981875566593973,
            2.317458362049886,
            2.2783626618092008,
            2.3592958408126816,
            2.368922075646989,
            2.3767576496204135,
            2.376487371168301,
            2.237891101038026,
            2.426308679232036,
            2.2900328376074373,
            2.374152140698752,
            2.348462395204691,
            2.2879184311245595,
            2.2283125898228056,
            2.340678546975881,
            2.370194668589752,
            2.381569842088008,
            2.4292278831660283,
            2.344383883779656,
            2.358468834639247,
            2.3513280016731763,
            2.343534674183465,
            2.351626572605499,
            2.413847237068526,
            2.2856243417995747,
            2.295346818891381,
            2.3848878986690423,
            2.333854526001424,
            2.355901449780536,
            2.3478374055687867,
            2.3472322349319112,
            2.3450218824744566,
            2.370576102819657,
            2.293851708440619,
            2.322724812675279,
            2.2963913864809173,
            2.382291557164633,
            2.2789586605256367,
            2.386617850214058,
            2.303294362425212,
            2.3805336747351005,
            2.4358546126745826,
            2.393228471227492,
            2.3958598370279116,
            2.332128160437612,
            2.3895997700798097,
            2.3163799180754547,
            2.422322751702586,
            2.3489761968791085,
            2.32218591952051,
            2.25967486021195,
            2.384072471688875,
            2.317551235617027,
            2.404075377271855,
            2.3094239294283705,
            2.365792023989413,
            2.2918472203679703,
            2.29460408001733,
            2.415921484287642,
            2.373125016776689,
            2.3579070881195445,
            2.357342884924845,
            2.331962553647662,
            2.3223539967788067,
            2.300759784978918,
            2.3707644347484003,
            2.3432202183423976,
            2.327483258626126,
            2.327462798423509,
            2.403114154894396,
            2.3520676701391,
            2.314636327783526,
            2.293906396859107,
            2.268219083521012,
            2.370451734004561,
            2.278009496527359,
            2.3443200293804827,
            2.3548712470983073,
            2.293146137248626,
            2.325686960766736,
            2.298684579816939,
            2.3385838243831936,
            2.362130413802561,
            2.340206459456337,
            2.376141223318593,
            2.286263202479002,
            2.34600573656331,
            2.3268526712397555,
            2.364365143550256,
            2.2882778490679767,
            2.3409964272720227,
            2.335142819346476,
            2.3259186302831383,
            2.273558168023932,
            2.383498053635828,
            2.3058484063578857,
            2.4418193772459085,
            2.319523835754741,
            2.333545807213269,
            2.4162978208011863,
            2.358412946155939,
            2.4457883063759605,
            2.434819533389365,
            2.298295381702497,
            2.4060490065790447,
            2.3497848944227897,
            2.243583048618053,
            2.359808478084024,
            2.348219343927666,
            2.263899423677996,
            2.2730641263728333,
            2.315343758472647,
            2.3904000136353645,
            2.324125785431035,
            2.32979034782274,
            2.38353966877949,
            2.395867453496749,
            2.328564944227944,
            2.337900771823332,
            2.3683802039876634,
            2.340619126473996,
            2.331900942680447,
            2.3866765356019912,
            2.3367308612599684,
            2.3747205969196896,
            2.312792651441268,
            2.40160636134298,
            2.297701123838181,
            2.318323659736018,
            2.390497596745289,
            2.401274538822374,
            2.377246886036494,
            2.337720992807463,
            2.3521548685787708,
            2.355330902236442,
            2.3276783368286162,
            2.393049493433904,
            2.313860489344306,
            2.3487397513900734,
            2.3151908648850013,
            2.341776749148542,
            2.28030375318625,
            2.258495429369125,
            2.405749381400099,
            2.258280744595537,
            2.3595297331071694,
            2.369294978223312,
            2.325623760353114,
            2.402511872850073,
            2.3646785940494577,
            2.313320110151432,
            2.344624099102791,
            2.410718154027495,
            2.3921229723281483,
            2.2567894964207142,
            2.3290483407446505,
            2.305332386657473,
            2.28813294509322,
            2.4108049967015006,
            2.359248542310361,
            2.334417535966556,
            2.384883957748741,
            2.3869231861820133,
            2.3362786423248583,
            2.353273948594772,
            2.269948157934635,
            2.330466993719873,
            2.32802068556793,
            2.386518923209039,
            2.371813630476951,
            2.3385051235406684,
            2.373764152701256,
            2.422973086496352,
            2.3213591738229726,
            2.380486332251813,
            2.3891047050322425,
            2.352202834468363,
            2.363741352222905,
            2.3738805382115475,
            2.3210135978086,
            2.364494290510317,
            2.314407403528732,
            2.3375706403796697,
            2.325369248567841,
            2.3608176665940044,
            2.343991799033288,
            2.3608852562751967,
            2.3101372056878247,
            2.327054815066312,
            2.330953550650454,
            2.347794968187123,
            2.3681233351674327,
            2.3537381754012956,
            2.326104689925573,
            2.307137849403385,
            2.361589378332189,
            2.357018567738162,
            2.2872326288249045,
            2.3986480899605933,
            2.3149776470363417,
            2.300977822126098,
            2.3288628540691043,
            2.2859020006220643,
            2.3683316015776423,
            2.3079833805768515,
            2.3800316941488044,
            2.304673087584434
           ],
           [
            48.88439271799143,
            48.90843758066954,
            48.856199097341126,
            48.82815215770352,
            48.892206617614,
            48.882868568843925,
            48.87566737659971,
            48.865417105752115,
            48.93060364140038,
            48.90375706036556,
            48.85164854359716,
            48.80354822259104,
            48.83666789483108,
            48.93678306532419,
            48.85328747830434,
            48.87215181652091,
            48.829925765928905,
            48.83191997405451,
            48.89560207433252,
            48.8668483434173,
            48.880789805531926,
            48.870485758917766,
            48.841024160993214,
            48.84067248206251,
            48.86879284393317,
            48.85624405468632,
            48.87849908839857,
            48.84549169626708,
            48.87604838013132,
            48.83559543123327,
            48.84670003526311,
            48.91973260804976,
            48.84022624851393,
            48.82125590204953,
            48.84636172348247,
            48.874237890791726,
            48.85500743705073,
            48.87297072146431,
            48.87247308911766,
            48.85776111354502,
            48.85493384910671,
            48.850793731720536,
            48.877695345805535,
            48.84458485524012,
            48.866409759905046,
            48.83713505380496,
            48.89467266005628,
            48.82682329515912,
            48.83331930384343,
            48.87926525411311,
            48.86932051914457,
            48.857992585158016,
            48.88194921492064,
            48.8396056765266,
            48.83392232305997,
            48.83903652832887,
            48.846874181821036,
            48.814758684006726,
            48.86370301202431,
            48.87875316404477,
            48.842624465259945,
            48.85020070550927,
            48.844317683534335,
            48.91475665506255,
            48.86894485681673,
            48.90666420278779,
            48.84268433479664,
            48.91634741814672,
            48.86539746068654,
            48.84575948671397,
            48.87622060639242,
            48.87968001223662,
            48.906372391923206,
            48.83852608502253,
            48.87203776458909,
            48.8700070178386,
            48.871558801223806,
            48.8930014419616,
            48.87346783937801,
            48.8914957494373,
            48.85735240518587,
            48.86081323346117,
            48.86468583928868,
            48.85246214784456,
            48.88234423020823,
            48.84618110622323,
            48.892492268201934,
            48.84612561703459,
            48.87148941293503,
            48.88742451051807,
            48.849532805857095,
            48.88968180996681,
            48.81025257278989,
            48.87485179367072,
            48.85133776679838,
            48.92308777796361,
            48.86252665962869,
            48.87953493737576,
            48.88118341152446,
            48.88853900119613,
            48.86090733426327,
            48.85284373829949,
            48.87005514641698,
            48.82434428766646,
            48.811210093393306,
            48.90349897462669,
            48.8622744369706,
            48.81847190007368,
            48.91164217552501,
            48.87974365006289,
            48.82214950607496,
            48.80310585036659,
            48.80891847848263,
            48.82220756804045,
            48.85265013095636,
            48.89141365099539,
            48.83359298218974,
            48.89057957856722,
            48.85010969451494,
            48.84784214317229,
            48.84707750734599,
            48.87357000888718,
            48.84400507570895,
            48.84379740197636,
            48.831382009093616,
            48.866440166781686,
            48.848411173651584,
            48.84508150807547,
            48.87604417483004,
            48.864710831843304,
            48.8519477060765,
            48.870803663060265,
            48.88714990283661,
            48.86245313167191,
            48.86524326053047,
            48.842482718285865,
            48.86842046799948,
            48.88492986463719,
            48.83416372097089,
            48.85808942813576,
            48.84510324750185,
            48.81583650099709,
            48.88214066531866,
            48.842666385642886,
            48.83154938471729,
            48.88370348925015,
            48.87683112600793,
            48.83175036306747,
            48.87716484925024,
            48.8881023898884,
            48.85854633926832,
            48.89722831603318,
            48.88548938897471,
            48.8350662204656,
            48.84790412362924,
            48.81910659655869,
            48.82135298833688,
            48.82339460262072,
            48.83344922287947,
            48.82005592914816,
            48.89435998293444,
            48.897525631278015,
            48.85348263120656,
            48.88845921134684,
            48.83799728287381,
            48.89749783732745,
            48.82761346400429,
            48.83230151439446,
            48.84700773108863,
            48.89740242267042,
            48.86588028991413,
            48.87381265491752,
            48.86272527649043,
            48.86959592111917,
            48.86119015695036,
            48.85550355839564,
            48.83915635952557,
            48.84819024311401,
            48.84728137727204,
            48.85987693786871,
            48.8719375397103,
            48.88810829453359,
            48.85567380855032,
            48.88234581879614,
            48.86413108020325,
            48.85221407333194,
            48.866180227422944,
            48.86731233912741,
            48.86141665790915,
            48.87454661293485,
            48.945911458883856,
            48.8512787565696,
            48.87841659490173,
            48.875400872377845,
            48.83847698406796,
            48.85359407756809,
            48.85518742160445,
            48.87215513107743,
            48.84700665158937,
            48.85113858957915,
            48.8938152613519,
            48.88425877172808,
            48.86936770158156,
            48.85093150598804,
            48.84716726999503,
            48.86668483219092,
            48.82615323734341,
            48.86327476741524,
            48.87551038418075,
            48.85662420264694,
            48.83953628376544,
            48.84205232329236,
            48.8698545716049,
            48.79631793416014,
            48.84141172841498,
            48.85766243438601,
            48.8838463907272
           ]
          ]
         },
         "columnwidth": [
          80,
          80,
          80,
          80,
          80,
          80
         ],
         "header": {
          "align": "left",
          "fill": {
           "color": "darkblue"
          },
          "font": {
           "color": "white",
           "size": 12
          },
          "values": [
           "<b>Nom de la Station</b>",
           "<b>Identifiant station</b>",
           "<b>Nom de la ligne</b>",
           "<b>niveau_pollution</b>",
           "<b>stop_lon</b>",
           "<b>stop_lat</b>"
          ]
         },
         "type": "table"
        }
       ],
       "layout": {
        "height": 600,
        "template": {
         "data": {
          "bar": [
           {
            "error_x": {
             "color": "#2a3f5f"
            },
            "error_y": {
             "color": "#2a3f5f"
            },
            "marker": {
             "line": {
              "color": "#E5ECF6",
              "width": 0.5
             },
             "pattern": {
              "fillmode": "overlay",
              "size": 10,
              "solidity": 0.2
             }
            },
            "type": "bar"
           }
          ],
          "barpolar": [
           {
            "marker": {
             "line": {
              "color": "#E5ECF6",
              "width": 0.5
             },
             "pattern": {
              "fillmode": "overlay",
              "size": 10,
              "solidity": 0.2
             }
            },
            "type": "barpolar"
           }
          ],
          "carpet": [
           {
            "aaxis": {
             "endlinecolor": "#2a3f5f",
             "gridcolor": "white",
             "linecolor": "white",
             "minorgridcolor": "white",
             "startlinecolor": "#2a3f5f"
            },
            "baxis": {
             "endlinecolor": "#2a3f5f",
             "gridcolor": "white",
             "linecolor": "white",
             "minorgridcolor": "white",
             "startlinecolor": "#2a3f5f"
            },
            "type": "carpet"
           }
          ],
          "choropleth": [
           {
            "colorbar": {
             "outlinewidth": 0,
             "ticks": ""
            },
            "type": "choropleth"
           }
          ],
          "contour": [
           {
            "colorbar": {
             "outlinewidth": 0,
             "ticks": ""
            },
            "colorscale": [
             [
              0,
              "#0d0887"
             ],
             [
              0.1111111111111111,
              "#46039f"
             ],
             [
              0.2222222222222222,
              "#7201a8"
             ],
             [
              0.3333333333333333,
              "#9c179e"
             ],
             [
              0.4444444444444444,
              "#bd3786"
             ],
             [
              0.5555555555555556,
              "#d8576b"
             ],
             [
              0.6666666666666666,
              "#ed7953"
             ],
             [
              0.7777777777777778,
              "#fb9f3a"
             ],
             [
              0.8888888888888888,
              "#fdca26"
             ],
             [
              1,
              "#f0f921"
             ]
            ],
            "type": "contour"
           }
          ],
          "contourcarpet": [
           {
            "colorbar": {
             "outlinewidth": 0,
             "ticks": ""
            },
            "type": "contourcarpet"
           }
          ],
          "heatmap": [
           {
            "colorbar": {
             "outlinewidth": 0,
             "ticks": ""
            },
            "colorscale": [
             [
              0,
              "#0d0887"
             ],
             [
              0.1111111111111111,
              "#46039f"
             ],
             [
              0.2222222222222222,
              "#7201a8"
             ],
             [
              0.3333333333333333,
              "#9c179e"
             ],
             [
              0.4444444444444444,
              "#bd3786"
             ],
             [
              0.5555555555555556,
              "#d8576b"
             ],
             [
              0.6666666666666666,
              "#ed7953"
             ],
             [
              0.7777777777777778,
              "#fb9f3a"
             ],
             [
              0.8888888888888888,
              "#fdca26"
             ],
             [
              1,
              "#f0f921"
             ]
            ],
            "type": "heatmap"
           }
          ],
          "histogram": [
           {
            "marker": {
             "pattern": {
              "fillmode": "overlay",
              "size": 10,
              "solidity": 0.2
             }
            },
            "type": "histogram"
           }
          ],
          "histogram2d": [
           {
            "colorbar": {
             "outlinewidth": 0,
             "ticks": ""
            },
            "colorscale": [
             [
              0,
              "#0d0887"
             ],
             [
              0.1111111111111111,
              "#46039f"
             ],
             [
              0.2222222222222222,
              "#7201a8"
             ],
             [
              0.3333333333333333,
              "#9c179e"
             ],
             [
              0.4444444444444444,
              "#bd3786"
             ],
             [
              0.5555555555555556,
              "#d8576b"
             ],
             [
              0.6666666666666666,
              "#ed7953"
             ],
             [
              0.7777777777777778,
              "#fb9f3a"
             ],
             [
              0.8888888888888888,
              "#fdca26"
             ],
             [
              1,
              "#f0f921"
             ]
            ],
            "type": "histogram2d"
           }
          ],
          "histogram2dcontour": [
           {
            "colorbar": {
             "outlinewidth": 0,
             "ticks": ""
            },
            "colorscale": [
             [
              0,
              "#0d0887"
             ],
             [
              0.1111111111111111,
              "#46039f"
             ],
             [
              0.2222222222222222,
              "#7201a8"
             ],
             [
              0.3333333333333333,
              "#9c179e"
             ],
             [
              0.4444444444444444,
              "#bd3786"
             ],
             [
              0.5555555555555556,
              "#d8576b"
             ],
             [
              0.6666666666666666,
              "#ed7953"
             ],
             [
              0.7777777777777778,
              "#fb9f3a"
             ],
             [
              0.8888888888888888,
              "#fdca26"
             ],
             [
              1,
              "#f0f921"
             ]
            ],
            "type": "histogram2dcontour"
           }
          ],
          "mesh3d": [
           {
            "colorbar": {
             "outlinewidth": 0,
             "ticks": ""
            },
            "type": "mesh3d"
           }
          ],
          "parcoords": [
           {
            "line": {
             "colorbar": {
              "outlinewidth": 0,
              "ticks": ""
             }
            },
            "type": "parcoords"
           }
          ],
          "pie": [
           {
            "automargin": true,
            "type": "pie"
           }
          ],
          "scatter": [
           {
            "fillpattern": {
             "fillmode": "overlay",
             "size": 10,
             "solidity": 0.2
            },
            "type": "scatter"
           }
          ],
          "scatter3d": [
           {
            "line": {
             "colorbar": {
              "outlinewidth": 0,
              "ticks": ""
             }
            },
            "marker": {
             "colorbar": {
              "outlinewidth": 0,
              "ticks": ""
             }
            },
            "type": "scatter3d"
           }
          ],
          "scattercarpet": [
           {
            "marker": {
             "colorbar": {
              "outlinewidth": 0,
              "ticks": ""
             }
            },
            "type": "scattercarpet"
           }
          ],
          "scattergeo": [
           {
            "marker": {
             "colorbar": {
              "outlinewidth": 0,
              "ticks": ""
             }
            },
            "type": "scattergeo"
           }
          ],
          "scattergl": [
           {
            "marker": {
             "colorbar": {
              "outlinewidth": 0,
              "ticks": ""
             }
            },
            "type": "scattergl"
           }
          ],
          "scattermap": [
           {
            "marker": {
             "colorbar": {
              "outlinewidth": 0,
              "ticks": ""
             }
            },
            "type": "scattermap"
           }
          ],
          "scattermapbox": [
           {
            "marker": {
             "colorbar": {
              "outlinewidth": 0,
              "ticks": ""
             }
            },
            "type": "scattermapbox"
           }
          ],
          "scatterpolar": [
           {
            "marker": {
             "colorbar": {
              "outlinewidth": 0,
              "ticks": ""
             }
            },
            "type": "scatterpolar"
           }
          ],
          "scatterpolargl": [
           {
            "marker": {
             "colorbar": {
              "outlinewidth": 0,
              "ticks": ""
             }
            },
            "type": "scatterpolargl"
           }
          ],
          "scatterternary": [
           {
            "marker": {
             "colorbar": {
              "outlinewidth": 0,
              "ticks": ""
             }
            },
            "type": "scatterternary"
           }
          ],
          "surface": [
           {
            "colorbar": {
             "outlinewidth": 0,
             "ticks": ""
            },
            "colorscale": [
             [
              0,
              "#0d0887"
             ],
             [
              0.1111111111111111,
              "#46039f"
             ],
             [
              0.2222222222222222,
              "#7201a8"
             ],
             [
              0.3333333333333333,
              "#9c179e"
             ],
             [
              0.4444444444444444,
              "#bd3786"
             ],
             [
              0.5555555555555556,
              "#d8576b"
             ],
             [
              0.6666666666666666,
              "#ed7953"
             ],
             [
              0.7777777777777778,
              "#fb9f3a"
             ],
             [
              0.8888888888888888,
              "#fdca26"
             ],
             [
              1,
              "#f0f921"
             ]
            ],
            "type": "surface"
           }
          ],
          "table": [
           {
            "cells": {
             "fill": {
              "color": "#EBF0F8"
             },
             "line": {
              "color": "white"
             }
            },
            "header": {
             "fill": {
              "color": "#C8D4E3"
             },
             "line": {
              "color": "white"
             }
            },
            "type": "table"
           }
          ]
         },
         "layout": {
          "annotationdefaults": {
           "arrowcolor": "#2a3f5f",
           "arrowhead": 0,
           "arrowwidth": 1
          },
          "autotypenumbers": "strict",
          "coloraxis": {
           "colorbar": {
            "outlinewidth": 0,
            "ticks": ""
           }
          },
          "colorscale": {
           "diverging": [
            [
             0,
             "#8e0152"
            ],
            [
             0.1,
             "#c51b7d"
            ],
            [
             0.2,
             "#de77ae"
            ],
            [
             0.3,
             "#f1b6da"
            ],
            [
             0.4,
             "#fde0ef"
            ],
            [
             0.5,
             "#f7f7f7"
            ],
            [
             0.6,
             "#e6f5d0"
            ],
            [
             0.7,
             "#b8e186"
            ],
            [
             0.8,
             "#7fbc41"
            ],
            [
             0.9,
             "#4d9221"
            ],
            [
             1,
             "#276419"
            ]
           ],
           "sequential": [
            [
             0,
             "#0d0887"
            ],
            [
             0.1111111111111111,
             "#46039f"
            ],
            [
             0.2222222222222222,
             "#7201a8"
            ],
            [
             0.3333333333333333,
             "#9c179e"
            ],
            [
             0.4444444444444444,
             "#bd3786"
            ],
            [
             0.5555555555555556,
             "#d8576b"
            ],
            [
             0.6666666666666666,
             "#ed7953"
            ],
            [
             0.7777777777777778,
             "#fb9f3a"
            ],
            [
             0.8888888888888888,
             "#fdca26"
            ],
            [
             1,
             "#f0f921"
            ]
           ],
           "sequentialminus": [
            [
             0,
             "#0d0887"
            ],
            [
             0.1111111111111111,
             "#46039f"
            ],
            [
             0.2222222222222222,
             "#7201a8"
            ],
            [
             0.3333333333333333,
             "#9c179e"
            ],
            [
             0.4444444444444444,
             "#bd3786"
            ],
            [
             0.5555555555555556,
             "#d8576b"
            ],
            [
             0.6666666666666666,
             "#ed7953"
            ],
            [
             0.7777777777777778,
             "#fb9f3a"
            ],
            [
             0.8888888888888888,
             "#fdca26"
            ],
            [
             1,
             "#f0f921"
            ]
           ]
          },
          "colorway": [
           "#636efa",
           "#EF553B",
           "#00cc96",
           "#ab63fa",
           "#FFA15A",
           "#19d3f3",
           "#FF6692",
           "#B6E880",
           "#FF97FF",
           "#FECB52"
          ],
          "font": {
           "color": "#2a3f5f"
          },
          "geo": {
           "bgcolor": "white",
           "lakecolor": "white",
           "landcolor": "#E5ECF6",
           "showlakes": true,
           "showland": true,
           "subunitcolor": "white"
          },
          "hoverlabel": {
           "align": "left"
          },
          "hovermode": "closest",
          "mapbox": {
           "style": "light"
          },
          "paper_bgcolor": "white",
          "plot_bgcolor": "#E5ECF6",
          "polar": {
           "angularaxis": {
            "gridcolor": "white",
            "linecolor": "white",
            "ticks": ""
           },
           "bgcolor": "#E5ECF6",
           "radialaxis": {
            "gridcolor": "white",
            "linecolor": "white",
            "ticks": ""
           }
          },
          "scene": {
           "xaxis": {
            "backgroundcolor": "#E5ECF6",
            "gridcolor": "white",
            "gridwidth": 2,
            "linecolor": "white",
            "showbackground": true,
            "ticks": "",
            "zerolinecolor": "white"
           },
           "yaxis": {
            "backgroundcolor": "#E5ECF6",
            "gridcolor": "white",
            "gridwidth": 2,
            "linecolor": "white",
            "showbackground": true,
            "ticks": "",
            "zerolinecolor": "white"
           },
           "zaxis": {
            "backgroundcolor": "#E5ECF6",
            "gridcolor": "white",
            "gridwidth": 2,
            "linecolor": "white",
            "showbackground": true,
            "ticks": "",
            "zerolinecolor": "white"
           }
          },
          "shapedefaults": {
           "line": {
            "color": "#2a3f5f"
           }
          },
          "ternary": {
           "aaxis": {
            "gridcolor": "white",
            "linecolor": "white",
            "ticks": ""
           },
           "baxis": {
            "gridcolor": "white",
            "linecolor": "white",
            "ticks": ""
           },
           "bgcolor": "#E5ECF6",
           "caxis": {
            "gridcolor": "white",
            "linecolor": "white",
            "ticks": ""
           }
          },
          "title": {
           "x": 0.05
          },
          "xaxis": {
           "automargin": true,
           "gridcolor": "white",
           "linecolor": "white",
           "ticks": "",
           "title": {
            "standoff": 15
           },
           "zerolinecolor": "white",
           "zerolinewidth": 2
          },
          "yaxis": {
           "automargin": true,
           "gridcolor": "white",
           "linecolor": "white",
           "ticks": "",
           "title": {
            "standoff": 15
           },
           "zerolinecolor": "white",
           "zerolinewidth": 2
          }
         }
        },
        "title": {
         "text": "Tableau interactif des stations (regroupées)"
        }
       }
      }
     },
     "metadata": {},
     "output_type": "display_data"
    }
   ],
   "source": [
    "import pandas as pd\n",
    "import plotly.graph_objects as go\n",
    "\n",
    "# Supposons que plusieurs lignes par station existent (on simule l'agrégation ici)\n",
    "# Regrouper par Nom de la Station et agréger les autres infos en concaténant ou moyennant\n",
    "grouped = df.groupby(\"Nom de la Station\").agg({\n",
    "    \"Identifiant station\": lambda x: ', '.join(set(x)),\n",
    "    \"Nom de la ligne\": lambda x: ', '.join(sorted(set(x))),\n",
    "    \"niveau_pollution\": lambda x: ', '.join(sorted(set(x))),\n",
    "    \"stop_lon\": \"mean\",\n",
    "    \"stop_lat\": \"mean\"\n",
    "}).reset_index()\n",
    "\n",
    "# Création du tableau interactif\n",
    "fig = go.Figure(data=[go.Table(\n",
    "    columnwidth=[80]*len(grouped.columns),\n",
    "    header=dict(values=[f\"<b>{col}</b>\" for col in grouped.columns],\n",
    "                fill_color='darkblue',\n",
    "                font=dict(color='white', size=12),\n",
    "                align='left'),\n",
    "    cells=dict(values=[grouped[col] for col in grouped.columns],\n",
    "               fill_color='lavender',\n",
    "               align='left',\n",
    "               font=dict(size=11))\n",
    ")])\n",
    "\n",
    "fig.update_layout(\n",
    "    title=\"Tableau interactif des stations (regroupées)\",\n",
    "    height=600\n",
    ")\n",
    "fig.show()\n"
   ]
  },
  {
   "cell_type": "code",
   "execution_count": 6,
   "id": "f356f000",
   "metadata": {},
   "outputs": [],
   "source": [
    "# Recharger les données\n",
    "base_dir = os.path.dirname(os.getcwd())\n",
    "csv_path = os.path.join(base_dir, \"Data\", \"processed\", \"train.csv\")\n",
    "df = pd.read_csv(csv_path)\n",
    "\n",
    "# Supprimer les lignes sans info pollution\n",
    "df = df[df['niveau_pollution'] != 'pas de données']\n",
    "\n",
    "# Ajouter pollution_num\n",
    "pollution_mapping = {\n",
    "    'pollution faible': 1,\n",
    "    'pollution moyenne': 2,\n",
    "    'pollution élevée': 3\n",
    "}\n",
    "df['pollution_num'] = df['niveau_pollution'].map(pollution_mapping)\n",
    "\n",
    "# Sauvegarder un nouveau CSV pour QGIS\n",
    "cols = ['Nom de la Station', 'Nom de la ligne', 'niveau_pollution', 'pollution_num', 'stop_lat', 'stop_lon']\n",
    "df_export = df[cols]\n",
    "df_export.to_csv(\"../Data/processed/stations_qgis.csv\", index=False)"
   ]
  }
 ],
 "metadata": {
  "kernelspec": {
   "display_name": "Python 3",
   "language": "python",
   "name": "python3"
  },
  "language_info": {
   "codemirror_mode": {
    "name": "ipython",
    "version": 3
   },
   "file_extension": ".py",
   "mimetype": "text/x-python",
   "name": "python",
   "nbconvert_exporter": "python",
   "pygments_lexer": "ipython3",
   "version": "3.12.3"
  }
 },
 "nbformat": 4,
 "nbformat_minor": 5
}
