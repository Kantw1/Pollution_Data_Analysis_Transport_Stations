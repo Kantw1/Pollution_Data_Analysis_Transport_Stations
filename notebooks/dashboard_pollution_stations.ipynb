{
 "cells": [
  {
   "cell_type": "code",
   "execution_count": null,
   "id": "72769c56",
   "metadata": {},
   "outputs": [],
   "source": [
    "\n",
    "import pandas as pd\n",
    "import plotly.express as px\n",
    "import ipywidgets as widgets\n",
    "from IPython.display import display\n"
   ]
  },
  {
   "cell_type": "code",
   "execution_count": null,
   "id": "c1be97d2",
   "metadata": {},
   "outputs": [],
   "source": [
    "# chargement des données et localisation du fichier train.csv automatiquement\n",
    "base_dir = os.path.dirname(os.getcwd())  # monte d’un niveau\n",
    "csv_path = os.path.join(base_dir, \"Data\", \"processed\", \"train.csv\")\n",
    "\n",
    "# chargement du fichier CSV\n",
    "df = pd.read_csv(csv_path)\n",
    "df = df[df['niveau_pollution'] != 'pas de données']"
   ]
  },
  {
   "cell_type": "code",
   "execution_count": null,
   "id": "3cbd0113",
   "metadata": {},
   "outputs": [],
   "source": [
    "\n",
    "ligne_selector = widgets.Dropdown(\n",
    "    options=[\"Toutes\"] + sorted(df[\"Nom de la ligne\"].unique()),\n",
    "    description='Ligne:',\n",
    "    value=\"Toutes\"\n",
    ")\n",
    "\n",
    "def afficher_carte(ligne):\n",
    "    if ligne == \"Toutes\":\n",
    "        filtered = df\n",
    "    else:\n",
    "        filtered = df[df[\"Nom de la ligne\"] == ligne]\n",
    "\n",
    "    fig = px.scatter_mapbox(\n",
    "        filtered,\n",
    "        lat=\"stop_lat\",\n",
    "        lon=\"stop_lon\",\n",
    "        color=\"niveau_pollution\",\n",
    "        hover_name=\"Nom de la Station\",\n",
    "        zoom=11,\n",
    "        height=500,\n",
    "        mapbox_style=\"carto-positron\",\n",
    "        title=f\"Stations de métro - {ligne if ligne != 'Toutes' else 'Toutes lignes'}\"\n",
    "    )\n",
    "    fig.show()\n",
    "\n",
    "widgets.interact(afficher_carte, ligne=ligne_selector)\n"
   ]
  },
  {
   "cell_type": "code",
   "execution_count": null,
   "id": "f634c433",
   "metadata": {},
   "outputs": [],
   "source": [
    "\n",
    "pollution_counts = df.groupby([\"Nom de la ligne\", \"niveau_pollution\"]).size().reset_index(name='Nombre de stations')\n",
    "fig = px.bar(pollution_counts, x=\"Nom de la ligne\", y=\"Nombre de stations\", color=\"niveau_pollution\", barmode=\"group\",\n",
    "             title=\"Niveau de pollution par ligne de métro\")\n",
    "fig.show()\n"
   ]
  },
  {
   "cell_type": "code",
   "execution_count": null,
   "id": "32476da9",
   "metadata": {},
   "outputs": [],
   "source": [
    "\n",
    "import qgrid\n",
    "qgrid_widget = qgrid.show_grid(df, show_toolbar=True)\n",
    "qgrid_widget\n"
   ]
  }
 ],
 "metadata": {
  "kernelspec": {
   "display_name": "Python 3",
   "language": "python",
   "name": "python3"
  },
  "language_info": {
   "codemirror_mode": {
    "name": "ipython",
    "version": 3
   },
   "file_extension": ".py",
   "mimetype": "text/x-python",
   "name": "python",
   "nbconvert_exporter": "python",
   "pygments_lexer": "ipython3",
   "version": "3.12.3"
  }
 },
 "nbformat": 4,
 "nbformat_minor": 5
}
