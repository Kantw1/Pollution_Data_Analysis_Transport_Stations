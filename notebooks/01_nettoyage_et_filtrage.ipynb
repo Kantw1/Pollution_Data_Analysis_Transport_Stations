{
  "cells": [
    {
      "cell_type": "markdown",
      "metadata": {},
      "source": [
        "# Nettoyage et Filtrage du Dataset\n",
        "Ce notebook effectue les premières étapes de traitement sur le fichier CSV original :\n",
        "- Suppression des lignes vides\n",
        "- Suppression des colonnes inutiles\n",
        "- Suppression des doublons\n",
        "- Filtrage des stations de métro\n",
        "- Séparation en train/test\n"
      ]
    },
    {
      "cell_type": "code",
      "execution_count": 25,
      "metadata": {},
      "outputs": [
        {
          "ename": "ModuleNotFoundError",
          "evalue": "No module named 'pandas'",
          "output_type": "error",
          "traceback": [
            "\u001b[31m---------------------------------------------------------------------------\u001b[39m",
            "\u001b[31mModuleNotFoundError\u001b[39m                       Traceback (most recent call last)",
            "\u001b[36mCell\u001b[39m\u001b[36m \u001b[39m\u001b[32mIn[25]\u001b[39m\u001b[32m, line 1\u001b[39m\n\u001b[32m----> \u001b[39m\u001b[32m1\u001b[39m \u001b[38;5;28;01mimport\u001b[39;00m\u001b[38;5;250m \u001b[39m\u001b[34;01mpandas\u001b[39;00m\u001b[38;5;250m \u001b[39m\u001b[38;5;28;01mas\u001b[39;00m\u001b[38;5;250m \u001b[39m\u001b[34;01mpd\u001b[39;00m\n\u001b[32m      2\u001b[39m \u001b[38;5;28;01mfrom\u001b[39;00m\u001b[38;5;250m \u001b[39m\u001b[34;01msklearn\u001b[39;00m\u001b[34;01m.\u001b[39;00m\u001b[34;01mmodel_selection\u001b[39;00m\u001b[38;5;250m \u001b[39m\u001b[38;5;28;01mimport\u001b[39;00m train_test_split\n\u001b[32m      4\u001b[39m \u001b[38;5;66;03m# Charger le dataset brut\u001b[39;00m\n",
            "\u001b[31mModuleNotFoundError\u001b[39m: No module named 'pandas'"
          ]
        }
      ],
      "source": [
        "import pandas as pd\n",
        "from sklearn.model_selection import train_test_split\n",
        "\n",
        "# Charger le dataset brut\n",
        "df = pd.read_csv('../data/raw/qualite-de-lair-dans-le-reseau-de-transport-francilien.csv', sep=';', low_memory=False)\n",
        "df.head()"
      ]
    },
    {
      "cell_type": "code",
      "execution_count": null,
      "metadata": {},
      "outputs": [],
      "source": [
        "# Supprimer les lignes vides et les doublons\n",
        "df.dropna(how='all', inplace=True)\n",
        "df.drop_duplicates(inplace=True)\n",
        "df.reset_index(drop=True, inplace=True)\n",
        "\n",
        "# Supprimer les stations où le niveau de pollution est \"station aérienne\"\n",
        "df = df[~df['Niveau de pollution aux particules'].str.contains('station aérienne', na=False)]\n",
        "\n",
        "# Afficher la forme finale du DataFrame\n",
        "df.shape"
      ]
    },
    {
      "cell_type": "code",
      "execution_count": null,
      "metadata": {},
      "outputs": [],
      "source": [
        "# Afficher les colonnes\n",
        "df.columns.tolist()"
      ]
    },
    {
      "cell_type": "code",
      "execution_count": null,
      "metadata": {},
      "outputs": [],
      "source": [
        "# Supprimer les colonnes jugées inutiles\n",
        "colonnes_a_supprimer = [\n",
        "    'Lien vers les mesures en direct', 'Durée des mesures', 'Mesures d’amélioration mises en place ou prévues',\n",
        "    'point_geo', 'pollution_air', 'niveau', 'actions'\n",
        "]\n",
        "df.drop(columns=colonnes_a_supprimer, inplace=True, errors='ignore')\n",
        "df.head()"
      ]
    },
    {
      "cell_type": "code",
      "execution_count": null,
      "metadata": {},
      "outputs": [],
      "source": [
        "# Garder uniquement les stations de métro\n",
        "df_metro = df[df['Nom de la ligne'].str.contains('Métro', na=False)]\n",
        "df_metro.shape"
      ]
    },
    {
      "cell_type": "code",
      "execution_count": null,
      "metadata": {},
      "outputs": [],
      "source": [
        "# Séparer en train (70%) et test (30%)\n",
        "train, test = train_test_split(df_metro, test_size=0.3, random_state=42)\n",
        "\n",
        "# Sauvegarder les fichiers\n",
        "train.to_csv('../data/processed/train.csv', index=False)\n",
        "test.to_csv('../data/processed/test.csv', index=False)\n",
        "print('✅ Fichiers train.csv et test.csv enregistrés.')"
      ]
    }
  ],
  "metadata": {
    "kernelspec": {
      "display_name": "Python 3",
      "language": "python",
      "name": "python3"
    },
    "language_info": {
      "name": "python",
      "version": "3.9"
    }
  },
  "nbformat": 4,
  "nbformat_minor": 2
}
