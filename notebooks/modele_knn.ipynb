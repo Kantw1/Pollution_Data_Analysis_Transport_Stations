{
 "cells": [
  {
   "cell_type": "code",
   "execution_count": null,
   "metadata": {},
   "outputs": [
    {
     "ename": "NameError",
     "evalue": "name 'df' is not defined",
     "output_type": "error",
     "traceback": [
      "\u001b[1;31m---------------------------------------------------------------------------\u001b[0m",
      "\u001b[1;31mNameError\u001b[0m                                 Traceback (most recent call last)",
      "Cell \u001b[1;32mIn[6], line 16\u001b[0m\n\u001b[0;32m     13\u001b[0m csv_path \u001b[38;5;241m=\u001b[39m os\u001b[38;5;241m.\u001b[39mpath\u001b[38;5;241m.\u001b[39mjoin(base_dir, \u001b[38;5;124m\"\u001b[39m\u001b[38;5;124mData\u001b[39m\u001b[38;5;124m\"\u001b[39m, \u001b[38;5;124m\"\u001b[39m\u001b[38;5;124mprocessed\u001b[39m\u001b[38;5;124m\"\u001b[39m, \u001b[38;5;124m\"\u001b[39m\u001b[38;5;124mtrain.csv\u001b[39m\u001b[38;5;124m\"\u001b[39m)\n\u001b[0;32m     15\u001b[0m \u001b[38;5;66;03m# Suppression des colonnes inutiles\u001b[39;00m\n\u001b[1;32m---> 16\u001b[0m df \u001b[38;5;241m=\u001b[39m \u001b[43mdf\u001b[49m\u001b[38;5;241m.\u001b[39mdrop(columns\u001b[38;5;241m=\u001b[39m[\n\u001b[0;32m     17\u001b[0m     \u001b[38;5;124m'\u001b[39m\u001b[38;5;124mIdentifiant station\u001b[39m\u001b[38;5;124m'\u001b[39m, \u001b[38;5;124m'\u001b[39m\u001b[38;5;124mNom de la Station\u001b[39m\u001b[38;5;124m'\u001b[39m, \u001b[38;5;124m'\u001b[39m\u001b[38;5;124mNiveau de pollution aux particules\u001b[39m\u001b[38;5;124m'\u001b[39m,\n\u001b[0;32m     18\u001b[0m     \u001b[38;5;124m'\u001b[39m\u001b[38;5;124mIncertitude\u001b[39m\u001b[38;5;124m'\u001b[39m, \u001b[38;5;124m'\u001b[39m\u001b[38;5;124mAction(s) QAI en cours\u001b[39m\u001b[38;5;124m'\u001b[39m, \u001b[38;5;124m'\u001b[39m\u001b[38;5;124mair\u001b[39m\u001b[38;5;124m'\u001b[39m\n\u001b[0;32m     19\u001b[0m ])\n\u001b[0;32m     21\u001b[0m \u001b[38;5;66;03m# Suppression des lignes inutilisables\u001b[39;00m\n\u001b[0;32m     22\u001b[0m df \u001b[38;5;241m=\u001b[39m df[df[\u001b[38;5;124m'\u001b[39m\u001b[38;5;124mniveau_pollution\u001b[39m\u001b[38;5;124m'\u001b[39m] \u001b[38;5;241m!=\u001b[39m \u001b[38;5;124m'\u001b[39m\u001b[38;5;124mpas de données\u001b[39m\u001b[38;5;124m'\u001b[39m]\n",
      "\u001b[1;31mNameError\u001b[0m: name 'df' is not defined"
     ]
    }
   ],
   "source": [
    "import pandas as pd\n",
    "from sklearn.model_selection import train_test_split\n",
    "from sklearn.preprocessing import StandardScaler, LabelEncoder\n",
    "from sklearn.pipeline import Pipeline\n",
    "from sklearn.neighbors import KNeighborsClassifier\n",
    "from sklearn.metrics import classification_report, confusion_matrix\n",
    "import matplotlib.pyplot as plt\n",
    "import seaborn as sns\n",
    "import os\n",
    "\n",
    "# chargement des données et localisation du fichier train.csv automatiquement\n",
    "base_dir = os.path.dirname(os.getcwd())  # monte d’un niveau\n",
    "csv_path = os.path.join(base_dir, \"Data\", \"processed\", \"train.csv\")\n",
    "\n",
    "# chargement du fichier CSV\n",
    "df = pd.read_csv(csv_path)\n",
    "df = df[df['niveau_pollution'] != 'pas de données']\n",
    "\n",
    "# Suppression des colonnes inutiles\n",
    "df = df.drop(columns=[\n",
    "    'Identifiant station', 'Nom de la Station', 'Niveau de pollution aux particules',\n",
    "    'Incertitude', 'Action(s) QAI en cours', 'air'\n",
    "])\n",
    "\n",
    "# Suppression des lignes inutilisables\n",
    "df = df[df['niveau_pollution'] != 'pas de données']\n",
    "\n",
    "# Encodage des colonnes catégorielles\n",
    "le_ligne = LabelEncoder()\n",
    "le_reco = LabelEncoder()\n",
    "le_nivpol = LabelEncoder()\n",
    "le_cible = LabelEncoder()\n",
    "\n",
    "df['Nom de la ligne'] = le_ligne.fit_transform(df['Nom de la ligne'])\n",
    "df['Recommandation de surveillance'] = le_reco.fit_transform(df['Recommandation de surveillance'])\n",
    "df['Niveau de pollution'] = le_nivpol.fit_transform(df['Niveau de pollution'])\n",
    "df['niveau_pollution'] = le_cible.fit_transform(df['niveau_pollution'])\n",
    "\n",
    "# Séparation X / y\n",
    "X = df.drop(columns=['niveau_pollution'])\n",
    "y = df['niveau_pollution']\n",
    "\n",
    "# Découpage des données en train / test\n",
    "X_train, X_test, y_train, y_test = train_test_split(X, y, test_size=0.3, random_state=42)\n",
    "\n",
    "# Pipeline avec standardisation et k-NN\n",
    "model = Pipeline([\n",
    "    ('scaler', StandardScaler()),\n",
    "    ('knn', KNeighborsClassifier(n_neighbors=5))\n",
    "])\n",
    "\n",
    "# Entraînement\n",
    "model.fit(X_train, y_train)\n",
    "\n",
    "# Prédiction\n",
    "y_pred = model.predict(X_test)\n",
    "\n",
    "# Affichage du rapport de classification\n",
    "print(\"Rapport de classification :\\n\")\n",
    "print(classification_report(y_test, y_pred, target_names=le_cible.classes_))\n",
    "\n",
    "# Matrice de confusion\n",
    "cm = confusion_matrix(y_test, y_pred)\n",
    "\n",
    "plt.figure(figsize=(8, 6))\n",
    "sns.heatmap(cm, annot=True, fmt='d', cmap='Blues',\n",
    "            xticklabels=le_cible.classes_,\n",
    "            yticklabels=le_cible.classes_)\n",
    "plt.title(\"Matrice de confusion - Modèle k-NN\")\n",
    "plt.xlabel(\"Prédictions\")\n",
    "plt.ylabel(\"Valeurs réelles\")\n",
    "plt.tight_layout()\n",
    "plt.show()\n",
    "\n"
   ]
  }
 ],
 "metadata": {
  "kernelspec": {
   "display_name": "Python 3",
   "language": "python",
   "name": "python3"
  },
  "language_info": {
   "codemirror_mode": {
    "name": "ipython",
    "version": 3
   },
   "file_extension": ".py",
   "mimetype": "text/x-python",
   "name": "python",
   "nbconvert_exporter": "python",
   "pygments_lexer": "ipython3",
   "version": "3.12.3"
  }
 },
 "nbformat": 4,
 "nbformat_minor": 2
}
